{
 "cells": [
  {
   "cell_type": "markdown",
   "id": "2e0aac96",
   "metadata": {
    "papermill": {
     "duration": 0.229793,
     "end_time": "2022-07-08T05:00:06.007423",
     "exception": false,
     "start_time": "2022-07-08T05:00:05.777630",
     "status": "completed"
    },
    "tags": []
   },
   "source": [
    "## LOADING DATASET"
   ]
  },
  {
   "cell_type": "code",
   "execution_count": 1,
   "id": "60a4b55f",
   "metadata": {
    "_cell_guid": "b1076dfc-b9ad-4769-8c92-a6c4dae69d19",
    "_uuid": "8f2839f25d086af736a60e9eeb907d3b93b6e0e5",
    "execution": {
     "iopub.execute_input": "2022-07-08T05:00:06.367033Z",
     "iopub.status.busy": "2022-07-08T05:00:06.366490Z",
     "iopub.status.idle": "2022-07-08T05:00:06.383751Z",
     "shell.execute_reply": "2022-07-08T05:00:06.382817Z"
    },
    "papermill": {
     "duration": 0.199802,
     "end_time": "2022-07-08T05:00:06.386679",
     "exception": false,
     "start_time": "2022-07-08T05:00:06.186877",
     "status": "completed"
    },
    "tags": []
   },
   "outputs": [
    {
     "name": "stdout",
     "output_type": "stream",
     "text": [
      "/kaggle/input/credit-card-approval-clean-data/clean_dataset.csv\n",
      "/kaggle/input/credit-card-approval-clean-data/crx.csv\n"
     ]
    }
   ],
   "source": [
    "# This Python 3 environment comes with many helpful analytics libraries installed\n",
    "# It is defined by the kaggle/python Docker image: https://github.com/kaggle/docker-python\n",
    "# For example, here's several helpful packages to load\n",
    "\n",
    "import numpy as np # linear algebra\n",
    "import pandas as pd # data processing, CSV file I/O (e.g. pd.read_csv)\n",
    "\n",
    "# Input data files are available in the read-only \"../input/\" directory\n",
    "# For example, running this (by clicking run or pressing Shift+Enter) will list all files under the input directory\n",
    "\n",
    "import os\n",
    "for dirname, _, filenames in os.walk('/kaggle/input'):\n",
    "    for filename in filenames:\n",
    "        print(os.path.join(dirname, filename))\n",
    "\n",
    "# You can write up to 20GB to the current directory (/kaggle/working/) that gets preserved as output when you create a version using \"Save & Run All\" \n",
    "# You can also write temporary files to /kaggle/temp/, but they won't be saved outside of the current session"
   ]
  },
  {
   "cell_type": "code",
   "execution_count": 2,
   "id": "243e566c",
   "metadata": {
    "execution": {
     "iopub.execute_input": "2022-07-08T05:00:06.753024Z",
     "iopub.status.busy": "2022-07-08T05:00:06.752557Z",
     "iopub.status.idle": "2022-07-08T05:00:08.317933Z",
     "shell.execute_reply": "2022-07-08T05:00:08.317020Z"
    },
    "papermill": {
     "duration": 1.748756,
     "end_time": "2022-07-08T05:00:08.320344",
     "exception": false,
     "start_time": "2022-07-08T05:00:06.571588",
     "status": "completed"
    },
    "tags": []
   },
   "outputs": [],
   "source": [
    "import seaborn as sns\n",
    "import matplotlib.pyplot as plt\n",
    "import sklearn\n",
    "\n",
    "from sklearn import set_config\n",
    "set_config(display='diagram')\n",
    "import warnings\n",
    "warnings.filterwarnings('ignore')\n",
    "import missingno\n",
    "from xgboost import XGBRegressor\n",
    "from matplotlib import rcParams"
   ]
  },
  {
   "cell_type": "code",
   "execution_count": 3,
   "id": "5ad16eac",
   "metadata": {
    "execution": {
     "iopub.execute_input": "2022-07-08T05:00:08.680458Z",
     "iopub.status.busy": "2022-07-08T05:00:08.680004Z",
     "iopub.status.idle": "2022-07-08T05:00:08.722733Z",
     "shell.execute_reply": "2022-07-08T05:00:08.721349Z"
    },
    "papermill": {
     "duration": 0.225416,
     "end_time": "2022-07-08T05:00:08.724801",
     "exception": false,
     "start_time": "2022-07-08T05:00:08.499385",
     "status": "completed"
    },
    "tags": []
   },
   "outputs": [
    {
     "name": "stdout",
     "output_type": "stream",
     "text": [
      "(690, 16)\n"
     ]
    },
    {
     "data": {
      "text/html": [
       "<div>\n",
       "<style scoped>\n",
       "    .dataframe tbody tr th:only-of-type {\n",
       "        vertical-align: middle;\n",
       "    }\n",
       "\n",
       "    .dataframe tbody tr th {\n",
       "        vertical-align: top;\n",
       "    }\n",
       "\n",
       "    .dataframe thead th {\n",
       "        text-align: right;\n",
       "    }\n",
       "</style>\n",
       "<table border=\"1\" class=\"dataframe\">\n",
       "  <thead>\n",
       "    <tr style=\"text-align: right;\">\n",
       "      <th></th>\n",
       "      <th>Gender</th>\n",
       "      <th>Age</th>\n",
       "      <th>Debt</th>\n",
       "      <th>Married</th>\n",
       "      <th>BankCustomer</th>\n",
       "      <th>Industry</th>\n",
       "      <th>Ethnicity</th>\n",
       "      <th>YearsEmployed</th>\n",
       "      <th>PriorDefault</th>\n",
       "      <th>Employed</th>\n",
       "      <th>CreditScore</th>\n",
       "      <th>DriversLicense</th>\n",
       "      <th>Citizen</th>\n",
       "      <th>ZipCode</th>\n",
       "      <th>Income</th>\n",
       "      <th>Approved</th>\n",
       "    </tr>\n",
       "  </thead>\n",
       "  <tbody>\n",
       "    <tr>\n",
       "      <th>0</th>\n",
       "      <td>1</td>\n",
       "      <td>30.83</td>\n",
       "      <td>0.000</td>\n",
       "      <td>1</td>\n",
       "      <td>1</td>\n",
       "      <td>Industrials</td>\n",
       "      <td>White</td>\n",
       "      <td>1.25</td>\n",
       "      <td>1</td>\n",
       "      <td>1</td>\n",
       "      <td>1</td>\n",
       "      <td>0</td>\n",
       "      <td>ByBirth</td>\n",
       "      <td>202</td>\n",
       "      <td>0</td>\n",
       "      <td>1</td>\n",
       "    </tr>\n",
       "    <tr>\n",
       "      <th>1</th>\n",
       "      <td>0</td>\n",
       "      <td>58.67</td>\n",
       "      <td>4.460</td>\n",
       "      <td>1</td>\n",
       "      <td>1</td>\n",
       "      <td>Materials</td>\n",
       "      <td>Black</td>\n",
       "      <td>3.04</td>\n",
       "      <td>1</td>\n",
       "      <td>1</td>\n",
       "      <td>6</td>\n",
       "      <td>0</td>\n",
       "      <td>ByBirth</td>\n",
       "      <td>43</td>\n",
       "      <td>560</td>\n",
       "      <td>1</td>\n",
       "    </tr>\n",
       "    <tr>\n",
       "      <th>2</th>\n",
       "      <td>0</td>\n",
       "      <td>24.50</td>\n",
       "      <td>0.500</td>\n",
       "      <td>1</td>\n",
       "      <td>1</td>\n",
       "      <td>Materials</td>\n",
       "      <td>Black</td>\n",
       "      <td>1.50</td>\n",
       "      <td>1</td>\n",
       "      <td>0</td>\n",
       "      <td>0</td>\n",
       "      <td>0</td>\n",
       "      <td>ByBirth</td>\n",
       "      <td>280</td>\n",
       "      <td>824</td>\n",
       "      <td>1</td>\n",
       "    </tr>\n",
       "    <tr>\n",
       "      <th>3</th>\n",
       "      <td>1</td>\n",
       "      <td>27.83</td>\n",
       "      <td>1.540</td>\n",
       "      <td>1</td>\n",
       "      <td>1</td>\n",
       "      <td>Industrials</td>\n",
       "      <td>White</td>\n",
       "      <td>3.75</td>\n",
       "      <td>1</td>\n",
       "      <td>1</td>\n",
       "      <td>5</td>\n",
       "      <td>1</td>\n",
       "      <td>ByBirth</td>\n",
       "      <td>100</td>\n",
       "      <td>3</td>\n",
       "      <td>1</td>\n",
       "    </tr>\n",
       "    <tr>\n",
       "      <th>4</th>\n",
       "      <td>1</td>\n",
       "      <td>20.17</td>\n",
       "      <td>5.625</td>\n",
       "      <td>1</td>\n",
       "      <td>1</td>\n",
       "      <td>Industrials</td>\n",
       "      <td>White</td>\n",
       "      <td>1.71</td>\n",
       "      <td>1</td>\n",
       "      <td>0</td>\n",
       "      <td>0</td>\n",
       "      <td>0</td>\n",
       "      <td>ByOtherMeans</td>\n",
       "      <td>120</td>\n",
       "      <td>0</td>\n",
       "      <td>1</td>\n",
       "    </tr>\n",
       "  </tbody>\n",
       "</table>\n",
       "</div>"
      ],
      "text/plain": [
       "   Gender    Age   Debt  Married  BankCustomer     Industry Ethnicity  \\\n",
       "0       1  30.83  0.000        1             1  Industrials     White   \n",
       "1       0  58.67  4.460        1             1    Materials     Black   \n",
       "2       0  24.50  0.500        1             1    Materials     Black   \n",
       "3       1  27.83  1.540        1             1  Industrials     White   \n",
       "4       1  20.17  5.625        1             1  Industrials     White   \n",
       "\n",
       "   YearsEmployed  PriorDefault  Employed  CreditScore  DriversLicense  \\\n",
       "0           1.25             1         1            1               0   \n",
       "1           3.04             1         1            6               0   \n",
       "2           1.50             1         0            0               0   \n",
       "3           3.75             1         1            5               1   \n",
       "4           1.71             1         0            0               0   \n",
       "\n",
       "        Citizen  ZipCode  Income  Approved  \n",
       "0       ByBirth      202       0         1  \n",
       "1       ByBirth       43     560         1  \n",
       "2       ByBirth      280     824         1  \n",
       "3       ByBirth      100       3         1  \n",
       "4  ByOtherMeans      120       0         1  "
      ]
     },
     "execution_count": 3,
     "metadata": {},
     "output_type": "execute_result"
    }
   ],
   "source": [
    "data = pd.read_csv('/kaggle/input/credit-card-approval-clean-data/clean_dataset.csv')\n",
    "print(data.shape)\n",
    "data.head()"
   ]
  },
  {
   "cell_type": "markdown",
   "id": "1aafb177",
   "metadata": {
    "papermill": {
     "duration": 0.18326,
     "end_time": "2022-07-08T05:00:09.088529",
     "exception": false,
     "start_time": "2022-07-08T05:00:08.905269",
     "status": "completed"
    },
    "tags": []
   },
   "source": [
    "**Correcting logical issue in dataset**"
   ]
  },
  {
   "cell_type": "code",
   "execution_count": 4,
   "id": "faac7329",
   "metadata": {
    "execution": {
     "iopub.execute_input": "2022-07-08T05:00:09.450805Z",
     "iopub.status.busy": "2022-07-08T05:00:09.450506Z",
     "iopub.status.idle": "2022-07-08T05:00:09.471306Z",
     "shell.execute_reply": "2022-07-08T05:00:09.470601Z"
    },
    "papermill": {
     "duration": 0.203704,
     "end_time": "2022-07-08T05:00:09.473225",
     "exception": false,
     "start_time": "2022-07-08T05:00:09.269521",
     "status": "completed"
    },
    "tags": []
   },
   "outputs": [
    {
     "data": {
      "text/html": [
       "<div>\n",
       "<style scoped>\n",
       "    .dataframe tbody tr th:only-of-type {\n",
       "        vertical-align: middle;\n",
       "    }\n",
       "\n",
       "    .dataframe tbody tr th {\n",
       "        vertical-align: top;\n",
       "    }\n",
       "\n",
       "    .dataframe thead th {\n",
       "        text-align: right;\n",
       "    }\n",
       "</style>\n",
       "<table border=\"1\" class=\"dataframe\">\n",
       "  <thead>\n",
       "    <tr style=\"text-align: right;\">\n",
       "      <th></th>\n",
       "      <th>Gender</th>\n",
       "      <th>Age</th>\n",
       "      <th>Debt</th>\n",
       "      <th>Married</th>\n",
       "      <th>BankCustomer</th>\n",
       "      <th>Industry</th>\n",
       "      <th>Ethnicity</th>\n",
       "      <th>YearsEmployed</th>\n",
       "      <th>PriorDefault</th>\n",
       "      <th>Employed</th>\n",
       "      <th>CreditScore</th>\n",
       "      <th>DriversLicense</th>\n",
       "      <th>Citizen</th>\n",
       "      <th>ZipCode</th>\n",
       "      <th>Income</th>\n",
       "      <th>Approved</th>\n",
       "    </tr>\n",
       "  </thead>\n",
       "  <tbody>\n",
       "    <tr>\n",
       "      <th>0</th>\n",
       "      <td>1</td>\n",
       "      <td>30.83</td>\n",
       "      <td>0.000</td>\n",
       "      <td>1</td>\n",
       "      <td>1</td>\n",
       "      <td>Industrials</td>\n",
       "      <td>White</td>\n",
       "      <td>1.25</td>\n",
       "      <td>0</td>\n",
       "      <td>1</td>\n",
       "      <td>1</td>\n",
       "      <td>0</td>\n",
       "      <td>ByBirth</td>\n",
       "      <td>202</td>\n",
       "      <td>0</td>\n",
       "      <td>1</td>\n",
       "    </tr>\n",
       "    <tr>\n",
       "      <th>1</th>\n",
       "      <td>0</td>\n",
       "      <td>58.67</td>\n",
       "      <td>4.460</td>\n",
       "      <td>1</td>\n",
       "      <td>1</td>\n",
       "      <td>Materials</td>\n",
       "      <td>Black</td>\n",
       "      <td>3.04</td>\n",
       "      <td>0</td>\n",
       "      <td>1</td>\n",
       "      <td>6</td>\n",
       "      <td>0</td>\n",
       "      <td>ByBirth</td>\n",
       "      <td>43</td>\n",
       "      <td>560</td>\n",
       "      <td>1</td>\n",
       "    </tr>\n",
       "    <tr>\n",
       "      <th>2</th>\n",
       "      <td>0</td>\n",
       "      <td>24.50</td>\n",
       "      <td>0.500</td>\n",
       "      <td>1</td>\n",
       "      <td>1</td>\n",
       "      <td>Materials</td>\n",
       "      <td>Black</td>\n",
       "      <td>1.50</td>\n",
       "      <td>0</td>\n",
       "      <td>0</td>\n",
       "      <td>0</td>\n",
       "      <td>0</td>\n",
       "      <td>ByBirth</td>\n",
       "      <td>280</td>\n",
       "      <td>824</td>\n",
       "      <td>1</td>\n",
       "    </tr>\n",
       "    <tr>\n",
       "      <th>3</th>\n",
       "      <td>1</td>\n",
       "      <td>27.83</td>\n",
       "      <td>1.540</td>\n",
       "      <td>1</td>\n",
       "      <td>1</td>\n",
       "      <td>Industrials</td>\n",
       "      <td>White</td>\n",
       "      <td>3.75</td>\n",
       "      <td>0</td>\n",
       "      <td>1</td>\n",
       "      <td>5</td>\n",
       "      <td>1</td>\n",
       "      <td>ByBirth</td>\n",
       "      <td>100</td>\n",
       "      <td>3</td>\n",
       "      <td>1</td>\n",
       "    </tr>\n",
       "    <tr>\n",
       "      <th>4</th>\n",
       "      <td>1</td>\n",
       "      <td>20.17</td>\n",
       "      <td>5.625</td>\n",
       "      <td>1</td>\n",
       "      <td>1</td>\n",
       "      <td>Industrials</td>\n",
       "      <td>White</td>\n",
       "      <td>1.71</td>\n",
       "      <td>0</td>\n",
       "      <td>0</td>\n",
       "      <td>0</td>\n",
       "      <td>0</td>\n",
       "      <td>ByOtherMeans</td>\n",
       "      <td>120</td>\n",
       "      <td>0</td>\n",
       "      <td>1</td>\n",
       "    </tr>\n",
       "  </tbody>\n",
       "</table>\n",
       "</div>"
      ],
      "text/plain": [
       "   Gender    Age   Debt  Married  BankCustomer     Industry Ethnicity  \\\n",
       "0       1  30.83  0.000        1             1  Industrials     White   \n",
       "1       0  58.67  4.460        1             1    Materials     Black   \n",
       "2       0  24.50  0.500        1             1    Materials     Black   \n",
       "3       1  27.83  1.540        1             1  Industrials     White   \n",
       "4       1  20.17  5.625        1             1  Industrials     White   \n",
       "\n",
       "   YearsEmployed  PriorDefault  Employed  CreditScore  DriversLicense  \\\n",
       "0           1.25             0         1            1               0   \n",
       "1           3.04             0         1            6               0   \n",
       "2           1.50             0         0            0               0   \n",
       "3           3.75             0         1            5               1   \n",
       "4           1.71             0         0            0               0   \n",
       "\n",
       "        Citizen  ZipCode  Income  Approved  \n",
       "0       ByBirth      202       0         1  \n",
       "1       ByBirth       43     560         1  \n",
       "2       ByBirth      280     824         1  \n",
       "3       ByBirth      100       3         1  \n",
       "4  ByOtherMeans      120       0         1  "
      ]
     },
     "execution_count": 4,
     "metadata": {},
     "output_type": "execute_result"
    }
   ],
   "source": [
    "data['PriorDefault'] = 1 - data['PriorDefault']\n",
    "data.head()"
   ]
  },
  {
   "cell_type": "markdown",
   "id": "35142efd",
   "metadata": {
    "papermill": {
     "duration": 0.180559,
     "end_time": "2022-07-08T05:00:09.835505",
     "exception": false,
     "start_time": "2022-07-08T05:00:09.654946",
     "status": "completed"
    },
    "tags": []
   },
   "source": [
    "***Columns such as Gender, Ethnicity and ZipCode don't matter in the study. Hence we drop it.***\n",
    "\n",
    "> Model must not be racist, sexist, or make decisions based on geographical location of the customer"
   ]
  },
  {
   "cell_type": "code",
   "execution_count": 5,
   "id": "297a6f45",
   "metadata": {
    "execution": {
     "iopub.execute_input": "2022-07-08T05:00:10.200414Z",
     "iopub.status.busy": "2022-07-08T05:00:10.199841Z",
     "iopub.status.idle": "2022-07-08T05:00:10.205506Z",
     "shell.execute_reply": "2022-07-08T05:00:10.204897Z"
    },
    "papermill": {
     "duration": 0.190412,
     "end_time": "2022-07-08T05:00:10.207230",
     "exception": false,
     "start_time": "2022-07-08T05:00:10.016818",
     "status": "completed"
    },
    "tags": []
   },
   "outputs": [
    {
     "data": {
      "text/plain": [
       "['Age',\n",
       " 'Debt',\n",
       " 'Married',\n",
       " 'BankCustomer',\n",
       " 'Industry',\n",
       " 'YearsEmployed',\n",
       " 'PriorDefault',\n",
       " 'Employed',\n",
       " 'CreditScore',\n",
       " 'DriversLicense',\n",
       " 'Citizen',\n",
       " 'Income',\n",
       " 'Approved']"
      ]
     },
     "execution_count": 5,
     "metadata": {},
     "output_type": "execute_result"
    }
   ],
   "source": [
    "cols = [x for x in data.columns if x not in [\"Gender\",\"Ethnicity\", \"ZipCode\"]]\n",
    "cols"
   ]
  },
  {
   "cell_type": "code",
   "execution_count": 6,
   "id": "be8c61e2",
   "metadata": {
    "execution": {
     "iopub.execute_input": "2022-07-08T05:00:10.568393Z",
     "iopub.status.busy": "2022-07-08T05:00:10.567807Z",
     "iopub.status.idle": "2022-07-08T05:00:10.588701Z",
     "shell.execute_reply": "2022-07-08T05:00:10.588083Z"
    },
    "papermill": {
     "duration": 0.20391,
     "end_time": "2022-07-08T05:00:10.590592",
     "exception": false,
     "start_time": "2022-07-08T05:00:10.386682",
     "status": "completed"
    },
    "tags": []
   },
   "outputs": [
    {
     "data": {
      "text/html": [
       "<div>\n",
       "<style scoped>\n",
       "    .dataframe tbody tr th:only-of-type {\n",
       "        vertical-align: middle;\n",
       "    }\n",
       "\n",
       "    .dataframe tbody tr th {\n",
       "        vertical-align: top;\n",
       "    }\n",
       "\n",
       "    .dataframe thead th {\n",
       "        text-align: right;\n",
       "    }\n",
       "</style>\n",
       "<table border=\"1\" class=\"dataframe\">\n",
       "  <thead>\n",
       "    <tr style=\"text-align: right;\">\n",
       "      <th></th>\n",
       "      <th>Age</th>\n",
       "      <th>Debt</th>\n",
       "      <th>Married</th>\n",
       "      <th>BankCustomer</th>\n",
       "      <th>Industry</th>\n",
       "      <th>YearsEmployed</th>\n",
       "      <th>PriorDefault</th>\n",
       "      <th>Employed</th>\n",
       "      <th>CreditScore</th>\n",
       "      <th>DriversLicense</th>\n",
       "      <th>Citizen</th>\n",
       "      <th>Income</th>\n",
       "      <th>Approved</th>\n",
       "    </tr>\n",
       "  </thead>\n",
       "  <tbody>\n",
       "    <tr>\n",
       "      <th>0</th>\n",
       "      <td>30.83</td>\n",
       "      <td>0.000</td>\n",
       "      <td>1</td>\n",
       "      <td>1</td>\n",
       "      <td>Industrials</td>\n",
       "      <td>1.25</td>\n",
       "      <td>0</td>\n",
       "      <td>1</td>\n",
       "      <td>1</td>\n",
       "      <td>0</td>\n",
       "      <td>ByBirth</td>\n",
       "      <td>0</td>\n",
       "      <td>1</td>\n",
       "    </tr>\n",
       "    <tr>\n",
       "      <th>1</th>\n",
       "      <td>58.67</td>\n",
       "      <td>4.460</td>\n",
       "      <td>1</td>\n",
       "      <td>1</td>\n",
       "      <td>Materials</td>\n",
       "      <td>3.04</td>\n",
       "      <td>0</td>\n",
       "      <td>1</td>\n",
       "      <td>6</td>\n",
       "      <td>0</td>\n",
       "      <td>ByBirth</td>\n",
       "      <td>560</td>\n",
       "      <td>1</td>\n",
       "    </tr>\n",
       "    <tr>\n",
       "      <th>2</th>\n",
       "      <td>24.50</td>\n",
       "      <td>0.500</td>\n",
       "      <td>1</td>\n",
       "      <td>1</td>\n",
       "      <td>Materials</td>\n",
       "      <td>1.50</td>\n",
       "      <td>0</td>\n",
       "      <td>0</td>\n",
       "      <td>0</td>\n",
       "      <td>0</td>\n",
       "      <td>ByBirth</td>\n",
       "      <td>824</td>\n",
       "      <td>1</td>\n",
       "    </tr>\n",
       "    <tr>\n",
       "      <th>3</th>\n",
       "      <td>27.83</td>\n",
       "      <td>1.540</td>\n",
       "      <td>1</td>\n",
       "      <td>1</td>\n",
       "      <td>Industrials</td>\n",
       "      <td>3.75</td>\n",
       "      <td>0</td>\n",
       "      <td>1</td>\n",
       "      <td>5</td>\n",
       "      <td>1</td>\n",
       "      <td>ByBirth</td>\n",
       "      <td>3</td>\n",
       "      <td>1</td>\n",
       "    </tr>\n",
       "    <tr>\n",
       "      <th>4</th>\n",
       "      <td>20.17</td>\n",
       "      <td>5.625</td>\n",
       "      <td>1</td>\n",
       "      <td>1</td>\n",
       "      <td>Industrials</td>\n",
       "      <td>1.71</td>\n",
       "      <td>0</td>\n",
       "      <td>0</td>\n",
       "      <td>0</td>\n",
       "      <td>0</td>\n",
       "      <td>ByOtherMeans</td>\n",
       "      <td>0</td>\n",
       "      <td>1</td>\n",
       "    </tr>\n",
       "  </tbody>\n",
       "</table>\n",
       "</div>"
      ],
      "text/plain": [
       "     Age   Debt  Married  BankCustomer     Industry  YearsEmployed  \\\n",
       "0  30.83  0.000        1             1  Industrials           1.25   \n",
       "1  58.67  4.460        1             1    Materials           3.04   \n",
       "2  24.50  0.500        1             1    Materials           1.50   \n",
       "3  27.83  1.540        1             1  Industrials           3.75   \n",
       "4  20.17  5.625        1             1  Industrials           1.71   \n",
       "\n",
       "   PriorDefault  Employed  CreditScore  DriversLicense       Citizen  Income  \\\n",
       "0             0         1            1               0       ByBirth       0   \n",
       "1             0         1            6               0       ByBirth     560   \n",
       "2             0         0            0               0       ByBirth     824   \n",
       "3             0         1            5               1       ByBirth       3   \n",
       "4             0         0            0               0  ByOtherMeans       0   \n",
       "\n",
       "   Approved  \n",
       "0         1  \n",
       "1         1  \n",
       "2         1  \n",
       "3         1  \n",
       "4         1  "
      ]
     },
     "execution_count": 6,
     "metadata": {},
     "output_type": "execute_result"
    }
   ],
   "source": [
    "data = data[cols]\n",
    "data.head()"
   ]
  },
  {
   "cell_type": "markdown",
   "id": "a09016b8",
   "metadata": {
    "papermill": {
     "duration": 0.181423,
     "end_time": "2022-07-08T05:00:10.954042",
     "exception": false,
     "start_time": "2022-07-08T05:00:10.772619",
     "status": "completed"
    },
    "tags": []
   },
   "source": [
    "### KEY NOTES\n",
    "\n",
    "- We have very less information regarding the columns. To get visual insights, we need to perform *Exploratory Data Analysis*\n",
    "- Clarity is still missing whether some particular columns be considered numeric or categorical.\n",
    "- Binning performed on columns such as *Age*, *Debt*, *YearsEmployed*, and *CreditScore* might be more helpful.\n",
    "- Does *Industry* of work column lie in ordinal or nominal category ?\n",
    "- Hazy relationship between *YearsEmployed*, *Employed*, and *Approved*. Where does self-employed lie ?\n",
    "- What does *PriorDefault* mean ?\n",
    "- Data(target) might be imbalanced."
   ]
  },
  {
   "cell_type": "markdown",
   "id": "308ffd1a",
   "metadata": {
    "papermill": {
     "duration": 0.181165,
     "end_time": "2022-07-08T05:00:11.319483",
     "exception": false,
     "start_time": "2022-07-08T05:00:11.138318",
     "status": "completed"
    },
    "tags": []
   },
   "source": [
    "## TRAIN - VALIDATION - TEST SPLIT"
   ]
  },
  {
   "cell_type": "code",
   "execution_count": 7,
   "id": "ecc50c20",
   "metadata": {
    "execution": {
     "iopub.execute_input": "2022-07-08T05:00:11.681719Z",
     "iopub.status.busy": "2022-07-08T05:00:11.680953Z",
     "iopub.status.idle": "2022-07-08T05:00:11.686961Z",
     "shell.execute_reply": "2022-07-08T05:00:11.686096Z"
    },
    "papermill": {
     "duration": 0.189566,
     "end_time": "2022-07-08T05:00:11.688991",
     "exception": false,
     "start_time": "2022-07-08T05:00:11.499425",
     "status": "completed"
    },
    "tags": []
   },
   "outputs": [],
   "source": [
    "from sklearn.model_selection import train_test_split\n",
    "\n",
    "data, test = train_test_split(data,test_size=0.2, random_state=42)"
   ]
  },
  {
   "cell_type": "code",
   "execution_count": 8,
   "id": "523b4666",
   "metadata": {
    "execution": {
     "iopub.execute_input": "2022-07-08T05:00:12.058471Z",
     "iopub.status.busy": "2022-07-08T05:00:12.057903Z",
     "iopub.status.idle": "2022-07-08T05:00:12.064054Z",
     "shell.execute_reply": "2022-07-08T05:00:12.063459Z"
    },
    "papermill": {
     "duration": 0.192246,
     "end_time": "2022-07-08T05:00:12.065875",
     "exception": false,
     "start_time": "2022-07-08T05:00:11.873629",
     "status": "completed"
    },
    "tags": []
   },
   "outputs": [
    {
     "data": {
      "text/plain": [
       "(552, 13)"
      ]
     },
     "execution_count": 8,
     "metadata": {},
     "output_type": "execute_result"
    }
   ],
   "source": [
    "data.shape"
   ]
  },
  {
   "cell_type": "markdown",
   "id": "61cb5848",
   "metadata": {
    "papermill": {
     "duration": 0.181966,
     "end_time": "2022-07-08T05:00:12.431602",
     "exception": false,
     "start_time": "2022-07-08T05:00:12.249636",
     "status": "completed"
    },
    "tags": []
   },
   "source": [
    "## MISSING VALUE IMPUTATION"
   ]
  },
  {
   "cell_type": "code",
   "execution_count": 9,
   "id": "aa6c668d",
   "metadata": {
    "execution": {
     "iopub.execute_input": "2022-07-08T05:00:12.796638Z",
     "iopub.status.busy": "2022-07-08T05:00:12.796095Z",
     "iopub.status.idle": "2022-07-08T05:00:12.803705Z",
     "shell.execute_reply": "2022-07-08T05:00:12.803108Z"
    },
    "papermill": {
     "duration": 0.191905,
     "end_time": "2022-07-08T05:00:12.805518",
     "exception": false,
     "start_time": "2022-07-08T05:00:12.613613",
     "status": "completed"
    },
    "tags": []
   },
   "outputs": [
    {
     "data": {
      "text/plain": [
       "Age               0\n",
       "Debt              0\n",
       "Married           0\n",
       "BankCustomer      0\n",
       "Industry          0\n",
       "YearsEmployed     0\n",
       "PriorDefault      0\n",
       "Employed          0\n",
       "CreditScore       0\n",
       "DriversLicense    0\n",
       "Citizen           0\n",
       "Income            0\n",
       "Approved          0\n",
       "dtype: int64"
      ]
     },
     "execution_count": 9,
     "metadata": {},
     "output_type": "execute_result"
    }
   ],
   "source": [
    "data.isnull().sum()"
   ]
  },
  {
   "cell_type": "markdown",
   "id": "652f8f36",
   "metadata": {
    "papermill": {
     "duration": 0.184768,
     "end_time": "2022-07-08T05:00:13.174863",
     "exception": false,
     "start_time": "2022-07-08T05:00:12.990095",
     "status": "completed"
    },
    "tags": []
   },
   "source": [
    "## EDA"
   ]
  },
  {
   "cell_type": "code",
   "execution_count": 10,
   "id": "26a338e2",
   "metadata": {
    "execution": {
     "iopub.execute_input": "2022-07-08T05:00:13.542449Z",
     "iopub.status.busy": "2022-07-08T05:00:13.542128Z",
     "iopub.status.idle": "2022-07-08T05:00:13.563891Z",
     "shell.execute_reply": "2022-07-08T05:00:13.562958Z"
    },
    "papermill": {
     "duration": 0.210501,
     "end_time": "2022-07-08T05:00:13.566560",
     "exception": false,
     "start_time": "2022-07-08T05:00:13.356059",
     "status": "completed"
    },
    "tags": []
   },
   "outputs": [
    {
     "name": "stdout",
     "output_type": "stream",
     "text": [
      "<class 'pandas.core.frame.DataFrame'>\n",
      "Int64Index: 552 entries, 278 to 102\n",
      "Data columns (total 13 columns):\n",
      " #   Column          Non-Null Count  Dtype  \n",
      "---  ------          --------------  -----  \n",
      " 0   Age             552 non-null    float64\n",
      " 1   Debt            552 non-null    float64\n",
      " 2   Married         552 non-null    int64  \n",
      " 3   BankCustomer    552 non-null    int64  \n",
      " 4   Industry        552 non-null    object \n",
      " 5   YearsEmployed   552 non-null    float64\n",
      " 6   PriorDefault    552 non-null    int64  \n",
      " 7   Employed        552 non-null    int64  \n",
      " 8   CreditScore     552 non-null    int64  \n",
      " 9   DriversLicense  552 non-null    int64  \n",
      " 10  Citizen         552 non-null    object \n",
      " 11  Income          552 non-null    int64  \n",
      " 12  Approved        552 non-null    int64  \n",
      "dtypes: float64(3), int64(8), object(2)\n",
      "memory usage: 60.4+ KB\n"
     ]
    }
   ],
   "source": [
    "data.info()"
   ]
  },
  {
   "cell_type": "code",
   "execution_count": 11,
   "id": "a4f10887",
   "metadata": {
    "execution": {
     "iopub.execute_input": "2022-07-08T05:00:13.939333Z",
     "iopub.status.busy": "2022-07-08T05:00:13.938496Z",
     "iopub.status.idle": "2022-07-08T05:00:13.981902Z",
     "shell.execute_reply": "2022-07-08T05:00:13.980861Z"
    },
    "papermill": {
     "duration": 0.231304,
     "end_time": "2022-07-08T05:00:13.984175",
     "exception": false,
     "start_time": "2022-07-08T05:00:13.752871",
     "status": "completed"
    },
    "tags": []
   },
   "outputs": [
    {
     "data": {
      "text/html": [
       "<div>\n",
       "<style scoped>\n",
       "    .dataframe tbody tr th:only-of-type {\n",
       "        vertical-align: middle;\n",
       "    }\n",
       "\n",
       "    .dataframe tbody tr th {\n",
       "        vertical-align: top;\n",
       "    }\n",
       "\n",
       "    .dataframe thead th {\n",
       "        text-align: right;\n",
       "    }\n",
       "</style>\n",
       "<table border=\"1\" class=\"dataframe\">\n",
       "  <thead>\n",
       "    <tr style=\"text-align: right;\">\n",
       "      <th></th>\n",
       "      <th>Age</th>\n",
       "      <th>Debt</th>\n",
       "      <th>Married</th>\n",
       "      <th>BankCustomer</th>\n",
       "      <th>YearsEmployed</th>\n",
       "      <th>PriorDefault</th>\n",
       "      <th>Employed</th>\n",
       "      <th>CreditScore</th>\n",
       "      <th>DriversLicense</th>\n",
       "      <th>Income</th>\n",
       "      <th>Approved</th>\n",
       "    </tr>\n",
       "  </thead>\n",
       "  <tbody>\n",
       "    <tr>\n",
       "      <th>count</th>\n",
       "      <td>552.000000</td>\n",
       "      <td>552.000000</td>\n",
       "      <td>552.000000</td>\n",
       "      <td>552.000000</td>\n",
       "      <td>552.000000</td>\n",
       "      <td>552.000000</td>\n",
       "      <td>552.000000</td>\n",
       "      <td>552.000000</td>\n",
       "      <td>552.000000</td>\n",
       "      <td>552.000000</td>\n",
       "      <td>552.000000</td>\n",
       "    </tr>\n",
       "    <tr>\n",
       "      <th>mean</th>\n",
       "      <td>31.418188</td>\n",
       "      <td>4.604520</td>\n",
       "      <td>0.751812</td>\n",
       "      <td>0.753623</td>\n",
       "      <td>2.048134</td>\n",
       "      <td>0.487319</td>\n",
       "      <td>0.429348</td>\n",
       "      <td>2.400362</td>\n",
       "      <td>0.452899</td>\n",
       "      <td>920.070652</td>\n",
       "      <td>0.429348</td>\n",
       "    </tr>\n",
       "    <tr>\n",
       "      <th>std</th>\n",
       "      <td>11.760984</td>\n",
       "      <td>4.807331</td>\n",
       "      <td>0.432354</td>\n",
       "      <td>0.431291</td>\n",
       "      <td>2.923399</td>\n",
       "      <td>0.500293</td>\n",
       "      <td>0.495432</td>\n",
       "      <td>4.853296</td>\n",
       "      <td>0.498228</td>\n",
       "      <td>4787.304994</td>\n",
       "      <td>0.495432</td>\n",
       "    </tr>\n",
       "    <tr>\n",
       "      <th>min</th>\n",
       "      <td>13.750000</td>\n",
       "      <td>0.000000</td>\n",
       "      <td>0.000000</td>\n",
       "      <td>0.000000</td>\n",
       "      <td>0.000000</td>\n",
       "      <td>0.000000</td>\n",
       "      <td>0.000000</td>\n",
       "      <td>0.000000</td>\n",
       "      <td>0.000000</td>\n",
       "      <td>0.000000</td>\n",
       "      <td>0.000000</td>\n",
       "    </tr>\n",
       "    <tr>\n",
       "      <th>25%</th>\n",
       "      <td>22.730000</td>\n",
       "      <td>1.030000</td>\n",
       "      <td>1.000000</td>\n",
       "      <td>1.000000</td>\n",
       "      <td>0.165000</td>\n",
       "      <td>0.000000</td>\n",
       "      <td>0.000000</td>\n",
       "      <td>0.000000</td>\n",
       "      <td>0.000000</td>\n",
       "      <td>0.000000</td>\n",
       "      <td>0.000000</td>\n",
       "    </tr>\n",
       "    <tr>\n",
       "      <th>50%</th>\n",
       "      <td>28.460000</td>\n",
       "      <td>2.750000</td>\n",
       "      <td>1.000000</td>\n",
       "      <td>1.000000</td>\n",
       "      <td>1.000000</td>\n",
       "      <td>0.000000</td>\n",
       "      <td>0.000000</td>\n",
       "      <td>0.000000</td>\n",
       "      <td>0.000000</td>\n",
       "      <td>5.000000</td>\n",
       "      <td>0.000000</td>\n",
       "    </tr>\n",
       "    <tr>\n",
       "      <th>75%</th>\n",
       "      <td>37.500000</td>\n",
       "      <td>7.000000</td>\n",
       "      <td>1.000000</td>\n",
       "      <td>1.000000</td>\n",
       "      <td>2.551250</td>\n",
       "      <td>1.000000</td>\n",
       "      <td>1.000000</td>\n",
       "      <td>3.000000</td>\n",
       "      <td>1.000000</td>\n",
       "      <td>400.000000</td>\n",
       "      <td>1.000000</td>\n",
       "    </tr>\n",
       "    <tr>\n",
       "      <th>max</th>\n",
       "      <td>80.250000</td>\n",
       "      <td>26.335000</td>\n",
       "      <td>1.000000</td>\n",
       "      <td>1.000000</td>\n",
       "      <td>20.000000</td>\n",
       "      <td>1.000000</td>\n",
       "      <td>1.000000</td>\n",
       "      <td>67.000000</td>\n",
       "      <td>1.000000</td>\n",
       "      <td>100000.000000</td>\n",
       "      <td>1.000000</td>\n",
       "    </tr>\n",
       "  </tbody>\n",
       "</table>\n",
       "</div>"
      ],
      "text/plain": [
       "              Age        Debt     Married  BankCustomer  YearsEmployed  \\\n",
       "count  552.000000  552.000000  552.000000    552.000000     552.000000   \n",
       "mean    31.418188    4.604520    0.751812      0.753623       2.048134   \n",
       "std     11.760984    4.807331    0.432354      0.431291       2.923399   \n",
       "min     13.750000    0.000000    0.000000      0.000000       0.000000   \n",
       "25%     22.730000    1.030000    1.000000      1.000000       0.165000   \n",
       "50%     28.460000    2.750000    1.000000      1.000000       1.000000   \n",
       "75%     37.500000    7.000000    1.000000      1.000000       2.551250   \n",
       "max     80.250000   26.335000    1.000000      1.000000      20.000000   \n",
       "\n",
       "       PriorDefault    Employed  CreditScore  DriversLicense         Income  \\\n",
       "count    552.000000  552.000000   552.000000      552.000000     552.000000   \n",
       "mean       0.487319    0.429348     2.400362        0.452899     920.070652   \n",
       "std        0.500293    0.495432     4.853296        0.498228    4787.304994   \n",
       "min        0.000000    0.000000     0.000000        0.000000       0.000000   \n",
       "25%        0.000000    0.000000     0.000000        0.000000       0.000000   \n",
       "50%        0.000000    0.000000     0.000000        0.000000       5.000000   \n",
       "75%        1.000000    1.000000     3.000000        1.000000     400.000000   \n",
       "max        1.000000    1.000000    67.000000        1.000000  100000.000000   \n",
       "\n",
       "         Approved  \n",
       "count  552.000000  \n",
       "mean     0.429348  \n",
       "std      0.495432  \n",
       "min      0.000000  \n",
       "25%      0.000000  \n",
       "50%      0.000000  \n",
       "75%      1.000000  \n",
       "max      1.000000  "
      ]
     },
     "execution_count": 11,
     "metadata": {},
     "output_type": "execute_result"
    }
   ],
   "source": [
    "data.describe()"
   ]
  },
  {
   "cell_type": "markdown",
   "id": "a52f1db6",
   "metadata": {
    "papermill": {
     "duration": 0.183258,
     "end_time": "2022-07-08T05:00:14.354341",
     "exception": false,
     "start_time": "2022-07-08T05:00:14.171083",
     "status": "completed"
    },
    "tags": []
   },
   "source": [
    "### Pure Categorical columns"
   ]
  },
  {
   "cell_type": "code",
   "execution_count": 12,
   "id": "bfb1f0b3",
   "metadata": {
    "execution": {
     "iopub.execute_input": "2022-07-08T05:00:14.721512Z",
     "iopub.status.busy": "2022-07-08T05:00:14.721207Z",
     "iopub.status.idle": "2022-07-08T05:00:14.727174Z",
     "shell.execute_reply": "2022-07-08T05:00:14.726244Z"
    },
    "papermill": {
     "duration": 0.191576,
     "end_time": "2022-07-08T05:00:14.729243",
     "exception": false,
     "start_time": "2022-07-08T05:00:14.537667",
     "status": "completed"
    },
    "tags": []
   },
   "outputs": [],
   "source": [
    "cat_cols = ['Married', 'BankCustomer', 'Industry', 'PriorDefault','Employed', 'DriversLicense', 'Citizen', 'Approved']\n",
    "cat_data = data[cat_cols]"
   ]
  },
  {
   "cell_type": "code",
   "execution_count": 13,
   "id": "533a1cc6",
   "metadata": {
    "execution": {
     "iopub.execute_input": "2022-07-08T05:00:15.124771Z",
     "iopub.status.busy": "2022-07-08T05:00:15.124175Z",
     "iopub.status.idle": "2022-07-08T05:00:15.129066Z",
     "shell.execute_reply": "2022-07-08T05:00:15.128501Z"
    },
    "papermill": {
     "duration": 0.198054,
     "end_time": "2022-07-08T05:00:15.131175",
     "exception": false,
     "start_time": "2022-07-08T05:00:14.933121",
     "status": "completed"
    },
    "tags": []
   },
   "outputs": [
    {
     "name": "stdout",
     "output_type": "stream",
     "text": [
      "(0, 'Married')\n",
      "(1, 'BankCustomer')\n",
      "(2, 'Industry')\n",
      "(3, 'PriorDefault')\n",
      "(4, 'Employed')\n",
      "(5, 'DriversLicense')\n",
      "(6, 'Citizen')\n",
      "(7, 'Approved')\n"
     ]
    }
   ],
   "source": [
    "for i in enumerate(cat_cols):    \n",
    "    print(i)"
   ]
  },
  {
   "cell_type": "code",
   "execution_count": 14,
   "id": "5779a409",
   "metadata": {
    "execution": {
     "iopub.execute_input": "2022-07-08T05:00:15.502646Z",
     "iopub.status.busy": "2022-07-08T05:00:15.502367Z",
     "iopub.status.idle": "2022-07-08T05:00:17.139736Z",
     "shell.execute_reply": "2022-07-08T05:00:17.139020Z"
    },
    "papermill": {
     "duration": 1.827237,
     "end_time": "2022-07-08T05:00:17.143143",
     "exception": false,
     "start_time": "2022-07-08T05:00:15.315906",
     "status": "completed"
    },
    "tags": []
   },
   "outputs": [
    {
     "data": {
      "image/png": "[encoded data removed]",
      "text/plain": [
       "<Figure size 1224x1728 with 8 Axes>"
      ]
     },
     "metadata": {},
     "output_type": "display_data"
    }
   ],
   "source": [
    "plt.figure(figsize=(17,24))\n",
    "for i in enumerate(cat_cols):\n",
    "    plt.subplot(4,2,i[0]+1);\n",
    "    cat_data[i[1]].value_counts().plot(kind  = 'pie', autopct = '%.2f', textprops={'fontsize': 14})\n",
    "    plt.tight_layout(pad=5.0);\n",
    "    plt.ylabel(i[1],fontsize=14)"
   ]
  },
  {
   "cell_type": "markdown",
   "id": "49d4bdbb",
   "metadata": {
    "papermill": {
     "duration": 0.194319,
     "end_time": "2022-07-08T05:00:17.528167",
     "exception": false,
     "start_time": "2022-07-08T05:00:17.333848",
     "status": "completed"
    },
    "tags": []
   },
   "source": [
    "### Key Notes\n",
    "\n",
    "- We need to club together all industries whose representation is under 6%\n",
    "- Citizen columns seems off."
   ]
  },
  {
   "cell_type": "markdown",
   "id": "b8a697b0",
   "metadata": {
    "papermill": {
     "duration": 0.186175,
     "end_time": "2022-07-08T05:00:17.902974",
     "exception": false,
     "start_time": "2022-07-08T05:00:17.716799",
     "status": "completed"
    },
    "tags": []
   },
   "source": [
    "### Better binned columns\n",
    "\n",
    "Binning performed on columns such as *Age*, *Debt*, *YearsEmployed*, and *CreditScore* might be more helpful."
   ]
  },
  {
   "cell_type": "code",
   "execution_count": 15,
   "id": "e11311f7",
   "metadata": {
    "execution": {
     "iopub.execute_input": "2022-07-08T05:00:18.279142Z",
     "iopub.status.busy": "2022-07-08T05:00:18.278827Z",
     "iopub.status.idle": "2022-07-08T05:00:18.292274Z",
     "shell.execute_reply": "2022-07-08T05:00:18.291485Z"
    },
    "papermill": {
     "duration": 0.203595,
     "end_time": "2022-07-08T05:00:18.294512",
     "exception": false,
     "start_time": "2022-07-08T05:00:18.090917",
     "status": "completed"
    },
    "tags": []
   },
   "outputs": [
    {
     "data": {
      "text/html": [
       "<div>\n",
       "<style scoped>\n",
       "    .dataframe tbody tr th:only-of-type {\n",
       "        vertical-align: middle;\n",
       "    }\n",
       "\n",
       "    .dataframe tbody tr th {\n",
       "        vertical-align: top;\n",
       "    }\n",
       "\n",
       "    .dataframe thead th {\n",
       "        text-align: right;\n",
       "    }\n",
       "</style>\n",
       "<table border=\"1\" class=\"dataframe\">\n",
       "  <thead>\n",
       "    <tr style=\"text-align: right;\">\n",
       "      <th></th>\n",
       "      <th>Age</th>\n",
       "      <th>Debt</th>\n",
       "      <th>YearsEmployed</th>\n",
       "      <th>CreditScore</th>\n",
       "      <th>Income</th>\n",
       "    </tr>\n",
       "  </thead>\n",
       "  <tbody>\n",
       "    <tr>\n",
       "      <th>278</th>\n",
       "      <td>24.58</td>\n",
       "      <td>13.500</td>\n",
       "      <td>0.000</td>\n",
       "      <td>0</td>\n",
       "      <td>0</td>\n",
       "    </tr>\n",
       "    <tr>\n",
       "      <th>110</th>\n",
       "      <td>29.17</td>\n",
       "      <td>3.500</td>\n",
       "      <td>3.500</td>\n",
       "      <td>3</td>\n",
       "      <td>0</td>\n",
       "    </tr>\n",
       "    <tr>\n",
       "      <th>82</th>\n",
       "      <td>39.83</td>\n",
       "      <td>0.500</td>\n",
       "      <td>0.250</td>\n",
       "      <td>0</td>\n",
       "      <td>0</td>\n",
       "    </tr>\n",
       "    <tr>\n",
       "      <th>51</th>\n",
       "      <td>26.00</td>\n",
       "      <td>1.000</td>\n",
       "      <td>1.750</td>\n",
       "      <td>0</td>\n",
       "      <td>0</td>\n",
       "    </tr>\n",
       "    <tr>\n",
       "      <th>218</th>\n",
       "      <td>53.92</td>\n",
       "      <td>9.625</td>\n",
       "      <td>8.665</td>\n",
       "      <td>5</td>\n",
       "      <td>0</td>\n",
       "    </tr>\n",
       "  </tbody>\n",
       "</table>\n",
       "</div>"
      ],
      "text/plain": [
       "       Age    Debt  YearsEmployed  CreditScore  Income\n",
       "278  24.58  13.500          0.000            0       0\n",
       "110  29.17   3.500          3.500            3       0\n",
       "82   39.83   0.500          0.250            0       0\n",
       "51   26.00   1.000          1.750            0       0\n",
       "218  53.92   9.625          8.665            5       0"
      ]
     },
     "execution_count": 15,
     "metadata": {},
     "output_type": "execute_result"
    }
   ],
   "source": [
    "better_binned_cols = ['Age', 'Debt', 'YearsEmployed', 'CreditScore', 'Income']\n",
    "better_binned_data = data[better_binned_cols]\n",
    "better_binned_data.head()"
   ]
  },
  {
   "cell_type": "code",
   "execution_count": 16,
   "id": "a6bdae72",
   "metadata": {
    "execution": {
     "iopub.execute_input": "2022-07-08T05:00:18.669927Z",
     "iopub.status.busy": "2022-07-08T05:00:18.669405Z",
     "iopub.status.idle": "2022-07-08T05:00:20.942211Z",
     "shell.execute_reply": "2022-07-08T05:00:20.941311Z"
    },
    "papermill": {
     "duration": 2.464039,
     "end_time": "2022-07-08T05:00:20.945817",
     "exception": false,
     "start_time": "2022-07-08T05:00:18.481778",
     "status": "completed"
    },
    "tags": []
   },
   "outputs": [
    {
     "data": {
      "image/png": "[encoded data removed]",
      "text/plain": [
       "<Figure size 864x1440 with 10 Axes>"
      ]
     },
     "metadata": {
      "needs_background": "light"
     },
     "output_type": "display_data"
    }
   ],
   "source": [
    "plt.figure(figsize=(12,20))\n",
    "\n",
    "for i in enumerate(better_binned_cols):\n",
    "    \n",
    "    plt.subplot(5,2,(2*i[0])+1);\n",
    "    better_binned_data[i[1]].hist(grid=False, xlabelsize=12, lw=1.5, ylabelsize=14, edgecolor = \"black\");\n",
    "    plt.title(f\"Distribution of {i[1]}\",fontsize=16);\n",
    "    plt.xlabel(f\"{i[1]}\",fontsize=14);\n",
    "    plt.ylabel(\"Frequency\",fontsize=14);\n",
    "    plt.tight_layout(h_pad=5, w_pad=5)\n",
    "    \n",
    "    plt.subplot(5,2,(2*i[0])+2);\n",
    "    sns.boxplot(better_binned_data[i[1]]);\n",
    "    plt.title(f\"{i[1]} Boxplot\",fontsize=16);\n",
    "    plt.xlabel(f'{i[1]}',fontsize=14)\n",
    "    plt.tight_layout(h_pad=5, w_pad=5)\n"
   ]
  },
  {
   "cell_type": "markdown",
   "id": "73942230",
   "metadata": {
    "papermill": {
     "duration": 0.190755,
     "end_time": "2022-07-08T05:00:21.327066",
     "exception": false,
     "start_time": "2022-07-08T05:00:21.136311",
     "status": "completed"
    },
    "tags": []
   },
   "source": [
    "### KEY NOTES\n",
    "\n",
    "- A great way of dealing with all those outliers is by binning the data above statistical maximum.\n",
    "- *Age* can handled by binning it 4 categories (youth, youthWithResponsibility, midLife, towardsRetirement).\n",
    "- *Debt* can binned into 4 categories (0to5/green, 5to10/yellow, 10to15/orange, 15+/red).\n",
    "- *YearsEmployed* needs a rework.\n",
    "- *CreditScore* can binned into 3 categories (0to5/red, 5to10/Yellow, 10+/Green).\n",
    "- *Income* also needs a rework."
   ]
  },
  {
   "cell_type": "markdown",
   "id": "1defbae4",
   "metadata": {
    "papermill": {
     "duration": 0.190826,
     "end_time": "2022-07-08T05:00:21.709069",
     "exception": false,
     "start_time": "2022-07-08T05:00:21.518243",
     "status": "completed"
    },
    "tags": []
   },
   "source": [
    "## DEALING WITH OUTLIERS "
   ]
  },
  {
   "cell_type": "markdown",
   "id": "06f03139",
   "metadata": {
    "papermill": {
     "duration": 0.192329,
     "end_time": "2022-07-08T05:00:22.095184",
     "exception": false,
     "start_time": "2022-07-08T05:00:21.902855",
     "status": "completed"
    },
    "tags": []
   },
   "source": [
    "### Fixing *Age* column"
   ]
  },
  {
   "cell_type": "code",
   "execution_count": 17,
   "id": "0f152afe",
   "metadata": {
    "execution": {
     "iopub.execute_input": "2022-07-08T05:00:22.477317Z",
     "iopub.status.busy": "2022-07-08T05:00:22.477027Z",
     "iopub.status.idle": "2022-07-08T05:00:22.686542Z",
     "shell.execute_reply": "2022-07-08T05:00:22.685799Z"
    },
    "papermill": {
     "duration": 0.401775,
     "end_time": "2022-07-08T05:00:22.688717",
     "exception": false,
     "start_time": "2022-07-08T05:00:22.286942",
     "status": "completed"
    },
    "tags": []
   },
   "outputs": [
    {
     "data": {
      "text/html": [
       "<div>\n",
       "<style scoped>\n",
       "    .dataframe tbody tr th:only-of-type {\n",
       "        vertical-align: middle;\n",
       "    }\n",
       "\n",
       "    .dataframe tbody tr th {\n",
       "        vertical-align: top;\n",
       "    }\n",
       "\n",
       "    .dataframe thead th {\n",
       "        text-align: right;\n",
       "    }\n",
       "</style>\n",
       "<table border=\"1\" class=\"dataframe\">\n",
       "  <thead>\n",
       "    <tr style=\"text-align: right;\">\n",
       "      <th></th>\n",
       "      <th>Age</th>\n",
       "      <th>Debt</th>\n",
       "      <th>Married</th>\n",
       "      <th>BankCustomer</th>\n",
       "      <th>Industry</th>\n",
       "      <th>YearsEmployed</th>\n",
       "      <th>PriorDefault</th>\n",
       "      <th>Employed</th>\n",
       "      <th>CreditScore</th>\n",
       "      <th>DriversLicense</th>\n",
       "      <th>Citizen</th>\n",
       "      <th>Income</th>\n",
       "      <th>Approved</th>\n",
       "    </tr>\n",
       "  </thead>\n",
       "  <tbody>\n",
       "    <tr>\n",
       "      <th>278</th>\n",
       "      <td>youth</td>\n",
       "      <td>13.500</td>\n",
       "      <td>0</td>\n",
       "      <td>0</td>\n",
       "      <td>Healthcare</td>\n",
       "      <td>0.000</td>\n",
       "      <td>1</td>\n",
       "      <td>0</td>\n",
       "      <td>0</td>\n",
       "      <td>0</td>\n",
       "      <td>ByBirth</td>\n",
       "      <td>0</td>\n",
       "      <td>0</td>\n",
       "    </tr>\n",
       "    <tr>\n",
       "      <th>110</th>\n",
       "      <td>youth</td>\n",
       "      <td>3.500</td>\n",
       "      <td>1</td>\n",
       "      <td>1</td>\n",
       "      <td>Industrials</td>\n",
       "      <td>3.500</td>\n",
       "      <td>0</td>\n",
       "      <td>1</td>\n",
       "      <td>3</td>\n",
       "      <td>1</td>\n",
       "      <td>ByBirth</td>\n",
       "      <td>0</td>\n",
       "      <td>0</td>\n",
       "    </tr>\n",
       "    <tr>\n",
       "      <th>82</th>\n",
       "      <td>youthWithResponsibility</td>\n",
       "      <td>0.500</td>\n",
       "      <td>1</td>\n",
       "      <td>1</td>\n",
       "      <td>CommunicationServices</td>\n",
       "      <td>0.250</td>\n",
       "      <td>0</td>\n",
       "      <td>0</td>\n",
       "      <td>0</td>\n",
       "      <td>0</td>\n",
       "      <td>ByOtherMeans</td>\n",
       "      <td>0</td>\n",
       "      <td>0</td>\n",
       "    </tr>\n",
       "    <tr>\n",
       "      <th>51</th>\n",
       "      <td>youth</td>\n",
       "      <td>1.000</td>\n",
       "      <td>1</td>\n",
       "      <td>1</td>\n",
       "      <td>Materials</td>\n",
       "      <td>1.750</td>\n",
       "      <td>0</td>\n",
       "      <td>0</td>\n",
       "      <td>0</td>\n",
       "      <td>1</td>\n",
       "      <td>ByBirth</td>\n",
       "      <td>0</td>\n",
       "      <td>1</td>\n",
       "    </tr>\n",
       "    <tr>\n",
       "      <th>218</th>\n",
       "      <td>midLife</td>\n",
       "      <td>9.625</td>\n",
       "      <td>1</td>\n",
       "      <td>1</td>\n",
       "      <td>Education</td>\n",
       "      <td>8.665</td>\n",
       "      <td>0</td>\n",
       "      <td>1</td>\n",
       "      <td>5</td>\n",
       "      <td>0</td>\n",
       "      <td>ByBirth</td>\n",
       "      <td>0</td>\n",
       "      <td>1</td>\n",
       "    </tr>\n",
       "  </tbody>\n",
       "</table>\n",
       "</div>"
      ],
      "text/plain": [
       "                         Age    Debt  Married  BankCustomer  \\\n",
       "278                    youth  13.500        0             0   \n",
       "110                    youth   3.500        1             1   \n",
       "82   youthWithResponsibility   0.500        1             1   \n",
       "51                     youth   1.000        1             1   \n",
       "218                  midLife   9.625        1             1   \n",
       "\n",
       "                  Industry  YearsEmployed  PriorDefault  Employed  \\\n",
       "278             Healthcare          0.000             1         0   \n",
       "110            Industrials          3.500             0         1   \n",
       "82   CommunicationServices          0.250             0         0   \n",
       "51               Materials          1.750             0         0   \n",
       "218              Education          8.665             0         1   \n",
       "\n",
       "     CreditScore  DriversLicense       Citizen  Income  Approved  \n",
       "278            0               0       ByBirth       0         0  \n",
       "110            3               1       ByBirth       0         0  \n",
       "82             0               0  ByOtherMeans       0         0  \n",
       "51             0               1       ByBirth       0         1  \n",
       "218            5               0       ByBirth       0         1  "
      ]
     },
     "execution_count": 17,
     "metadata": {},
     "output_type": "execute_result"
    }
   ],
   "source": [
    "for idx, row in data.iterrows():\n",
    "    if data.loc[idx, 'Age']< 30:\n",
    "        data.loc[idx, 'Age'] = 'youth'\n",
    "    \n",
    "    elif data.loc[idx, 'Age']>=30 and data.loc[idx, 'Age']<40:\n",
    "        data.loc[idx, 'Age'] = 'youthWithResponsibility'\n",
    "    \n",
    "    elif data.loc[idx, 'Age']>=40 and data.loc[idx, 'Age']<55:\n",
    "        data.loc[idx, 'Age'] = 'midLife'\n",
    "    \n",
    "    elif data.loc[idx, 'Age']>=55:\n",
    "        data.loc[idx, 'Age'] = 'towardsRetirement'\n",
    "        \n",
    "data.head()"
   ]
  },
  {
   "cell_type": "code",
   "execution_count": 18,
   "id": "637ac9e5",
   "metadata": {
    "execution": {
     "iopub.execute_input": "2022-07-08T05:00:23.076234Z",
     "iopub.status.busy": "2022-07-08T05:00:23.075696Z",
     "iopub.status.idle": "2022-07-08T05:00:23.082421Z",
     "shell.execute_reply": "2022-07-08T05:00:23.081646Z"
    },
    "papermill": {
     "duration": 0.203727,
     "end_time": "2022-07-08T05:00:23.084387",
     "exception": false,
     "start_time": "2022-07-08T05:00:22.880660",
     "status": "completed"
    },
    "tags": []
   },
   "outputs": [
    {
     "data": {
      "text/plain": [
       "youth                      309\n",
       "youthWithResponsibility    132\n",
       "midLife                     83\n",
       "towardsRetirement           28\n",
       "Name: Age, dtype: int64"
      ]
     },
     "execution_count": 18,
     "metadata": {},
     "output_type": "execute_result"
    }
   ],
   "source": [
    "data.Age.value_counts()"
   ]
  },
  {
   "cell_type": "markdown",
   "id": "e9f0e320",
   "metadata": {
    "papermill": {
     "duration": 0.190785,
     "end_time": "2022-07-08T05:00:23.469426",
     "exception": false,
     "start_time": "2022-07-08T05:00:23.278641",
     "status": "completed"
    },
    "tags": []
   },
   "source": [
    "### Fixing *Debt* column"
   ]
  },
  {
   "cell_type": "code",
   "execution_count": 19,
   "id": "dd1099e7",
   "metadata": {
    "execution": {
     "iopub.execute_input": "2022-07-08T05:00:23.857856Z",
     "iopub.status.busy": "2022-07-08T05:00:23.857342Z",
     "iopub.status.idle": "2022-07-08T05:00:24.078026Z",
     "shell.execute_reply": "2022-07-08T05:00:24.077357Z"
    },
    "papermill": {
     "duration": 0.419694,
     "end_time": "2022-07-08T05:00:24.080269",
     "exception": false,
     "start_time": "2022-07-08T05:00:23.660575",
     "status": "completed"
    },
    "tags": []
   },
   "outputs": [
    {
     "data": {
      "text/html": [
       "<div>\n",
       "<style scoped>\n",
       "    .dataframe tbody tr th:only-of-type {\n",
       "        vertical-align: middle;\n",
       "    }\n",
       "\n",
       "    .dataframe tbody tr th {\n",
       "        vertical-align: top;\n",
       "    }\n",
       "\n",
       "    .dataframe thead th {\n",
       "        text-align: right;\n",
       "    }\n",
       "</style>\n",
       "<table border=\"1\" class=\"dataframe\">\n",
       "  <thead>\n",
       "    <tr style=\"text-align: right;\">\n",
       "      <th></th>\n",
       "      <th>Age</th>\n",
       "      <th>Debt</th>\n",
       "      <th>Married</th>\n",
       "      <th>BankCustomer</th>\n",
       "      <th>Industry</th>\n",
       "      <th>YearsEmployed</th>\n",
       "      <th>PriorDefault</th>\n",
       "      <th>Employed</th>\n",
       "      <th>CreditScore</th>\n",
       "      <th>DriversLicense</th>\n",
       "      <th>Citizen</th>\n",
       "      <th>Income</th>\n",
       "      <th>Approved</th>\n",
       "    </tr>\n",
       "  </thead>\n",
       "  <tbody>\n",
       "    <tr>\n",
       "      <th>278</th>\n",
       "      <td>youth</td>\n",
       "      <td>Orange</td>\n",
       "      <td>0</td>\n",
       "      <td>0</td>\n",
       "      <td>Healthcare</td>\n",
       "      <td>0.000</td>\n",
       "      <td>1</td>\n",
       "      <td>0</td>\n",
       "      <td>0</td>\n",
       "      <td>0</td>\n",
       "      <td>ByBirth</td>\n",
       "      <td>0</td>\n",
       "      <td>0</td>\n",
       "    </tr>\n",
       "    <tr>\n",
       "      <th>110</th>\n",
       "      <td>youth</td>\n",
       "      <td>Green</td>\n",
       "      <td>1</td>\n",
       "      <td>1</td>\n",
       "      <td>Industrials</td>\n",
       "      <td>3.500</td>\n",
       "      <td>0</td>\n",
       "      <td>1</td>\n",
       "      <td>3</td>\n",
       "      <td>1</td>\n",
       "      <td>ByBirth</td>\n",
       "      <td>0</td>\n",
       "      <td>0</td>\n",
       "    </tr>\n",
       "    <tr>\n",
       "      <th>82</th>\n",
       "      <td>youthWithResponsibility</td>\n",
       "      <td>Green</td>\n",
       "      <td>1</td>\n",
       "      <td>1</td>\n",
       "      <td>CommunicationServices</td>\n",
       "      <td>0.250</td>\n",
       "      <td>0</td>\n",
       "      <td>0</td>\n",
       "      <td>0</td>\n",
       "      <td>0</td>\n",
       "      <td>ByOtherMeans</td>\n",
       "      <td>0</td>\n",
       "      <td>0</td>\n",
       "    </tr>\n",
       "    <tr>\n",
       "      <th>51</th>\n",
       "      <td>youth</td>\n",
       "      <td>Green</td>\n",
       "      <td>1</td>\n",
       "      <td>1</td>\n",
       "      <td>Materials</td>\n",
       "      <td>1.750</td>\n",
       "      <td>0</td>\n",
       "      <td>0</td>\n",
       "      <td>0</td>\n",
       "      <td>1</td>\n",
       "      <td>ByBirth</td>\n",
       "      <td>0</td>\n",
       "      <td>1</td>\n",
       "    </tr>\n",
       "    <tr>\n",
       "      <th>218</th>\n",
       "      <td>midLife</td>\n",
       "      <td>Yellow</td>\n",
       "      <td>1</td>\n",
       "      <td>1</td>\n",
       "      <td>Education</td>\n",
       "      <td>8.665</td>\n",
       "      <td>0</td>\n",
       "      <td>1</td>\n",
       "      <td>5</td>\n",
       "      <td>0</td>\n",
       "      <td>ByBirth</td>\n",
       "      <td>0</td>\n",
       "      <td>1</td>\n",
       "    </tr>\n",
       "  </tbody>\n",
       "</table>\n",
       "</div>"
      ],
      "text/plain": [
       "                         Age    Debt  Married  BankCustomer  \\\n",
       "278                    youth  Orange        0             0   \n",
       "110                    youth   Green        1             1   \n",
       "82   youthWithResponsibility   Green        1             1   \n",
       "51                     youth   Green        1             1   \n",
       "218                  midLife  Yellow        1             1   \n",
       "\n",
       "                  Industry  YearsEmployed  PriorDefault  Employed  \\\n",
       "278             Healthcare          0.000             1         0   \n",
       "110            Industrials          3.500             0         1   \n",
       "82   CommunicationServices          0.250             0         0   \n",
       "51               Materials          1.750             0         0   \n",
       "218              Education          8.665             0         1   \n",
       "\n",
       "     CreditScore  DriversLicense       Citizen  Income  Approved  \n",
       "278            0               0       ByBirth       0         0  \n",
       "110            3               1       ByBirth       0         0  \n",
       "82             0               0  ByOtherMeans       0         0  \n",
       "51             0               1       ByBirth       0         1  \n",
       "218            5               0       ByBirth       0         1  "
      ]
     },
     "execution_count": 19,
     "metadata": {},
     "output_type": "execute_result"
    }
   ],
   "source": [
    "for idx, row in data.iterrows():\n",
    "    \n",
    "    if data.loc[idx, 'Debt']>=0 and data.loc[idx, 'Debt']<5:\n",
    "        data.loc[idx, 'Debt'] = 'Green'\n",
    "    \n",
    "    elif data.loc[idx, 'Debt']>=5 and data.loc[idx, 'Debt']<10:\n",
    "        data.loc[idx, 'Debt'] = 'Yellow'\n",
    "    \n",
    "    elif data.loc[idx, 'Debt']>=10 and data.loc[idx, 'Debt']<15:\n",
    "        data.loc[idx, 'Debt'] = 'Orange'\n",
    "    \n",
    "    elif data.loc[idx, 'Debt']>=15:\n",
    "        data.loc[idx, 'Debt'] = 'Red'\n",
    "        \n",
    "data.head()"
   ]
  },
  {
   "cell_type": "code",
   "execution_count": 20,
   "id": "a14e82ab",
   "metadata": {
    "execution": {
     "iopub.execute_input": "2022-07-08T05:00:24.470310Z",
     "iopub.status.busy": "2022-07-08T05:00:24.469395Z",
     "iopub.status.idle": "2022-07-08T05:00:24.476981Z",
     "shell.execute_reply": "2022-07-08T05:00:24.476351Z"
    },
    "papermill": {
     "duration": 0.204338,
     "end_time": "2022-07-08T05:00:24.478795",
     "exception": false,
     "start_time": "2022-07-08T05:00:24.274457",
     "status": "completed"
    },
    "tags": []
   },
   "outputs": [
    {
     "data": {
      "text/plain": [
       "Green     364\n",
       "Yellow     94\n",
       "Orange     72\n",
       "Red        22\n",
       "Name: Debt, dtype: int64"
      ]
     },
     "execution_count": 20,
     "metadata": {},
     "output_type": "execute_result"
    }
   ],
   "source": [
    "data.Debt.value_counts()"
   ]
  },
  {
   "cell_type": "markdown",
   "id": "54e65adf",
   "metadata": {
    "papermill": {
     "duration": 0.196408,
     "end_time": "2022-07-08T05:00:24.867451",
     "exception": false,
     "start_time": "2022-07-08T05:00:24.671043",
     "status": "completed"
    },
    "tags": []
   },
   "source": [
    "### Fixing *CreditScore* column"
   ]
  },
  {
   "cell_type": "code",
   "execution_count": 21,
   "id": "ba9a08f7",
   "metadata": {
    "execution": {
     "iopub.execute_input": "2022-07-08T05:00:25.257326Z",
     "iopub.status.busy": "2022-07-08T05:00:25.257008Z",
     "iopub.status.idle": "2022-07-08T05:00:25.467046Z",
     "shell.execute_reply": "2022-07-08T05:00:25.466155Z"
    },
    "papermill": {
     "duration": 0.405563,
     "end_time": "2022-07-08T05:00:25.469170",
     "exception": false,
     "start_time": "2022-07-08T05:00:25.063607",
     "status": "completed"
    },
    "tags": []
   },
   "outputs": [
    {
     "data": {
      "text/html": [
       "<div>\n",
       "<style scoped>\n",
       "    .dataframe tbody tr th:only-of-type {\n",
       "        vertical-align: middle;\n",
       "    }\n",
       "\n",
       "    .dataframe tbody tr th {\n",
       "        vertical-align: top;\n",
       "    }\n",
       "\n",
       "    .dataframe thead th {\n",
       "        text-align: right;\n",
       "    }\n",
       "</style>\n",
       "<table border=\"1\" class=\"dataframe\">\n",
       "  <thead>\n",
       "    <tr style=\"text-align: right;\">\n",
       "      <th></th>\n",
       "      <th>Age</th>\n",
       "      <th>Debt</th>\n",
       "      <th>Married</th>\n",
       "      <th>BankCustomer</th>\n",
       "      <th>Industry</th>\n",
       "      <th>YearsEmployed</th>\n",
       "      <th>PriorDefault</th>\n",
       "      <th>Employed</th>\n",
       "      <th>CreditScore</th>\n",
       "      <th>DriversLicense</th>\n",
       "      <th>Citizen</th>\n",
       "      <th>Income</th>\n",
       "      <th>Approved</th>\n",
       "    </tr>\n",
       "  </thead>\n",
       "  <tbody>\n",
       "    <tr>\n",
       "      <th>278</th>\n",
       "      <td>youth</td>\n",
       "      <td>Orange</td>\n",
       "      <td>0</td>\n",
       "      <td>0</td>\n",
       "      <td>Healthcare</td>\n",
       "      <td>0.000</td>\n",
       "      <td>1</td>\n",
       "      <td>0</td>\n",
       "      <td>Red</td>\n",
       "      <td>0</td>\n",
       "      <td>ByBirth</td>\n",
       "      <td>0</td>\n",
       "      <td>0</td>\n",
       "    </tr>\n",
       "    <tr>\n",
       "      <th>110</th>\n",
       "      <td>youth</td>\n",
       "      <td>Green</td>\n",
       "      <td>1</td>\n",
       "      <td>1</td>\n",
       "      <td>Industrials</td>\n",
       "      <td>3.500</td>\n",
       "      <td>0</td>\n",
       "      <td>1</td>\n",
       "      <td>Red</td>\n",
       "      <td>1</td>\n",
       "      <td>ByBirth</td>\n",
       "      <td>0</td>\n",
       "      <td>0</td>\n",
       "    </tr>\n",
       "    <tr>\n",
       "      <th>82</th>\n",
       "      <td>youthWithResponsibility</td>\n",
       "      <td>Green</td>\n",
       "      <td>1</td>\n",
       "      <td>1</td>\n",
       "      <td>CommunicationServices</td>\n",
       "      <td>0.250</td>\n",
       "      <td>0</td>\n",
       "      <td>0</td>\n",
       "      <td>Red</td>\n",
       "      <td>0</td>\n",
       "      <td>ByOtherMeans</td>\n",
       "      <td>0</td>\n",
       "      <td>0</td>\n",
       "    </tr>\n",
       "    <tr>\n",
       "      <th>51</th>\n",
       "      <td>youth</td>\n",
       "      <td>Green</td>\n",
       "      <td>1</td>\n",
       "      <td>1</td>\n",
       "      <td>Materials</td>\n",
       "      <td>1.750</td>\n",
       "      <td>0</td>\n",
       "      <td>0</td>\n",
       "      <td>Red</td>\n",
       "      <td>1</td>\n",
       "      <td>ByBirth</td>\n",
       "      <td>0</td>\n",
       "      <td>1</td>\n",
       "    </tr>\n",
       "    <tr>\n",
       "      <th>218</th>\n",
       "      <td>midLife</td>\n",
       "      <td>Yellow</td>\n",
       "      <td>1</td>\n",
       "      <td>1</td>\n",
       "      <td>Education</td>\n",
       "      <td>8.665</td>\n",
       "      <td>0</td>\n",
       "      <td>1</td>\n",
       "      <td>Yellow</td>\n",
       "      <td>0</td>\n",
       "      <td>ByBirth</td>\n",
       "      <td>0</td>\n",
       "      <td>1</td>\n",
       "    </tr>\n",
       "  </tbody>\n",
       "</table>\n",
       "</div>"
      ],
      "text/plain": [
       "                         Age    Debt  Married  BankCustomer  \\\n",
       "278                    youth  Orange        0             0   \n",
       "110                    youth   Green        1             1   \n",
       "82   youthWithResponsibility   Green        1             1   \n",
       "51                     youth   Green        1             1   \n",
       "218                  midLife  Yellow        1             1   \n",
       "\n",
       "                  Industry  YearsEmployed  PriorDefault  Employed CreditScore  \\\n",
       "278             Healthcare          0.000             1         0         Red   \n",
       "110            Industrials          3.500             0         1         Red   \n",
       "82   CommunicationServices          0.250             0         0         Red   \n",
       "51               Materials          1.750             0         0         Red   \n",
       "218              Education          8.665             0         1      Yellow   \n",
       "\n",
       "     DriversLicense       Citizen  Income  Approved  \n",
       "278               0       ByBirth       0         0  \n",
       "110               1       ByBirth       0         0  \n",
       "82                0  ByOtherMeans       0         0  \n",
       "51                1       ByBirth       0         1  \n",
       "218               0       ByBirth       0         1  "
      ]
     },
     "execution_count": 21,
     "metadata": {},
     "output_type": "execute_result"
    }
   ],
   "source": [
    "for idx, row in data.iterrows():\n",
    "    \n",
    "    if data.loc[idx, 'CreditScore']>=0 and data.loc[idx, 'CreditScore']<5:\n",
    "        data.loc[idx, 'CreditScore'] = 'Red'\n",
    "    \n",
    "    elif data.loc[idx, 'CreditScore']>=5 and data.loc[idx, 'CreditScore']<10:\n",
    "        data.loc[idx, 'CreditScore'] = 'Yellow'\n",
    "    \n",
    "    elif data.loc[idx, 'CreditScore']>=10:\n",
    "        data.loc[idx, 'CreditScore'] = 'Green'\n",
    "        # According to Boxplot distribution\n",
    "        \n",
    "data.head()"
   ]
  },
  {
   "cell_type": "code",
   "execution_count": 22,
   "id": "a866f8e1",
   "metadata": {
    "execution": {
     "iopub.execute_input": "2022-07-08T05:00:25.878677Z",
     "iopub.status.busy": "2022-07-08T05:00:25.877707Z",
     "iopub.status.idle": "2022-07-08T05:00:25.888007Z",
     "shell.execute_reply": "2022-07-08T05:00:25.886473Z"
    },
    "papermill": {
     "duration": 0.227633,
     "end_time": "2022-07-08T05:00:25.891273",
     "exception": false,
     "start_time": "2022-07-08T05:00:25.663640",
     "status": "completed"
    },
    "tags": []
   },
   "outputs": [
    {
     "data": {
      "text/plain": [
       "Red       441\n",
       "Yellow     63\n",
       "Green      48\n",
       "Name: CreditScore, dtype: int64"
      ]
     },
     "execution_count": 22,
     "metadata": {},
     "output_type": "execute_result"
    }
   ],
   "source": [
    "data.CreditScore.value_counts()"
   ]
  },
  {
   "cell_type": "markdown",
   "id": "f984ea55",
   "metadata": {
    "papermill": {
     "duration": 0.194482,
     "end_time": "2022-07-08T05:00:26.283973",
     "exception": false,
     "start_time": "2022-07-08T05:00:26.089491",
     "status": "completed"
    },
    "tags": []
   },
   "source": [
    "### Understanding relationship between *YearsEmployed*, *Employed*, and *Income* columns"
   ]
  },
  {
   "cell_type": "code",
   "execution_count": 23,
   "id": "f344b5bd",
   "metadata": {
    "execution": {
     "iopub.execute_input": "2022-07-08T05:00:26.672214Z",
     "iopub.status.busy": "2022-07-08T05:00:26.671747Z",
     "iopub.status.idle": "2022-07-08T05:00:26.689412Z",
     "shell.execute_reply": "2022-07-08T05:00:26.688477Z"
    },
    "papermill": {
     "duration": 0.214812,
     "end_time": "2022-07-08T05:00:26.692283",
     "exception": false,
     "start_time": "2022-07-08T05:00:26.477471",
     "status": "completed"
    },
    "tags": []
   },
   "outputs": [
    {
     "name": "stdout",
     "output_type": "stream",
     "text": [
      "315\n"
     ]
    },
    {
     "data": {
      "text/html": [
       "<div>\n",
       "<style scoped>\n",
       "    .dataframe tbody tr th:only-of-type {\n",
       "        vertical-align: middle;\n",
       "    }\n",
       "\n",
       "    .dataframe tbody tr th {\n",
       "        vertical-align: top;\n",
       "    }\n",
       "\n",
       "    .dataframe thead th {\n",
       "        text-align: right;\n",
       "    }\n",
       "</style>\n",
       "<table border=\"1\" class=\"dataframe\">\n",
       "  <thead>\n",
       "    <tr style=\"text-align: right;\">\n",
       "      <th></th>\n",
       "      <th>Age</th>\n",
       "      <th>Debt</th>\n",
       "      <th>Married</th>\n",
       "      <th>BankCustomer</th>\n",
       "      <th>Industry</th>\n",
       "      <th>YearsEmployed</th>\n",
       "      <th>PriorDefault</th>\n",
       "      <th>Employed</th>\n",
       "      <th>CreditScore</th>\n",
       "      <th>DriversLicense</th>\n",
       "      <th>Citizen</th>\n",
       "      <th>Income</th>\n",
       "      <th>Approved</th>\n",
       "    </tr>\n",
       "  </thead>\n",
       "  <tbody>\n",
       "    <tr>\n",
       "      <th>278</th>\n",
       "      <td>youth</td>\n",
       "      <td>Orange</td>\n",
       "      <td>0</td>\n",
       "      <td>0</td>\n",
       "      <td>Healthcare</td>\n",
       "      <td>0.000</td>\n",
       "      <td>1</td>\n",
       "      <td>0</td>\n",
       "      <td>Red</td>\n",
       "      <td>0</td>\n",
       "      <td>ByBirth</td>\n",
       "      <td>0</td>\n",
       "      <td>0</td>\n",
       "    </tr>\n",
       "    <tr>\n",
       "      <th>82</th>\n",
       "      <td>youthWithResponsibility</td>\n",
       "      <td>Green</td>\n",
       "      <td>1</td>\n",
       "      <td>1</td>\n",
       "      <td>CommunicationServices</td>\n",
       "      <td>0.250</td>\n",
       "      <td>0</td>\n",
       "      <td>0</td>\n",
       "      <td>Red</td>\n",
       "      <td>0</td>\n",
       "      <td>ByOtherMeans</td>\n",
       "      <td>0</td>\n",
       "      <td>0</td>\n",
       "    </tr>\n",
       "    <tr>\n",
       "      <th>51</th>\n",
       "      <td>youth</td>\n",
       "      <td>Green</td>\n",
       "      <td>1</td>\n",
       "      <td>1</td>\n",
       "      <td>Materials</td>\n",
       "      <td>1.750</td>\n",
       "      <td>0</td>\n",
       "      <td>0</td>\n",
       "      <td>Red</td>\n",
       "      <td>1</td>\n",
       "      <td>ByBirth</td>\n",
       "      <td>0</td>\n",
       "      <td>1</td>\n",
       "    </tr>\n",
       "    <tr>\n",
       "      <th>446</th>\n",
       "      <td>youth</td>\n",
       "      <td>Green</td>\n",
       "      <td>1</td>\n",
       "      <td>1</td>\n",
       "      <td>Energy</td>\n",
       "      <td>0.165</td>\n",
       "      <td>1</td>\n",
       "      <td>0</td>\n",
       "      <td>Red</td>\n",
       "      <td>0</td>\n",
       "      <td>ByBirth</td>\n",
       "      <td>0</td>\n",
       "      <td>0</td>\n",
       "    </tr>\n",
       "    <tr>\n",
       "      <th>314</th>\n",
       "      <td>youth</td>\n",
       "      <td>Green</td>\n",
       "      <td>0</td>\n",
       "      <td>0</td>\n",
       "      <td>ConsumerStaples</td>\n",
       "      <td>0.250</td>\n",
       "      <td>1</td>\n",
       "      <td>0</td>\n",
       "      <td>Red</td>\n",
       "      <td>0</td>\n",
       "      <td>ByBirth</td>\n",
       "      <td>0</td>\n",
       "      <td>0</td>\n",
       "    </tr>\n",
       "  </tbody>\n",
       "</table>\n",
       "</div>"
      ],
      "text/plain": [
       "                         Age    Debt  Married  BankCustomer  \\\n",
       "278                    youth  Orange        0             0   \n",
       "82   youthWithResponsibility   Green        1             1   \n",
       "51                     youth   Green        1             1   \n",
       "446                    youth   Green        1             1   \n",
       "314                    youth   Green        0             0   \n",
       "\n",
       "                  Industry  YearsEmployed  PriorDefault  Employed CreditScore  \\\n",
       "278             Healthcare          0.000             1         0         Red   \n",
       "82   CommunicationServices          0.250             0         0         Red   \n",
       "51               Materials          1.750             0         0         Red   \n",
       "446                 Energy          0.165             1         0         Red   \n",
       "314        ConsumerStaples          0.250             1         0         Red   \n",
       "\n",
       "     DriversLicense       Citizen  Income  Approved  \n",
       "278               0       ByBirth       0         0  \n",
       "82                0  ByOtherMeans       0         0  \n",
       "51                1       ByBirth       0         1  \n",
       "446               0       ByBirth       0         0  \n",
       "314               0       ByBirth       0         0  "
      ]
     },
     "execution_count": 23,
     "metadata": {},
     "output_type": "execute_result"
    }
   ],
   "source": [
    "print(data[data['Employed']==0].shape[0])\n",
    "data[data['Employed']==0].head()"
   ]
  },
  {
   "cell_type": "code",
   "execution_count": 24,
   "id": "db6c8f0c",
   "metadata": {
    "execution": {
     "iopub.execute_input": "2022-07-08T05:00:27.086890Z",
     "iopub.status.busy": "2022-07-08T05:00:27.086616Z",
     "iopub.status.idle": "2022-07-08T05:00:27.105521Z",
     "shell.execute_reply": "2022-07-08T05:00:27.104630Z"
    },
    "papermill": {
     "duration": 0.218622,
     "end_time": "2022-07-08T05:00:27.108149",
     "exception": false,
     "start_time": "2022-07-08T05:00:26.889527",
     "status": "completed"
    },
    "tags": []
   },
   "outputs": [
    {
     "name": "stdout",
     "output_type": "stream",
     "text": [
      "73\n"
     ]
    },
    {
     "data": {
      "text/html": [
       "<div>\n",
       "<style scoped>\n",
       "    .dataframe tbody tr th:only-of-type {\n",
       "        vertical-align: middle;\n",
       "    }\n",
       "\n",
       "    .dataframe tbody tr th {\n",
       "        vertical-align: top;\n",
       "    }\n",
       "\n",
       "    .dataframe thead th {\n",
       "        text-align: right;\n",
       "    }\n",
       "</style>\n",
       "<table border=\"1\" class=\"dataframe\">\n",
       "  <thead>\n",
       "    <tr style=\"text-align: right;\">\n",
       "      <th></th>\n",
       "      <th>Age</th>\n",
       "      <th>Debt</th>\n",
       "      <th>Married</th>\n",
       "      <th>BankCustomer</th>\n",
       "      <th>Industry</th>\n",
       "      <th>YearsEmployed</th>\n",
       "      <th>PriorDefault</th>\n",
       "      <th>Employed</th>\n",
       "      <th>CreditScore</th>\n",
       "      <th>DriversLicense</th>\n",
       "      <th>Citizen</th>\n",
       "      <th>Income</th>\n",
       "      <th>Approved</th>\n",
       "    </tr>\n",
       "  </thead>\n",
       "  <tbody>\n",
       "    <tr>\n",
       "      <th>51</th>\n",
       "      <td>youth</td>\n",
       "      <td>Green</td>\n",
       "      <td>1</td>\n",
       "      <td>1</td>\n",
       "      <td>Materials</td>\n",
       "      <td>1.750</td>\n",
       "      <td>0</td>\n",
       "      <td>0</td>\n",
       "      <td>Red</td>\n",
       "      <td>1</td>\n",
       "      <td>ByBirth</td>\n",
       "      <td>0</td>\n",
       "      <td>1</td>\n",
       "    </tr>\n",
       "    <tr>\n",
       "      <th>18</th>\n",
       "      <td>youth</td>\n",
       "      <td>Green</td>\n",
       "      <td>1</td>\n",
       "      <td>1</td>\n",
       "      <td>Real Estate</td>\n",
       "      <td>0.665</td>\n",
       "      <td>0</td>\n",
       "      <td>0</td>\n",
       "      <td>Red</td>\n",
       "      <td>1</td>\n",
       "      <td>ByBirth</td>\n",
       "      <td>0</td>\n",
       "      <td>1</td>\n",
       "    </tr>\n",
       "    <tr>\n",
       "      <th>215</th>\n",
       "      <td>midLife</td>\n",
       "      <td>Green</td>\n",
       "      <td>1</td>\n",
       "      <td>1</td>\n",
       "      <td>ConsumerStaples</td>\n",
       "      <td>3.500</td>\n",
       "      <td>0</td>\n",
       "      <td>0</td>\n",
       "      <td>Red</td>\n",
       "      <td>0</td>\n",
       "      <td>ByOtherMeans</td>\n",
       "      <td>0</td>\n",
       "      <td>1</td>\n",
       "    </tr>\n",
       "    <tr>\n",
       "      <th>174</th>\n",
       "      <td>youth</td>\n",
       "      <td>Orange</td>\n",
       "      <td>1</td>\n",
       "      <td>1</td>\n",
       "      <td>Materials</td>\n",
       "      <td>1.335</td>\n",
       "      <td>0</td>\n",
       "      <td>0</td>\n",
       "      <td>Red</td>\n",
       "      <td>0</td>\n",
       "      <td>ByBirth</td>\n",
       "      <td>0</td>\n",
       "      <td>1</td>\n",
       "    </tr>\n",
       "    <tr>\n",
       "      <th>163</th>\n",
       "      <td>youthWithResponsibility</td>\n",
       "      <td>Green</td>\n",
       "      <td>0</td>\n",
       "      <td>0</td>\n",
       "      <td>Education</td>\n",
       "      <td>0.040</td>\n",
       "      <td>0</td>\n",
       "      <td>0</td>\n",
       "      <td>Red</td>\n",
       "      <td>1</td>\n",
       "      <td>ByBirth</td>\n",
       "      <td>0</td>\n",
       "      <td>1</td>\n",
       "    </tr>\n",
       "  </tbody>\n",
       "</table>\n",
       "</div>"
      ],
      "text/plain": [
       "                         Age    Debt  Married  BankCustomer         Industry  \\\n",
       "51                     youth   Green        1             1        Materials   \n",
       "18                     youth   Green        1             1      Real Estate   \n",
       "215                  midLife   Green        1             1  ConsumerStaples   \n",
       "174                    youth  Orange        1             1        Materials   \n",
       "163  youthWithResponsibility   Green        0             0        Education   \n",
       "\n",
       "     YearsEmployed  PriorDefault  Employed CreditScore  DriversLicense  \\\n",
       "51           1.750             0         0         Red               1   \n",
       "18           0.665             0         0         Red               1   \n",
       "215          3.500             0         0         Red               0   \n",
       "174          1.335             0         0         Red               0   \n",
       "163          0.040             0         0         Red               1   \n",
       "\n",
       "          Citizen  Income  Approved  \n",
       "51        ByBirth       0         1  \n",
       "18        ByBirth       0         1  \n",
       "215  ByOtherMeans       0         1  \n",
       "174       ByBirth       0         1  \n",
       "163       ByBirth       0         1  "
      ]
     },
     "execution_count": 24,
     "metadata": {},
     "output_type": "execute_result"
    }
   ],
   "source": [
    "print(data[(data['Employed']==0) &  (data['Approved']==1)].shape[0])\n",
    "data[(data['Employed']==0) &  (data['Approved']==1)].head()"
   ]
  },
  {
   "cell_type": "code",
   "execution_count": 25,
   "id": "096653fb",
   "metadata": {
    "execution": {
     "iopub.execute_input": "2022-07-08T05:00:27.503844Z",
     "iopub.status.busy": "2022-07-08T05:00:27.503427Z",
     "iopub.status.idle": "2022-07-08T05:00:27.524050Z",
     "shell.execute_reply": "2022-07-08T05:00:27.523178Z"
    },
    "papermill": {
     "duration": 0.22153,
     "end_time": "2022-07-08T05:00:27.526443",
     "exception": false,
     "start_time": "2022-07-08T05:00:27.304913",
     "status": "completed"
    },
    "tags": []
   },
   "outputs": [
    {
     "name": "stdout",
     "output_type": "stream",
     "text": [
      "10\n"
     ]
    },
    {
     "data": {
      "text/html": [
       "<div>\n",
       "<style scoped>\n",
       "    .dataframe tbody tr th:only-of-type {\n",
       "        vertical-align: middle;\n",
       "    }\n",
       "\n",
       "    .dataframe tbody tr th {\n",
       "        vertical-align: top;\n",
       "    }\n",
       "\n",
       "    .dataframe thead th {\n",
       "        text-align: right;\n",
       "    }\n",
       "</style>\n",
       "<table border=\"1\" class=\"dataframe\">\n",
       "  <thead>\n",
       "    <tr style=\"text-align: right;\">\n",
       "      <th></th>\n",
       "      <th>Age</th>\n",
       "      <th>Debt</th>\n",
       "      <th>Married</th>\n",
       "      <th>BankCustomer</th>\n",
       "      <th>Industry</th>\n",
       "      <th>YearsEmployed</th>\n",
       "      <th>PriorDefault</th>\n",
       "      <th>Employed</th>\n",
       "      <th>CreditScore</th>\n",
       "      <th>DriversLicense</th>\n",
       "      <th>Citizen</th>\n",
       "      <th>Income</th>\n",
       "      <th>Approved</th>\n",
       "    </tr>\n",
       "  </thead>\n",
       "  <tbody>\n",
       "    <tr>\n",
       "      <th>513</th>\n",
       "      <td>youth</td>\n",
       "      <td>Yellow</td>\n",
       "      <td>1</td>\n",
       "      <td>1</td>\n",
       "      <td>Education</td>\n",
       "      <td>0.0</td>\n",
       "      <td>0</td>\n",
       "      <td>0</td>\n",
       "      <td>Red</td>\n",
       "      <td>0</td>\n",
       "      <td>ByBirth</td>\n",
       "      <td>0</td>\n",
       "      <td>1</td>\n",
       "    </tr>\n",
       "    <tr>\n",
       "      <th>236</th>\n",
       "      <td>youth</td>\n",
       "      <td>Green</td>\n",
       "      <td>1</td>\n",
       "      <td>1</td>\n",
       "      <td>ConsumerDiscretionary</td>\n",
       "      <td>0.0</td>\n",
       "      <td>0</td>\n",
       "      <td>0</td>\n",
       "      <td>Red</td>\n",
       "      <td>1</td>\n",
       "      <td>ByBirth</td>\n",
       "      <td>0</td>\n",
       "      <td>1</td>\n",
       "    </tr>\n",
       "    <tr>\n",
       "      <th>622</th>\n",
       "      <td>youth</td>\n",
       "      <td>Green</td>\n",
       "      <td>1</td>\n",
       "      <td>1</td>\n",
       "      <td>Energy</td>\n",
       "      <td>0.0</td>\n",
       "      <td>1</td>\n",
       "      <td>0</td>\n",
       "      <td>Red</td>\n",
       "      <td>0</td>\n",
       "      <td>Temporary</td>\n",
       "      <td>0</td>\n",
       "      <td>1</td>\n",
       "    </tr>\n",
       "    <tr>\n",
       "      <th>584</th>\n",
       "      <td>youth</td>\n",
       "      <td>Red</td>\n",
       "      <td>0</td>\n",
       "      <td>0</td>\n",
       "      <td>Education</td>\n",
       "      <td>0.0</td>\n",
       "      <td>0</td>\n",
       "      <td>0</td>\n",
       "      <td>Red</td>\n",
       "      <td>0</td>\n",
       "      <td>ByBirth</td>\n",
       "      <td>13212</td>\n",
       "      <td>1</td>\n",
       "    </tr>\n",
       "    <tr>\n",
       "      <th>53</th>\n",
       "      <td>youthWithResponsibility</td>\n",
       "      <td>Green</td>\n",
       "      <td>1</td>\n",
       "      <td>1</td>\n",
       "      <td>Industrials</td>\n",
       "      <td>0.0</td>\n",
       "      <td>0</td>\n",
       "      <td>0</td>\n",
       "      <td>Red</td>\n",
       "      <td>1</td>\n",
       "      <td>ByBirth</td>\n",
       "      <td>200</td>\n",
       "      <td>1</td>\n",
       "    </tr>\n",
       "  </tbody>\n",
       "</table>\n",
       "</div>"
      ],
      "text/plain": [
       "                         Age    Debt  Married  BankCustomer  \\\n",
       "513                    youth  Yellow        1             1   \n",
       "236                    youth   Green        1             1   \n",
       "622                    youth   Green        1             1   \n",
       "584                    youth     Red        0             0   \n",
       "53   youthWithResponsibility   Green        1             1   \n",
       "\n",
       "                  Industry  YearsEmployed  PriorDefault  Employed CreditScore  \\\n",
       "513              Education            0.0             0         0         Red   \n",
       "236  ConsumerDiscretionary            0.0             0         0         Red   \n",
       "622                 Energy            0.0             1         0         Red   \n",
       "584              Education            0.0             0         0         Red   \n",
       "53             Industrials            0.0             0         0         Red   \n",
       "\n",
       "     DriversLicense    Citizen  Income  Approved  \n",
       "513               0    ByBirth       0         1  \n",
       "236               1    ByBirth       0         1  \n",
       "622               0  Temporary       0         1  \n",
       "584               0    ByBirth   13212         1  \n",
       "53                1    ByBirth     200         1  "
      ]
     },
     "execution_count": 25,
     "metadata": {},
     "output_type": "execute_result"
    }
   ],
   "source": [
    "print(data[(data['Employed']==0) &  (data['Approved']==1) &  (data['YearsEmployed']==0.0)].shape[0])\n",
    "data[(data['Employed']==0) &  (data['Approved']==1) &  (data['YearsEmployed']==0.0)].head()"
   ]
  },
  {
   "cell_type": "code",
   "execution_count": 26,
   "id": "193b7fab",
   "metadata": {
    "execution": {
     "iopub.execute_input": "2022-07-08T05:00:27.931189Z",
     "iopub.status.busy": "2022-07-08T05:00:27.930899Z",
     "iopub.status.idle": "2022-07-08T05:00:27.947822Z",
     "shell.execute_reply": "2022-07-08T05:00:27.946859Z"
    },
    "papermill": {
     "duration": 0.217711,
     "end_time": "2022-07-08T05:00:27.950165",
     "exception": false,
     "start_time": "2022-07-08T05:00:27.732454",
     "status": "completed"
    },
    "tags": []
   },
   "outputs": [
    {
     "data": {
      "text/html": [
       "<div>\n",
       "<style scoped>\n",
       "    .dataframe tbody tr th:only-of-type {\n",
       "        vertical-align: middle;\n",
       "    }\n",
       "\n",
       "    .dataframe tbody tr th {\n",
       "        vertical-align: top;\n",
       "    }\n",
       "\n",
       "    .dataframe thead th {\n",
       "        text-align: right;\n",
       "    }\n",
       "</style>\n",
       "<table border=\"1\" class=\"dataframe\">\n",
       "  <thead>\n",
       "    <tr style=\"text-align: right;\">\n",
       "      <th></th>\n",
       "      <th>Age</th>\n",
       "      <th>Debt</th>\n",
       "      <th>Married</th>\n",
       "      <th>BankCustomer</th>\n",
       "      <th>Industry</th>\n",
       "      <th>YearsEmployed</th>\n",
       "      <th>PriorDefault</th>\n",
       "      <th>Employed</th>\n",
       "      <th>CreditScore</th>\n",
       "      <th>DriversLicense</th>\n",
       "      <th>Citizen</th>\n",
       "      <th>Income</th>\n",
       "      <th>Approved</th>\n",
       "    </tr>\n",
       "  </thead>\n",
       "  <tbody>\n",
       "    <tr>\n",
       "      <th>278</th>\n",
       "      <td>youth</td>\n",
       "      <td>Orange</td>\n",
       "      <td>0</td>\n",
       "      <td>0</td>\n",
       "      <td>Healthcare</td>\n",
       "      <td>0.0</td>\n",
       "      <td>1</td>\n",
       "      <td>0</td>\n",
       "      <td>Red</td>\n",
       "      <td>0</td>\n",
       "      <td>ByBirth</td>\n",
       "      <td>0</td>\n",
       "      <td>0</td>\n",
       "    </tr>\n",
       "    <tr>\n",
       "      <th>89</th>\n",
       "      <td>midLife</td>\n",
       "      <td>Green</td>\n",
       "      <td>1</td>\n",
       "      <td>1</td>\n",
       "      <td>Research</td>\n",
       "      <td>0.0</td>\n",
       "      <td>0</td>\n",
       "      <td>0</td>\n",
       "      <td>Red</td>\n",
       "      <td>1</td>\n",
       "      <td>ByBirth</td>\n",
       "      <td>27</td>\n",
       "      <td>0</td>\n",
       "    </tr>\n",
       "    <tr>\n",
       "      <th>601</th>\n",
       "      <td>midLife</td>\n",
       "      <td>Green</td>\n",
       "      <td>0</td>\n",
       "      <td>0</td>\n",
       "      <td>Energy</td>\n",
       "      <td>0.0</td>\n",
       "      <td>1</td>\n",
       "      <td>0</td>\n",
       "      <td>Red</td>\n",
       "      <td>1</td>\n",
       "      <td>ByBirth</td>\n",
       "      <td>1</td>\n",
       "      <td>0</td>\n",
       "    </tr>\n",
       "    <tr>\n",
       "      <th>447</th>\n",
       "      <td>youth</td>\n",
       "      <td>Green</td>\n",
       "      <td>1</td>\n",
       "      <td>1</td>\n",
       "      <td>Healthcare</td>\n",
       "      <td>0.0</td>\n",
       "      <td>1</td>\n",
       "      <td>0</td>\n",
       "      <td>Red</td>\n",
       "      <td>0</td>\n",
       "      <td>ByBirth</td>\n",
       "      <td>1</td>\n",
       "      <td>0</td>\n",
       "    </tr>\n",
       "    <tr>\n",
       "      <th>513</th>\n",
       "      <td>youth</td>\n",
       "      <td>Yellow</td>\n",
       "      <td>1</td>\n",
       "      <td>1</td>\n",
       "      <td>Education</td>\n",
       "      <td>0.0</td>\n",
       "      <td>0</td>\n",
       "      <td>0</td>\n",
       "      <td>Red</td>\n",
       "      <td>0</td>\n",
       "      <td>ByBirth</td>\n",
       "      <td>0</td>\n",
       "      <td>1</td>\n",
       "    </tr>\n",
       "  </tbody>\n",
       "</table>\n",
       "</div>"
      ],
      "text/plain": [
       "         Age    Debt  Married  BankCustomer    Industry  YearsEmployed  \\\n",
       "278    youth  Orange        0             0  Healthcare            0.0   \n",
       "89   midLife   Green        1             1    Research            0.0   \n",
       "601  midLife   Green        0             0      Energy            0.0   \n",
       "447    youth   Green        1             1  Healthcare            0.0   \n",
       "513    youth  Yellow        1             1   Education            0.0   \n",
       "\n",
       "     PriorDefault  Employed CreditScore  DriversLicense  Citizen  Income  \\\n",
       "278             1         0         Red               0  ByBirth       0   \n",
       "89              0         0         Red               1  ByBirth      27   \n",
       "601             1         0         Red               1  ByBirth       1   \n",
       "447             1         0         Red               0  ByBirth       1   \n",
       "513             0         0         Red               0  ByBirth       0   \n",
       "\n",
       "     Approved  \n",
       "278         0  \n",
       "89          0  \n",
       "601         0  \n",
       "447         0  \n",
       "513         1  "
      ]
     },
     "execution_count": 26,
     "metadata": {},
     "output_type": "execute_result"
    }
   ],
   "source": [
    "data[data['YearsEmployed']==0].head()"
   ]
  },
  {
   "cell_type": "code",
   "execution_count": 27,
   "id": "f871fdaf",
   "metadata": {
    "execution": {
     "iopub.execute_input": "2022-07-08T05:00:28.347409Z",
     "iopub.status.busy": "2022-07-08T05:00:28.347095Z",
     "iopub.status.idle": "2022-07-08T05:00:28.363445Z",
     "shell.execute_reply": "2022-07-08T05:00:28.362639Z"
    },
    "papermill": {
     "duration": 0.21698,
     "end_time": "2022-07-08T05:00:28.365544",
     "exception": false,
     "start_time": "2022-07-08T05:00:28.148564",
     "status": "completed"
    },
    "tags": []
   },
   "outputs": [
    {
     "data": {
      "text/html": [
       "<div>\n",
       "<style scoped>\n",
       "    .dataframe tbody tr th:only-of-type {\n",
       "        vertical-align: middle;\n",
       "    }\n",
       "\n",
       "    .dataframe tbody tr th {\n",
       "        vertical-align: top;\n",
       "    }\n",
       "\n",
       "    .dataframe thead th {\n",
       "        text-align: right;\n",
       "    }\n",
       "</style>\n",
       "<table border=\"1\" class=\"dataframe\">\n",
       "  <thead>\n",
       "    <tr style=\"text-align: right;\">\n",
       "      <th></th>\n",
       "      <th>Age</th>\n",
       "      <th>Debt</th>\n",
       "      <th>Married</th>\n",
       "      <th>BankCustomer</th>\n",
       "      <th>Industry</th>\n",
       "      <th>YearsEmployed</th>\n",
       "      <th>PriorDefault</th>\n",
       "      <th>Employed</th>\n",
       "      <th>CreditScore</th>\n",
       "      <th>DriversLicense</th>\n",
       "      <th>Citizen</th>\n",
       "      <th>Income</th>\n",
       "      <th>Approved</th>\n",
       "    </tr>\n",
       "  </thead>\n",
       "  <tbody>\n",
       "    <tr>\n",
       "      <th>278</th>\n",
       "      <td>youth</td>\n",
       "      <td>Orange</td>\n",
       "      <td>0</td>\n",
       "      <td>0</td>\n",
       "      <td>Healthcare</td>\n",
       "      <td>0.000</td>\n",
       "      <td>1</td>\n",
       "      <td>0</td>\n",
       "      <td>Red</td>\n",
       "      <td>0</td>\n",
       "      <td>ByBirth</td>\n",
       "      <td>0</td>\n",
       "      <td>0</td>\n",
       "    </tr>\n",
       "    <tr>\n",
       "      <th>110</th>\n",
       "      <td>youth</td>\n",
       "      <td>Green</td>\n",
       "      <td>1</td>\n",
       "      <td>1</td>\n",
       "      <td>Industrials</td>\n",
       "      <td>3.500</td>\n",
       "      <td>0</td>\n",
       "      <td>1</td>\n",
       "      <td>Red</td>\n",
       "      <td>1</td>\n",
       "      <td>ByBirth</td>\n",
       "      <td>0</td>\n",
       "      <td>0</td>\n",
       "    </tr>\n",
       "    <tr>\n",
       "      <th>82</th>\n",
       "      <td>youthWithResponsibility</td>\n",
       "      <td>Green</td>\n",
       "      <td>1</td>\n",
       "      <td>1</td>\n",
       "      <td>CommunicationServices</td>\n",
       "      <td>0.250</td>\n",
       "      <td>0</td>\n",
       "      <td>0</td>\n",
       "      <td>Red</td>\n",
       "      <td>0</td>\n",
       "      <td>ByOtherMeans</td>\n",
       "      <td>0</td>\n",
       "      <td>0</td>\n",
       "    </tr>\n",
       "    <tr>\n",
       "      <th>51</th>\n",
       "      <td>youth</td>\n",
       "      <td>Green</td>\n",
       "      <td>1</td>\n",
       "      <td>1</td>\n",
       "      <td>Materials</td>\n",
       "      <td>1.750</td>\n",
       "      <td>0</td>\n",
       "      <td>0</td>\n",
       "      <td>Red</td>\n",
       "      <td>1</td>\n",
       "      <td>ByBirth</td>\n",
       "      <td>0</td>\n",
       "      <td>1</td>\n",
       "    </tr>\n",
       "    <tr>\n",
       "      <th>218</th>\n",
       "      <td>midLife</td>\n",
       "      <td>Yellow</td>\n",
       "      <td>1</td>\n",
       "      <td>1</td>\n",
       "      <td>Education</td>\n",
       "      <td>8.665</td>\n",
       "      <td>0</td>\n",
       "      <td>1</td>\n",
       "      <td>Yellow</td>\n",
       "      <td>0</td>\n",
       "      <td>ByBirth</td>\n",
       "      <td>0</td>\n",
       "      <td>1</td>\n",
       "    </tr>\n",
       "  </tbody>\n",
       "</table>\n",
       "</div>"
      ],
      "text/plain": [
       "                         Age    Debt  Married  BankCustomer  \\\n",
       "278                    youth  Orange        0             0   \n",
       "110                    youth   Green        1             1   \n",
       "82   youthWithResponsibility   Green        1             1   \n",
       "51                     youth   Green        1             1   \n",
       "218                  midLife  Yellow        1             1   \n",
       "\n",
       "                  Industry  YearsEmployed  PriorDefault  Employed CreditScore  \\\n",
       "278             Healthcare          0.000             1         0         Red   \n",
       "110            Industrials          3.500             0         1         Red   \n",
       "82   CommunicationServices          0.250             0         0         Red   \n",
       "51               Materials          1.750             0         0         Red   \n",
       "218              Education          8.665             0         1      Yellow   \n",
       "\n",
       "     DriversLicense       Citizen  Income  Approved  \n",
       "278               0       ByBirth       0         0  \n",
       "110               1       ByBirth       0         0  \n",
       "82                0  ByOtherMeans       0         0  \n",
       "51                1       ByBirth       0         1  \n",
       "218               0       ByBirth       0         1  "
      ]
     },
     "execution_count": 27,
     "metadata": {},
     "output_type": "execute_result"
    }
   ],
   "source": [
    "data[data['Income']==0].head()"
   ]
  },
  {
   "cell_type": "code",
   "execution_count": 28,
   "id": "4528edb9",
   "metadata": {
    "execution": {
     "iopub.execute_input": "2022-07-08T05:00:28.826491Z",
     "iopub.status.busy": "2022-07-08T05:00:28.826166Z",
     "iopub.status.idle": "2022-07-08T05:00:28.835178Z",
     "shell.execute_reply": "2022-07-08T05:00:28.834271Z"
    },
    "papermill": {
     "duration": 0.275482,
     "end_time": "2022-07-08T05:00:28.838119",
     "exception": false,
     "start_time": "2022-07-08T05:00:28.562637",
     "status": "completed"
    },
    "tags": []
   },
   "outputs": [
    {
     "data": {
      "text/plain": [
       "0    136\n",
       "1     46\n",
       "Name: Approved, dtype: int64"
      ]
     },
     "execution_count": 28,
     "metadata": {},
     "output_type": "execute_result"
    }
   ],
   "source": [
    "data[(data['Income']==0) & (data['Employed']==0)]['Approved'].value_counts()"
   ]
  },
  {
   "cell_type": "code",
   "execution_count": 29,
   "id": "b3a95b49",
   "metadata": {
    "execution": {
     "iopub.execute_input": "2022-07-08T05:00:29.239360Z",
     "iopub.status.busy": "2022-07-08T05:00:29.239024Z",
     "iopub.status.idle": "2022-07-08T05:00:29.252881Z",
     "shell.execute_reply": "2022-07-08T05:00:29.252159Z"
    },
    "papermill": {
     "duration": 0.218154,
     "end_time": "2022-07-08T05:00:29.255102",
     "exception": false,
     "start_time": "2022-07-08T05:00:29.036948",
     "status": "completed"
    },
    "tags": []
   },
   "outputs": [
    {
     "data": {
      "text/plain": [
       "0.000     25\n",
       "0.250     16\n",
       "0.500     13\n",
       "0.085     12\n",
       "0.125      9\n",
       "0.040      7\n",
       "3.000      7\n",
       "0.165      6\n",
       "1.500      6\n",
       "1.000      6\n",
       "3.500      5\n",
       "1.165      4\n",
       "0.835      4\n",
       "0.750      4\n",
       "2.500      3\n",
       "1.250      3\n",
       "0.875      3\n",
       "1.750      3\n",
       "2.250      2\n",
       "0.665      2\n",
       "4.000      2\n",
       "0.415      2\n",
       "2.415      2\n",
       "0.540      2\n",
       "5.000      2\n",
       "5.750      2\n",
       "2.000      2\n",
       "8.500      2\n",
       "10.000     1\n",
       "6.500      1\n",
       "5.125      1\n",
       "12.750     1\n",
       "0.210      1\n",
       "1.710      1\n",
       "1.585      1\n",
       "11.000     1\n",
       "2.085      1\n",
       "3.085      1\n",
       "3.250      1\n",
       "5.250      1\n",
       "7.000      1\n",
       "0.455      1\n",
       "10.750     1\n",
       "15.000     1\n",
       "1.375      1\n",
       "1.335      1\n",
       "7.500      1\n",
       "2.585      1\n",
       "4.500      1\n",
       "8.290      1\n",
       "4.250      1\n",
       "4.580      1\n",
       "0.290      1\n",
       "12.500     1\n",
       "Name: YearsEmployed, dtype: int64"
      ]
     },
     "execution_count": 29,
     "metadata": {},
     "output_type": "execute_result"
    }
   ],
   "source": [
    "data[(data['Income']==0) & (data['Employed']==0)]['YearsEmployed'].value_counts()"
   ]
  },
  {
   "cell_type": "code",
   "execution_count": 30,
   "id": "5bdd1c95",
   "metadata": {
    "execution": {
     "iopub.execute_input": "2022-07-08T05:00:29.660132Z",
     "iopub.status.busy": "2022-07-08T05:00:29.659672Z",
     "iopub.status.idle": "2022-07-08T05:00:29.667666Z",
     "shell.execute_reply": "2022-07-08T05:00:29.666987Z"
    },
    "papermill": {
     "duration": 0.212537,
     "end_time": "2022-07-08T05:00:29.669548",
     "exception": false,
     "start_time": "2022-07-08T05:00:29.457011",
     "status": "completed"
    },
    "tags": []
   },
   "outputs": [
    {
     "data": {
      "text/plain": [
       "0         25\n",
       "1          5\n",
       "27         2\n",
       "50         1\n",
       "5200       1\n",
       "1000       1\n",
       "32         1\n",
       "13212      1\n",
       "20         1\n",
       "200        1\n",
       "60         1\n",
       "1110       1\n",
       "100000     1\n",
       "12         1\n",
       "Name: Income, dtype: int64"
      ]
     },
     "execution_count": 30,
     "metadata": {},
     "output_type": "execute_result"
    }
   ],
   "source": [
    "data[(data['YearsEmployed']==0) & (data['Employed']==0)]['Income'].value_counts()"
   ]
  },
  {
   "cell_type": "markdown",
   "id": "27c10d14",
   "metadata": {
    "papermill": {
     "duration": 0.20089,
     "end_time": "2022-07-08T05:00:30.070820",
     "exception": false,
     "start_time": "2022-07-08T05:00:29.869930",
     "status": "completed"
    },
    "tags": []
   },
   "source": [
    ">There is no such relationship between *YearsEmployed*, *Employed*, and *Income* and that might be precisely because not employed also means self-employed/business/enterpreneurship."
   ]
  },
  {
   "cell_type": "code",
   "execution_count": 31,
   "id": "eac51126",
   "metadata": {
    "execution": {
     "iopub.execute_input": "2022-07-08T05:00:30.480700Z",
     "iopub.status.busy": "2022-07-08T05:00:30.480287Z",
     "iopub.status.idle": "2022-07-08T05:00:30.500397Z",
     "shell.execute_reply": "2022-07-08T05:00:30.499299Z"
    },
    "papermill": {
     "duration": 0.226594,
     "end_time": "2022-07-08T05:00:30.502571",
     "exception": false,
     "start_time": "2022-07-08T05:00:30.275977",
     "status": "completed"
    },
    "tags": []
   },
   "outputs": [
    {
     "data": {
      "text/html": [
       "<div>\n",
       "<style scoped>\n",
       "    .dataframe tbody tr th:only-of-type {\n",
       "        vertical-align: middle;\n",
       "    }\n",
       "\n",
       "    .dataframe tbody tr th {\n",
       "        vertical-align: top;\n",
       "    }\n",
       "\n",
       "    .dataframe thead th {\n",
       "        text-align: right;\n",
       "    }\n",
       "</style>\n",
       "<table border=\"1\" class=\"dataframe\">\n",
       "  <thead>\n",
       "    <tr style=\"text-align: right;\">\n",
       "      <th></th>\n",
       "      <th>count</th>\n",
       "      <th>mean</th>\n",
       "      <th>std</th>\n",
       "      <th>min</th>\n",
       "      <th>25%</th>\n",
       "      <th>50%</th>\n",
       "      <th>75%</th>\n",
       "      <th>max</th>\n",
       "    </tr>\n",
       "  </thead>\n",
       "  <tbody>\n",
       "    <tr>\n",
       "      <th>YearsEmployed</th>\n",
       "      <td>552.0</td>\n",
       "      <td>2.048134</td>\n",
       "      <td>2.923399</td>\n",
       "      <td>0.0</td>\n",
       "      <td>0.165</td>\n",
       "      <td>1.0</td>\n",
       "      <td>2.55125</td>\n",
       "      <td>20.0</td>\n",
       "    </tr>\n",
       "    <tr>\n",
       "      <th>Income</th>\n",
       "      <td>552.0</td>\n",
       "      <td>920.070652</td>\n",
       "      <td>4787.304994</td>\n",
       "      <td>0.0</td>\n",
       "      <td>0.000</td>\n",
       "      <td>5.0</td>\n",
       "      <td>400.00000</td>\n",
       "      <td>100000.0</td>\n",
       "    </tr>\n",
       "  </tbody>\n",
       "</table>\n",
       "</div>"
      ],
      "text/plain": [
       "               count        mean          std  min    25%  50%        75%  \\\n",
       "YearsEmployed  552.0    2.048134     2.923399  0.0  0.165  1.0    2.55125   \n",
       "Income         552.0  920.070652  4787.304994  0.0  0.000  5.0  400.00000   \n",
       "\n",
       "                    max  \n",
       "YearsEmployed      20.0  \n",
       "Income         100000.0  "
      ]
     },
     "execution_count": 31,
     "metadata": {},
     "output_type": "execute_result"
    }
   ],
   "source": [
    "data[['YearsEmployed', 'Income']].describe().T"
   ]
  },
  {
   "cell_type": "code",
   "execution_count": 32,
   "id": "5487c2ee",
   "metadata": {
    "execution": {
     "iopub.execute_input": "2022-07-08T05:00:30.907969Z",
     "iopub.status.busy": "2022-07-08T05:00:30.907421Z",
     "iopub.status.idle": "2022-07-08T05:00:30.916019Z",
     "shell.execute_reply": "2022-07-08T05:00:30.914928Z"
    },
    "papermill": {
     "duration": 0.215212,
     "end_time": "2022-07-08T05:00:30.918031",
     "exception": false,
     "start_time": "2022-07-08T05:00:30.702819",
     "status": "completed"
    },
    "tags": []
   },
   "outputs": [
    {
     "data": {
      "text/plain": [
       "0.000     59\n",
       "0.250     32\n",
       "0.125     26\n",
       "0.040     26\n",
       "1.000     25\n",
       "          ..\n",
       "1.875      1\n",
       "3.125      1\n",
       "9.000      1\n",
       "6.750      1\n",
       "13.000     1\n",
       "Name: YearsEmployed, Length: 117, dtype: int64"
      ]
     },
     "execution_count": 32,
     "metadata": {},
     "output_type": "execute_result"
    }
   ],
   "source": [
    "data['YearsEmployed'].value_counts()"
   ]
  },
  {
   "cell_type": "code",
   "execution_count": 33,
   "id": "a1e166c5",
   "metadata": {
    "execution": {
     "iopub.execute_input": "2022-07-08T05:00:31.320500Z",
     "iopub.status.busy": "2022-07-08T05:00:31.319944Z",
     "iopub.status.idle": "2022-07-08T05:00:31.450644Z",
     "shell.execute_reply": "2022-07-08T05:00:31.449653Z"
    },
    "papermill": {
     "duration": 0.334984,
     "end_time": "2022-07-08T05:00:31.453391",
     "exception": false,
     "start_time": "2022-07-08T05:00:31.118407",
     "status": "completed"
    },
    "tags": []
   },
   "outputs": [
    {
     "data": {
      "image/png": "[encoded data removed]",
      "text/plain": [
       "<Figure size 720x504 with 1 Axes>"
      ]
     },
     "metadata": {
      "needs_background": "light"
     },
     "output_type": "display_data"
    }
   ],
   "source": [
    "plt.figure(figsize = (10,7));\n",
    "sns.boxplot(data['YearsEmployed']);\n",
    "plt.title(f\"YearsEmployed Boxplot\",fontsize=16);\n",
    "plt.xlabel(f'YearsEmployed',fontsize=14)\n",
    "xmax = max(data['YearsEmployed'])\n",
    "xmin = min(data['YearsEmployed'])\n",
    "plt.xlim([xmin,xmax]);"
   ]
  },
  {
   "cell_type": "code",
   "execution_count": 34,
   "id": "11621b2c",
   "metadata": {
    "execution": {
     "iopub.execute_input": "2022-07-08T05:00:31.865359Z",
     "iopub.status.busy": "2022-07-08T05:00:31.865023Z",
     "iopub.status.idle": "2022-07-08T05:00:31.872625Z",
     "shell.execute_reply": "2022-07-08T05:00:31.872010Z"
    },
    "papermill": {
     "duration": 0.217595,
     "end_time": "2022-07-08T05:00:31.874401",
     "exception": false,
     "start_time": "2022-07-08T05:00:31.656806",
     "status": "completed"
    },
    "tags": []
   },
   "outputs": [
    {
     "data": {
      "text/plain": [
       "0       231\n",
       "1        21\n",
       "2         8\n",
       "500       8\n",
       "5         7\n",
       "       ... \n",
       "2510      1\n",
       "53        1\n",
       "2803      1\n",
       "245       1\n",
       "38        1\n",
       "Name: Income, Length: 205, dtype: int64"
      ]
     },
     "execution_count": 34,
     "metadata": {},
     "output_type": "execute_result"
    }
   ],
   "source": [
    "data['Income'].value_counts()"
   ]
  },
  {
   "cell_type": "markdown",
   "id": "b2e8f00b",
   "metadata": {
    "papermill": {
     "duration": 0.200596,
     "end_time": "2022-07-08T05:00:32.280487",
     "exception": false,
     "start_time": "2022-07-08T05:00:32.079891",
     "status": "completed"
    },
    "tags": []
   },
   "source": [
    "### Fixing *YearsEmployed* column"
   ]
  },
  {
   "cell_type": "code",
   "execution_count": 35,
   "id": "c7d9b316",
   "metadata": {
    "execution": {
     "iopub.execute_input": "2022-07-08T05:00:32.693281Z",
     "iopub.status.busy": "2022-07-08T05:00:32.692963Z",
     "iopub.status.idle": "2022-07-08T05:00:32.911488Z",
     "shell.execute_reply": "2022-07-08T05:00:32.910498Z"
    },
    "papermill": {
     "duration": 0.429391,
     "end_time": "2022-07-08T05:00:32.914596",
     "exception": false,
     "start_time": "2022-07-08T05:00:32.485205",
     "status": "completed"
    },
    "tags": []
   },
   "outputs": [
    {
     "data": {
      "text/html": [
       "<div>\n",
       "<style scoped>\n",
       "    .dataframe tbody tr th:only-of-type {\n",
       "        vertical-align: middle;\n",
       "    }\n",
       "\n",
       "    .dataframe tbody tr th {\n",
       "        vertical-align: top;\n",
       "    }\n",
       "\n",
       "    .dataframe thead th {\n",
       "        text-align: right;\n",
       "    }\n",
       "</style>\n",
       "<table border=\"1\" class=\"dataframe\">\n",
       "  <thead>\n",
       "    <tr style=\"text-align: right;\">\n",
       "      <th></th>\n",
       "      <th>Age</th>\n",
       "      <th>Debt</th>\n",
       "      <th>Married</th>\n",
       "      <th>BankCustomer</th>\n",
       "      <th>Industry</th>\n",
       "      <th>YearsEmployed</th>\n",
       "      <th>PriorDefault</th>\n",
       "      <th>Employed</th>\n",
       "      <th>CreditScore</th>\n",
       "      <th>DriversLicense</th>\n",
       "      <th>Citizen</th>\n",
       "      <th>Income</th>\n",
       "      <th>Approved</th>\n",
       "    </tr>\n",
       "  </thead>\n",
       "  <tbody>\n",
       "    <tr>\n",
       "      <th>278</th>\n",
       "      <td>youth</td>\n",
       "      <td>Orange</td>\n",
       "      <td>0</td>\n",
       "      <td>0</td>\n",
       "      <td>Healthcare</td>\n",
       "      <td>Fresher</td>\n",
       "      <td>1</td>\n",
       "      <td>0</td>\n",
       "      <td>Red</td>\n",
       "      <td>0</td>\n",
       "      <td>ByBirth</td>\n",
       "      <td>0</td>\n",
       "      <td>0</td>\n",
       "    </tr>\n",
       "    <tr>\n",
       "      <th>110</th>\n",
       "      <td>youth</td>\n",
       "      <td>Green</td>\n",
       "      <td>1</td>\n",
       "      <td>1</td>\n",
       "      <td>Industrials</td>\n",
       "      <td>Expert</td>\n",
       "      <td>0</td>\n",
       "      <td>1</td>\n",
       "      <td>Red</td>\n",
       "      <td>1</td>\n",
       "      <td>ByBirth</td>\n",
       "      <td>0</td>\n",
       "      <td>0</td>\n",
       "    </tr>\n",
       "    <tr>\n",
       "      <th>82</th>\n",
       "      <td>youthWithResponsibility</td>\n",
       "      <td>Green</td>\n",
       "      <td>1</td>\n",
       "      <td>1</td>\n",
       "      <td>CommunicationServices</td>\n",
       "      <td>Fresher</td>\n",
       "      <td>0</td>\n",
       "      <td>0</td>\n",
       "      <td>Red</td>\n",
       "      <td>0</td>\n",
       "      <td>ByOtherMeans</td>\n",
       "      <td>0</td>\n",
       "      <td>0</td>\n",
       "    </tr>\n",
       "    <tr>\n",
       "      <th>51</th>\n",
       "      <td>youth</td>\n",
       "      <td>Green</td>\n",
       "      <td>1</td>\n",
       "      <td>1</td>\n",
       "      <td>Materials</td>\n",
       "      <td>Experienced</td>\n",
       "      <td>0</td>\n",
       "      <td>0</td>\n",
       "      <td>Red</td>\n",
       "      <td>1</td>\n",
       "      <td>ByBirth</td>\n",
       "      <td>0</td>\n",
       "      <td>1</td>\n",
       "    </tr>\n",
       "    <tr>\n",
       "      <th>218</th>\n",
       "      <td>midLife</td>\n",
       "      <td>Yellow</td>\n",
       "      <td>1</td>\n",
       "      <td>1</td>\n",
       "      <td>Education</td>\n",
       "      <td>Expert</td>\n",
       "      <td>0</td>\n",
       "      <td>1</td>\n",
       "      <td>Yellow</td>\n",
       "      <td>0</td>\n",
       "      <td>ByBirth</td>\n",
       "      <td>0</td>\n",
       "      <td>1</td>\n",
       "    </tr>\n",
       "  </tbody>\n",
       "</table>\n",
       "</div>"
      ],
      "text/plain": [
       "                         Age    Debt  Married  BankCustomer  \\\n",
       "278                    youth  Orange        0             0   \n",
       "110                    youth   Green        1             1   \n",
       "82   youthWithResponsibility   Green        1             1   \n",
       "51                     youth   Green        1             1   \n",
       "218                  midLife  Yellow        1             1   \n",
       "\n",
       "                  Industry YearsEmployed  PriorDefault  Employed CreditScore  \\\n",
       "278             Healthcare       Fresher             1         0         Red   \n",
       "110            Industrials        Expert             0         1         Red   \n",
       "82   CommunicationServices       Fresher             0         0         Red   \n",
       "51               Materials   Experienced             0         0         Red   \n",
       "218              Education        Expert             0         1      Yellow   \n",
       "\n",
       "     DriversLicense       Citizen  Income  Approved  \n",
       "278               0       ByBirth       0         0  \n",
       "110               1       ByBirth       0         0  \n",
       "82                0  ByOtherMeans       0         0  \n",
       "51                1       ByBirth       0         1  \n",
       "218               0       ByBirth       0         1  "
      ]
     },
     "execution_count": 35,
     "metadata": {},
     "output_type": "execute_result"
    }
   ],
   "source": [
    "for idx, row in data.iterrows():\n",
    "    \n",
    "    if data.loc[idx, 'YearsEmployed']>=0 and data.loc[idx, 'YearsEmployed']<0.5:\n",
    "        data.loc[idx, 'YearsEmployed'] = 'Fresher'\n",
    "    \n",
    "    elif data.loc[idx, 'YearsEmployed']>=0.5 and data.loc[idx, 'YearsEmployed']<2.56:\n",
    "        data.loc[idx, 'YearsEmployed'] = 'Experienced'\n",
    "    \n",
    "    elif data.loc[idx, 'YearsEmployed']>=2.56:\n",
    "        data.loc[idx, 'YearsEmployed'] = 'Expert'\n",
    "        # According to distribution statistics\n",
    "        \n",
    "data.head()"
   ]
  },
  {
   "cell_type": "markdown",
   "id": "5cf8873b",
   "metadata": {
    "papermill": {
     "duration": 0.203172,
     "end_time": "2022-07-08T05:00:33.326160",
     "exception": false,
     "start_time": "2022-07-08T05:00:33.122988",
     "status": "completed"
    },
    "tags": []
   },
   "source": [
    "### Fixing *Income* column"
   ]
  },
  {
   "cell_type": "code",
   "execution_count": 36,
   "id": "232d860a",
   "metadata": {
    "execution": {
     "iopub.execute_input": "2022-07-08T05:00:33.738953Z",
     "iopub.status.busy": "2022-07-08T05:00:33.737979Z",
     "iopub.status.idle": "2022-07-08T05:00:33.746734Z",
     "shell.execute_reply": "2022-07-08T05:00:33.745932Z"
    },
    "papermill": {
     "duration": 0.215796,
     "end_time": "2022-07-08T05:00:33.748701",
     "exception": false,
     "start_time": "2022-07-08T05:00:33.532905",
     "status": "completed"
    },
    "tags": []
   },
   "outputs": [
    {
     "data": {
      "text/plain": [
       "0       231\n",
       "1        21\n",
       "2         8\n",
       "500       8\n",
       "5         7\n",
       "       ... \n",
       "2510      1\n",
       "53        1\n",
       "2803      1\n",
       "245       1\n",
       "38        1\n",
       "Name: Income, Length: 205, dtype: int64"
      ]
     },
     "execution_count": 36,
     "metadata": {},
     "output_type": "execute_result"
    }
   ],
   "source": [
    "data['Income'].value_counts()"
   ]
  },
  {
   "cell_type": "code",
   "execution_count": 37,
   "id": "70060e1a",
   "metadata": {
    "execution": {
     "iopub.execute_input": "2022-07-08T05:00:34.159310Z",
     "iopub.status.busy": "2022-07-08T05:00:34.158982Z",
     "iopub.status.idle": "2022-07-08T05:00:34.167728Z",
     "shell.execute_reply": "2022-07-08T05:00:34.166876Z"
    },
    "papermill": {
     "duration": 0.217676,
     "end_time": "2022-07-08T05:00:34.169531",
     "exception": false,
     "start_time": "2022-07-08T05:00:33.951855",
     "status": "completed"
    },
    "tags": []
   },
   "outputs": [
    {
     "data": {
      "text/plain": [
       "0.6    51.8\n",
       "Name: Income, dtype: float64"
      ]
     },
     "execution_count": 37,
     "metadata": {},
     "output_type": "execute_result"
    }
   ],
   "source": [
    "# According to statistics, around 60 percentage of society is poor\n",
    "data['Income'].quantile([0.6])"
   ]
  },
  {
   "cell_type": "code",
   "execution_count": 38,
   "id": "47d923e0",
   "metadata": {
    "execution": {
     "iopub.execute_input": "2022-07-08T05:00:34.579843Z",
     "iopub.status.busy": "2022-07-08T05:00:34.579571Z",
     "iopub.status.idle": "2022-07-08T05:00:34.588353Z",
     "shell.execute_reply": "2022-07-08T05:00:34.587346Z"
    },
    "papermill": {
     "duration": 0.217182,
     "end_time": "2022-07-08T05:00:34.590211",
     "exception": false,
     "start_time": "2022-07-08T05:00:34.373029",
     "status": "completed"
    },
    "tags": []
   },
   "outputs": [
    {
     "data": {
      "text/plain": [
       "0.9    2000.0\n",
       "Name: Income, dtype: float64"
      ]
     },
     "execution_count": 38,
     "metadata": {},
     "output_type": "execute_result"
    }
   ],
   "source": [
    "# According to statistics, around 30 percentage of society is middle class\n",
    "# 60+30=90\n",
    "data['Income'].quantile([0.9]) "
   ]
  },
  {
   "cell_type": "markdown",
   "id": "ecf68bf9",
   "metadata": {
    "execution": {
     "iopub.execute_input": "2022-05-30T04:50:16.187505Z",
     "iopub.status.busy": "2022-05-30T04:50:16.187157Z",
     "iopub.status.idle": "2022-05-30T04:50:16.202031Z",
     "shell.execute_reply": "2022-05-30T04:50:16.201373Z",
     "shell.execute_reply.started": "2022-05-30T04:50:16.187476Z"
    },
    "papermill": {
     "duration": 0.206678,
     "end_time": "2022-07-08T05:00:35.000816",
     "exception": false,
     "start_time": "2022-07-08T05:00:34.794138",
     "status": "completed"
    },
    "tags": []
   },
   "source": [
    "The rest are rich"
   ]
  },
  {
   "cell_type": "code",
   "execution_count": 39,
   "id": "d732f765",
   "metadata": {
    "execution": {
     "iopub.execute_input": "2022-07-08T05:00:35.419667Z",
     "iopub.status.busy": "2022-07-08T05:00:35.418894Z",
     "iopub.status.idle": "2022-07-08T05:00:35.631043Z",
     "shell.execute_reply": "2022-07-08T05:00:35.630438Z"
    },
    "papermill": {
     "duration": 0.421404,
     "end_time": "2022-07-08T05:00:35.633001",
     "exception": false,
     "start_time": "2022-07-08T05:00:35.211597",
     "status": "completed"
    },
    "tags": []
   },
   "outputs": [
    {
     "data": {
      "text/html": [
       "<div>\n",
       "<style scoped>\n",
       "    .dataframe tbody tr th:only-of-type {\n",
       "        vertical-align: middle;\n",
       "    }\n",
       "\n",
       "    .dataframe tbody tr th {\n",
       "        vertical-align: top;\n",
       "    }\n",
       "\n",
       "    .dataframe thead th {\n",
       "        text-align: right;\n",
       "    }\n",
       "</style>\n",
       "<table border=\"1\" class=\"dataframe\">\n",
       "  <thead>\n",
       "    <tr style=\"text-align: right;\">\n",
       "      <th></th>\n",
       "      <th>Age</th>\n",
       "      <th>Debt</th>\n",
       "      <th>Married</th>\n",
       "      <th>BankCustomer</th>\n",
       "      <th>Industry</th>\n",
       "      <th>YearsEmployed</th>\n",
       "      <th>PriorDefault</th>\n",
       "      <th>Employed</th>\n",
       "      <th>CreditScore</th>\n",
       "      <th>DriversLicense</th>\n",
       "      <th>Citizen</th>\n",
       "      <th>Income</th>\n",
       "      <th>Approved</th>\n",
       "    </tr>\n",
       "  </thead>\n",
       "  <tbody>\n",
       "    <tr>\n",
       "      <th>278</th>\n",
       "      <td>youth</td>\n",
       "      <td>Orange</td>\n",
       "      <td>0</td>\n",
       "      <td>0</td>\n",
       "      <td>Healthcare</td>\n",
       "      <td>Fresher</td>\n",
       "      <td>1</td>\n",
       "      <td>0</td>\n",
       "      <td>Red</td>\n",
       "      <td>0</td>\n",
       "      <td>ByBirth</td>\n",
       "      <td>Poor</td>\n",
       "      <td>0</td>\n",
       "    </tr>\n",
       "    <tr>\n",
       "      <th>110</th>\n",
       "      <td>youth</td>\n",
       "      <td>Green</td>\n",
       "      <td>1</td>\n",
       "      <td>1</td>\n",
       "      <td>Industrials</td>\n",
       "      <td>Expert</td>\n",
       "      <td>0</td>\n",
       "      <td>1</td>\n",
       "      <td>Red</td>\n",
       "      <td>1</td>\n",
       "      <td>ByBirth</td>\n",
       "      <td>Poor</td>\n",
       "      <td>0</td>\n",
       "    </tr>\n",
       "    <tr>\n",
       "      <th>82</th>\n",
       "      <td>youthWithResponsibility</td>\n",
       "      <td>Green</td>\n",
       "      <td>1</td>\n",
       "      <td>1</td>\n",
       "      <td>CommunicationServices</td>\n",
       "      <td>Fresher</td>\n",
       "      <td>0</td>\n",
       "      <td>0</td>\n",
       "      <td>Red</td>\n",
       "      <td>0</td>\n",
       "      <td>ByOtherMeans</td>\n",
       "      <td>Poor</td>\n",
       "      <td>0</td>\n",
       "    </tr>\n",
       "    <tr>\n",
       "      <th>51</th>\n",
       "      <td>youth</td>\n",
       "      <td>Green</td>\n",
       "      <td>1</td>\n",
       "      <td>1</td>\n",
       "      <td>Materials</td>\n",
       "      <td>Experienced</td>\n",
       "      <td>0</td>\n",
       "      <td>0</td>\n",
       "      <td>Red</td>\n",
       "      <td>1</td>\n",
       "      <td>ByBirth</td>\n",
       "      <td>Poor</td>\n",
       "      <td>1</td>\n",
       "    </tr>\n",
       "    <tr>\n",
       "      <th>218</th>\n",
       "      <td>midLife</td>\n",
       "      <td>Yellow</td>\n",
       "      <td>1</td>\n",
       "      <td>1</td>\n",
       "      <td>Education</td>\n",
       "      <td>Expert</td>\n",
       "      <td>0</td>\n",
       "      <td>1</td>\n",
       "      <td>Yellow</td>\n",
       "      <td>0</td>\n",
       "      <td>ByBirth</td>\n",
       "      <td>Poor</td>\n",
       "      <td>1</td>\n",
       "    </tr>\n",
       "  </tbody>\n",
       "</table>\n",
       "</div>"
      ],
      "text/plain": [
       "                         Age    Debt  Married  BankCustomer  \\\n",
       "278                    youth  Orange        0             0   \n",
       "110                    youth   Green        1             1   \n",
       "82   youthWithResponsibility   Green        1             1   \n",
       "51                     youth   Green        1             1   \n",
       "218                  midLife  Yellow        1             1   \n",
       "\n",
       "                  Industry YearsEmployed  PriorDefault  Employed CreditScore  \\\n",
       "278             Healthcare       Fresher             1         0         Red   \n",
       "110            Industrials        Expert             0         1         Red   \n",
       "82   CommunicationServices       Fresher             0         0         Red   \n",
       "51               Materials   Experienced             0         0         Red   \n",
       "218              Education        Expert             0         1      Yellow   \n",
       "\n",
       "     DriversLicense       Citizen Income  Approved  \n",
       "278               0       ByBirth   Poor         0  \n",
       "110               1       ByBirth   Poor         0  \n",
       "82                0  ByOtherMeans   Poor         0  \n",
       "51                1       ByBirth   Poor         1  \n",
       "218               0       ByBirth   Poor         1  "
      ]
     },
     "execution_count": 39,
     "metadata": {},
     "output_type": "execute_result"
    }
   ],
   "source": [
    "for idx, row in data.iterrows():\n",
    "    \n",
    "    if data.loc[idx, 'Income']>=0.0 and data.loc[idx, 'Income']<51.8:\n",
    "        data.loc[idx, 'Income'] = 'Poor'\n",
    "    \n",
    "    elif data.loc[idx, 'Income']>=51.8 and data.loc[idx, 'Income']<2000.0:\n",
    "        data.loc[idx, 'Income'] = 'Middle Class'\n",
    "    \n",
    "    elif data.loc[idx, 'Income']>=2000.0:\n",
    "        data.loc[idx, 'Income'] = 'Rich'\n",
    "        # According to distribution statistics\n",
    "        \n",
    "data.head()"
   ]
  },
  {
   "cell_type": "markdown",
   "id": "d35dfa5e",
   "metadata": {
    "papermill": {
     "duration": 0.211201,
     "end_time": "2022-07-08T05:00:36.055823",
     "exception": false,
     "start_time": "2022-07-08T05:00:35.844622",
     "status": "completed"
    },
    "tags": []
   },
   "source": [
    "## FEATURE ENGINEERING"
   ]
  },
  {
   "cell_type": "code",
   "execution_count": 40,
   "id": "9a36e0fb",
   "metadata": {
    "execution": {
     "iopub.execute_input": "2022-07-08T05:00:36.469825Z",
     "iopub.status.busy": "2022-07-08T05:00:36.469277Z",
     "iopub.status.idle": "2022-07-08T05:00:36.485428Z",
     "shell.execute_reply": "2022-07-08T05:00:36.484709Z"
    },
    "papermill": {
     "duration": 0.225282,
     "end_time": "2022-07-08T05:00:36.487466",
     "exception": false,
     "start_time": "2022-07-08T05:00:36.262184",
     "status": "completed"
    },
    "tags": []
   },
   "outputs": [
    {
     "data": {
      "text/html": [
       "<div>\n",
       "<style scoped>\n",
       "    .dataframe tbody tr th:only-of-type {\n",
       "        vertical-align: middle;\n",
       "    }\n",
       "\n",
       "    .dataframe tbody tr th {\n",
       "        vertical-align: top;\n",
       "    }\n",
       "\n",
       "    .dataframe thead th {\n",
       "        text-align: right;\n",
       "    }\n",
       "</style>\n",
       "<table border=\"1\" class=\"dataframe\">\n",
       "  <thead>\n",
       "    <tr style=\"text-align: right;\">\n",
       "      <th></th>\n",
       "      <th>Age</th>\n",
       "      <th>Debt</th>\n",
       "      <th>Married</th>\n",
       "      <th>BankCustomer</th>\n",
       "      <th>Industry</th>\n",
       "      <th>YearsEmployed</th>\n",
       "      <th>PriorDefault</th>\n",
       "      <th>Employed</th>\n",
       "      <th>CreditScore</th>\n",
       "      <th>DriversLicense</th>\n",
       "      <th>Citizen</th>\n",
       "      <th>Income</th>\n",
       "      <th>Approved</th>\n",
       "    </tr>\n",
       "  </thead>\n",
       "  <tbody>\n",
       "    <tr>\n",
       "      <th>602</th>\n",
       "      <td>youth</td>\n",
       "      <td>Green</td>\n",
       "      <td>0</td>\n",
       "      <td>0</td>\n",
       "      <td>Financials</td>\n",
       "      <td>Fresher</td>\n",
       "      <td>1</td>\n",
       "      <td>0</td>\n",
       "      <td>Red</td>\n",
       "      <td>0</td>\n",
       "      <td>ByBirth</td>\n",
       "      <td>Poor</td>\n",
       "      <td>0</td>\n",
       "    </tr>\n",
       "    <tr>\n",
       "      <th>510</th>\n",
       "      <td>youth</td>\n",
       "      <td>Green</td>\n",
       "      <td>0</td>\n",
       "      <td>0</td>\n",
       "      <td>Industrials</td>\n",
       "      <td>Experienced</td>\n",
       "      <td>0</td>\n",
       "      <td>1</td>\n",
       "      <td>Red</td>\n",
       "      <td>1</td>\n",
       "      <td>ByBirth</td>\n",
       "      <td>Middle Class</td>\n",
       "      <td>1</td>\n",
       "    </tr>\n",
       "    <tr>\n",
       "      <th>363</th>\n",
       "      <td>youth</td>\n",
       "      <td>Green</td>\n",
       "      <td>0</td>\n",
       "      <td>0</td>\n",
       "      <td>Financials</td>\n",
       "      <td>Fresher</td>\n",
       "      <td>1</td>\n",
       "      <td>0</td>\n",
       "      <td>Red</td>\n",
       "      <td>0</td>\n",
       "      <td>ByOtherMeans</td>\n",
       "      <td>Poor</td>\n",
       "      <td>0</td>\n",
       "    </tr>\n",
       "    <tr>\n",
       "      <th>116</th>\n",
       "      <td>youthWithResponsibility</td>\n",
       "      <td>Yellow</td>\n",
       "      <td>1</td>\n",
       "      <td>1</td>\n",
       "      <td>Materials</td>\n",
       "      <td>Expert</td>\n",
       "      <td>0</td>\n",
       "      <td>1</td>\n",
       "      <td>Yellow</td>\n",
       "      <td>1</td>\n",
       "      <td>ByBirth</td>\n",
       "      <td>Poor</td>\n",
       "      <td>0</td>\n",
       "    </tr>\n",
       "    <tr>\n",
       "      <th>414</th>\n",
       "      <td>youth</td>\n",
       "      <td>Green</td>\n",
       "      <td>1</td>\n",
       "      <td>1</td>\n",
       "      <td>Financials</td>\n",
       "      <td>Fresher</td>\n",
       "      <td>1</td>\n",
       "      <td>0</td>\n",
       "      <td>Red</td>\n",
       "      <td>1</td>\n",
       "      <td>ByBirth</td>\n",
       "      <td>Middle Class</td>\n",
       "      <td>0</td>\n",
       "    </tr>\n",
       "  </tbody>\n",
       "</table>\n",
       "</div>"
      ],
      "text/plain": [
       "                         Age    Debt  Married  BankCustomer     Industry  \\\n",
       "602                    youth   Green        0             0   Financials   \n",
       "510                    youth   Green        0             0  Industrials   \n",
       "363                    youth   Green        0             0   Financials   \n",
       "116  youthWithResponsibility  Yellow        1             1    Materials   \n",
       "414                    youth   Green        1             1   Financials   \n",
       "\n",
       "    YearsEmployed  PriorDefault  Employed CreditScore  DriversLicense  \\\n",
       "602       Fresher             1         0         Red               0   \n",
       "510   Experienced             0         1         Red               1   \n",
       "363       Fresher             1         0         Red               0   \n",
       "116        Expert             0         1      Yellow               1   \n",
       "414       Fresher             1         0         Red               1   \n",
       "\n",
       "          Citizen        Income  Approved  \n",
       "602       ByBirth          Poor         0  \n",
       "510       ByBirth  Middle Class         1  \n",
       "363  ByOtherMeans          Poor         0  \n",
       "116       ByBirth          Poor         0  \n",
       "414       ByBirth  Middle Class         0  "
      ]
     },
     "execution_count": 40,
     "metadata": {},
     "output_type": "execute_result"
    }
   ],
   "source": [
    "data.sample(5)"
   ]
  },
  {
   "cell_type": "markdown",
   "id": "90e24418",
   "metadata": {
    "papermill": {
     "duration": 0.22479,
     "end_time": "2022-07-08T05:00:36.916686",
     "exception": false,
     "start_time": "2022-07-08T05:00:36.691896",
     "status": "completed"
    },
    "tags": []
   },
   "source": [
    "***Now on, our complete dataset contains only categorical columns***"
   ]
  },
  {
   "cell_type": "markdown",
   "id": "77798e93",
   "metadata": {
    "papermill": {
     "duration": 0.203681,
     "end_time": "2022-07-08T05:00:37.327180",
     "exception": false,
     "start_time": "2022-07-08T05:00:37.123499",
     "status": "completed"
    },
    "tags": []
   },
   "source": [
    "### Nominal categorical data\n",
    "\n",
    "- Married\n",
    "- BankCustomer\n",
    "- PriorDefault\n",
    "- Employed\n",
    "- DriversLicense"
   ]
  },
  {
   "cell_type": "markdown",
   "id": "16cd69c9",
   "metadata": {
    "papermill": {
     "duration": 0.205176,
     "end_time": "2022-07-08T05:00:37.737885",
     "exception": false,
     "start_time": "2022-07-08T05:00:37.532709",
     "status": "completed"
    },
    "tags": []
   },
   "source": [
    "### Ordinal categorical data\n",
    "\n",
    "- Debt\n",
    "- YearsEmployed\n",
    "- CreditScore\n",
    "- Income"
   ]
  },
  {
   "cell_type": "markdown",
   "id": "b5d3bbb4",
   "metadata": {
    "papermill": {
     "duration": 0.205814,
     "end_time": "2022-07-08T05:00:38.155469",
     "exception": false,
     "start_time": "2022-07-08T05:00:37.949655",
     "status": "completed"
    },
    "tags": []
   },
   "source": [
    "### Doubtful Ones\n",
    "\n",
    "- Age\n",
    "- Industry\n",
    "- Citizen"
   ]
  },
  {
   "cell_type": "markdown",
   "id": "812300a3",
   "metadata": {
    "papermill": {
     "duration": 0.205051,
     "end_time": "2022-07-08T05:00:38.564766",
     "exception": false,
     "start_time": "2022-07-08T05:00:38.359715",
     "status": "completed"
    },
    "tags": []
   },
   "source": [
    "***More than 90 percent variance in Citizen column is clearly explained. Hence it has very minimal information gain (less decrease in entropy). So we remove the Citizen column***."
   ]
  },
  {
   "cell_type": "code",
   "execution_count": 41,
   "id": "639ff540",
   "metadata": {
    "execution": {
     "iopub.execute_input": "2022-07-08T05:00:38.975946Z",
     "iopub.status.busy": "2022-07-08T05:00:38.975628Z",
     "iopub.status.idle": "2022-07-08T05:00:38.994938Z",
     "shell.execute_reply": "2022-07-08T05:00:38.994102Z"
    },
    "papermill": {
     "duration": 0.227497,
     "end_time": "2022-07-08T05:00:38.996973",
     "exception": false,
     "start_time": "2022-07-08T05:00:38.769476",
     "status": "completed"
    },
    "tags": []
   },
   "outputs": [
    {
     "data": {
      "text/html": [
       "<div>\n",
       "<style scoped>\n",
       "    .dataframe tbody tr th:only-of-type {\n",
       "        vertical-align: middle;\n",
       "    }\n",
       "\n",
       "    .dataframe tbody tr th {\n",
       "        vertical-align: top;\n",
       "    }\n",
       "\n",
       "    .dataframe thead th {\n",
       "        text-align: right;\n",
       "    }\n",
       "</style>\n",
       "<table border=\"1\" class=\"dataframe\">\n",
       "  <thead>\n",
       "    <tr style=\"text-align: right;\">\n",
       "      <th></th>\n",
       "      <th>Age</th>\n",
       "      <th>Debt</th>\n",
       "      <th>Married</th>\n",
       "      <th>BankCustomer</th>\n",
       "      <th>Industry</th>\n",
       "      <th>YearsEmployed</th>\n",
       "      <th>PriorDefault</th>\n",
       "      <th>Employed</th>\n",
       "      <th>CreditScore</th>\n",
       "      <th>DriversLicense</th>\n",
       "      <th>Income</th>\n",
       "      <th>Approved</th>\n",
       "    </tr>\n",
       "  </thead>\n",
       "  <tbody>\n",
       "    <tr>\n",
       "      <th>420</th>\n",
       "      <td>youthWithResponsibility</td>\n",
       "      <td>Green</td>\n",
       "      <td>1</td>\n",
       "      <td>1</td>\n",
       "      <td>ConsumerDiscretionary</td>\n",
       "      <td>Experienced</td>\n",
       "      <td>1</td>\n",
       "      <td>0</td>\n",
       "      <td>Red</td>\n",
       "      <td>1</td>\n",
       "      <td>Poor</td>\n",
       "      <td>0</td>\n",
       "    </tr>\n",
       "    <tr>\n",
       "      <th>512</th>\n",
       "      <td>midLife</td>\n",
       "      <td>Green</td>\n",
       "      <td>1</td>\n",
       "      <td>1</td>\n",
       "      <td>Energy</td>\n",
       "      <td>Experienced</td>\n",
       "      <td>0</td>\n",
       "      <td>0</td>\n",
       "      <td>Red</td>\n",
       "      <td>0</td>\n",
       "      <td>Poor</td>\n",
       "      <td>1</td>\n",
       "    </tr>\n",
       "    <tr>\n",
       "      <th>80</th>\n",
       "      <td>midLife</td>\n",
       "      <td>Red</td>\n",
       "      <td>1</td>\n",
       "      <td>1</td>\n",
       "      <td>Healthcare</td>\n",
       "      <td>Fresher</td>\n",
       "      <td>0</td>\n",
       "      <td>1</td>\n",
       "      <td>Red</td>\n",
       "      <td>0</td>\n",
       "      <td>Poor</td>\n",
       "      <td>0</td>\n",
       "    </tr>\n",
       "    <tr>\n",
       "      <th>14</th>\n",
       "      <td>midLife</td>\n",
       "      <td>Orange</td>\n",
       "      <td>1</td>\n",
       "      <td>1</td>\n",
       "      <td>Materials</td>\n",
       "      <td>Expert</td>\n",
       "      <td>0</td>\n",
       "      <td>1</td>\n",
       "      <td>Yellow</td>\n",
       "      <td>1</td>\n",
       "      <td>Poor</td>\n",
       "      <td>1</td>\n",
       "    </tr>\n",
       "    <tr>\n",
       "      <th>5</th>\n",
       "      <td>youthWithResponsibility</td>\n",
       "      <td>Green</td>\n",
       "      <td>1</td>\n",
       "      <td>1</td>\n",
       "      <td>CommunicationServices</td>\n",
       "      <td>Experienced</td>\n",
       "      <td>0</td>\n",
       "      <td>0</td>\n",
       "      <td>Red</td>\n",
       "      <td>1</td>\n",
       "      <td>Poor</td>\n",
       "      <td>1</td>\n",
       "    </tr>\n",
       "    <tr>\n",
       "      <th>454</th>\n",
       "      <td>midLife</td>\n",
       "      <td>Green</td>\n",
       "      <td>1</td>\n",
       "      <td>1</td>\n",
       "      <td>Real Estate</td>\n",
       "      <td>Expert</td>\n",
       "      <td>1</td>\n",
       "      <td>0</td>\n",
       "      <td>Red</td>\n",
       "      <td>1</td>\n",
       "      <td>Middle Class</td>\n",
       "      <td>0</td>\n",
       "    </tr>\n",
       "    <tr>\n",
       "      <th>642</th>\n",
       "      <td>youthWithResponsibility</td>\n",
       "      <td>Green</td>\n",
       "      <td>0</td>\n",
       "      <td>0</td>\n",
       "      <td>ConsumerStaples</td>\n",
       "      <td>Expert</td>\n",
       "      <td>1</td>\n",
       "      <td>0</td>\n",
       "      <td>Red</td>\n",
       "      <td>1</td>\n",
       "      <td>Poor</td>\n",
       "      <td>0</td>\n",
       "    </tr>\n",
       "    <tr>\n",
       "      <th>340</th>\n",
       "      <td>youthWithResponsibility</td>\n",
       "      <td>Green</td>\n",
       "      <td>1</td>\n",
       "      <td>1</td>\n",
       "      <td>Energy</td>\n",
       "      <td>Expert</td>\n",
       "      <td>1</td>\n",
       "      <td>0</td>\n",
       "      <td>Red</td>\n",
       "      <td>0</td>\n",
       "      <td>Poor</td>\n",
       "      <td>0</td>\n",
       "    </tr>\n",
       "    <tr>\n",
       "      <th>290</th>\n",
       "      <td>youth</td>\n",
       "      <td>Green</td>\n",
       "      <td>1</td>\n",
       "      <td>1</td>\n",
       "      <td>CommunicationServices</td>\n",
       "      <td>Experienced</td>\n",
       "      <td>1</td>\n",
       "      <td>0</td>\n",
       "      <td>Red</td>\n",
       "      <td>1</td>\n",
       "      <td>Poor</td>\n",
       "      <td>0</td>\n",
       "    </tr>\n",
       "    <tr>\n",
       "      <th>419</th>\n",
       "      <td>youth</td>\n",
       "      <td>Green</td>\n",
       "      <td>0</td>\n",
       "      <td>0</td>\n",
       "      <td>Healthcare</td>\n",
       "      <td>Fresher</td>\n",
       "      <td>1</td>\n",
       "      <td>0</td>\n",
       "      <td>Red</td>\n",
       "      <td>1</td>\n",
       "      <td>Middle Class</td>\n",
       "      <td>0</td>\n",
       "    </tr>\n",
       "  </tbody>\n",
       "</table>\n",
       "</div>"
      ],
      "text/plain": [
       "                         Age    Debt  Married  BankCustomer  \\\n",
       "420  youthWithResponsibility   Green        1             1   \n",
       "512                  midLife   Green        1             1   \n",
       "80                   midLife     Red        1             1   \n",
       "14                   midLife  Orange        1             1   \n",
       "5    youthWithResponsibility   Green        1             1   \n",
       "454                  midLife   Green        1             1   \n",
       "642  youthWithResponsibility   Green        0             0   \n",
       "340  youthWithResponsibility   Green        1             1   \n",
       "290                    youth   Green        1             1   \n",
       "419                    youth   Green        0             0   \n",
       "\n",
       "                  Industry YearsEmployed  PriorDefault  Employed CreditScore  \\\n",
       "420  ConsumerDiscretionary   Experienced             1         0         Red   \n",
       "512                 Energy   Experienced             0         0         Red   \n",
       "80              Healthcare       Fresher             0         1         Red   \n",
       "14               Materials        Expert             0         1      Yellow   \n",
       "5    CommunicationServices   Experienced             0         0         Red   \n",
       "454            Real Estate        Expert             1         0         Red   \n",
       "642        ConsumerStaples        Expert             1         0         Red   \n",
       "340                 Energy        Expert             1         0         Red   \n",
       "290  CommunicationServices   Experienced             1         0         Red   \n",
       "419             Healthcare       Fresher             1         0         Red   \n",
       "\n",
       "     DriversLicense        Income  Approved  \n",
       "420               1          Poor         0  \n",
       "512               0          Poor         1  \n",
       "80                0          Poor         0  \n",
       "14                1          Poor         1  \n",
       "5                 1          Poor         1  \n",
       "454               1  Middle Class         0  \n",
       "642               1          Poor         0  \n",
       "340               0          Poor         0  \n",
       "290               1          Poor         0  \n",
       "419               1  Middle Class         0  "
      ]
     },
     "execution_count": 41,
     "metadata": {},
     "output_type": "execute_result"
    }
   ],
   "source": [
    "data.drop(['Citizen'], axis=1, inplace=True)\n",
    "data.sample(10)"
   ]
  },
  {
   "cell_type": "markdown",
   "id": "cb927221",
   "metadata": {
    "papermill": {
     "duration": 0.204865,
     "end_time": "2022-07-08T05:00:39.411100",
     "exception": false,
     "start_time": "2022-07-08T05:00:39.206235",
     "status": "completed"
    },
    "tags": []
   },
   "source": [
    "### *Age* column hypothesis testing"
   ]
  },
  {
   "cell_type": "code",
   "execution_count": 42,
   "id": "c6df0c96",
   "metadata": {
    "execution": {
     "iopub.execute_input": "2022-07-08T05:00:39.829313Z",
     "iopub.status.busy": "2022-07-08T05:00:39.828636Z",
     "iopub.status.idle": "2022-07-08T05:00:39.838292Z",
     "shell.execute_reply": "2022-07-08T05:00:39.837286Z"
    },
    "papermill": {
     "duration": 0.22129,
     "end_time": "2022-07-08T05:00:39.840395",
     "exception": false,
     "start_time": "2022-07-08T05:00:39.619105",
     "status": "completed"
    },
    "tags": []
   },
   "outputs": [
    {
     "data": {
      "text/plain": [
       "youth                      113\n",
       "youthWithResponsibility     56\n",
       "midLife                     48\n",
       "towardsRetirement           20\n",
       "Name: Age, dtype: int64"
      ]
     },
     "execution_count": 42,
     "metadata": {},
     "output_type": "execute_result"
    }
   ],
   "source": [
    "data[data['Approved']==1]['Age'].value_counts()"
   ]
  },
  {
   "cell_type": "code",
   "execution_count": 43,
   "id": "961f85db",
   "metadata": {
    "execution": {
     "iopub.execute_input": "2022-07-08T05:00:40.257275Z",
     "iopub.status.busy": "2022-07-08T05:00:40.256760Z",
     "iopub.status.idle": "2022-07-08T05:00:40.264212Z",
     "shell.execute_reply": "2022-07-08T05:00:40.263615Z"
    },
    "papermill": {
     "duration": 0.218012,
     "end_time": "2022-07-08T05:00:40.266309",
     "exception": false,
     "start_time": "2022-07-08T05:00:40.048297",
     "status": "completed"
    },
    "tags": []
   },
   "outputs": [
    {
     "data": {
      "text/plain": [
       "youth                      196\n",
       "youthWithResponsibility     76\n",
       "midLife                     35\n",
       "towardsRetirement            8\n",
       "Name: Age, dtype: int64"
      ]
     },
     "execution_count": 43,
     "metadata": {},
     "output_type": "execute_result"
    }
   ],
   "source": [
    "data[data['Approved']==0]['Age'].value_counts()"
   ]
  },
  {
   "cell_type": "code",
   "execution_count": 44,
   "id": "08b48ee5",
   "metadata": {
    "execution": {
     "iopub.execute_input": "2022-07-08T05:00:40.683896Z",
     "iopub.status.busy": "2022-07-08T05:00:40.683483Z",
     "iopub.status.idle": "2022-07-08T05:00:40.688062Z",
     "shell.execute_reply": "2022-07-08T05:00:40.687485Z"
    },
    "papermill": {
     "duration": 0.214962,
     "end_time": "2022-07-08T05:00:40.689805",
     "exception": false,
     "start_time": "2022-07-08T05:00:40.474843",
     "status": "completed"
    },
    "tags": []
   },
   "outputs": [
    {
     "data": {
      "text/plain": [
       "0.3656957928802589"
      ]
     },
     "execution_count": 44,
     "metadata": {},
     "output_type": "execute_result"
    }
   ],
   "source": [
    "youthApprovedRatio = 113/(113+196)\n",
    "youthApprovedRatio"
   ]
  },
  {
   "cell_type": "code",
   "execution_count": 45,
   "id": "8b1ac390",
   "metadata": {
    "execution": {
     "iopub.execute_input": "2022-07-08T05:00:41.110996Z",
     "iopub.status.busy": "2022-07-08T05:00:41.110710Z",
     "iopub.status.idle": "2022-07-08T05:00:41.115798Z",
     "shell.execute_reply": "2022-07-08T05:00:41.115129Z"
    },
    "papermill": {
     "duration": 0.217459,
     "end_time": "2022-07-08T05:00:41.117637",
     "exception": false,
     "start_time": "2022-07-08T05:00:40.900178",
     "status": "completed"
    },
    "tags": []
   },
   "outputs": [
    {
     "data": {
      "text/plain": [
       "0.42424242424242425"
      ]
     },
     "execution_count": 45,
     "metadata": {},
     "output_type": "execute_result"
    }
   ],
   "source": [
    "youthWithResponsibilitiesApprovedRatio = 56/(56+76)\n",
    "youthWithResponsibilitiesApprovedRatio"
   ]
  },
  {
   "cell_type": "code",
   "execution_count": 46,
   "id": "cfd092e3",
   "metadata": {
    "execution": {
     "iopub.execute_input": "2022-07-08T05:00:41.534967Z",
     "iopub.status.busy": "2022-07-08T05:00:41.534569Z",
     "iopub.status.idle": "2022-07-08T05:00:41.538964Z",
     "shell.execute_reply": "2022-07-08T05:00:41.538319Z"
    },
    "papermill": {
     "duration": 0.216487,
     "end_time": "2022-07-08T05:00:41.540701",
     "exception": false,
     "start_time": "2022-07-08T05:00:41.324214",
     "status": "completed"
    },
    "tags": []
   },
   "outputs": [
    {
     "data": {
      "text/plain": [
       "0.5783132530120482"
      ]
     },
     "execution_count": 46,
     "metadata": {},
     "output_type": "execute_result"
    }
   ],
   "source": [
    "midLifeApprovedRatio = 48/(48+35)\n",
    "midLifeApprovedRatio"
   ]
  },
  {
   "cell_type": "code",
   "execution_count": 47,
   "id": "f1be4d38",
   "metadata": {
    "execution": {
     "iopub.execute_input": "2022-07-08T05:00:41.963084Z",
     "iopub.status.busy": "2022-07-08T05:00:41.962682Z",
     "iopub.status.idle": "2022-07-08T05:00:41.967713Z",
     "shell.execute_reply": "2022-07-08T05:00:41.967212Z"
    },
    "papermill": {
     "duration": 0.221299,
     "end_time": "2022-07-08T05:00:41.969423",
     "exception": false,
     "start_time": "2022-07-08T05:00:41.748124",
     "status": "completed"
    },
    "tags": []
   },
   "outputs": [
    {
     "data": {
      "text/plain": [
       "0.7142857142857143"
      ]
     },
     "execution_count": 47,
     "metadata": {},
     "output_type": "execute_result"
    }
   ],
   "source": [
    "towardsRetirementApprovedRatio = 20/(20+8)\n",
    "towardsRetirementApprovedRatio"
   ]
  },
  {
   "cell_type": "markdown",
   "id": "77e7b183",
   "metadata": {
    "papermill": {
     "duration": 0.208574,
     "end_time": "2022-07-08T05:00:42.386376",
     "exception": false,
     "start_time": "2022-07-08T05:00:42.177802",
     "status": "completed"
    },
    "tags": []
   },
   "source": [
    "***Age* column is evidently an Ordinal Categorical feature**"
   ]
  },
  {
   "cell_type": "markdown",
   "id": "b11c9892",
   "metadata": {
    "papermill": {
     "duration": 0.208643,
     "end_time": "2022-07-08T05:00:42.804871",
     "exception": false,
     "start_time": "2022-07-08T05:00:42.596228",
     "status": "completed"
    },
    "tags": []
   },
   "source": [
    "### *Income* column hypothesis testing"
   ]
  },
  {
   "cell_type": "code",
   "execution_count": 48,
   "id": "8af1a672",
   "metadata": {
    "execution": {
     "iopub.execute_input": "2022-07-08T05:00:43.223237Z",
     "iopub.status.busy": "2022-07-08T05:00:43.222801Z",
     "iopub.status.idle": "2022-07-08T05:00:43.230508Z",
     "shell.execute_reply": "2022-07-08T05:00:43.229819Z"
    },
    "papermill": {
     "duration": 0.218883,
     "end_time": "2022-07-08T05:00:43.232340",
     "exception": false,
     "start_time": "2022-07-08T05:00:43.013457",
     "status": "completed"
    },
    "tags": []
   },
   "outputs": [
    {
     "data": {
      "text/plain": [
       "Poor            101\n",
       "Middle Class     85\n",
       "Rich             51\n",
       "Name: Income, dtype: int64"
      ]
     },
     "execution_count": 48,
     "metadata": {},
     "output_type": "execute_result"
    }
   ],
   "source": [
    "data[data['Approved']==1]['Income'].value_counts()"
   ]
  },
  {
   "cell_type": "code",
   "execution_count": 49,
   "id": "7d3acfb8",
   "metadata": {
    "execution": {
     "iopub.execute_input": "2022-07-08T05:00:43.654765Z",
     "iopub.status.busy": "2022-07-08T05:00:43.654344Z",
     "iopub.status.idle": "2022-07-08T05:00:43.661556Z",
     "shell.execute_reply": "2022-07-08T05:00:43.660826Z"
    },
    "papermill": {
     "duration": 0.220274,
     "end_time": "2022-07-08T05:00:43.663360",
     "exception": false,
     "start_time": "2022-07-08T05:00:43.443086",
     "status": "completed"
    },
    "tags": []
   },
   "outputs": [
    {
     "data": {
      "text/plain": [
       "Poor            230\n",
       "Middle Class     78\n",
       "Rich              7\n",
       "Name: Income, dtype: int64"
      ]
     },
     "execution_count": 49,
     "metadata": {},
     "output_type": "execute_result"
    }
   ],
   "source": [
    "data[data['Approved']==0]['Income'].value_counts()"
   ]
  },
  {
   "cell_type": "code",
   "execution_count": 50,
   "id": "95e649e2",
   "metadata": {
    "execution": {
     "iopub.execute_input": "2022-07-08T05:00:44.085240Z",
     "iopub.status.busy": "2022-07-08T05:00:44.084712Z",
     "iopub.status.idle": "2022-07-08T05:00:44.090752Z",
     "shell.execute_reply": "2022-07-08T05:00:44.089907Z"
    },
    "papermill": {
     "duration": 0.220894,
     "end_time": "2022-07-08T05:00:44.093047",
     "exception": false,
     "start_time": "2022-07-08T05:00:43.872153",
     "status": "completed"
    },
    "tags": []
   },
   "outputs": [
    {
     "data": {
      "text/plain": [
       "0.30513595166163143"
      ]
     },
     "execution_count": 50,
     "metadata": {},
     "output_type": "execute_result"
    }
   ],
   "source": [
    "poorApprovedRatio = 101/(101+230)\n",
    "poorApprovedRatio"
   ]
  },
  {
   "cell_type": "code",
   "execution_count": 51,
   "id": "72f95fba",
   "metadata": {
    "execution": {
     "iopub.execute_input": "2022-07-08T05:00:44.515882Z",
     "iopub.status.busy": "2022-07-08T05:00:44.515569Z",
     "iopub.status.idle": "2022-07-08T05:00:44.520875Z",
     "shell.execute_reply": "2022-07-08T05:00:44.520319Z"
    },
    "papermill": {
     "duration": 0.219808,
     "end_time": "2022-07-08T05:00:44.522811",
     "exception": false,
     "start_time": "2022-07-08T05:00:44.303003",
     "status": "completed"
    },
    "tags": []
   },
   "outputs": [
    {
     "data": {
      "text/plain": [
       "0.5214723926380368"
      ]
     },
     "execution_count": 51,
     "metadata": {},
     "output_type": "execute_result"
    }
   ],
   "source": [
    "middleClassApprovedRatio = 85/(85+78)\n",
    "middleClassApprovedRatio"
   ]
  },
  {
   "cell_type": "code",
   "execution_count": 52,
   "id": "1bd0bb26",
   "metadata": {
    "execution": {
     "iopub.execute_input": "2022-07-08T05:00:44.942423Z",
     "iopub.status.busy": "2022-07-08T05:00:44.941668Z",
     "iopub.status.idle": "2022-07-08T05:00:44.948290Z",
     "shell.execute_reply": "2022-07-08T05:00:44.947355Z"
    },
    "papermill": {
     "duration": 0.218764,
     "end_time": "2022-07-08T05:00:44.950338",
     "exception": false,
     "start_time": "2022-07-08T05:00:44.731574",
     "status": "completed"
    },
    "tags": []
   },
   "outputs": [
    {
     "data": {
      "text/plain": [
       "0.8793103448275862"
      ]
     },
     "execution_count": 52,
     "metadata": {},
     "output_type": "execute_result"
    }
   ],
   "source": [
    "richApprovedRatio = 51/(51+7)\n",
    "richApprovedRatio"
   ]
  },
  {
   "cell_type": "markdown",
   "id": "dd78b18d",
   "metadata": {
    "papermill": {
     "duration": 0.211232,
     "end_time": "2022-07-08T05:00:45.373212",
     "exception": false,
     "start_time": "2022-07-08T05:00:45.161980",
     "status": "completed"
    },
    "tags": []
   },
   "source": [
    "***Income* column is evidently an Ordinal Categorical feature**"
   ]
  },
  {
   "cell_type": "markdown",
   "id": "6b92ec77",
   "metadata": {
    "papermill": {
     "duration": 0.209387,
     "end_time": "2022-07-08T05:00:45.794073",
     "exception": false,
     "start_time": "2022-07-08T05:00:45.584686",
     "status": "completed"
    },
    "tags": []
   },
   "source": [
    "### Fixing *Industry* column"
   ]
  },
  {
   "cell_type": "code",
   "execution_count": 53,
   "id": "6476d3da",
   "metadata": {
    "execution": {
     "iopub.execute_input": "2022-07-08T05:00:46.217487Z",
     "iopub.status.busy": "2022-07-08T05:00:46.217176Z",
     "iopub.status.idle": "2022-07-08T05:00:46.225366Z",
     "shell.execute_reply": "2022-07-08T05:00:46.224494Z"
    },
    "papermill": {
     "duration": 0.224129,
     "end_time": "2022-07-08T05:00:46.227358",
     "exception": false,
     "start_time": "2022-07-08T05:00:46.003229",
     "status": "completed"
    },
    "tags": []
   },
   "outputs": [
    {
     "data": {
      "text/plain": [
       "Energy                   118\n",
       "Materials                 61\n",
       "Industrials               59\n",
       "ConsumerDiscretionary     48\n",
       "Financials                45\n",
       "ConsumerStaples           43\n",
       "Healthcare                41\n",
       "CommunicationServices     32\n",
       "InformationTechnology     29\n",
       "Utilities                 24\n",
       "Real Estate               22\n",
       "Education                 21\n",
       "Research                   7\n",
       "Transport                  2\n",
       "Name: Industry, dtype: int64"
      ]
     },
     "execution_count": 53,
     "metadata": {},
     "output_type": "execute_result"
    }
   ],
   "source": [
    "data.Industry.value_counts()"
   ]
  },
  {
   "cell_type": "code",
   "execution_count": 54,
   "id": "601d0c44",
   "metadata": {
    "execution": {
     "iopub.execute_input": "2022-07-08T05:00:46.657515Z",
     "iopub.status.busy": "2022-07-08T05:00:46.657182Z",
     "iopub.status.idle": "2022-07-08T05:00:46.718138Z",
     "shell.execute_reply": "2022-07-08T05:00:46.717177Z"
    },
    "papermill": {
     "duration": 0.280931,
     "end_time": "2022-07-08T05:00:46.720647",
     "exception": false,
     "start_time": "2022-07-08T05:00:46.439716",
     "status": "completed"
    },
    "tags": []
   },
   "outputs": [],
   "source": [
    "for idx, row in data.iterrows():\n",
    "    if data.loc[idx, 'Industry'] in ['Utilities', 'Real Estate', 'Education', 'Research', 'Transport']:\n",
    "        data.loc[idx, 'Industry'] = 'Others'"
   ]
  },
  {
   "cell_type": "code",
   "execution_count": 55,
   "id": "e9576472",
   "metadata": {
    "execution": {
     "iopub.execute_input": "2022-07-08T05:00:47.152800Z",
     "iopub.status.busy": "2022-07-08T05:00:47.152439Z",
     "iopub.status.idle": "2022-07-08T05:00:47.347156Z",
     "shell.execute_reply": "2022-07-08T05:00:47.346298Z"
    },
    "papermill": {
     "duration": 0.41365,
     "end_time": "2022-07-08T05:00:47.349199",
     "exception": false,
     "start_time": "2022-07-08T05:00:46.935549",
     "status": "completed"
    },
    "tags": []
   },
   "outputs": [
    {
     "data": {
      "image/png": "[encoded data removed]",
      "text/plain": [
       "<Figure size 720x720 with 1 Axes>"
      ]
     },
     "metadata": {},
     "output_type": "display_data"
    }
   ],
   "source": [
    "plt.figure(figsize = (10,10))\n",
    "data['Industry'].value_counts().plot(kind  = 'pie', autopct = '%.2f', textprops={'fontsize': 14})\n",
    "plt.tight_layout(pad=5.0);\n",
    "plt.ylabel('Industry',fontsize=14);"
   ]
  },
  {
   "cell_type": "markdown",
   "id": "99c9ab32",
   "metadata": {
    "papermill": {
     "duration": 0.227813,
     "end_time": "2022-07-08T05:00:47.791832",
     "exception": false,
     "start_time": "2022-07-08T05:00:47.564019",
     "status": "completed"
    },
    "tags": []
   },
   "source": [
    "---\n",
    "## FEATURE SELECTION"
   ]
  },
  {
   "cell_type": "code",
   "execution_count": 56,
   "id": "a1116e07",
   "metadata": {
    "execution": {
     "iopub.execute_input": "2022-07-08T05:00:48.302096Z",
     "iopub.status.busy": "2022-07-08T05:00:48.301229Z",
     "iopub.status.idle": "2022-07-08T05:00:48.770413Z",
     "shell.execute_reply": "2022-07-08T05:00:48.769308Z"
    },
    "papermill": {
     "duration": 0.70906,
     "end_time": "2022-07-08T05:00:48.773190",
     "exception": false,
     "start_time": "2022-07-08T05:00:48.064130",
     "status": "completed"
    },
    "tags": []
   },
   "outputs": [
    {
     "data": {
      "image/png": "[encoded data removed]",
      "text/plain": [
       "<Figure size 864x864 with 2 Axes>"
      ]
     },
     "metadata": {
      "needs_background": "light"
     },
     "output_type": "display_data"
    }
   ],
   "source": [
    "plt.rcParams.update({'font.size': 12})\n",
    "fig, ax = plt.subplots(figsize=(12,12))\n",
    "sns.heatmap(data.corr(), annot = True, vmin=-1, vmax=1, center= 0, cmap= 'coolwarm', ax=ax, lw=0.2, edgecolor=\"white\");"
   ]
  },
  {
   "cell_type": "code",
   "execution_count": 57,
   "id": "2a6037ff",
   "metadata": {
    "execution": {
     "iopub.execute_input": "2022-07-08T05:00:49.227674Z",
     "iopub.status.busy": "2022-07-08T05:00:49.227406Z",
     "iopub.status.idle": "2022-07-08T05:00:49.237099Z",
     "shell.execute_reply": "2022-07-08T05:00:49.236238Z"
    },
    "papermill": {
     "duration": 0.229641,
     "end_time": "2022-07-08T05:00:49.239836",
     "exception": false,
     "start_time": "2022-07-08T05:00:49.010195",
     "status": "completed"
    },
    "tags": []
   },
   "outputs": [
    {
     "name": "stdout",
     "output_type": "stream",
     "text": [
      "415\n"
     ]
    },
    {
     "data": {
      "text/plain": [
       "1    415\n",
       "Name: BankCustomer, dtype: int64"
      ]
     },
     "execution_count": 57,
     "metadata": {},
     "output_type": "execute_result"
    }
   ],
   "source": [
    "print(data[data['Married']==1].shape[0])\n",
    "data[data['Married']==1]['BankCustomer'].value_counts()"
   ]
  },
  {
   "cell_type": "code",
   "execution_count": 58,
   "id": "1687dc09",
   "metadata": {
    "execution": {
     "iopub.execute_input": "2022-07-08T05:00:49.674046Z",
     "iopub.status.busy": "2022-07-08T05:00:49.673757Z",
     "iopub.status.idle": "2022-07-08T05:00:49.684396Z",
     "shell.execute_reply": "2022-07-08T05:00:49.683062Z"
    },
    "papermill": {
     "duration": 0.23107,
     "end_time": "2022-07-08T05:00:49.686303",
     "exception": false,
     "start_time": "2022-07-08T05:00:49.455233",
     "status": "completed"
    },
    "tags": []
   },
   "outputs": [
    {
     "name": "stdout",
     "output_type": "stream",
     "text": [
      "137\n"
     ]
    },
    {
     "data": {
      "text/plain": [
       "0    136\n",
       "1      1\n",
       "Name: BankCustomer, dtype: int64"
      ]
     },
     "execution_count": 58,
     "metadata": {},
     "output_type": "execute_result"
    }
   ],
   "source": [
    "print(data[data['Married']==0].shape[0])\n",
    "data[data['Married']==0]['BankCustomer'].value_counts()"
   ]
  },
  {
   "cell_type": "code",
   "execution_count": 59,
   "id": "fb8be055",
   "metadata": {
    "execution": {
     "iopub.execute_input": "2022-07-08T05:00:50.124851Z",
     "iopub.status.busy": "2022-07-08T05:00:50.124535Z",
     "iopub.status.idle": "2022-07-08T05:00:50.130303Z",
     "shell.execute_reply": "2022-07-08T05:00:50.129283Z"
    },
    "papermill": {
     "duration": 0.228154,
     "end_time": "2022-07-08T05:00:50.132360",
     "exception": false,
     "start_time": "2022-07-08T05:00:49.904206",
     "status": "completed"
    },
    "tags": []
   },
   "outputs": [],
   "source": [
    "data.drop(['Married'], axis = 1, inplace= True)"
   ]
  },
  {
   "cell_type": "markdown",
   "id": "153f9d8d",
   "metadata": {
    "papermill": {
     "duration": 0.215451,
     "end_time": "2022-07-08T05:00:50.563523",
     "exception": false,
     "start_time": "2022-07-08T05:00:50.348072",
     "status": "completed"
    },
    "tags": []
   },
   "source": [
    "### Key Notes:\n",
    "\n",
    "- According to this *DriversLicense* has almost nil correlation with *Approved*. Hence, no new information. We still need to confirm this.\n",
    "- *Married* and *BankCustomer* are redundant. We removed *Married* because of less correlation. This finding is **weird**"
   ]
  },
  {
   "cell_type": "markdown",
   "id": "9717bbe0",
   "metadata": {
    "papermill": {
     "duration": 0.216731,
     "end_time": "2022-07-08T05:00:50.997291",
     "exception": false,
     "start_time": "2022-07-08T05:00:50.780560",
     "status": "completed"
    },
    "tags": []
   },
   "source": [
    "---\n",
    "## FEATURE IMPORTANCE"
   ]
  },
  {
   "cell_type": "markdown",
   "id": "9b819482",
   "metadata": {
    "papermill": {
     "duration": 0.216032,
     "end_time": "2022-07-08T05:00:51.429773",
     "exception": false,
     "start_time": "2022-07-08T05:00:51.213741",
     "status": "completed"
    },
    "tags": []
   },
   "source": [
    "### Relative importance of *DriversLicense* if any"
   ]
  },
  {
   "cell_type": "code",
   "execution_count": 60,
   "id": "78a70556",
   "metadata": {
    "execution": {
     "iopub.execute_input": "2022-07-08T05:00:51.868499Z",
     "iopub.status.busy": "2022-07-08T05:00:51.867750Z",
     "iopub.status.idle": "2022-07-08T05:00:52.445242Z",
     "shell.execute_reply": "2022-07-08T05:00:52.444316Z"
    },
    "papermill": {
     "duration": 0.80042,
     "end_time": "2022-07-08T05:00:52.447323",
     "exception": false,
     "start_time": "2022-07-08T05:00:51.646903",
     "status": "completed"
    },
    "tags": []
   },
   "outputs": [
    {
     "data": {
      "image/png": "[encoded data removed]",
      "text/plain": [
       "<Figure size 432x576 with 1 Axes>"
      ]
     },
     "metadata": {
      "needs_background": "light"
     },
     "output_type": "display_data"
    }
   ],
   "source": [
    "from sklearn.ensemble import ExtraTreesClassifier\n",
    "\n",
    "temp_df = data[['DriversLicense','BankCustomer', 'Employed', 'PriorDefault', 'Approved']]\n",
    "X_train_dummy = pd.get_dummies(temp_df.iloc[:,:-1], drop_first=True)\n",
    "y_train_dummy = pd.get_dummies(temp_df.iloc[:,-1], drop_first=True)\n",
    "model = ExtraTreesClassifier()\n",
    "model.fit(X_train_dummy, y_train_dummy)\n",
    "fig = plt.figure(figsize=(6,8))\n",
    "feature_imps = pd.Series(model.feature_importances_, index = X_train_dummy.columns)\n",
    "feature_imps.nlargest(10).plot(kind='barh')\n",
    "plt.grid(True)\n",
    "plt.title(\"Feature Importance\", pad=50, fontsize=16)\n",
    "plt.xlabel('Feature Importance')\n",
    "plt.show()"
   ]
  },
  {
   "cell_type": "markdown",
   "id": "a3c14185",
   "metadata": {
    "papermill": {
     "duration": 0.217743,
     "end_time": "2022-07-08T05:00:52.883237",
     "exception": false,
     "start_time": "2022-07-08T05:00:52.665494",
     "status": "completed"
    },
    "tags": []
   },
   "source": [
    "### Relative importance of *Industry* if any"
   ]
  },
  {
   "cell_type": "code",
   "execution_count": 61,
   "id": "bcce66d6",
   "metadata": {
    "execution": {
     "iopub.execute_input": "2022-07-08T05:00:53.321887Z",
     "iopub.status.busy": "2022-07-08T05:00:53.321392Z",
     "iopub.status.idle": "2022-07-08T05:00:53.741603Z",
     "shell.execute_reply": "2022-07-08T05:00:53.740993Z"
    },
    "papermill": {
     "duration": 0.640144,
     "end_time": "2022-07-08T05:00:53.743579",
     "exception": false,
     "start_time": "2022-07-08T05:00:53.103435",
     "status": "completed"
    },
    "tags": []
   },
   "outputs": [
    {
     "data": {
      "image/png": "[encoded data removed]",
      "text/plain": [
       "<Figure size 1008x864 with 1 Axes>"
      ]
     },
     "metadata": {
      "needs_background": "light"
     },
     "output_type": "display_data"
    }
   ],
   "source": [
    "temp_df = data[['Industry', 'Employed', 'PriorDefault', 'Approved']]\n",
    "X_train_dummy = pd.get_dummies(temp_df.iloc[:,:-1], drop_first=True)\n",
    "y_train_dummy = pd.get_dummies(temp_df.iloc[:,-1], drop_first=True)\n",
    "model = ExtraTreesClassifier()\n",
    "model.fit(X_train_dummy, y_train_dummy)\n",
    "fig = plt.figure(figsize=(14,12))\n",
    "feature_imps = pd.Series(model.feature_importances_, index = X_train_dummy.columns)\n",
    "feature_imps.nlargest(10).plot(kind='barh')\n",
    "plt.grid(True)\n",
    "plt.title(\"Feature Extraction\", pad=50)\n",
    "plt.xlabel('Feature Importance')\n",
    "plt.show()"
   ]
  },
  {
   "cell_type": "code",
   "execution_count": 62,
   "id": "736bcae0",
   "metadata": {
    "execution": {
     "iopub.execute_input": "2022-07-08T05:00:54.189600Z",
     "iopub.status.busy": "2022-07-08T05:00:54.189069Z",
     "iopub.status.idle": "2022-07-08T05:00:54.192120Z",
     "shell.execute_reply": "2022-07-08T05:00:54.191542Z"
    },
    "papermill": {
     "duration": 0.228528,
     "end_time": "2022-07-08T05:00:54.194025",
     "exception": false,
     "start_time": "2022-07-08T05:00:53.965497",
     "status": "completed"
    },
    "tags": []
   },
   "outputs": [],
   "source": [
    "# data.drop('DriversLicense', axis=1, inplace=True)"
   ]
  },
  {
   "cell_type": "markdown",
   "id": "42a5d1ea",
   "metadata": {
    "papermill": {
     "duration": 0.220285,
     "end_time": "2022-07-08T05:00:54.636724",
     "exception": false,
     "start_time": "2022-07-08T05:00:54.416439",
     "status": "completed"
    },
    "tags": []
   },
   "source": [
    "### Key Notes:\n",
    "\n",
    "- Negligible variation in importance among the industries and almost nil importance compared to other features.\n",
    "- It is now confirmed that *DriversLicense* has almost no impact on credit approval. **But as we are complying to constitutional rules and regulations, our model must be biased towards a client who produces better quality legal documents. This enables proper profiling of the client**"
   ]
  },
  {
   "cell_type": "markdown",
   "id": "17c648d3",
   "metadata": {
    "papermill": {
     "duration": 0.222697,
     "end_time": "2022-07-08T05:00:55.076901",
     "exception": false,
     "start_time": "2022-07-08T05:00:54.854204",
     "status": "completed"
    },
    "tags": []
   },
   "source": [
    "---\n",
    "## FEATURE TRANSFORMATION"
   ]
  },
  {
   "cell_type": "code",
   "execution_count": 63,
   "id": "8b4ff21b",
   "metadata": {
    "execution": {
     "iopub.execute_input": "2022-07-08T05:00:55.514432Z",
     "iopub.status.busy": "2022-07-08T05:00:55.513991Z",
     "iopub.status.idle": "2022-07-08T05:00:55.551444Z",
     "shell.execute_reply": "2022-07-08T05:00:55.550583Z"
    },
    "papermill": {
     "duration": 0.25815,
     "end_time": "2022-07-08T05:00:55.553874",
     "exception": false,
     "start_time": "2022-07-08T05:00:55.295724",
     "status": "completed"
    },
    "tags": []
   },
   "outputs": [],
   "source": [
    "from sklearn.compose import ColumnTransformer\n",
    "from sklearn.preprocessing import OneHotEncoder, OrdinalEncoder\n",
    "\n",
    "X_train, X_validate, y_train, y_validate = train_test_split(data.iloc[:,:-1], data.iloc[:,-1], test_size = 0.1, random_state = 42)\n",
    "\n",
    "transformer = ColumnTransformer(transformers = [\n",
    "    ('ohe', OneHotEncoder(sparse = False, drop='first'), ['Industry']),\n",
    "    ('oe1', OrdinalEncoder(categories = [[\"youth\", \"youthWithResponsibility\", \"midLife\", \"towardsRetirement\"]]),['Age']),\n",
    "    ('oe2', OrdinalEncoder(categories = [[\"Red\", \"Orange\", \"Yellow\", \"Green\"]]),['Debt']),\n",
    "    ('oe3', OrdinalEncoder(categories = [[\"Fresher\", \"Experienced\", \"Expert\"]]),['YearsEmployed']),\n",
    "    ('oe4', OrdinalEncoder(categories = [[\"Red\", \"Yellow\", \"Green\"]]),['CreditScore']),\n",
    "    ('oe5', OrdinalEncoder(categories = [[\"Poor\", \"Middle Class\", \"Rich\"]]),['Income'])\n",
    "    ], remainder = 'passthrough')\n",
    "\n",
    "X_train = transformer.fit_transform(X_train)\n",
    "X_validate = transformer.transform(X_validate)"
   ]
  },
  {
   "cell_type": "code",
   "execution_count": 64,
   "id": "f78e677a",
   "metadata": {
    "execution": {
     "iopub.execute_input": "2022-07-08T05:00:55.996100Z",
     "iopub.status.busy": "2022-07-08T05:00:55.995819Z",
     "iopub.status.idle": "2022-07-08T05:00:56.004719Z",
     "shell.execute_reply": "2022-07-08T05:00:56.003622Z"
    },
    "papermill": {
     "duration": 0.230317,
     "end_time": "2022-07-08T05:00:56.006963",
     "exception": false,
     "start_time": "2022-07-08T05:00:55.776646",
     "status": "completed"
    },
    "tags": []
   },
   "outputs": [
    {
     "name": "stdout",
     "output_type": "stream",
     "text": [
      "(496, 18)\n"
     ]
    },
    {
     "data": {
      "text/plain": [
       "array([[0., 1., 0., ..., 0., 0., 0.],\n",
       "       [0., 0., 0., ..., 0., 0., 1.],\n",
       "       [0., 0., 1., ..., 0., 0., 0.],\n",
       "       ...,\n",
       "       [0., 0., 0., ..., 0., 1., 1.],\n",
       "       [0., 0., 0., ..., 0., 1., 0.],\n",
       "       [0., 1., 0., ..., 1., 0., 0.]])"
      ]
     },
     "execution_count": 64,
     "metadata": {},
     "output_type": "execute_result"
    }
   ],
   "source": [
    "print(X_train.shape)\n",
    "X_train"
   ]
  },
  {
   "cell_type": "code",
   "execution_count": 65,
   "id": "fc736ca8",
   "metadata": {
    "execution": {
     "iopub.execute_input": "2022-07-08T05:00:56.451188Z",
     "iopub.status.busy": "2022-07-08T05:00:56.450291Z",
     "iopub.status.idle": "2022-07-08T05:00:56.472929Z",
     "shell.execute_reply": "2022-07-08T05:00:56.472320Z"
    },
    "papermill": {
     "duration": 0.244218,
     "end_time": "2022-07-08T05:00:56.474770",
     "exception": false,
     "start_time": "2022-07-08T05:00:56.230552",
     "status": "completed"
    },
    "tags": []
   },
   "outputs": [
    {
     "data": {
      "text/html": [
       "<style>#sk-b5ad26de-2dc9-4f86-8336-a8d8cc11d5ea {color: black;background-color: white;}#sk-b5ad26de-2dc9-4f86-8336-a8d8cc11d5ea pre{padding: 0;}#sk-b5ad26de-2dc9-4f86-8336-a8d8cc11d5ea div.sk-toggleable {background-color: white;}#sk-b5ad26de-2dc9-4f86-8336-a8d8cc11d5ea label.sk-toggleable__label {cursor: pointer;display: block;width: 100%;margin-bottom: 0;padding: 0.3em;box-sizing: border-box;text-align: center;}#sk-b5ad26de-2dc9-4f86-8336-a8d8cc11d5ea label.sk-toggleable__label-arrow:before {content: \"▸\";float: left;margin-right: 0.25em;color: #696969;}#sk-b5ad26de-2dc9-4f86-8336-a8d8cc11d5ea label.sk-toggleable__label-arrow:hover:before {color: black;}#sk-b5ad26de-2dc9-4f86-8336-a8d8cc11d5ea div.sk-estimator:hover label.sk-toggleable__label-arrow:before {color: black;}#sk-b5ad26de-2dc9-4f86-8336-a8d8cc11d5ea div.sk-toggleable__content {max-height: 0;max-width: 0;overflow: hidden;text-align: left;background-color: #f0f8ff;}#sk-b5ad26de-2dc9-4f86-8336-a8d8cc11d5ea div.sk-toggleable__content pre {margin: 0.2em;color: black;border-radius: 0.25em;background-color: #f0f8ff;}#sk-b5ad26de-2dc9-4f86-8336-a8d8cc11d5ea input.sk-toggleable__control:checked~div.sk-toggleable__content {max-height: 200px;max-width: 100%;overflow: auto;}#sk-b5ad26de-2dc9-4f86-8336-a8d8cc11d5ea input.sk-toggleable__control:checked~label.sk-toggleable__label-arrow:before {content: \"▾\";}#sk-b5ad26de-2dc9-4f86-8336-a8d8cc11d5ea div.sk-estimator input.sk-toggleable__control:checked~label.sk-toggleable__label {background-color: #d4ebff;}#sk-b5ad26de-2dc9-4f86-8336-a8d8cc11d5ea div.sk-label input.sk-toggleable__control:checked~label.sk-toggleable__label {background-color: #d4ebff;}#sk-b5ad26de-2dc9-4f86-8336-a8d8cc11d5ea input.sk-hidden--visually {border: 0;clip: rect(1px 1px 1px 1px);clip: rect(1px, 1px, 1px, 1px);height: 1px;margin: -1px;overflow: hidden;padding: 0;position: absolute;width: 1px;}#sk-b5ad26de-2dc9-4f86-8336-a8d8cc11d5ea div.sk-estimator {font-family: monospace;background-color: #f0f8ff;border: 1px dotted black;border-radius: 0.25em;box-sizing: border-box;margin-bottom: 0.5em;}#sk-b5ad26de-2dc9-4f86-8336-a8d8cc11d5ea div.sk-estimator:hover {background-color: #d4ebff;}#sk-b5ad26de-2dc9-4f86-8336-a8d8cc11d5ea div.sk-parallel-item::after {content: \"\";width: 100%;border-bottom: 1px solid gray;flex-grow: 1;}#sk-b5ad26de-2dc9-4f86-8336-a8d8cc11d5ea div.sk-label:hover label.sk-toggleable__label {background-color: #d4ebff;}#sk-b5ad26de-2dc9-4f86-8336-a8d8cc11d5ea div.sk-serial::before {content: \"\";position: absolute;border-left: 1px solid gray;box-sizing: border-box;top: 2em;bottom: 0;left: 50%;}#sk-b5ad26de-2dc9-4f86-8336-a8d8cc11d5ea div.sk-serial {display: flex;flex-direction: column;align-items: center;background-color: white;padding-right: 0.2em;padding-left: 0.2em;}#sk-b5ad26de-2dc9-4f86-8336-a8d8cc11d5ea div.sk-item {z-index: 1;}#sk-b5ad26de-2dc9-4f86-8336-a8d8cc11d5ea div.sk-parallel {display: flex;align-items: stretch;justify-content: center;background-color: white;}#sk-b5ad26de-2dc9-4f86-8336-a8d8cc11d5ea div.sk-parallel::before {content: \"\";position: absolute;border-left: 1px solid gray;box-sizing: border-box;top: 2em;bottom: 0;left: 50%;}#sk-b5ad26de-2dc9-4f86-8336-a8d8cc11d5ea div.sk-parallel-item {display: flex;flex-direction: column;position: relative;background-color: white;}#sk-b5ad26de-2dc9-4f86-8336-a8d8cc11d5ea div.sk-parallel-item:first-child::after {align-self: flex-end;width: 50%;}#sk-b5ad26de-2dc9-4f86-8336-a8d8cc11d5ea div.sk-parallel-item:last-child::after {align-self: flex-start;width: 50%;}#sk-b5ad26de-2dc9-4f86-8336-a8d8cc11d5ea div.sk-parallel-item:only-child::after {width: 0;}#sk-b5ad26de-2dc9-4f86-8336-a8d8cc11d5ea div.sk-dashed-wrapped {border: 1px dashed gray;margin: 0 0.4em 0.5em 0.4em;box-sizing: border-box;padding-bottom: 0.4em;background-color: white;position: relative;}#sk-b5ad26de-2dc9-4f86-8336-a8d8cc11d5ea div.sk-label label {font-family: monospace;font-weight: bold;background-color: white;display: inline-block;line-height: 1.2em;}#sk-b5ad26de-2dc9-4f86-8336-a8d8cc11d5ea div.sk-label-container {position: relative;z-index: 2;text-align: center;}#sk-b5ad26de-2dc9-4f86-8336-a8d8cc11d5ea div.sk-container {/* jupyter's `normalize.less` sets `[hidden] { display: none; }` but bootstrap.min.css set `[hidden] { display: none !important; }` so we also need the `!important` here to be able to override the default hidden behavior on the sphinx rendered scikit-learn.org. See: https://github.com/scikit-learn/scikit-learn/issues/21755 */display: inline-block !important;position: relative;}#sk-b5ad26de-2dc9-4f86-8336-a8d8cc11d5ea div.sk-text-repr-fallback {display: none;}</style><div id=\"sk-b5ad26de-2dc9-4f86-8336-a8d8cc11d5ea\" class=\"sk-top-container\"><div class=\"sk-text-repr-fallback\"><pre>ColumnTransformer(remainder=&#x27;passthrough&#x27;,\n",
       "                  transformers=[(&#x27;ohe&#x27;,\n",
       "                                 OneHotEncoder(drop=&#x27;first&#x27;, sparse=False),\n",
       "                                 [&#x27;Industry&#x27;]),\n",
       "                                (&#x27;oe1&#x27;,\n",
       "                                 OrdinalEncoder(categories=[[&#x27;youth&#x27;,\n",
       "                                                             &#x27;youthWithResponsibility&#x27;,\n",
       "                                                             &#x27;midLife&#x27;,\n",
       "                                                             &#x27;towardsRetirement&#x27;]]),\n",
       "                                 [&#x27;Age&#x27;]),\n",
       "                                (&#x27;oe2&#x27;,\n",
       "                                 OrdinalEncoder(categories=[[&#x27;Red&#x27;, &#x27;Orange&#x27;,\n",
       "                                                             &#x27;Yellow&#x27;,\n",
       "                                                             &#x27;Green&#x27;]]),\n",
       "                                 [&#x27;Debt&#x27;]),\n",
       "                                (&#x27;oe3&#x27;,\n",
       "                                 OrdinalEncoder(categories=[[&#x27;Fresher&#x27;,\n",
       "                                                             &#x27;Experienced&#x27;,\n",
       "                                                             &#x27;Expert&#x27;]]),\n",
       "                                 [&#x27;YearsEmployed&#x27;]),\n",
       "                                (&#x27;oe4&#x27;,\n",
       "                                 OrdinalEncoder(categories=[[&#x27;Red&#x27;, &#x27;Yellow&#x27;,\n",
       "                                                             &#x27;Green&#x27;]]),\n",
       "                                 [&#x27;CreditScore&#x27;]),\n",
       "                                (&#x27;oe5&#x27;,\n",
       "                                 OrdinalEncoder(categories=[[&#x27;Poor&#x27;,\n",
       "                                                             &#x27;Middle Class&#x27;,\n",
       "                                                             &#x27;Rich&#x27;]]),\n",
       "                                 [&#x27;Income&#x27;])])</pre><b>Please rerun this cell to show the HTML repr or trust the notebook.</b></div><div class=\"sk-container\" hidden><div class=\"sk-item sk-dashed-wrapped\"><div class=\"sk-label-container\"><div class=\"sk-label sk-toggleable\"><input class=\"sk-toggleable__control sk-hidden--visually\" id=\"f5ab0325-568b-49f9-a31b-c3854e9f48f0\" type=\"checkbox\" ><label for=\"f5ab0325-568b-49f9-a31b-c3854e9f48f0\" class=\"sk-toggleable__label sk-toggleable__label-arrow\">ColumnTransformer</label><div class=\"sk-toggleable__content\"><pre>ColumnTransformer(remainder=&#x27;passthrough&#x27;,\n",
       "                  transformers=[(&#x27;ohe&#x27;,\n",
       "                                 OneHotEncoder(drop=&#x27;first&#x27;, sparse=False),\n",
       "                                 [&#x27;Industry&#x27;]),\n",
       "                                (&#x27;oe1&#x27;,\n",
       "                                 OrdinalEncoder(categories=[[&#x27;youth&#x27;,\n",
       "                                                             &#x27;youthWithResponsibility&#x27;,\n",
       "                                                             &#x27;midLife&#x27;,\n",
       "                                                             &#x27;towardsRetirement&#x27;]]),\n",
       "                                 [&#x27;Age&#x27;]),\n",
       "                                (&#x27;oe2&#x27;,\n",
       "                                 OrdinalEncoder(categories=[[&#x27;Red&#x27;, &#x27;Orange&#x27;,\n",
       "                                                             &#x27;Yellow&#x27;,\n",
       "                                                             &#x27;Green&#x27;]]),\n",
       "                                 [&#x27;Debt&#x27;]),\n",
       "                                (&#x27;oe3&#x27;,\n",
       "                                 OrdinalEncoder(categories=[[&#x27;Fresher&#x27;,\n",
       "                                                             &#x27;Experienced&#x27;,\n",
       "                                                             &#x27;Expert&#x27;]]),\n",
       "                                 [&#x27;YearsEmployed&#x27;]),\n",
       "                                (&#x27;oe4&#x27;,\n",
       "                                 OrdinalEncoder(categories=[[&#x27;Red&#x27;, &#x27;Yellow&#x27;,\n",
       "                                                             &#x27;Green&#x27;]]),\n",
       "                                 [&#x27;CreditScore&#x27;]),\n",
       "                                (&#x27;oe5&#x27;,\n",
       "                                 OrdinalEncoder(categories=[[&#x27;Poor&#x27;,\n",
       "                                                             &#x27;Middle Class&#x27;,\n",
       "                                                             &#x27;Rich&#x27;]]),\n",
       "                                 [&#x27;Income&#x27;])])</pre></div></div></div><div class=\"sk-parallel\"><div class=\"sk-parallel-item\"><div class=\"sk-item\"><div class=\"sk-label-container\"><div class=\"sk-label sk-toggleable\"><input class=\"sk-toggleable__control sk-hidden--visually\" id=\"35497685-4a03-4197-be28-a21306d79d11\" type=\"checkbox\" ><label for=\"35497685-4a03-4197-be28-a21306d79d11\" class=\"sk-toggleable__label sk-toggleable__label-arrow\">ohe</label><div class=\"sk-toggleable__content\"><pre>[&#x27;Industry&#x27;]</pre></div></div></div><div class=\"sk-serial\"><div class=\"sk-item\"><div class=\"sk-estimator sk-toggleable\"><input class=\"sk-toggleable__control sk-hidden--visually\" id=\"2be897a3-9706-4e31-8bcf-be97d72449bd\" type=\"checkbox\" ><label for=\"2be897a3-9706-4e31-8bcf-be97d72449bd\" class=\"sk-toggleable__label sk-toggleable__label-arrow\">OneHotEncoder</label><div class=\"sk-toggleable__content\"><pre>OneHotEncoder(drop=&#x27;first&#x27;, sparse=False)</pre></div></div></div></div></div></div><div class=\"sk-parallel-item\"><div class=\"sk-item\"><div class=\"sk-label-container\"><div class=\"sk-label sk-toggleable\"><input class=\"sk-toggleable__control sk-hidden--visually\" id=\"8c008c74-c5dc-4257-acb7-bea487008da7\" type=\"checkbox\" ><label for=\"8c008c74-c5dc-4257-acb7-bea487008da7\" class=\"sk-toggleable__label sk-toggleable__label-arrow\">oe1</label><div class=\"sk-toggleable__content\"><pre>[&#x27;Age&#x27;]</pre></div></div></div><div class=\"sk-serial\"><div class=\"sk-item\"><div class=\"sk-estimator sk-toggleable\"><input class=\"sk-toggleable__control sk-hidden--visually\" id=\"02ba8c5e-e963-40c8-828f-c11dbd769910\" type=\"checkbox\" ><label for=\"02ba8c5e-e963-40c8-828f-c11dbd769910\" class=\"sk-toggleable__label sk-toggleable__label-arrow\">OrdinalEncoder</label><div class=\"sk-toggleable__content\"><pre>OrdinalEncoder(categories=[[&#x27;youth&#x27;, &#x27;youthWithResponsibility&#x27;, &#x27;midLife&#x27;,\n",
       "                            &#x27;towardsRetirement&#x27;]])</pre></div></div></div></div></div></div><div class=\"sk-parallel-item\"><div class=\"sk-item\"><div class=\"sk-label-container\"><div class=\"sk-label sk-toggleable\"><input class=\"sk-toggleable__control sk-hidden--visually\" id=\"70eef6b4-0501-4630-8cdf-bdf94c0b943b\" type=\"checkbox\" ><label for=\"70eef6b4-0501-4630-8cdf-bdf94c0b943b\" class=\"sk-toggleable__label sk-toggleable__label-arrow\">oe2</label><div class=\"sk-toggleable__content\"><pre>[&#x27;Debt&#x27;]</pre></div></div></div><div class=\"sk-serial\"><div class=\"sk-item\"><div class=\"sk-estimator sk-toggleable\"><input class=\"sk-toggleable__control sk-hidden--visually\" id=\"9af48587-e11b-45af-b1b6-23031bd6472f\" type=\"checkbox\" ><label for=\"9af48587-e11b-45af-b1b6-23031bd6472f\" class=\"sk-toggleable__label sk-toggleable__label-arrow\">OrdinalEncoder</label><div class=\"sk-toggleable__content\"><pre>OrdinalEncoder(categories=[[&#x27;Red&#x27;, &#x27;Orange&#x27;, &#x27;Yellow&#x27;, &#x27;Green&#x27;]])</pre></div></div></div></div></div></div><div class=\"sk-parallel-item\"><div class=\"sk-item\"><div class=\"sk-label-container\"><div class=\"sk-label sk-toggleable\"><input class=\"sk-toggleable__control sk-hidden--visually\" id=\"0b47e062-600f-42b7-9079-3eb75e46b1af\" type=\"checkbox\" ><label for=\"0b47e062-600f-42b7-9079-3eb75e46b1af\" class=\"sk-toggleable__label sk-toggleable__label-arrow\">oe3</label><div class=\"sk-toggleable__content\"><pre>[&#x27;YearsEmployed&#x27;]</pre></div></div></div><div class=\"sk-serial\"><div class=\"sk-item\"><div class=\"sk-estimator sk-toggleable\"><input class=\"sk-toggleable__control sk-hidden--visually\" id=\"35353c0d-3f9e-45f7-bd30-e2b831933545\" type=\"checkbox\" ><label for=\"35353c0d-3f9e-45f7-bd30-e2b831933545\" class=\"sk-toggleable__label sk-toggleable__label-arrow\">OrdinalEncoder</label><div class=\"sk-toggleable__content\"><pre>OrdinalEncoder(categories=[[&#x27;Fresher&#x27;, &#x27;Experienced&#x27;, &#x27;Expert&#x27;]])</pre></div></div></div></div></div></div><div class=\"sk-parallel-item\"><div class=\"sk-item\"><div class=\"sk-label-container\"><div class=\"sk-label sk-toggleable\"><input class=\"sk-toggleable__control sk-hidden--visually\" id=\"ce7e85ae-ea02-4ad9-89c5-0876c52c59dd\" type=\"checkbox\" ><label for=\"ce7e85ae-ea02-4ad9-89c5-0876c52c59dd\" class=\"sk-toggleable__label sk-toggleable__label-arrow\">oe4</label><div class=\"sk-toggleable__content\"><pre>[&#x27;CreditScore&#x27;]</pre></div></div></div><div class=\"sk-serial\"><div class=\"sk-item\"><div class=\"sk-estimator sk-toggleable\"><input class=\"sk-toggleable__control sk-hidden--visually\" id=\"d8e800c9-323f-414d-90cd-edcc3517aba4\" type=\"checkbox\" ><label for=\"d8e800c9-323f-414d-90cd-edcc3517aba4\" class=\"sk-toggleable__label sk-toggleable__label-arrow\">OrdinalEncoder</label><div class=\"sk-toggleable__content\"><pre>OrdinalEncoder(categories=[[&#x27;Red&#x27;, &#x27;Yellow&#x27;, &#x27;Green&#x27;]])</pre></div></div></div></div></div></div><div class=\"sk-parallel-item\"><div class=\"sk-item\"><div class=\"sk-label-container\"><div class=\"sk-label sk-toggleable\"><input class=\"sk-toggleable__control sk-hidden--visually\" id=\"32001f82-7148-425d-bf38-121b43acc8b4\" type=\"checkbox\" ><label for=\"32001f82-7148-425d-bf38-121b43acc8b4\" class=\"sk-toggleable__label sk-toggleable__label-arrow\">oe5</label><div class=\"sk-toggleable__content\"><pre>[&#x27;Income&#x27;]</pre></div></div></div><div class=\"sk-serial\"><div class=\"sk-item\"><div class=\"sk-estimator sk-toggleable\"><input class=\"sk-toggleable__control sk-hidden--visually\" id=\"75fa820b-c0e5-415f-a992-a53b73244af5\" type=\"checkbox\" ><label for=\"75fa820b-c0e5-415f-a992-a53b73244af5\" class=\"sk-toggleable__label sk-toggleable__label-arrow\">OrdinalEncoder</label><div class=\"sk-toggleable__content\"><pre>OrdinalEncoder(categories=[[&#x27;Poor&#x27;, &#x27;Middle Class&#x27;, &#x27;Rich&#x27;]])</pre></div></div></div></div></div></div><div class=\"sk-parallel-item\"><div class=\"sk-item\"><div class=\"sk-label-container\"><div class=\"sk-label sk-toggleable\"><input class=\"sk-toggleable__control sk-hidden--visually\" id=\"a80e2e25-e4a3-454f-8f9a-3a3ef3432c31\" type=\"checkbox\" ><label for=\"a80e2e25-e4a3-454f-8f9a-3a3ef3432c31\" class=\"sk-toggleable__label sk-toggleable__label-arrow\">remainder</label><div class=\"sk-toggleable__content\"><pre>[&#x27;BankCustomer&#x27;, &#x27;PriorDefault&#x27;, &#x27;Employed&#x27;, &#x27;DriversLicense&#x27;]</pre></div></div></div><div class=\"sk-serial\"><div class=\"sk-item\"><div class=\"sk-estimator sk-toggleable\"><input class=\"sk-toggleable__control sk-hidden--visually\" id=\"04e6711b-e0ae-46b7-8a83-c4d67e800f3f\" type=\"checkbox\" ><label for=\"04e6711b-e0ae-46b7-8a83-c4d67e800f3f\" class=\"sk-toggleable__label sk-toggleable__label-arrow\">passthrough</label><div class=\"sk-toggleable__content\"><pre>passthrough</pre></div></div></div></div></div></div></div></div></div></div>"
      ],
      "text/plain": [
       "ColumnTransformer(remainder='passthrough',\n",
       "                  transformers=[('ohe',\n",
       "                                 OneHotEncoder(drop='first', sparse=False),\n",
       "                                 ['Industry']),\n",
       "                                ('oe1',\n",
       "                                 OrdinalEncoder(categories=[['youth',\n",
       "                                                             'youthWithResponsibility',\n",
       "                                                             'midLife',\n",
       "                                                             'towardsRetirement']]),\n",
       "                                 ['Age']),\n",
       "                                ('oe2',\n",
       "                                 OrdinalEncoder(categories=[['Red', 'Orange',\n",
       "                                                             'Yellow',\n",
       "                                                             'Green']]),\n",
       "                                 ['Debt']),\n",
       "                                ('oe3',\n",
       "                                 OrdinalEncoder(categories=[['Fresher',\n",
       "                                                             'Experienced',\n",
       "                                                             'Expert']]),\n",
       "                                 ['YearsEmployed']),\n",
       "                                ('oe4',\n",
       "                                 OrdinalEncoder(categories=[['Red', 'Yellow',\n",
       "                                                             'Green']]),\n",
       "                                 ['CreditScore']),\n",
       "                                ('oe5',\n",
       "                                 OrdinalEncoder(categories=[['Poor',\n",
       "                                                             'Middle Class',\n",
       "                                                             'Rich']]),\n",
       "                                 ['Income'])])"
      ]
     },
     "execution_count": 65,
     "metadata": {},
     "output_type": "execute_result"
    }
   ],
   "source": [
    "transformer"
   ]
  },
  {
   "cell_type": "markdown",
   "id": "1b1b8a4a",
   "metadata": {
    "execution": {
     "iopub.execute_input": "2022-05-25T11:15:04.044736Z",
     "iopub.status.busy": "2022-05-25T11:15:04.044396Z",
     "iopub.status.idle": "2022-05-25T11:15:04.053829Z",
     "shell.execute_reply": "2022-05-25T11:15:04.052577Z",
     "shell.execute_reply.started": "2022-05-25T11:15:04.044691Z"
    },
    "papermill": {
     "duration": 0.221347,
     "end_time": "2022-07-08T05:00:56.917827",
     "exception": false,
     "start_time": "2022-07-08T05:00:56.696480",
     "status": "completed"
    },
    "tags": []
   },
   "source": [
    "---\n",
    "## DATA UPSAMPLING USING *SMOTEN*"
   ]
  },
  {
   "cell_type": "code",
   "execution_count": 66,
   "id": "93a8c10b",
   "metadata": {
    "execution": {
     "iopub.execute_input": "2022-07-08T05:00:57.364208Z",
     "iopub.status.busy": "2022-07-08T05:00:57.363355Z",
     "iopub.status.idle": "2022-07-08T05:00:57.516100Z",
     "shell.execute_reply": "2022-07-08T05:00:57.515454Z"
    },
    "papermill": {
     "duration": 0.375408,
     "end_time": "2022-07-08T05:00:57.518218",
     "exception": false,
     "start_time": "2022-07-08T05:00:57.142810",
     "status": "completed"
    },
    "tags": []
   },
   "outputs": [
    {
     "data": {
      "image/png": "[encoded data removed]",
      "text/plain": [
       "<Figure size 504x504 with 1 Axes>"
      ]
     },
     "metadata": {},
     "output_type": "display_data"
    }
   ],
   "source": [
    "plt.figure(figsize = (7,7))\n",
    "data['Approved'].value_counts().plot(kind  = 'pie', autopct = '%.2f', textprops={'fontsize': 14})\n",
    "plt.tight_layout(pad=5.0);\n",
    "plt.ylabel('Industry',fontsize=14);\n",
    "plt.title('Imbalanced Target (Approved)',fontsize=16);\n"
   ]
  },
  {
   "cell_type": "code",
   "execution_count": 67,
   "id": "27ea0a7c",
   "metadata": {
    "execution": {
     "iopub.execute_input": "2022-07-08T05:00:57.969307Z",
     "iopub.status.busy": "2022-07-08T05:00:57.969023Z",
     "iopub.status.idle": "2022-07-08T05:00:57.974119Z",
     "shell.execute_reply": "2022-07-08T05:00:57.973148Z"
    },
    "papermill": {
     "duration": 0.231995,
     "end_time": "2022-07-08T05:00:57.976387",
     "exception": false,
     "start_time": "2022-07-08T05:00:57.744392",
     "status": "completed"
    },
    "tags": []
   },
   "outputs": [
    {
     "name": "stdout",
     "output_type": "stream",
     "text": [
      "Non- Resampled dataset samples per class Counter({0: 284, 1: 212})\n"
     ]
    }
   ],
   "source": [
    "from collections import Counter\n",
    "print(f'Non- Resampled dataset samples per class {Counter(y_train)}')"
   ]
  },
  {
   "cell_type": "code",
   "execution_count": 68,
   "id": "94ed063f",
   "metadata": {
    "execution": {
     "iopub.execute_input": "2022-07-08T05:00:58.423409Z",
     "iopub.status.busy": "2022-07-08T05:00:58.423082Z",
     "iopub.status.idle": "2022-07-08T05:00:58.645605Z",
     "shell.execute_reply": "2022-07-08T05:00:58.644720Z"
    },
    "papermill": {
     "duration": 0.449984,
     "end_time": "2022-07-08T05:00:58.648082",
     "exception": false,
     "start_time": "2022-07-08T05:00:58.198098",
     "status": "completed"
    },
    "tags": []
   },
   "outputs": [],
   "source": [
    "from imblearn.over_sampling import SMOTEN\n",
    "\n",
    "sm = SMOTEN(random_state=42)\n",
    "X_train, y_train = sm.fit_resample(X_train, y_train)"
   ]
  },
  {
   "cell_type": "code",
   "execution_count": 69,
   "id": "d5d56089",
   "metadata": {
    "execution": {
     "iopub.execute_input": "2022-07-08T05:00:59.110416Z",
     "iopub.status.busy": "2022-07-08T05:00:59.109847Z",
     "iopub.status.idle": "2022-07-08T05:00:59.115431Z",
     "shell.execute_reply": "2022-07-08T05:00:59.114458Z"
    },
    "papermill": {
     "duration": 0.231882,
     "end_time": "2022-07-08T05:00:59.117599",
     "exception": false,
     "start_time": "2022-07-08T05:00:58.885717",
     "status": "completed"
    },
    "tags": []
   },
   "outputs": [
    {
     "name": "stdout",
     "output_type": "stream",
     "text": [
      "Resampled dataset samples per class Counter({0: 284, 1: 284})\n"
     ]
    }
   ],
   "source": [
    "print(f'Resampled dataset samples per class {Counter(y_train)}')"
   ]
  },
  {
   "cell_type": "code",
   "execution_count": 70,
   "id": "5741bb68",
   "metadata": {
    "execution": {
     "iopub.execute_input": "2022-07-08T05:00:59.562464Z",
     "iopub.status.busy": "2022-07-08T05:00:59.562017Z",
     "iopub.status.idle": "2022-07-08T05:00:59.569980Z",
     "shell.execute_reply": "2022-07-08T05:00:59.568700Z"
    },
    "papermill": {
     "duration": 0.232877,
     "end_time": "2022-07-08T05:00:59.572038",
     "exception": false,
     "start_time": "2022-07-08T05:00:59.339161",
     "status": "completed"
    },
    "tags": []
   },
   "outputs": [
    {
     "name": "stdout",
     "output_type": "stream",
     "text": [
      "(568, 18)\n"
     ]
    },
    {
     "data": {
      "text/plain": [
       "array([[0., 1., 0., ..., 0., 0., 0.],\n",
       "       [0., 0., 0., ..., 0., 0., 1.],\n",
       "       [0., 0., 1., ..., 0., 0., 0.],\n",
       "       ...,\n",
       "       [0., 0., 0., ..., 0., 1., 0.],\n",
       "       [0., 0., 0., ..., 0., 1., 0.],\n",
       "       [0., 0., 0., ..., 0., 1., 0.]])"
      ]
     },
     "execution_count": 70,
     "metadata": {},
     "output_type": "execute_result"
    }
   ],
   "source": [
    "print(X_train.shape)\n",
    "X_train"
   ]
  },
  {
   "cell_type": "code",
   "execution_count": 71,
   "id": "43b164b8",
   "metadata": {
    "execution": {
     "iopub.execute_input": "2022-07-08T05:01:00.023942Z",
     "iopub.status.busy": "2022-07-08T05:01:00.023375Z",
     "iopub.status.idle": "2022-07-08T05:01:00.030617Z",
     "shell.execute_reply": "2022-07-08T05:01:00.029857Z"
    },
    "papermill": {
     "duration": 0.23672,
     "end_time": "2022-07-08T05:01:00.032528",
     "exception": false,
     "start_time": "2022-07-08T05:00:59.795808",
     "status": "completed"
    },
    "tags": []
   },
   "outputs": [
    {
     "data": {
      "text/plain": [
       "0      0\n",
       "1      1\n",
       "2      0\n",
       "3      0\n",
       "4      0\n",
       "      ..\n",
       "563    1\n",
       "564    1\n",
       "565    1\n",
       "566    1\n",
       "567    1\n",
       "Name: Approved, Length: 568, dtype: int64"
      ]
     },
     "execution_count": 71,
     "metadata": {},
     "output_type": "execute_result"
    }
   ],
   "source": [
    "y_train"
   ]
  },
  {
   "cell_type": "code",
   "execution_count": 72,
   "id": "3d07e062",
   "metadata": {
    "execution": {
     "iopub.execute_input": "2022-07-08T05:01:00.484026Z",
     "iopub.status.busy": "2022-07-08T05:01:00.483412Z",
     "iopub.status.idle": "2022-07-08T05:01:00.492140Z",
     "shell.execute_reply": "2022-07-08T05:01:00.490763Z"
    },
    "papermill": {
     "duration": 0.237351,
     "end_time": "2022-07-08T05:01:00.494931",
     "exception": false,
     "start_time": "2022-07-08T05:01:00.257580",
     "status": "completed"
    },
    "tags": []
   },
   "outputs": [
    {
     "name": "stdout",
     "output_type": "stream",
     "text": [
      "(568,)\n"
     ]
    },
    {
     "data": {
      "text/plain": [
       "array([0, 1, 0, 0, 0, 0, 0, 1, 0, 0, 0, 0, 0, 0, 0, 1, 0, 0, 1, 0, 1, 0,\n",
       "       0, 0, 0, 1, 1, 1, 0, 1, 1, 1, 0, 1, 0, 0, 1, 0, 0, 1, 0, 0, 0, 1,\n",
       "       1, 1, 1, 0, 0, 0, 1, 0, 0, 0, 1, 1, 1, 1, 1, 0, 0, 0, 0, 1, 0, 0,\n",
       "       1, 1, 1, 0, 0, 0, 0, 0, 0, 1, 0, 1, 0, 1, 0, 1, 0, 1, 0, 0, 0, 0,\n",
       "       0, 1, 0, 1, 0, 0, 0, 0, 0, 1, 1, 0, 1, 1, 1, 1, 1, 0, 0, 1, 0, 0,\n",
       "       0, 1, 0, 1, 1, 1, 0, 0, 1, 0, 0, 1, 0, 1, 1, 0, 1, 1, 1, 0, 1, 0,\n",
       "       1, 0, 1, 1, 0, 0, 0, 1, 1, 1, 0, 0, 0, 0, 0, 1, 0, 0, 1, 0, 0, 0,\n",
       "       1, 0, 1, 1, 1, 1, 0, 1, 1, 0, 1, 1, 0, 0, 0, 0, 0, 0, 0, 1, 0, 1,\n",
       "       1, 0, 1, 0, 0, 0, 0, 1, 0, 0, 1, 0, 0, 0, 1, 1, 1, 1, 1, 0, 0, 0,\n",
       "       0, 0, 1, 1, 0, 0, 0, 1, 0, 0, 1, 0, 1, 1, 0, 1, 0, 1, 0, 1, 0, 1,\n",
       "       0, 1, 0, 1, 0, 1, 1, 1, 0, 0, 0, 1, 0, 0, 0, 1, 0, 0, 1, 1, 1, 0,\n",
       "       0, 1, 0, 0, 0, 0, 1, 0, 1, 1, 1, 1, 1, 1, 1, 0, 1, 0, 0, 0, 0, 0,\n",
       "       0, 1, 1, 0, 1, 1, 0, 1, 0, 0, 0, 1, 1, 1, 0, 0, 0, 0, 1, 1, 1, 0,\n",
       "       0, 1, 1, 1, 1, 1, 0, 0, 1, 0, 0, 0, 1, 0, 1, 0, 1, 1, 0, 0, 1, 1,\n",
       "       0, 1, 0, 1, 1, 0, 0, 0, 0, 1, 1, 0, 0, 0, 0, 0, 0, 0, 0, 0, 1, 0,\n",
       "       0, 1, 1, 0, 0, 1, 0, 1, 0, 1, 0, 0, 0, 1, 1, 1, 0, 0, 1, 0, 1, 1,\n",
       "       1, 0, 0, 1, 0, 0, 0, 1, 0, 1, 0, 0, 0, 1, 0, 0, 1, 0, 0, 0, 1, 0,\n",
       "       0, 1, 1, 0, 0, 0, 0, 1, 1, 0, 1, 1, 1, 1, 0, 1, 1, 0, 1, 0, 0, 0,\n",
       "       0, 1, 1, 1, 0, 0, 1, 0, 0, 0, 0, 1, 0, 0, 0, 0, 0, 1, 1, 1, 0, 0,\n",
       "       1, 0, 1, 0, 0, 0, 1, 0, 0, 1, 0, 1, 0, 0, 1, 0, 1, 1, 0, 0, 1, 0,\n",
       "       1, 1, 0, 1, 0, 1, 0, 0, 0, 0, 1, 0, 0, 0, 0, 0, 0, 0, 1, 1, 0, 0,\n",
       "       1, 1, 1, 0, 0, 1, 1, 1, 0, 0, 0, 1, 1, 1, 0, 0, 1, 0, 1, 1, 0, 0,\n",
       "       0, 1, 1, 0, 1, 0, 0, 0, 0, 1, 1, 0, 1, 1, 1, 1, 1, 1, 1, 1, 1, 1,\n",
       "       1, 1, 1, 1, 1, 1, 1, 1, 1, 1, 1, 1, 1, 1, 1, 1, 1, 1, 1, 1, 1, 1,\n",
       "       1, 1, 1, 1, 1, 1, 1, 1, 1, 1, 1, 1, 1, 1, 1, 1, 1, 1, 1, 1, 1, 1,\n",
       "       1, 1, 1, 1, 1, 1, 1, 1, 1, 1, 1, 1, 1, 1, 1, 1, 1, 1])"
      ]
     },
     "execution_count": 72,
     "metadata": {},
     "output_type": "execute_result"
    }
   ],
   "source": [
    "y_train=y_train.values\n",
    "print(y_train.shape)\n",
    "y_train"
   ]
  },
  {
   "cell_type": "markdown",
   "id": "501358df",
   "metadata": {
    "papermill": {
     "duration": 0.230524,
     "end_time": "2022-07-08T05:01:00.951058",
     "exception": false,
     "start_time": "2022-07-08T05:01:00.720534",
     "status": "completed"
    },
    "tags": []
   },
   "source": [
    "---\n",
    "## FEATURE EXTRACTION"
   ]
  },
  {
   "cell_type": "code",
   "execution_count": 73,
   "id": "998701d4",
   "metadata": {
    "execution": {
     "iopub.execute_input": "2022-07-08T05:01:01.458188Z",
     "iopub.status.busy": "2022-07-08T05:01:01.457752Z",
     "iopub.status.idle": "2022-07-08T05:01:01.717846Z",
     "shell.execute_reply": "2022-07-08T05:01:01.717014Z"
    },
    "papermill": {
     "duration": 0.542986,
     "end_time": "2022-07-08T05:01:01.720043",
     "exception": false,
     "start_time": "2022-07-08T05:01:01.177057",
     "status": "completed"
    },
    "tags": []
   },
   "outputs": [
    {
     "data": {
      "image/png": "[encoded data removed]",
      "text/plain": [
       "<Figure size 864x576 with 1 Axes>"
      ]
     },
     "metadata": {
      "needs_background": "light"
     },
     "output_type": "display_data"
    }
   ],
   "source": [
    "from sklearn.decomposition import PCA\n",
    "\n",
    "plt.figure(figsize=(12,8))\n",
    "pca_dummy = PCA(n_components=None, random_state=42)\n",
    "X_dummy = X_train\n",
    "X_dummy = pca_dummy.fit_transform(X_dummy)\n",
    "plt.plot(np.cumsum(pca_dummy.explained_variance_ratio_))\n",
    "plt.axhline(y = 0.95, c='r', linewidth =1, linestyle='--', label = \"Explained Variance: 95%\")\n",
    "plt.axvline(x=12, c='r', linestyle = '--', lw=1)\n",
    "plt.margins(0.1)\n",
    "plt.legend=True\n",
    "plt.title('Number of features to be extracted: 12', pad=30, fontsize = 16)\n",
    "plt.xlabel('features explaining 95% variance')\n",
    "plt.show();"
   ]
  },
  {
   "cell_type": "code",
   "execution_count": 74,
   "id": "b9aae285",
   "metadata": {
    "execution": {
     "iopub.execute_input": "2022-07-08T05:01:02.217802Z",
     "iopub.status.busy": "2022-07-08T05:01:02.217516Z",
     "iopub.status.idle": "2022-07-08T05:01:02.231476Z",
     "shell.execute_reply": "2022-07-08T05:01:02.230175Z"
    },
    "papermill": {
     "duration": 0.270614,
     "end_time": "2022-07-08T05:01:02.235081",
     "exception": false,
     "start_time": "2022-07-08T05:01:01.964467",
     "status": "completed"
    },
    "tags": []
   },
   "outputs": [],
   "source": [
    "pca = PCA(n_components=12, random_state=42)\n",
    "X_train = pca.fit_transform(X_train)\n",
    "X_validate = pca.transform(X_validate)"
   ]
  },
  {
   "cell_type": "code",
   "execution_count": 75,
   "id": "0c142077",
   "metadata": {
    "execution": {
     "iopub.execute_input": "2022-07-08T05:01:02.749769Z",
     "iopub.status.busy": "2022-07-08T05:01:02.749491Z",
     "iopub.status.idle": "2022-07-08T05:01:02.755329Z",
     "shell.execute_reply": "2022-07-08T05:01:02.754062Z"
    },
    "papermill": {
     "duration": 0.237052,
     "end_time": "2022-07-08T05:01:02.757540",
     "exception": false,
     "start_time": "2022-07-08T05:01:02.520488",
     "status": "completed"
    },
    "tags": []
   },
   "outputs": [
    {
     "name": "stdout",
     "output_type": "stream",
     "text": [
      "(568, 12) (56, 12)\n",
      "(568,) (56,)\n"
     ]
    }
   ],
   "source": [
    "print(X_train.shape, X_validate.shape)\n",
    "print(y_train.shape, y_validate.shape)"
   ]
  },
  {
   "cell_type": "markdown",
   "id": "5eb75c12",
   "metadata": {
    "papermill": {
     "duration": 0.232305,
     "end_time": "2022-07-08T05:01:03.223815",
     "exception": false,
     "start_time": "2022-07-08T05:01:02.991510",
     "status": "completed"
    },
    "tags": []
   },
   "source": [
    "---\n",
    "## ML MODELLING\n",
    "\n",
    "1. Linear Models\n",
    "    - Logistic Regression\n",
    "    - SGDClassifier\n",
    "    - PassiveAggressiveClassifier\n",
    "    \n",
    "    \n",
    "2. Kernel-based Models\n",
    "    - Support Vector Classifier\n",
    "    \n",
    "    \n",
    "3. Non-Parameteric Models\n",
    "    - KNeighbors Classifier\n",
    "    \n",
    "    \n",
    "4. Bayesian Models\n",
    "    - Bernoulli Naive Bayes\n",
    "    \n",
    "    \n",
    "5. Tree-Based Models\n",
    "    - Decision Tree Classifier\n",
    "    - Extra Tree Classifier\n",
    "    \n",
    "    \n",
    "6. Ensemble Models\n",
    "    - Bagging Classifier\n",
    "    - AdaBoost \n",
    "    - Random Forest\n",
    "    - Stacking Classifier\n",
    "    - Histogram Gradient Boosting Classifier\n",
    "    - Extreme Gradient Boosting Classifier"
   ]
  },
  {
   "cell_type": "markdown",
   "id": "0b2e9335",
   "metadata": {
    "papermill": {
     "duration": 0.233447,
     "end_time": "2022-07-08T05:01:03.694153",
     "exception": false,
     "start_time": "2022-07-08T05:01:03.460706",
     "status": "completed"
    },
    "tags": []
   },
   "source": [
    "---\n",
    "### Metric Used: Accuracy, F1-Score"
   ]
  },
  {
   "cell_type": "code",
   "execution_count": 76,
   "id": "e0fcd79c",
   "metadata": {
    "execution": {
     "iopub.execute_input": "2022-07-08T05:01:04.159664Z",
     "iopub.status.busy": "2022-07-08T05:01:04.159370Z",
     "iopub.status.idle": "2022-07-08T05:01:04.163407Z",
     "shell.execute_reply": "2022-07-08T05:01:04.162440Z"
    },
    "papermill": {
     "duration": 0.239955,
     "end_time": "2022-07-08T05:01:04.165686",
     "exception": false,
     "start_time": "2022-07-08T05:01:03.925731",
     "status": "completed"
    },
    "tags": []
   },
   "outputs": [],
   "source": [
    "from sklearn.metrics import accuracy_score, f1_score"
   ]
  },
  {
   "cell_type": "markdown",
   "id": "ce000790",
   "metadata": {
    "papermill": {
     "duration": 0.234243,
     "end_time": "2022-07-08T05:01:04.637727",
     "exception": false,
     "start_time": "2022-07-08T05:01:04.403484",
     "status": "completed"
    },
    "tags": []
   },
   "source": [
    "---\n",
    "### Linear Models | Base model accuracy: 78.57%"
   ]
  },
  {
   "cell_type": "markdown",
   "id": "a2ca2982",
   "metadata": {
    "papermill": {
     "duration": 0.233735,
     "end_time": "2022-07-08T05:01:05.099773",
     "exception": false,
     "start_time": "2022-07-08T05:01:04.866038",
     "status": "completed"
    },
    "tags": []
   },
   "source": [
    "#### Logistic Regression"
   ]
  },
  {
   "cell_type": "code",
   "execution_count": 77,
   "id": "38719ed4",
   "metadata": {
    "execution": {
     "iopub.execute_input": "2022-07-08T05:01:05.572604Z",
     "iopub.status.busy": "2022-07-08T05:01:05.571781Z",
     "iopub.status.idle": "2022-07-08T05:01:05.576143Z",
     "shell.execute_reply": "2022-07-08T05:01:05.575563Z"
    },
    "papermill": {
     "duration": 0.247402,
     "end_time": "2022-07-08T05:01:05.578042",
     "exception": false,
     "start_time": "2022-07-08T05:01:05.330640",
     "status": "completed"
    },
    "tags": []
   },
   "outputs": [],
   "source": [
    "from sklearn.linear_model import LogisticRegression\n",
    "\n",
    "lr = LogisticRegression(random_state=42)"
   ]
  },
  {
   "cell_type": "code",
   "execution_count": 78,
   "id": "b7be1a50",
   "metadata": {
    "execution": {
     "iopub.execute_input": "2022-07-08T05:01:06.047050Z",
     "iopub.status.busy": "2022-07-08T05:01:06.046111Z",
     "iopub.status.idle": "2022-07-08T05:01:06.061096Z",
     "shell.execute_reply": "2022-07-08T05:01:06.060154Z"
    },
    "papermill": {
     "duration": 0.247183,
     "end_time": "2022-07-08T05:01:06.063143",
     "exception": false,
     "start_time": "2022-07-08T05:01:05.815960",
     "status": "completed"
    },
    "tags": []
   },
   "outputs": [
    {
     "data": {
      "text/html": [
       "<style>#sk-b793057e-83ad-4ae6-81bc-05716acb2dc5 {color: black;background-color: white;}#sk-b793057e-83ad-4ae6-81bc-05716acb2dc5 pre{padding: 0;}#sk-b793057e-83ad-4ae6-81bc-05716acb2dc5 div.sk-toggleable {background-color: white;}#sk-b793057e-83ad-4ae6-81bc-05716acb2dc5 label.sk-toggleable__label {cursor: pointer;display: block;width: 100%;margin-bottom: 0;padding: 0.3em;box-sizing: border-box;text-align: center;}#sk-b793057e-83ad-4ae6-81bc-05716acb2dc5 label.sk-toggleable__label-arrow:before {content: \"▸\";float: left;margin-right: 0.25em;color: #696969;}#sk-b793057e-83ad-4ae6-81bc-05716acb2dc5 label.sk-toggleable__label-arrow:hover:before {color: black;}#sk-b793057e-83ad-4ae6-81bc-05716acb2dc5 div.sk-estimator:hover label.sk-toggleable__label-arrow:before {color: black;}#sk-b793057e-83ad-4ae6-81bc-05716acb2dc5 div.sk-toggleable__content {max-height: 0;max-width: 0;overflow: hidden;text-align: left;background-color: #f0f8ff;}#sk-b793057e-83ad-4ae6-81bc-05716acb2dc5 div.sk-toggleable__content pre {margin: 0.2em;color: black;border-radius: 0.25em;background-color: #f0f8ff;}#sk-b793057e-83ad-4ae6-81bc-05716acb2dc5 input.sk-toggleable__control:checked~div.sk-toggleable__content {max-height: 200px;max-width: 100%;overflow: auto;}#sk-b793057e-83ad-4ae6-81bc-05716acb2dc5 input.sk-toggleable__control:checked~label.sk-toggleable__label-arrow:before {content: \"▾\";}#sk-b793057e-83ad-4ae6-81bc-05716acb2dc5 div.sk-estimator input.sk-toggleable__control:checked~label.sk-toggleable__label {background-color: #d4ebff;}#sk-b793057e-83ad-4ae6-81bc-05716acb2dc5 div.sk-label input.sk-toggleable__control:checked~label.sk-toggleable__label {background-color: #d4ebff;}#sk-b793057e-83ad-4ae6-81bc-05716acb2dc5 input.sk-hidden--visually {border: 0;clip: rect(1px 1px 1px 1px);clip: rect(1px, 1px, 1px, 1px);height: 1px;margin: -1px;overflow: hidden;padding: 0;position: absolute;width: 1px;}#sk-b793057e-83ad-4ae6-81bc-05716acb2dc5 div.sk-estimator {font-family: monospace;background-color: #f0f8ff;border: 1px dotted black;border-radius: 0.25em;box-sizing: border-box;margin-bottom: 0.5em;}#sk-b793057e-83ad-4ae6-81bc-05716acb2dc5 div.sk-estimator:hover {background-color: #d4ebff;}#sk-b793057e-83ad-4ae6-81bc-05716acb2dc5 div.sk-parallel-item::after {content: \"\";width: 100%;border-bottom: 1px solid gray;flex-grow: 1;}#sk-b793057e-83ad-4ae6-81bc-05716acb2dc5 div.sk-label:hover label.sk-toggleable__label {background-color: #d4ebff;}#sk-b793057e-83ad-4ae6-81bc-05716acb2dc5 div.sk-serial::before {content: \"\";position: absolute;border-left: 1px solid gray;box-sizing: border-box;top: 2em;bottom: 0;left: 50%;}#sk-b793057e-83ad-4ae6-81bc-05716acb2dc5 div.sk-serial {display: flex;flex-direction: column;align-items: center;background-color: white;padding-right: 0.2em;padding-left: 0.2em;}#sk-b793057e-83ad-4ae6-81bc-05716acb2dc5 div.sk-item {z-index: 1;}#sk-b793057e-83ad-4ae6-81bc-05716acb2dc5 div.sk-parallel {display: flex;align-items: stretch;justify-content: center;background-color: white;}#sk-b793057e-83ad-4ae6-81bc-05716acb2dc5 div.sk-parallel::before {content: \"\";position: absolute;border-left: 1px solid gray;box-sizing: border-box;top: 2em;bottom: 0;left: 50%;}#sk-b793057e-83ad-4ae6-81bc-05716acb2dc5 div.sk-parallel-item {display: flex;flex-direction: column;position: relative;background-color: white;}#sk-b793057e-83ad-4ae6-81bc-05716acb2dc5 div.sk-parallel-item:first-child::after {align-self: flex-end;width: 50%;}#sk-b793057e-83ad-4ae6-81bc-05716acb2dc5 div.sk-parallel-item:last-child::after {align-self: flex-start;width: 50%;}#sk-b793057e-83ad-4ae6-81bc-05716acb2dc5 div.sk-parallel-item:only-child::after {width: 0;}#sk-b793057e-83ad-4ae6-81bc-05716acb2dc5 div.sk-dashed-wrapped {border: 1px dashed gray;margin: 0 0.4em 0.5em 0.4em;box-sizing: border-box;padding-bottom: 0.4em;background-color: white;position: relative;}#sk-b793057e-83ad-4ae6-81bc-05716acb2dc5 div.sk-label label {font-family: monospace;font-weight: bold;background-color: white;display: inline-block;line-height: 1.2em;}#sk-b793057e-83ad-4ae6-81bc-05716acb2dc5 div.sk-label-container {position: relative;z-index: 2;text-align: center;}#sk-b793057e-83ad-4ae6-81bc-05716acb2dc5 div.sk-container {/* jupyter's `normalize.less` sets `[hidden] { display: none; }` but bootstrap.min.css set `[hidden] { display: none !important; }` so we also need the `!important` here to be able to override the default hidden behavior on the sphinx rendered scikit-learn.org. See: https://github.com/scikit-learn/scikit-learn/issues/21755 */display: inline-block !important;position: relative;}#sk-b793057e-83ad-4ae6-81bc-05716acb2dc5 div.sk-text-repr-fallback {display: none;}</style><div id=\"sk-b793057e-83ad-4ae6-81bc-05716acb2dc5\" class=\"sk-top-container\"><div class=\"sk-text-repr-fallback\"><pre>LogisticRegression(random_state=42)</pre><b>Please rerun this cell to show the HTML repr or trust the notebook.</b></div><div class=\"sk-container\" hidden><div class=\"sk-item\"><div class=\"sk-estimator sk-toggleable\"><input class=\"sk-toggleable__control sk-hidden--visually\" id=\"eb3a084f-3747-43b3-bd0a-76ea8c881d5f\" type=\"checkbox\" checked><label for=\"eb3a084f-3747-43b3-bd0a-76ea8c881d5f\" class=\"sk-toggleable__label sk-toggleable__label-arrow\">LogisticRegression</label><div class=\"sk-toggleable__content\"><pre>LogisticRegression(random_state=42)</pre></div></div></div></div></div>"
      ],
      "text/plain": [
       "LogisticRegression(random_state=42)"
      ]
     },
     "execution_count": 78,
     "metadata": {},
     "output_type": "execute_result"
    }
   ],
   "source": [
    "lr.fit(X_train, y_train)"
   ]
  },
  {
   "cell_type": "code",
   "execution_count": 79,
   "id": "530694be",
   "metadata": {
    "execution": {
     "iopub.execute_input": "2022-07-08T05:01:06.526047Z",
     "iopub.status.busy": "2022-07-08T05:01:06.525210Z",
     "iopub.status.idle": "2022-07-08T05:01:06.529944Z",
     "shell.execute_reply": "2022-07-08T05:01:06.529182Z"
    },
    "papermill": {
     "duration": 0.237042,
     "end_time": "2022-07-08T05:01:06.532055",
     "exception": false,
     "start_time": "2022-07-08T05:01:06.295013",
     "status": "completed"
    },
    "tags": []
   },
   "outputs": [],
   "source": [
    "y_pred = lr.predict(X_validate)"
   ]
  },
  {
   "cell_type": "code",
   "execution_count": 80,
   "id": "ae07d91f",
   "metadata": {
    "execution": {
     "iopub.execute_input": "2022-07-08T05:01:06.994139Z",
     "iopub.status.busy": "2022-07-08T05:01:06.993592Z",
     "iopub.status.idle": "2022-07-08T05:01:07.000189Z",
     "shell.execute_reply": "2022-07-08T05:01:06.998936Z"
    },
    "papermill": {
     "duration": 0.241601,
     "end_time": "2022-07-08T05:01:07.002574",
     "exception": false,
     "start_time": "2022-07-08T05:01:06.760973",
     "status": "completed"
    },
    "tags": []
   },
   "outputs": [
    {
     "name": "stdout",
     "output_type": "stream",
     "text": [
      "Accuracy: 78.57%\n",
      "F1-Score: 79.31%\n"
     ]
    }
   ],
   "source": [
    "print(f'Accuracy: {accuracy_score(y_validate, y_pred)*100:.2f}%\\nF1-Score: {f1_score(y_validate, y_pred)*100:.2f}%')"
   ]
  },
  {
   "cell_type": "markdown",
   "id": "66ed308a",
   "metadata": {
    "papermill": {
     "duration": 0.225878,
     "end_time": "2022-07-08T05:01:07.455627",
     "exception": false,
     "start_time": "2022-07-08T05:01:07.229749",
     "status": "completed"
    },
    "tags": []
   },
   "source": [
    "#### Stochastic Gradient Descent Classifier"
   ]
  },
  {
   "cell_type": "code",
   "execution_count": 81,
   "id": "e5ab76c6",
   "metadata": {
    "execution": {
     "iopub.execute_input": "2022-07-08T05:01:07.916833Z",
     "iopub.status.busy": "2022-07-08T05:01:07.915990Z",
     "iopub.status.idle": "2022-07-08T05:01:07.919967Z",
     "shell.execute_reply": "2022-07-08T05:01:07.919345Z"
    },
    "papermill": {
     "duration": 0.238753,
     "end_time": "2022-07-08T05:01:07.921858",
     "exception": false,
     "start_time": "2022-07-08T05:01:07.683105",
     "status": "completed"
    },
    "tags": []
   },
   "outputs": [],
   "source": [
    "from sklearn.linear_model import SGDClassifier\n",
    "\n",
    "sgd = SGDClassifier(random_state=42)"
   ]
  },
  {
   "cell_type": "code",
   "execution_count": 82,
   "id": "9649a168",
   "metadata": {
    "execution": {
     "iopub.execute_input": "2022-07-08T05:01:08.383787Z",
     "iopub.status.busy": "2022-07-08T05:01:08.382948Z",
     "iopub.status.idle": "2022-07-08T05:01:08.394497Z",
     "shell.execute_reply": "2022-07-08T05:01:08.393674Z"
    },
    "papermill": {
     "duration": 0.243165,
     "end_time": "2022-07-08T05:01:08.397142",
     "exception": false,
     "start_time": "2022-07-08T05:01:08.153977",
     "status": "completed"
    },
    "tags": []
   },
   "outputs": [
    {
     "data": {
      "text/html": [
       "<style>#sk-1eef83df-e03d-466c-be58-2303114857d8 {color: black;background-color: white;}#sk-1eef83df-e03d-466c-be58-2303114857d8 pre{padding: 0;}#sk-1eef83df-e03d-466c-be58-2303114857d8 div.sk-toggleable {background-color: white;}#sk-1eef83df-e03d-466c-be58-2303114857d8 label.sk-toggleable__label {cursor: pointer;display: block;width: 100%;margin-bottom: 0;padding: 0.3em;box-sizing: border-box;text-align: center;}#sk-1eef83df-e03d-466c-be58-2303114857d8 label.sk-toggleable__label-arrow:before {content: \"▸\";float: left;margin-right: 0.25em;color: #696969;}#sk-1eef83df-e03d-466c-be58-2303114857d8 label.sk-toggleable__label-arrow:hover:before {color: black;}#sk-1eef83df-e03d-466c-be58-2303114857d8 div.sk-estimator:hover label.sk-toggleable__label-arrow:before {color: black;}#sk-1eef83df-e03d-466c-be58-2303114857d8 div.sk-toggleable__content {max-height: 0;max-width: 0;overflow: hidden;text-align: left;background-color: #f0f8ff;}#sk-1eef83df-e03d-466c-be58-2303114857d8 div.sk-toggleable__content pre {margin: 0.2em;color: black;border-radius: 0.25em;background-color: #f0f8ff;}#sk-1eef83df-e03d-466c-be58-2303114857d8 input.sk-toggleable__control:checked~div.sk-toggleable__content {max-height: 200px;max-width: 100%;overflow: auto;}#sk-1eef83df-e03d-466c-be58-2303114857d8 input.sk-toggleable__control:checked~label.sk-toggleable__label-arrow:before {content: \"▾\";}#sk-1eef83df-e03d-466c-be58-2303114857d8 div.sk-estimator input.sk-toggleable__control:checked~label.sk-toggleable__label {background-color: #d4ebff;}#sk-1eef83df-e03d-466c-be58-2303114857d8 div.sk-label input.sk-toggleable__control:checked~label.sk-toggleable__label {background-color: #d4ebff;}#sk-1eef83df-e03d-466c-be58-2303114857d8 input.sk-hidden--visually {border: 0;clip: rect(1px 1px 1px 1px);clip: rect(1px, 1px, 1px, 1px);height: 1px;margin: -1px;overflow: hidden;padding: 0;position: absolute;width: 1px;}#sk-1eef83df-e03d-466c-be58-2303114857d8 div.sk-estimator {font-family: monospace;background-color: #f0f8ff;border: 1px dotted black;border-radius: 0.25em;box-sizing: border-box;margin-bottom: 0.5em;}#sk-1eef83df-e03d-466c-be58-2303114857d8 div.sk-estimator:hover {background-color: #d4ebff;}#sk-1eef83df-e03d-466c-be58-2303114857d8 div.sk-parallel-item::after {content: \"\";width: 100%;border-bottom: 1px solid gray;flex-grow: 1;}#sk-1eef83df-e03d-466c-be58-2303114857d8 div.sk-label:hover label.sk-toggleable__label {background-color: #d4ebff;}#sk-1eef83df-e03d-466c-be58-2303114857d8 div.sk-serial::before {content: \"\";position: absolute;border-left: 1px solid gray;box-sizing: border-box;top: 2em;bottom: 0;left: 50%;}#sk-1eef83df-e03d-466c-be58-2303114857d8 div.sk-serial {display: flex;flex-direction: column;align-items: center;background-color: white;padding-right: 0.2em;padding-left: 0.2em;}#sk-1eef83df-e03d-466c-be58-2303114857d8 div.sk-item {z-index: 1;}#sk-1eef83df-e03d-466c-be58-2303114857d8 div.sk-parallel {display: flex;align-items: stretch;justify-content: center;background-color: white;}#sk-1eef83df-e03d-466c-be58-2303114857d8 div.sk-parallel::before {content: \"\";position: absolute;border-left: 1px solid gray;box-sizing: border-box;top: 2em;bottom: 0;left: 50%;}#sk-1eef83df-e03d-466c-be58-2303114857d8 div.sk-parallel-item {display: flex;flex-direction: column;position: relative;background-color: white;}#sk-1eef83df-e03d-466c-be58-2303114857d8 div.sk-parallel-item:first-child::after {align-self: flex-end;width: 50%;}#sk-1eef83df-e03d-466c-be58-2303114857d8 div.sk-parallel-item:last-child::after {align-self: flex-start;width: 50%;}#sk-1eef83df-e03d-466c-be58-2303114857d8 div.sk-parallel-item:only-child::after {width: 0;}#sk-1eef83df-e03d-466c-be58-2303114857d8 div.sk-dashed-wrapped {border: 1px dashed gray;margin: 0 0.4em 0.5em 0.4em;box-sizing: border-box;padding-bottom: 0.4em;background-color: white;position: relative;}#sk-1eef83df-e03d-466c-be58-2303114857d8 div.sk-label label {font-family: monospace;font-weight: bold;background-color: white;display: inline-block;line-height: 1.2em;}#sk-1eef83df-e03d-466c-be58-2303114857d8 div.sk-label-container {position: relative;z-index: 2;text-align: center;}#sk-1eef83df-e03d-466c-be58-2303114857d8 div.sk-container {/* jupyter's `normalize.less` sets `[hidden] { display: none; }` but bootstrap.min.css set `[hidden] { display: none !important; }` so we also need the `!important` here to be able to override the default hidden behavior on the sphinx rendered scikit-learn.org. See: https://github.com/scikit-learn/scikit-learn/issues/21755 */display: inline-block !important;position: relative;}#sk-1eef83df-e03d-466c-be58-2303114857d8 div.sk-text-repr-fallback {display: none;}</style><div id=\"sk-1eef83df-e03d-466c-be58-2303114857d8\" class=\"sk-top-container\"><div class=\"sk-text-repr-fallback\"><pre>SGDClassifier(random_state=42)</pre><b>Please rerun this cell to show the HTML repr or trust the notebook.</b></div><div class=\"sk-container\" hidden><div class=\"sk-item\"><div class=\"sk-estimator sk-toggleable\"><input class=\"sk-toggleable__control sk-hidden--visually\" id=\"c6e403a3-40c9-410f-b520-f1a6ef1ce75e\" type=\"checkbox\" checked><label for=\"c6e403a3-40c9-410f-b520-f1a6ef1ce75e\" class=\"sk-toggleable__label sk-toggleable__label-arrow\">SGDClassifier</label><div class=\"sk-toggleable__content\"><pre>SGDClassifier(random_state=42)</pre></div></div></div></div></div>"
      ],
      "text/plain": [
       "SGDClassifier(random_state=42)"
      ]
     },
     "execution_count": 82,
     "metadata": {},
     "output_type": "execute_result"
    }
   ],
   "source": [
    "sgd.fit(X_train, y_train)"
   ]
  },
  {
   "cell_type": "code",
   "execution_count": 83,
   "id": "93c501d1",
   "metadata": {
    "execution": {
     "iopub.execute_input": "2022-07-08T05:01:08.859980Z",
     "iopub.status.busy": "2022-07-08T05:01:08.859203Z",
     "iopub.status.idle": "2022-07-08T05:01:08.863403Z",
     "shell.execute_reply": "2022-07-08T05:01:08.862603Z"
    },
    "papermill": {
     "duration": 0.238739,
     "end_time": "2022-07-08T05:01:08.865464",
     "exception": false,
     "start_time": "2022-07-08T05:01:08.626725",
     "status": "completed"
    },
    "tags": []
   },
   "outputs": [],
   "source": [
    "y_pred = sgd.predict(X_validate)"
   ]
  },
  {
   "cell_type": "code",
   "execution_count": 84,
   "id": "47e3ca56",
   "metadata": {
    "execution": {
     "iopub.execute_input": "2022-07-08T05:01:09.324828Z",
     "iopub.status.busy": "2022-07-08T05:01:09.324239Z",
     "iopub.status.idle": "2022-07-08T05:01:09.330316Z",
     "shell.execute_reply": "2022-07-08T05:01:09.329554Z"
    },
    "papermill": {
     "duration": 0.237529,
     "end_time": "2022-07-08T05:01:09.332818",
     "exception": false,
     "start_time": "2022-07-08T05:01:09.095289",
     "status": "completed"
    },
    "tags": []
   },
   "outputs": [
    {
     "name": "stdout",
     "output_type": "stream",
     "text": [
      "Accuracy: 78.57%\n",
      "F1-Score: 79.31%\n"
     ]
    }
   ],
   "source": [
    "print(f'Accuracy: {accuracy_score(y_validate, y_pred)*100:.2f}%\\nF1-Score: {f1_score(y_validate, y_pred)*100:.2f}%')"
   ]
  },
  {
   "cell_type": "markdown",
   "id": "b3567275",
   "metadata": {
    "papermill": {
     "duration": 0.227127,
     "end_time": "2022-07-08T05:01:09.787618",
     "exception": false,
     "start_time": "2022-07-08T05:01:09.560491",
     "status": "completed"
    },
    "tags": []
   },
   "source": [
    "#### Passive Aggressive Classifier"
   ]
  },
  {
   "cell_type": "code",
   "execution_count": 85,
   "id": "7508973f",
   "metadata": {
    "execution": {
     "iopub.execute_input": "2022-07-08T05:01:10.276679Z",
     "iopub.status.busy": "2022-07-08T05:01:10.275940Z",
     "iopub.status.idle": "2022-07-08T05:01:10.279885Z",
     "shell.execute_reply": "2022-07-08T05:01:10.279287Z"
    },
    "papermill": {
     "duration": 0.235922,
     "end_time": "2022-07-08T05:01:10.281784",
     "exception": false,
     "start_time": "2022-07-08T05:01:10.045862",
     "status": "completed"
    },
    "tags": []
   },
   "outputs": [],
   "source": [
    "from sklearn.linear_model import PassiveAggressiveClassifier\n",
    "\n",
    "pac = PassiveAggressiveClassifier(random_state=42)"
   ]
  },
  {
   "cell_type": "code",
   "execution_count": 86,
   "id": "e487d5ee",
   "metadata": {
    "execution": {
     "iopub.execute_input": "2022-07-08T05:01:10.741316Z",
     "iopub.status.busy": "2022-07-08T05:01:10.741014Z",
     "iopub.status.idle": "2022-07-08T05:01:10.750287Z",
     "shell.execute_reply": "2022-07-08T05:01:10.749636Z"
    },
    "papermill": {
     "duration": 0.242498,
     "end_time": "2022-07-08T05:01:10.752229",
     "exception": false,
     "start_time": "2022-07-08T05:01:10.509731",
     "status": "completed"
    },
    "tags": []
   },
   "outputs": [
    {
     "data": {
      "text/html": [
       "<style>#sk-5461ba7e-e6ef-4bb0-9134-45a0b420af0e {color: black;background-color: white;}#sk-5461ba7e-e6ef-4bb0-9134-45a0b420af0e pre{padding: 0;}#sk-5461ba7e-e6ef-4bb0-9134-45a0b420af0e div.sk-toggleable {background-color: white;}#sk-5461ba7e-e6ef-4bb0-9134-45a0b420af0e label.sk-toggleable__label {cursor: pointer;display: block;width: 100%;margin-bottom: 0;padding: 0.3em;box-sizing: border-box;text-align: center;}#sk-5461ba7e-e6ef-4bb0-9134-45a0b420af0e label.sk-toggleable__label-arrow:before {content: \"▸\";float: left;margin-right: 0.25em;color: #696969;}#sk-5461ba7e-e6ef-4bb0-9134-45a0b420af0e label.sk-toggleable__label-arrow:hover:before {color: black;}#sk-5461ba7e-e6ef-4bb0-9134-45a0b420af0e div.sk-estimator:hover label.sk-toggleable__label-arrow:before {color: black;}#sk-5461ba7e-e6ef-4bb0-9134-45a0b420af0e div.sk-toggleable__content {max-height: 0;max-width: 0;overflow: hidden;text-align: left;background-color: #f0f8ff;}#sk-5461ba7e-e6ef-4bb0-9134-45a0b420af0e div.sk-toggleable__content pre {margin: 0.2em;color: black;border-radius: 0.25em;background-color: #f0f8ff;}#sk-5461ba7e-e6ef-4bb0-9134-45a0b420af0e input.sk-toggleable__control:checked~div.sk-toggleable__content {max-height: 200px;max-width: 100%;overflow: auto;}#sk-5461ba7e-e6ef-4bb0-9134-45a0b420af0e input.sk-toggleable__control:checked~label.sk-toggleable__label-arrow:before {content: \"▾\";}#sk-5461ba7e-e6ef-4bb0-9134-45a0b420af0e div.sk-estimator input.sk-toggleable__control:checked~label.sk-toggleable__label {background-color: #d4ebff;}#sk-5461ba7e-e6ef-4bb0-9134-45a0b420af0e div.sk-label input.sk-toggleable__control:checked~label.sk-toggleable__label {background-color: #d4ebff;}#sk-5461ba7e-e6ef-4bb0-9134-45a0b420af0e input.sk-hidden--visually {border: 0;clip: rect(1px 1px 1px 1px);clip: rect(1px, 1px, 1px, 1px);height: 1px;margin: -1px;overflow: hidden;padding: 0;position: absolute;width: 1px;}#sk-5461ba7e-e6ef-4bb0-9134-45a0b420af0e div.sk-estimator {font-family: monospace;background-color: #f0f8ff;border: 1px dotted black;border-radius: 0.25em;box-sizing: border-box;margin-bottom: 0.5em;}#sk-5461ba7e-e6ef-4bb0-9134-45a0b420af0e div.sk-estimator:hover {background-color: #d4ebff;}#sk-5461ba7e-e6ef-4bb0-9134-45a0b420af0e div.sk-parallel-item::after {content: \"\";width: 100%;border-bottom: 1px solid gray;flex-grow: 1;}#sk-5461ba7e-e6ef-4bb0-9134-45a0b420af0e div.sk-label:hover label.sk-toggleable__label {background-color: #d4ebff;}#sk-5461ba7e-e6ef-4bb0-9134-45a0b420af0e div.sk-serial::before {content: \"\";position: absolute;border-left: 1px solid gray;box-sizing: border-box;top: 2em;bottom: 0;left: 50%;}#sk-5461ba7e-e6ef-4bb0-9134-45a0b420af0e div.sk-serial {display: flex;flex-direction: column;align-items: center;background-color: white;padding-right: 0.2em;padding-left: 0.2em;}#sk-5461ba7e-e6ef-4bb0-9134-45a0b420af0e div.sk-item {z-index: 1;}#sk-5461ba7e-e6ef-4bb0-9134-45a0b420af0e div.sk-parallel {display: flex;align-items: stretch;justify-content: center;background-color: white;}#sk-5461ba7e-e6ef-4bb0-9134-45a0b420af0e div.sk-parallel::before {content: \"\";position: absolute;border-left: 1px solid gray;box-sizing: border-box;top: 2em;bottom: 0;left: 50%;}#sk-5461ba7e-e6ef-4bb0-9134-45a0b420af0e div.sk-parallel-item {display: flex;flex-direction: column;position: relative;background-color: white;}#sk-5461ba7e-e6ef-4bb0-9134-45a0b420af0e div.sk-parallel-item:first-child::after {align-self: flex-end;width: 50%;}#sk-5461ba7e-e6ef-4bb0-9134-45a0b420af0e div.sk-parallel-item:last-child::after {align-self: flex-start;width: 50%;}#sk-5461ba7e-e6ef-4bb0-9134-45a0b420af0e div.sk-parallel-item:only-child::after {width: 0;}#sk-5461ba7e-e6ef-4bb0-9134-45a0b420af0e div.sk-dashed-wrapped {border: 1px dashed gray;margin: 0 0.4em 0.5em 0.4em;box-sizing: border-box;padding-bottom: 0.4em;background-color: white;position: relative;}#sk-5461ba7e-e6ef-4bb0-9134-45a0b420af0e div.sk-label label {font-family: monospace;font-weight: bold;background-color: white;display: inline-block;line-height: 1.2em;}#sk-5461ba7e-e6ef-4bb0-9134-45a0b420af0e div.sk-label-container {position: relative;z-index: 2;text-align: center;}#sk-5461ba7e-e6ef-4bb0-9134-45a0b420af0e div.sk-container {/* jupyter's `normalize.less` sets `[hidden] { display: none; }` but bootstrap.min.css set `[hidden] { display: none !important; }` so we also need the `!important` here to be able to override the default hidden behavior on the sphinx rendered scikit-learn.org. See: https://github.com/scikit-learn/scikit-learn/issues/21755 */display: inline-block !important;position: relative;}#sk-5461ba7e-e6ef-4bb0-9134-45a0b420af0e div.sk-text-repr-fallback {display: none;}</style><div id=\"sk-5461ba7e-e6ef-4bb0-9134-45a0b420af0e\" class=\"sk-top-container\"><div class=\"sk-text-repr-fallback\"><pre>PassiveAggressiveClassifier(random_state=42)</pre><b>Please rerun this cell to show the HTML repr or trust the notebook.</b></div><div class=\"sk-container\" hidden><div class=\"sk-item\"><div class=\"sk-estimator sk-toggleable\"><input class=\"sk-toggleable__control sk-hidden--visually\" id=\"f7450bda-6161-4c27-911f-8c914bc4acf2\" type=\"checkbox\" checked><label for=\"f7450bda-6161-4c27-911f-8c914bc4acf2\" class=\"sk-toggleable__label sk-toggleable__label-arrow\">PassiveAggressiveClassifier</label><div class=\"sk-toggleable__content\"><pre>PassiveAggressiveClassifier(random_state=42)</pre></div></div></div></div></div>"
      ],
      "text/plain": [
       "PassiveAggressiveClassifier(random_state=42)"
      ]
     },
     "execution_count": 86,
     "metadata": {},
     "output_type": "execute_result"
    }
   ],
   "source": [
    "pac.fit(X_train, y_train)"
   ]
  },
  {
   "cell_type": "code",
   "execution_count": 87,
   "id": "61df32db",
   "metadata": {
    "execution": {
     "iopub.execute_input": "2022-07-08T05:01:11.220481Z",
     "iopub.status.busy": "2022-07-08T05:01:11.219714Z",
     "iopub.status.idle": "2022-07-08T05:01:11.223842Z",
     "shell.execute_reply": "2022-07-08T05:01:11.223329Z"
    },
    "papermill": {
     "duration": 0.238199,
     "end_time": "2022-07-08T05:01:11.225595",
     "exception": false,
     "start_time": "2022-07-08T05:01:10.987396",
     "status": "completed"
    },
    "tags": []
   },
   "outputs": [],
   "source": [
    "y_pred = pac.predict(X_validate)"
   ]
  },
  {
   "cell_type": "code",
   "execution_count": 88,
   "id": "71c64cc0",
   "metadata": {
    "execution": {
     "iopub.execute_input": "2022-07-08T05:01:11.684869Z",
     "iopub.status.busy": "2022-07-08T05:01:11.684303Z",
     "iopub.status.idle": "2022-07-08T05:01:11.690842Z",
     "shell.execute_reply": "2022-07-08T05:01:11.689796Z"
    },
    "papermill": {
     "duration": 0.238307,
     "end_time": "2022-07-08T05:01:11.692983",
     "exception": false,
     "start_time": "2022-07-08T05:01:11.454676",
     "status": "completed"
    },
    "tags": []
   },
   "outputs": [
    {
     "name": "stdout",
     "output_type": "stream",
     "text": [
      "Accuracy: 75.00%\n",
      "F1-Score: 68.18%\n"
     ]
    }
   ],
   "source": [
    "print(f'Accuracy: {accuracy_score(y_validate, y_pred)*100:.2f}%\\nF1-Score: {f1_score(y_validate, y_pred)*100:.2f}%')"
   ]
  },
  {
   "cell_type": "markdown",
   "id": "a0871528",
   "metadata": {
    "papermill": {
     "duration": 0.232658,
     "end_time": "2022-07-08T05:01:12.158580",
     "exception": false,
     "start_time": "2022-07-08T05:01:11.925922",
     "status": "completed"
    },
    "tags": []
   },
   "source": [
    "---\n",
    "### Kernel based models | Base model accuracy: 83.93%"
   ]
  },
  {
   "cell_type": "markdown",
   "id": "292d3e72",
   "metadata": {
    "papermill": {
     "duration": 0.229242,
     "end_time": "2022-07-08T05:01:12.616862",
     "exception": false,
     "start_time": "2022-07-08T05:01:12.387620",
     "status": "completed"
    },
    "tags": []
   },
   "source": [
    "#### Support Vector Classifier"
   ]
  },
  {
   "cell_type": "code",
   "execution_count": 89,
   "id": "67fe215e",
   "metadata": {
    "execution": {
     "iopub.execute_input": "2022-07-08T05:01:13.084033Z",
     "iopub.status.busy": "2022-07-08T05:01:13.083750Z",
     "iopub.status.idle": "2022-07-08T05:01:13.087993Z",
     "shell.execute_reply": "2022-07-08T05:01:13.087005Z"
    },
    "papermill": {
     "duration": 0.24252,
     "end_time": "2022-07-08T05:01:13.090065",
     "exception": false,
     "start_time": "2022-07-08T05:01:12.847545",
     "status": "completed"
    },
    "tags": []
   },
   "outputs": [],
   "source": [
    "from sklearn.svm import SVC\n",
    "\n",
    "svc = SVC(C=0.01, random_state =42)"
   ]
  },
  {
   "cell_type": "code",
   "execution_count": 90,
   "id": "7486879d",
   "metadata": {
    "execution": {
     "iopub.execute_input": "2022-07-08T05:01:13.553714Z",
     "iopub.status.busy": "2022-07-08T05:01:13.553374Z",
     "iopub.status.idle": "2022-07-08T05:01:13.578206Z",
     "shell.execute_reply": "2022-07-08T05:01:13.577559Z"
    },
    "papermill": {
     "duration": 0.258811,
     "end_time": "2022-07-08T05:01:13.580558",
     "exception": false,
     "start_time": "2022-07-08T05:01:13.321747",
     "status": "completed"
    },
    "tags": []
   },
   "outputs": [
    {
     "data": {
      "text/html": [
       "<style>#sk-9013ebbe-5e54-46ee-b158-73d66d647264 {color: black;background-color: white;}#sk-9013ebbe-5e54-46ee-b158-73d66d647264 pre{padding: 0;}#sk-9013ebbe-5e54-46ee-b158-73d66d647264 div.sk-toggleable {background-color: white;}#sk-9013ebbe-5e54-46ee-b158-73d66d647264 label.sk-toggleable__label {cursor: pointer;display: block;width: 100%;margin-bottom: 0;padding: 0.3em;box-sizing: border-box;text-align: center;}#sk-9013ebbe-5e54-46ee-b158-73d66d647264 label.sk-toggleable__label-arrow:before {content: \"▸\";float: left;margin-right: 0.25em;color: #696969;}#sk-9013ebbe-5e54-46ee-b158-73d66d647264 label.sk-toggleable__label-arrow:hover:before {color: black;}#sk-9013ebbe-5e54-46ee-b158-73d66d647264 div.sk-estimator:hover label.sk-toggleable__label-arrow:before {color: black;}#sk-9013ebbe-5e54-46ee-b158-73d66d647264 div.sk-toggleable__content {max-height: 0;max-width: 0;overflow: hidden;text-align: left;background-color: #f0f8ff;}#sk-9013ebbe-5e54-46ee-b158-73d66d647264 div.sk-toggleable__content pre {margin: 0.2em;color: black;border-radius: 0.25em;background-color: #f0f8ff;}#sk-9013ebbe-5e54-46ee-b158-73d66d647264 input.sk-toggleable__control:checked~div.sk-toggleable__content {max-height: 200px;max-width: 100%;overflow: auto;}#sk-9013ebbe-5e54-46ee-b158-73d66d647264 input.sk-toggleable__control:checked~label.sk-toggleable__label-arrow:before {content: \"▾\";}#sk-9013ebbe-5e54-46ee-b158-73d66d647264 div.sk-estimator input.sk-toggleable__control:checked~label.sk-toggleable__label {background-color: #d4ebff;}#sk-9013ebbe-5e54-46ee-b158-73d66d647264 div.sk-label input.sk-toggleable__control:checked~label.sk-toggleable__label {background-color: #d4ebff;}#sk-9013ebbe-5e54-46ee-b158-73d66d647264 input.sk-hidden--visually {border: 0;clip: rect(1px 1px 1px 1px);clip: rect(1px, 1px, 1px, 1px);height: 1px;margin: -1px;overflow: hidden;padding: 0;position: absolute;width: 1px;}#sk-9013ebbe-5e54-46ee-b158-73d66d647264 div.sk-estimator {font-family: monospace;background-color: #f0f8ff;border: 1px dotted black;border-radius: 0.25em;box-sizing: border-box;margin-bottom: 0.5em;}#sk-9013ebbe-5e54-46ee-b158-73d66d647264 div.sk-estimator:hover {background-color: #d4ebff;}#sk-9013ebbe-5e54-46ee-b158-73d66d647264 div.sk-parallel-item::after {content: \"\";width: 100%;border-bottom: 1px solid gray;flex-grow: 1;}#sk-9013ebbe-5e54-46ee-b158-73d66d647264 div.sk-label:hover label.sk-toggleable__label {background-color: #d4ebff;}#sk-9013ebbe-5e54-46ee-b158-73d66d647264 div.sk-serial::before {content: \"\";position: absolute;border-left: 1px solid gray;box-sizing: border-box;top: 2em;bottom: 0;left: 50%;}#sk-9013ebbe-5e54-46ee-b158-73d66d647264 div.sk-serial {display: flex;flex-direction: column;align-items: center;background-color: white;padding-right: 0.2em;padding-left: 0.2em;}#sk-9013ebbe-5e54-46ee-b158-73d66d647264 div.sk-item {z-index: 1;}#sk-9013ebbe-5e54-46ee-b158-73d66d647264 div.sk-parallel {display: flex;align-items: stretch;justify-content: center;background-color: white;}#sk-9013ebbe-5e54-46ee-b158-73d66d647264 div.sk-parallel::before {content: \"\";position: absolute;border-left: 1px solid gray;box-sizing: border-box;top: 2em;bottom: 0;left: 50%;}#sk-9013ebbe-5e54-46ee-b158-73d66d647264 div.sk-parallel-item {display: flex;flex-direction: column;position: relative;background-color: white;}#sk-9013ebbe-5e54-46ee-b158-73d66d647264 div.sk-parallel-item:first-child::after {align-self: flex-end;width: 50%;}#sk-9013ebbe-5e54-46ee-b158-73d66d647264 div.sk-parallel-item:last-child::after {align-self: flex-start;width: 50%;}#sk-9013ebbe-5e54-46ee-b158-73d66d647264 div.sk-parallel-item:only-child::after {width: 0;}#sk-9013ebbe-5e54-46ee-b158-73d66d647264 div.sk-dashed-wrapped {border: 1px dashed gray;margin: 0 0.4em 0.5em 0.4em;box-sizing: border-box;padding-bottom: 0.4em;background-color: white;position: relative;}#sk-9013ebbe-5e54-46ee-b158-73d66d647264 div.sk-label label {font-family: monospace;font-weight: bold;background-color: white;display: inline-block;line-height: 1.2em;}#sk-9013ebbe-5e54-46ee-b158-73d66d647264 div.sk-label-container {position: relative;z-index: 2;text-align: center;}#sk-9013ebbe-5e54-46ee-b158-73d66d647264 div.sk-container {/* jupyter's `normalize.less` sets `[hidden] { display: none; }` but bootstrap.min.css set `[hidden] { display: none !important; }` so we also need the `!important` here to be able to override the default hidden behavior on the sphinx rendered scikit-learn.org. See: https://github.com/scikit-learn/scikit-learn/issues/21755 */display: inline-block !important;position: relative;}#sk-9013ebbe-5e54-46ee-b158-73d66d647264 div.sk-text-repr-fallback {display: none;}</style><div id=\"sk-9013ebbe-5e54-46ee-b158-73d66d647264\" class=\"sk-top-container\"><div class=\"sk-text-repr-fallback\"><pre>SVC(C=0.01, random_state=42)</pre><b>Please rerun this cell to show the HTML repr or trust the notebook.</b></div><div class=\"sk-container\" hidden><div class=\"sk-item\"><div class=\"sk-estimator sk-toggleable\"><input class=\"sk-toggleable__control sk-hidden--visually\" id=\"87e3eac5-fe18-4743-bbcf-641639533813\" type=\"checkbox\" checked><label for=\"87e3eac5-fe18-4743-bbcf-641639533813\" class=\"sk-toggleable__label sk-toggleable__label-arrow\">SVC</label><div class=\"sk-toggleable__content\"><pre>SVC(C=0.01, random_state=42)</pre></div></div></div></div></div>"
      ],
      "text/plain": [
       "SVC(C=0.01, random_state=42)"
      ]
     },
     "execution_count": 90,
     "metadata": {},
     "output_type": "execute_result"
    }
   ],
   "source": [
    "svc.fit(X_train, y_train)"
   ]
  },
  {
   "cell_type": "code",
   "execution_count": 91,
   "id": "c7788558",
   "metadata": {
    "execution": {
     "iopub.execute_input": "2022-07-08T05:01:14.054031Z",
     "iopub.status.busy": "2022-07-08T05:01:14.053455Z",
     "iopub.status.idle": "2022-07-08T05:01:14.059436Z",
     "shell.execute_reply": "2022-07-08T05:01:14.058776Z"
    },
    "papermill": {
     "duration": 0.245124,
     "end_time": "2022-07-08T05:01:14.061446",
     "exception": false,
     "start_time": "2022-07-08T05:01:13.816322",
     "status": "completed"
    },
    "tags": []
   },
   "outputs": [],
   "source": [
    "y_pred = svc.predict(X_validate)"
   ]
  },
  {
   "cell_type": "code",
   "execution_count": 92,
   "id": "20f99416",
   "metadata": {
    "execution": {
     "iopub.execute_input": "2022-07-08T05:01:14.527417Z",
     "iopub.status.busy": "2022-07-08T05:01:14.527104Z",
     "iopub.status.idle": "2022-07-08T05:01:14.534151Z",
     "shell.execute_reply": "2022-07-08T05:01:14.533289Z"
    },
    "papermill": {
     "duration": 0.244538,
     "end_time": "2022-07-08T05:01:14.537385",
     "exception": false,
     "start_time": "2022-07-08T05:01:14.292847",
     "status": "completed"
    },
    "tags": []
   },
   "outputs": [
    {
     "name": "stdout",
     "output_type": "stream",
     "text": [
      "Accuracy: 83.93%\n",
      "F1-Score: 83.02%\n"
     ]
    }
   ],
   "source": [
    "print(f'Accuracy: {accuracy_score(y_validate, y_pred)*100:.2f}%\\nF1-Score: {f1_score(y_validate, y_pred)*100:.2f}%')"
   ]
  },
  {
   "cell_type": "markdown",
   "id": "77d5a2b0",
   "metadata": {
    "papermill": {
     "duration": 0.236556,
     "end_time": "2022-07-08T05:01:15.005474",
     "exception": false,
     "start_time": "2022-07-08T05:01:14.768918",
     "status": "completed"
    },
    "tags": []
   },
   "source": [
    "### Non-parameteric models | Base model accuracy: 91.07%"
   ]
  },
  {
   "cell_type": "markdown",
   "id": "f45b5468",
   "metadata": {
    "papermill": {
     "duration": 0.228924,
     "end_time": "2022-07-08T05:01:15.464287",
     "exception": false,
     "start_time": "2022-07-08T05:01:15.235363",
     "status": "completed"
    },
    "tags": []
   },
   "source": [
    "#### K-Nearest Neighbors"
   ]
  },
  {
   "cell_type": "code",
   "execution_count": 93,
   "id": "13f985aa",
   "metadata": {
    "execution": {
     "iopub.execute_input": "2022-07-08T05:01:15.928773Z",
     "iopub.status.busy": "2022-07-08T05:01:15.928228Z",
     "iopub.status.idle": "2022-07-08T05:01:15.934661Z",
     "shell.execute_reply": "2022-07-08T05:01:15.933857Z"
    },
    "papermill": {
     "duration": 0.24345,
     "end_time": "2022-07-08T05:01:15.936840",
     "exception": false,
     "start_time": "2022-07-08T05:01:15.693390",
     "status": "completed"
    },
    "tags": []
   },
   "outputs": [
    {
     "data": {
      "text/plain": [
       "23.83275057562597"
      ]
     },
     "execution_count": 93,
     "metadata": {},
     "output_type": "execute_result"
    }
   ],
   "source": [
    "k = (X_train.shape[0]**(0.5))\n",
    "k"
   ]
  },
  {
   "cell_type": "code",
   "execution_count": 94,
   "id": "8036eb0a",
   "metadata": {
    "execution": {
     "iopub.execute_input": "2022-07-08T05:01:16.403809Z",
     "iopub.status.busy": "2022-07-08T05:01:16.403189Z",
     "iopub.status.idle": "2022-07-08T05:01:16.407699Z",
     "shell.execute_reply": "2022-07-08T05:01:16.407069Z"
    },
    "papermill": {
     "duration": 0.239127,
     "end_time": "2022-07-08T05:01:16.409814",
     "exception": false,
     "start_time": "2022-07-08T05:01:16.170687",
     "status": "completed"
    },
    "tags": []
   },
   "outputs": [],
   "source": [
    "from sklearn.neighbors import KNeighborsClassifier\n",
    "\n",
    "knn = KNeighborsClassifier(n_neighbors=19)"
   ]
  },
  {
   "cell_type": "code",
   "execution_count": 95,
   "id": "2bef1f84",
   "metadata": {
    "execution": {
     "iopub.execute_input": "2022-07-08T05:01:16.886183Z",
     "iopub.status.busy": "2022-07-08T05:01:16.885877Z",
     "iopub.status.idle": "2022-07-08T05:01:16.893939Z",
     "shell.execute_reply": "2022-07-08T05:01:16.893237Z"
    },
    "papermill": {
     "duration": 0.25211,
     "end_time": "2022-07-08T05:01:16.896281",
     "exception": false,
     "start_time": "2022-07-08T05:01:16.644171",
     "status": "completed"
    },
    "tags": []
   },
   "outputs": [
    {
     "data": {
      "text/html": [
       "<style>#sk-ddf8f043-6e3b-4d55-8c21-a5f9e77df71c {color: black;background-color: white;}#sk-ddf8f043-6e3b-4d55-8c21-a5f9e77df71c pre{padding: 0;}#sk-ddf8f043-6e3b-4d55-8c21-a5f9e77df71c div.sk-toggleable {background-color: white;}#sk-ddf8f043-6e3b-4d55-8c21-a5f9e77df71c label.sk-toggleable__label {cursor: pointer;display: block;width: 100%;margin-bottom: 0;padding: 0.3em;box-sizing: border-box;text-align: center;}#sk-ddf8f043-6e3b-4d55-8c21-a5f9e77df71c label.sk-toggleable__label-arrow:before {content: \"▸\";float: left;margin-right: 0.25em;color: #696969;}#sk-ddf8f043-6e3b-4d55-8c21-a5f9e77df71c label.sk-toggleable__label-arrow:hover:before {color: black;}#sk-ddf8f043-6e3b-4d55-8c21-a5f9e77df71c div.sk-estimator:hover label.sk-toggleable__label-arrow:before {color: black;}#sk-ddf8f043-6e3b-4d55-8c21-a5f9e77df71c div.sk-toggleable__content {max-height: 0;max-width: 0;overflow: hidden;text-align: left;background-color: #f0f8ff;}#sk-ddf8f043-6e3b-4d55-8c21-a5f9e77df71c div.sk-toggleable__content pre {margin: 0.2em;color: black;border-radius: 0.25em;background-color: #f0f8ff;}#sk-ddf8f043-6e3b-4d55-8c21-a5f9e77df71c input.sk-toggleable__control:checked~div.sk-toggleable__content {max-height: 200px;max-width: 100%;overflow: auto;}#sk-ddf8f043-6e3b-4d55-8c21-a5f9e77df71c input.sk-toggleable__control:checked~label.sk-toggleable__label-arrow:before {content: \"▾\";}#sk-ddf8f043-6e3b-4d55-8c21-a5f9e77df71c div.sk-estimator input.sk-toggleable__control:checked~label.sk-toggleable__label {background-color: #d4ebff;}#sk-ddf8f043-6e3b-4d55-8c21-a5f9e77df71c div.sk-label input.sk-toggleable__control:checked~label.sk-toggleable__label {background-color: #d4ebff;}#sk-ddf8f043-6e3b-4d55-8c21-a5f9e77df71c input.sk-hidden--visually {border: 0;clip: rect(1px 1px 1px 1px);clip: rect(1px, 1px, 1px, 1px);height: 1px;margin: -1px;overflow: hidden;padding: 0;position: absolute;width: 1px;}#sk-ddf8f043-6e3b-4d55-8c21-a5f9e77df71c div.sk-estimator {font-family: monospace;background-color: #f0f8ff;border: 1px dotted black;border-radius: 0.25em;box-sizing: border-box;margin-bottom: 0.5em;}#sk-ddf8f043-6e3b-4d55-8c21-a5f9e77df71c div.sk-estimator:hover {background-color: #d4ebff;}#sk-ddf8f043-6e3b-4d55-8c21-a5f9e77df71c div.sk-parallel-item::after {content: \"\";width: 100%;border-bottom: 1px solid gray;flex-grow: 1;}#sk-ddf8f043-6e3b-4d55-8c21-a5f9e77df71c div.sk-label:hover label.sk-toggleable__label {background-color: #d4ebff;}#sk-ddf8f043-6e3b-4d55-8c21-a5f9e77df71c div.sk-serial::before {content: \"\";position: absolute;border-left: 1px solid gray;box-sizing: border-box;top: 2em;bottom: 0;left: 50%;}#sk-ddf8f043-6e3b-4d55-8c21-a5f9e77df71c div.sk-serial {display: flex;flex-direction: column;align-items: center;background-color: white;padding-right: 0.2em;padding-left: 0.2em;}#sk-ddf8f043-6e3b-4d55-8c21-a5f9e77df71c div.sk-item {z-index: 1;}#sk-ddf8f043-6e3b-4d55-8c21-a5f9e77df71c div.sk-parallel {display: flex;align-items: stretch;justify-content: center;background-color: white;}#sk-ddf8f043-6e3b-4d55-8c21-a5f9e77df71c div.sk-parallel::before {content: \"\";position: absolute;border-left: 1px solid gray;box-sizing: border-box;top: 2em;bottom: 0;left: 50%;}#sk-ddf8f043-6e3b-4d55-8c21-a5f9e77df71c div.sk-parallel-item {display: flex;flex-direction: column;position: relative;background-color: white;}#sk-ddf8f043-6e3b-4d55-8c21-a5f9e77df71c div.sk-parallel-item:first-child::after {align-self: flex-end;width: 50%;}#sk-ddf8f043-6e3b-4d55-8c21-a5f9e77df71c div.sk-parallel-item:last-child::after {align-self: flex-start;width: 50%;}#sk-ddf8f043-6e3b-4d55-8c21-a5f9e77df71c div.sk-parallel-item:only-child::after {width: 0;}#sk-ddf8f043-6e3b-4d55-8c21-a5f9e77df71c div.sk-dashed-wrapped {border: 1px dashed gray;margin: 0 0.4em 0.5em 0.4em;box-sizing: border-box;padding-bottom: 0.4em;background-color: white;position: relative;}#sk-ddf8f043-6e3b-4d55-8c21-a5f9e77df71c div.sk-label label {font-family: monospace;font-weight: bold;background-color: white;display: inline-block;line-height: 1.2em;}#sk-ddf8f043-6e3b-4d55-8c21-a5f9e77df71c div.sk-label-container {position: relative;z-index: 2;text-align: center;}#sk-ddf8f043-6e3b-4d55-8c21-a5f9e77df71c div.sk-container {/* jupyter's `normalize.less` sets `[hidden] { display: none; }` but bootstrap.min.css set `[hidden] { display: none !important; }` so we also need the `!important` here to be able to override the default hidden behavior on the sphinx rendered scikit-learn.org. See: https://github.com/scikit-learn/scikit-learn/issues/21755 */display: inline-block !important;position: relative;}#sk-ddf8f043-6e3b-4d55-8c21-a5f9e77df71c div.sk-text-repr-fallback {display: none;}</style><div id=\"sk-ddf8f043-6e3b-4d55-8c21-a5f9e77df71c\" class=\"sk-top-container\"><div class=\"sk-text-repr-fallback\"><pre>KNeighborsClassifier(n_neighbors=19)</pre><b>Please rerun this cell to show the HTML repr or trust the notebook.</b></div><div class=\"sk-container\" hidden><div class=\"sk-item\"><div class=\"sk-estimator sk-toggleable\"><input class=\"sk-toggleable__control sk-hidden--visually\" id=\"10954bf2-8bc8-4b1c-a6b3-d101658564a5\" type=\"checkbox\" checked><label for=\"10954bf2-8bc8-4b1c-a6b3-d101658564a5\" class=\"sk-toggleable__label sk-toggleable__label-arrow\">KNeighborsClassifier</label><div class=\"sk-toggleable__content\"><pre>KNeighborsClassifier(n_neighbors=19)</pre></div></div></div></div></div>"
      ],
      "text/plain": [
       "KNeighborsClassifier(n_neighbors=19)"
      ]
     },
     "execution_count": 95,
     "metadata": {},
     "output_type": "execute_result"
    }
   ],
   "source": [
    "knn.fit(X_train, y_train)"
   ]
  },
  {
   "cell_type": "code",
   "execution_count": 96,
   "id": "5b11b2fa",
   "metadata": {
    "execution": {
     "iopub.execute_input": "2022-07-08T05:01:17.369973Z",
     "iopub.status.busy": "2022-07-08T05:01:17.369137Z",
     "iopub.status.idle": "2022-07-08T05:01:17.378692Z",
     "shell.execute_reply": "2022-07-08T05:01:17.377739Z"
    },
    "papermill": {
     "duration": 0.245276,
     "end_time": "2022-07-08T05:01:17.381192",
     "exception": false,
     "start_time": "2022-07-08T05:01:17.135916",
     "status": "completed"
    },
    "tags": []
   },
   "outputs": [],
   "source": [
    "y_pred = knn.predict(X_validate)"
   ]
  },
  {
   "cell_type": "code",
   "execution_count": 97,
   "id": "5157d085",
   "metadata": {
    "execution": {
     "iopub.execute_input": "2022-07-08T05:01:17.847424Z",
     "iopub.status.busy": "2022-07-08T05:01:17.847104Z",
     "iopub.status.idle": "2022-07-08T05:01:17.853869Z",
     "shell.execute_reply": "2022-07-08T05:01:17.852706Z"
    },
    "papermill": {
     "duration": 0.242155,
     "end_time": "2022-07-08T05:01:17.857134",
     "exception": false,
     "start_time": "2022-07-08T05:01:17.614979",
     "status": "completed"
    },
    "tags": []
   },
   "outputs": [
    {
     "name": "stdout",
     "output_type": "stream",
     "text": [
      "Accuracy: 87.50%\n",
      "F1-Score: 85.71%\n"
     ]
    }
   ],
   "source": [
    "print(f'Accuracy: {accuracy_score(y_validate, y_pred)*100:.2f}%\\nF1-Score: {f1_score(y_validate, y_pred)*100:.2f}%')"
   ]
  },
  {
   "cell_type": "markdown",
   "id": "34667fa7",
   "metadata": {
    "papermill": {
     "duration": 0.229547,
     "end_time": "2022-07-08T05:01:18.323349",
     "exception": false,
     "start_time": "2022-07-08T05:01:18.093802",
     "status": "completed"
    },
    "tags": []
   },
   "source": [
    "---\n",
    "### Bayesian Models | Base model accuracy: 73.21%"
   ]
  },
  {
   "cell_type": "markdown",
   "id": "efcb5cc3",
   "metadata": {
    "papermill": {
     "duration": 0.230296,
     "end_time": "2022-07-08T05:01:18.784542",
     "exception": false,
     "start_time": "2022-07-08T05:01:18.554246",
     "status": "completed"
    },
    "tags": []
   },
   "source": [
    "#### Bernoulli Naive Bayes Classifier"
   ]
  },
  {
   "cell_type": "code",
   "execution_count": 98,
   "id": "2423852f",
   "metadata": {
    "execution": {
     "iopub.execute_input": "2022-07-08T05:01:19.253314Z",
     "iopub.status.busy": "2022-07-08T05:01:19.252997Z",
     "iopub.status.idle": "2022-07-08T05:01:19.259220Z",
     "shell.execute_reply": "2022-07-08T05:01:19.258551Z"
    },
    "papermill": {
     "duration": 0.241996,
     "end_time": "2022-07-08T05:01:19.261234",
     "exception": false,
     "start_time": "2022-07-08T05:01:19.019238",
     "status": "completed"
    },
    "tags": []
   },
   "outputs": [],
   "source": [
    "from sklearn.naive_bayes import BernoulliNB\n",
    "\n",
    "bnb = BernoulliNB()"
   ]
  },
  {
   "cell_type": "code",
   "execution_count": 99,
   "id": "a78a14a7",
   "metadata": {
    "execution": {
     "iopub.execute_input": "2022-07-08T05:01:19.747517Z",
     "iopub.status.busy": "2022-07-08T05:01:19.746959Z",
     "iopub.status.idle": "2022-07-08T05:01:19.754532Z",
     "shell.execute_reply": "2022-07-08T05:01:19.753627Z"
    },
    "papermill": {
     "duration": 0.263671,
     "end_time": "2022-07-08T05:01:19.756948",
     "exception": false,
     "start_time": "2022-07-08T05:01:19.493277",
     "status": "completed"
    },
    "tags": []
   },
   "outputs": [
    {
     "data": {
      "text/html": [
       "<style>#sk-43cf1a7c-5161-48f0-835a-b8287b4bc1f9 {color: black;background-color: white;}#sk-43cf1a7c-5161-48f0-835a-b8287b4bc1f9 pre{padding: 0;}#sk-43cf1a7c-5161-48f0-835a-b8287b4bc1f9 div.sk-toggleable {background-color: white;}#sk-43cf1a7c-5161-48f0-835a-b8287b4bc1f9 label.sk-toggleable__label {cursor: pointer;display: block;width: 100%;margin-bottom: 0;padding: 0.3em;box-sizing: border-box;text-align: center;}#sk-43cf1a7c-5161-48f0-835a-b8287b4bc1f9 label.sk-toggleable__label-arrow:before {content: \"▸\";float: left;margin-right: 0.25em;color: #696969;}#sk-43cf1a7c-5161-48f0-835a-b8287b4bc1f9 label.sk-toggleable__label-arrow:hover:before {color: black;}#sk-43cf1a7c-5161-48f0-835a-b8287b4bc1f9 div.sk-estimator:hover label.sk-toggleable__label-arrow:before {color: black;}#sk-43cf1a7c-5161-48f0-835a-b8287b4bc1f9 div.sk-toggleable__content {max-height: 0;max-width: 0;overflow: hidden;text-align: left;background-color: #f0f8ff;}#sk-43cf1a7c-5161-48f0-835a-b8287b4bc1f9 div.sk-toggleable__content pre {margin: 0.2em;color: black;border-radius: 0.25em;background-color: #f0f8ff;}#sk-43cf1a7c-5161-48f0-835a-b8287b4bc1f9 input.sk-toggleable__control:checked~div.sk-toggleable__content {max-height: 200px;max-width: 100%;overflow: auto;}#sk-43cf1a7c-5161-48f0-835a-b8287b4bc1f9 input.sk-toggleable__control:checked~label.sk-toggleable__label-arrow:before {content: \"▾\";}#sk-43cf1a7c-5161-48f0-835a-b8287b4bc1f9 div.sk-estimator input.sk-toggleable__control:checked~label.sk-toggleable__label {background-color: #d4ebff;}#sk-43cf1a7c-5161-48f0-835a-b8287b4bc1f9 div.sk-label input.sk-toggleable__control:checked~label.sk-toggleable__label {background-color: #d4ebff;}#sk-43cf1a7c-5161-48f0-835a-b8287b4bc1f9 input.sk-hidden--visually {border: 0;clip: rect(1px 1px 1px 1px);clip: rect(1px, 1px, 1px, 1px);height: 1px;margin: -1px;overflow: hidden;padding: 0;position: absolute;width: 1px;}#sk-43cf1a7c-5161-48f0-835a-b8287b4bc1f9 div.sk-estimator {font-family: monospace;background-color: #f0f8ff;border: 1px dotted black;border-radius: 0.25em;box-sizing: border-box;margin-bottom: 0.5em;}#sk-43cf1a7c-5161-48f0-835a-b8287b4bc1f9 div.sk-estimator:hover {background-color: #d4ebff;}#sk-43cf1a7c-5161-48f0-835a-b8287b4bc1f9 div.sk-parallel-item::after {content: \"\";width: 100%;border-bottom: 1px solid gray;flex-grow: 1;}#sk-43cf1a7c-5161-48f0-835a-b8287b4bc1f9 div.sk-label:hover label.sk-toggleable__label {background-color: #d4ebff;}#sk-43cf1a7c-5161-48f0-835a-b8287b4bc1f9 div.sk-serial::before {content: \"\";position: absolute;border-left: 1px solid gray;box-sizing: border-box;top: 2em;bottom: 0;left: 50%;}#sk-43cf1a7c-5161-48f0-835a-b8287b4bc1f9 div.sk-serial {display: flex;flex-direction: column;align-items: center;background-color: white;padding-right: 0.2em;padding-left: 0.2em;}#sk-43cf1a7c-5161-48f0-835a-b8287b4bc1f9 div.sk-item {z-index: 1;}#sk-43cf1a7c-5161-48f0-835a-b8287b4bc1f9 div.sk-parallel {display: flex;align-items: stretch;justify-content: center;background-color: white;}#sk-43cf1a7c-5161-48f0-835a-b8287b4bc1f9 div.sk-parallel::before {content: \"\";position: absolute;border-left: 1px solid gray;box-sizing: border-box;top: 2em;bottom: 0;left: 50%;}#sk-43cf1a7c-5161-48f0-835a-b8287b4bc1f9 div.sk-parallel-item {display: flex;flex-direction: column;position: relative;background-color: white;}#sk-43cf1a7c-5161-48f0-835a-b8287b4bc1f9 div.sk-parallel-item:first-child::after {align-self: flex-end;width: 50%;}#sk-43cf1a7c-5161-48f0-835a-b8287b4bc1f9 div.sk-parallel-item:last-child::after {align-self: flex-start;width: 50%;}#sk-43cf1a7c-5161-48f0-835a-b8287b4bc1f9 div.sk-parallel-item:only-child::after {width: 0;}#sk-43cf1a7c-5161-48f0-835a-b8287b4bc1f9 div.sk-dashed-wrapped {border: 1px dashed gray;margin: 0 0.4em 0.5em 0.4em;box-sizing: border-box;padding-bottom: 0.4em;background-color: white;position: relative;}#sk-43cf1a7c-5161-48f0-835a-b8287b4bc1f9 div.sk-label label {font-family: monospace;font-weight: bold;background-color: white;display: inline-block;line-height: 1.2em;}#sk-43cf1a7c-5161-48f0-835a-b8287b4bc1f9 div.sk-label-container {position: relative;z-index: 2;text-align: center;}#sk-43cf1a7c-5161-48f0-835a-b8287b4bc1f9 div.sk-container {/* jupyter's `normalize.less` sets `[hidden] { display: none; }` but bootstrap.min.css set `[hidden] { display: none !important; }` so we also need the `!important` here to be able to override the default hidden behavior on the sphinx rendered scikit-learn.org. See: https://github.com/scikit-learn/scikit-learn/issues/21755 */display: inline-block !important;position: relative;}#sk-43cf1a7c-5161-48f0-835a-b8287b4bc1f9 div.sk-text-repr-fallback {display: none;}</style><div id=\"sk-43cf1a7c-5161-48f0-835a-b8287b4bc1f9\" class=\"sk-top-container\"><div class=\"sk-text-repr-fallback\"><pre>BernoulliNB()</pre><b>Please rerun this cell to show the HTML repr or trust the notebook.</b></div><div class=\"sk-container\" hidden><div class=\"sk-item\"><div class=\"sk-estimator sk-toggleable\"><input class=\"sk-toggleable__control sk-hidden--visually\" id=\"259d544a-97c9-434b-906d-b77a9bf3d48d\" type=\"checkbox\" checked><label for=\"259d544a-97c9-434b-906d-b77a9bf3d48d\" class=\"sk-toggleable__label sk-toggleable__label-arrow\">BernoulliNB</label><div class=\"sk-toggleable__content\"><pre>BernoulliNB()</pre></div></div></div></div></div>"
      ],
      "text/plain": [
       "BernoulliNB()"
      ]
     },
     "execution_count": 99,
     "metadata": {},
     "output_type": "execute_result"
    }
   ],
   "source": [
    "bnb.fit(X_train, y_train)"
   ]
  },
  {
   "cell_type": "code",
   "execution_count": 100,
   "id": "bd4ec345",
   "metadata": {
    "execution": {
     "iopub.execute_input": "2022-07-08T05:01:20.252457Z",
     "iopub.status.busy": "2022-07-08T05:01:20.251880Z",
     "iopub.status.idle": "2022-07-08T05:01:20.256453Z",
     "shell.execute_reply": "2022-07-08T05:01:20.255777Z"
    },
    "papermill": {
     "duration": 0.247353,
     "end_time": "2022-07-08T05:01:20.258392",
     "exception": false,
     "start_time": "2022-07-08T05:01:20.011039",
     "status": "completed"
    },
    "tags": []
   },
   "outputs": [],
   "source": [
    "y_pred = bnb.predict(X_validate)"
   ]
  },
  {
   "cell_type": "code",
   "execution_count": 101,
   "id": "c31c7ce3",
   "metadata": {
    "execution": {
     "iopub.execute_input": "2022-07-08T05:01:20.727833Z",
     "iopub.status.busy": "2022-07-08T05:01:20.727244Z",
     "iopub.status.idle": "2022-07-08T05:01:20.734234Z",
     "shell.execute_reply": "2022-07-08T05:01:20.733144Z"
    },
    "papermill": {
     "duration": 0.247578,
     "end_time": "2022-07-08T05:01:20.737637",
     "exception": false,
     "start_time": "2022-07-08T05:01:20.490059",
     "status": "completed"
    },
    "tags": []
   },
   "outputs": [
    {
     "name": "stdout",
     "output_type": "stream",
     "text": [
      "Accuracy: 76.79%\n",
      "F1-Score: 78.69%\n"
     ]
    }
   ],
   "source": [
    "print(f'Accuracy: {accuracy_score(y_validate, y_pred)*100:.2f}%\\nF1-Score: {f1_score(y_validate, y_pred)*100:.2f}%')"
   ]
  },
  {
   "cell_type": "markdown",
   "id": "60c098a1",
   "metadata": {
    "papermill": {
     "duration": 0.239295,
     "end_time": "2022-07-08T05:01:21.246445",
     "exception": false,
     "start_time": "2022-07-08T05:01:21.007150",
     "status": "completed"
    },
    "tags": []
   },
   "source": [
    "---\n",
    "### Tree-based Models | Base model accuracy: 78.57%"
   ]
  },
  {
   "cell_type": "markdown",
   "id": "2becb4e1",
   "metadata": {
    "papermill": {
     "duration": 0.233427,
     "end_time": "2022-07-08T05:01:21.711108",
     "exception": false,
     "start_time": "2022-07-08T05:01:21.477681",
     "status": "completed"
    },
    "tags": []
   },
   "source": [
    "#### Decision Tree Classifier"
   ]
  },
  {
   "cell_type": "code",
   "execution_count": 102,
   "id": "fab18e79",
   "metadata": {
    "execution": {
     "iopub.execute_input": "2022-07-08T05:01:22.187404Z",
     "iopub.status.busy": "2022-07-08T05:01:22.186744Z",
     "iopub.status.idle": "2022-07-08T05:01:22.190781Z",
     "shell.execute_reply": "2022-07-08T05:01:22.190103Z"
    },
    "papermill": {
     "duration": 0.240651,
     "end_time": "2022-07-08T05:01:22.192657",
     "exception": false,
     "start_time": "2022-07-08T05:01:21.952006",
     "status": "completed"
    },
    "tags": []
   },
   "outputs": [],
   "source": [
    "from sklearn.tree import DecisionTreeClassifier\n",
    "\n",
    "dtc = DecisionTreeClassifier(max_depth = 3, random_state=42)"
   ]
  },
  {
   "cell_type": "code",
   "execution_count": 103,
   "id": "4b97ce92",
   "metadata": {
    "execution": {
     "iopub.execute_input": "2022-07-08T05:01:22.660220Z",
     "iopub.status.busy": "2022-07-08T05:01:22.659686Z",
     "iopub.status.idle": "2022-07-08T05:01:22.669026Z",
     "shell.execute_reply": "2022-07-08T05:01:22.668221Z"
    },
    "papermill": {
     "duration": 0.245041,
     "end_time": "2022-07-08T05:01:22.670995",
     "exception": false,
     "start_time": "2022-07-08T05:01:22.425954",
     "status": "completed"
    },
    "tags": []
   },
   "outputs": [
    {
     "data": {
      "text/html": [
       "<style>#sk-8400ef36-d61a-4112-b938-519dde42ef0f {color: black;background-color: white;}#sk-8400ef36-d61a-4112-b938-519dde42ef0f pre{padding: 0;}#sk-8400ef36-d61a-4112-b938-519dde42ef0f div.sk-toggleable {background-color: white;}#sk-8400ef36-d61a-4112-b938-519dde42ef0f label.sk-toggleable__label {cursor: pointer;display: block;width: 100%;margin-bottom: 0;padding: 0.3em;box-sizing: border-box;text-align: center;}#sk-8400ef36-d61a-4112-b938-519dde42ef0f label.sk-toggleable__label-arrow:before {content: \"▸\";float: left;margin-right: 0.25em;color: #696969;}#sk-8400ef36-d61a-4112-b938-519dde42ef0f label.sk-toggleable__label-arrow:hover:before {color: black;}#sk-8400ef36-d61a-4112-b938-519dde42ef0f div.sk-estimator:hover label.sk-toggleable__label-arrow:before {color: black;}#sk-8400ef36-d61a-4112-b938-519dde42ef0f div.sk-toggleable__content {max-height: 0;max-width: 0;overflow: hidden;text-align: left;background-color: #f0f8ff;}#sk-8400ef36-d61a-4112-b938-519dde42ef0f div.sk-toggleable__content pre {margin: 0.2em;color: black;border-radius: 0.25em;background-color: #f0f8ff;}#sk-8400ef36-d61a-4112-b938-519dde42ef0f input.sk-toggleable__control:checked~div.sk-toggleable__content {max-height: 200px;max-width: 100%;overflow: auto;}#sk-8400ef36-d61a-4112-b938-519dde42ef0f input.sk-toggleable__control:checked~label.sk-toggleable__label-arrow:before {content: \"▾\";}#sk-8400ef36-d61a-4112-b938-519dde42ef0f div.sk-estimator input.sk-toggleable__control:checked~label.sk-toggleable__label {background-color: #d4ebff;}#sk-8400ef36-d61a-4112-b938-519dde42ef0f div.sk-label input.sk-toggleable__control:checked~label.sk-toggleable__label {background-color: #d4ebff;}#sk-8400ef36-d61a-4112-b938-519dde42ef0f input.sk-hidden--visually {border: 0;clip: rect(1px 1px 1px 1px);clip: rect(1px, 1px, 1px, 1px);height: 1px;margin: -1px;overflow: hidden;padding: 0;position: absolute;width: 1px;}#sk-8400ef36-d61a-4112-b938-519dde42ef0f div.sk-estimator {font-family: monospace;background-color: #f0f8ff;border: 1px dotted black;border-radius: 0.25em;box-sizing: border-box;margin-bottom: 0.5em;}#sk-8400ef36-d61a-4112-b938-519dde42ef0f div.sk-estimator:hover {background-color: #d4ebff;}#sk-8400ef36-d61a-4112-b938-519dde42ef0f div.sk-parallel-item::after {content: \"\";width: 100%;border-bottom: 1px solid gray;flex-grow: 1;}#sk-8400ef36-d61a-4112-b938-519dde42ef0f div.sk-label:hover label.sk-toggleable__label {background-color: #d4ebff;}#sk-8400ef36-d61a-4112-b938-519dde42ef0f div.sk-serial::before {content: \"\";position: absolute;border-left: 1px solid gray;box-sizing: border-box;top: 2em;bottom: 0;left: 50%;}#sk-8400ef36-d61a-4112-b938-519dde42ef0f div.sk-serial {display: flex;flex-direction: column;align-items: center;background-color: white;padding-right: 0.2em;padding-left: 0.2em;}#sk-8400ef36-d61a-4112-b938-519dde42ef0f div.sk-item {z-index: 1;}#sk-8400ef36-d61a-4112-b938-519dde42ef0f div.sk-parallel {display: flex;align-items: stretch;justify-content: center;background-color: white;}#sk-8400ef36-d61a-4112-b938-519dde42ef0f div.sk-parallel::before {content: \"\";position: absolute;border-left: 1px solid gray;box-sizing: border-box;top: 2em;bottom: 0;left: 50%;}#sk-8400ef36-d61a-4112-b938-519dde42ef0f div.sk-parallel-item {display: flex;flex-direction: column;position: relative;background-color: white;}#sk-8400ef36-d61a-4112-b938-519dde42ef0f div.sk-parallel-item:first-child::after {align-self: flex-end;width: 50%;}#sk-8400ef36-d61a-4112-b938-519dde42ef0f div.sk-parallel-item:last-child::after {align-self: flex-start;width: 50%;}#sk-8400ef36-d61a-4112-b938-519dde42ef0f div.sk-parallel-item:only-child::after {width: 0;}#sk-8400ef36-d61a-4112-b938-519dde42ef0f div.sk-dashed-wrapped {border: 1px dashed gray;margin: 0 0.4em 0.5em 0.4em;box-sizing: border-box;padding-bottom: 0.4em;background-color: white;position: relative;}#sk-8400ef36-d61a-4112-b938-519dde42ef0f div.sk-label label {font-family: monospace;font-weight: bold;background-color: white;display: inline-block;line-height: 1.2em;}#sk-8400ef36-d61a-4112-b938-519dde42ef0f div.sk-label-container {position: relative;z-index: 2;text-align: center;}#sk-8400ef36-d61a-4112-b938-519dde42ef0f div.sk-container {/* jupyter's `normalize.less` sets `[hidden] { display: none; }` but bootstrap.min.css set `[hidden] { display: none !important; }` so we also need the `!important` here to be able to override the default hidden behavior on the sphinx rendered scikit-learn.org. See: https://github.com/scikit-learn/scikit-learn/issues/21755 */display: inline-block !important;position: relative;}#sk-8400ef36-d61a-4112-b938-519dde42ef0f div.sk-text-repr-fallback {display: none;}</style><div id=\"sk-8400ef36-d61a-4112-b938-519dde42ef0f\" class=\"sk-top-container\"><div class=\"sk-text-repr-fallback\"><pre>DecisionTreeClassifier(max_depth=3, random_state=42)</pre><b>Please rerun this cell to show the HTML repr or trust the notebook.</b></div><div class=\"sk-container\" hidden><div class=\"sk-item\"><div class=\"sk-estimator sk-toggleable\"><input class=\"sk-toggleable__control sk-hidden--visually\" id=\"ce2543b7-6cfd-4144-b2df-ecb4b4ca0f5f\" type=\"checkbox\" checked><label for=\"ce2543b7-6cfd-4144-b2df-ecb4b4ca0f5f\" class=\"sk-toggleable__label sk-toggleable__label-arrow\">DecisionTreeClassifier</label><div class=\"sk-toggleable__content\"><pre>DecisionTreeClassifier(max_depth=3, random_state=42)</pre></div></div></div></div></div>"
      ],
      "text/plain": [
       "DecisionTreeClassifier(max_depth=3, random_state=42)"
      ]
     },
     "execution_count": 103,
     "metadata": {},
     "output_type": "execute_result"
    }
   ],
   "source": [
    "dtc.fit(X_train, y_train)"
   ]
  },
  {
   "cell_type": "code",
   "execution_count": 104,
   "id": "38f1749a",
   "metadata": {
    "execution": {
     "iopub.execute_input": "2022-07-08T05:01:23.139639Z",
     "iopub.status.busy": "2022-07-08T05:01:23.139023Z",
     "iopub.status.idle": "2022-07-08T05:01:23.143574Z",
     "shell.execute_reply": "2022-07-08T05:01:23.142841Z"
    },
    "papermill": {
     "duration": 0.241146,
     "end_time": "2022-07-08T05:01:23.145412",
     "exception": false,
     "start_time": "2022-07-08T05:01:22.904266",
     "status": "completed"
    },
    "tags": []
   },
   "outputs": [],
   "source": [
    "y_pred = dtc.predict(X_validate)"
   ]
  },
  {
   "cell_type": "code",
   "execution_count": 105,
   "id": "652dbc1b",
   "metadata": {
    "execution": {
     "iopub.execute_input": "2022-07-08T05:01:23.613031Z",
     "iopub.status.busy": "2022-07-08T05:01:23.612472Z",
     "iopub.status.idle": "2022-07-08T05:01:23.619464Z",
     "shell.execute_reply": "2022-07-08T05:01:23.618300Z"
    },
    "papermill": {
     "duration": 0.243909,
     "end_time": "2022-07-08T05:01:23.621651",
     "exception": false,
     "start_time": "2022-07-08T05:01:23.377742",
     "status": "completed"
    },
    "tags": []
   },
   "outputs": [
    {
     "name": "stdout",
     "output_type": "stream",
     "text": [
      "Accuracy: 73.21%\n",
      "F1-Score: 70.59%\n"
     ]
    }
   ],
   "source": [
    "print(f'Accuracy: {accuracy_score(y_validate, y_pred)*100:.2f}%\\nF1-Score: {f1_score(y_validate, y_pred)*100:.2f}%')"
   ]
  },
  {
   "cell_type": "markdown",
   "id": "218d6d9e",
   "metadata": {
    "papermill": {
     "duration": 0.238702,
     "end_time": "2022-07-08T05:01:24.099592",
     "exception": false,
     "start_time": "2022-07-08T05:01:23.860890",
     "status": "completed"
    },
    "tags": []
   },
   "source": [
    "#### Extra-trees Classifier"
   ]
  },
  {
   "cell_type": "code",
   "execution_count": 106,
   "id": "00e3ead8",
   "metadata": {
    "execution": {
     "iopub.execute_input": "2022-07-08T05:01:24.569978Z",
     "iopub.status.busy": "2022-07-08T05:01:24.569514Z",
     "iopub.status.idle": "2022-07-08T05:01:24.573836Z",
     "shell.execute_reply": "2022-07-08T05:01:24.573282Z"
    },
    "papermill": {
     "duration": 0.241083,
     "end_time": "2022-07-08T05:01:24.575740",
     "exception": false,
     "start_time": "2022-07-08T05:01:24.334657",
     "status": "completed"
    },
    "tags": []
   },
   "outputs": [],
   "source": [
    "from sklearn.tree import ExtraTreeClassifier\n",
    "\n",
    "etc = ExtraTreeClassifier(max_depth=15,random_state=42)"
   ]
  },
  {
   "cell_type": "code",
   "execution_count": 107,
   "id": "a4679d3a",
   "metadata": {
    "execution": {
     "iopub.execute_input": "2022-07-08T05:01:25.101175Z",
     "iopub.status.busy": "2022-07-08T05:01:25.100752Z",
     "iopub.status.idle": "2022-07-08T05:01:25.109142Z",
     "shell.execute_reply": "2022-07-08T05:01:25.108334Z"
    },
    "papermill": {
     "duration": 0.301784,
     "end_time": "2022-07-08T05:01:25.111071",
     "exception": false,
     "start_time": "2022-07-08T05:01:24.809287",
     "status": "completed"
    },
    "tags": []
   },
   "outputs": [
    {
     "data": {
      "text/html": [
       "<style>#sk-3e78bf00-6349-4db1-aa55-c8018deb4f26 {color: black;background-color: white;}#sk-3e78bf00-6349-4db1-aa55-c8018deb4f26 pre{padding: 0;}#sk-3e78bf00-6349-4db1-aa55-c8018deb4f26 div.sk-toggleable {background-color: white;}#sk-3e78bf00-6349-4db1-aa55-c8018deb4f26 label.sk-toggleable__label {cursor: pointer;display: block;width: 100%;margin-bottom: 0;padding: 0.3em;box-sizing: border-box;text-align: center;}#sk-3e78bf00-6349-4db1-aa55-c8018deb4f26 label.sk-toggleable__label-arrow:before {content: \"▸\";float: left;margin-right: 0.25em;color: #696969;}#sk-3e78bf00-6349-4db1-aa55-c8018deb4f26 label.sk-toggleable__label-arrow:hover:before {color: black;}#sk-3e78bf00-6349-4db1-aa55-c8018deb4f26 div.sk-estimator:hover label.sk-toggleable__label-arrow:before {color: black;}#sk-3e78bf00-6349-4db1-aa55-c8018deb4f26 div.sk-toggleable__content {max-height: 0;max-width: 0;overflow: hidden;text-align: left;background-color: #f0f8ff;}#sk-3e78bf00-6349-4db1-aa55-c8018deb4f26 div.sk-toggleable__content pre {margin: 0.2em;color: black;border-radius: 0.25em;background-color: #f0f8ff;}#sk-3e78bf00-6349-4db1-aa55-c8018deb4f26 input.sk-toggleable__control:checked~div.sk-toggleable__content {max-height: 200px;max-width: 100%;overflow: auto;}#sk-3e78bf00-6349-4db1-aa55-c8018deb4f26 input.sk-toggleable__control:checked~label.sk-toggleable__label-arrow:before {content: \"▾\";}#sk-3e78bf00-6349-4db1-aa55-c8018deb4f26 div.sk-estimator input.sk-toggleable__control:checked~label.sk-toggleable__label {background-color: #d4ebff;}#sk-3e78bf00-6349-4db1-aa55-c8018deb4f26 div.sk-label input.sk-toggleable__control:checked~label.sk-toggleable__label {background-color: #d4ebff;}#sk-3e78bf00-6349-4db1-aa55-c8018deb4f26 input.sk-hidden--visually {border: 0;clip: rect(1px 1px 1px 1px);clip: rect(1px, 1px, 1px, 1px);height: 1px;margin: -1px;overflow: hidden;padding: 0;position: absolute;width: 1px;}#sk-3e78bf00-6349-4db1-aa55-c8018deb4f26 div.sk-estimator {font-family: monospace;background-color: #f0f8ff;border: 1px dotted black;border-radius: 0.25em;box-sizing: border-box;margin-bottom: 0.5em;}#sk-3e78bf00-6349-4db1-aa55-c8018deb4f26 div.sk-estimator:hover {background-color: #d4ebff;}#sk-3e78bf00-6349-4db1-aa55-c8018deb4f26 div.sk-parallel-item::after {content: \"\";width: 100%;border-bottom: 1px solid gray;flex-grow: 1;}#sk-3e78bf00-6349-4db1-aa55-c8018deb4f26 div.sk-label:hover label.sk-toggleable__label {background-color: #d4ebff;}#sk-3e78bf00-6349-4db1-aa55-c8018deb4f26 div.sk-serial::before {content: \"\";position: absolute;border-left: 1px solid gray;box-sizing: border-box;top: 2em;bottom: 0;left: 50%;}#sk-3e78bf00-6349-4db1-aa55-c8018deb4f26 div.sk-serial {display: flex;flex-direction: column;align-items: center;background-color: white;padding-right: 0.2em;padding-left: 0.2em;}#sk-3e78bf00-6349-4db1-aa55-c8018deb4f26 div.sk-item {z-index: 1;}#sk-3e78bf00-6349-4db1-aa55-c8018deb4f26 div.sk-parallel {display: flex;align-items: stretch;justify-content: center;background-color: white;}#sk-3e78bf00-6349-4db1-aa55-c8018deb4f26 div.sk-parallel::before {content: \"\";position: absolute;border-left: 1px solid gray;box-sizing: border-box;top: 2em;bottom: 0;left: 50%;}#sk-3e78bf00-6349-4db1-aa55-c8018deb4f26 div.sk-parallel-item {display: flex;flex-direction: column;position: relative;background-color: white;}#sk-3e78bf00-6349-4db1-aa55-c8018deb4f26 div.sk-parallel-item:first-child::after {align-self: flex-end;width: 50%;}#sk-3e78bf00-6349-4db1-aa55-c8018deb4f26 div.sk-parallel-item:last-child::after {align-self: flex-start;width: 50%;}#sk-3e78bf00-6349-4db1-aa55-c8018deb4f26 div.sk-parallel-item:only-child::after {width: 0;}#sk-3e78bf00-6349-4db1-aa55-c8018deb4f26 div.sk-dashed-wrapped {border: 1px dashed gray;margin: 0 0.4em 0.5em 0.4em;box-sizing: border-box;padding-bottom: 0.4em;background-color: white;position: relative;}#sk-3e78bf00-6349-4db1-aa55-c8018deb4f26 div.sk-label label {font-family: monospace;font-weight: bold;background-color: white;display: inline-block;line-height: 1.2em;}#sk-3e78bf00-6349-4db1-aa55-c8018deb4f26 div.sk-label-container {position: relative;z-index: 2;text-align: center;}#sk-3e78bf00-6349-4db1-aa55-c8018deb4f26 div.sk-container {/* jupyter's `normalize.less` sets `[hidden] { display: none; }` but bootstrap.min.css set `[hidden] { display: none !important; }` so we also need the `!important` here to be able to override the default hidden behavior on the sphinx rendered scikit-learn.org. See: https://github.com/scikit-learn/scikit-learn/issues/21755 */display: inline-block !important;position: relative;}#sk-3e78bf00-6349-4db1-aa55-c8018deb4f26 div.sk-text-repr-fallback {display: none;}</style><div id=\"sk-3e78bf00-6349-4db1-aa55-c8018deb4f26\" class=\"sk-top-container\"><div class=\"sk-text-repr-fallback\"><pre>ExtraTreeClassifier(max_depth=15, random_state=42)</pre><b>Please rerun this cell to show the HTML repr or trust the notebook.</b></div><div class=\"sk-container\" hidden><div class=\"sk-item\"><div class=\"sk-estimator sk-toggleable\"><input class=\"sk-toggleable__control sk-hidden--visually\" id=\"0b314571-622c-433a-90ad-729717f67778\" type=\"checkbox\" checked><label for=\"0b314571-622c-433a-90ad-729717f67778\" class=\"sk-toggleable__label sk-toggleable__label-arrow\">ExtraTreeClassifier</label><div class=\"sk-toggleable__content\"><pre>ExtraTreeClassifier(max_depth=15, random_state=42)</pre></div></div></div></div></div>"
      ],
      "text/plain": [
       "ExtraTreeClassifier(max_depth=15, random_state=42)"
      ]
     },
     "execution_count": 107,
     "metadata": {},
     "output_type": "execute_result"
    }
   ],
   "source": [
    "etc.fit(X_train, y_train)"
   ]
  },
  {
   "cell_type": "code",
   "execution_count": 108,
   "id": "eb1cea94",
   "metadata": {
    "execution": {
     "iopub.execute_input": "2022-07-08T05:01:25.582932Z",
     "iopub.status.busy": "2022-07-08T05:01:25.582650Z",
     "iopub.status.idle": "2022-07-08T05:01:25.587128Z",
     "shell.execute_reply": "2022-07-08T05:01:25.586437Z"
    },
    "papermill": {
     "duration": 0.241675,
     "end_time": "2022-07-08T05:01:25.589344",
     "exception": false,
     "start_time": "2022-07-08T05:01:25.347669",
     "status": "completed"
    },
    "tags": []
   },
   "outputs": [],
   "source": [
    "y_pred = etc.predict(X_validate)"
   ]
  },
  {
   "cell_type": "code",
   "execution_count": 109,
   "id": "3157112f",
   "metadata": {
    "execution": {
     "iopub.execute_input": "2022-07-08T05:01:26.059753Z",
     "iopub.status.busy": "2022-07-08T05:01:26.059293Z",
     "iopub.status.idle": "2022-07-08T05:01:26.066211Z",
     "shell.execute_reply": "2022-07-08T05:01:26.065325Z"
    },
    "papermill": {
     "duration": 0.245903,
     "end_time": "2022-07-08T05:01:26.068648",
     "exception": false,
     "start_time": "2022-07-08T05:01:25.822745",
     "status": "completed"
    },
    "tags": []
   },
   "outputs": [
    {
     "name": "stdout",
     "output_type": "stream",
     "text": [
      "Accuracy: 71.43%\n",
      "F1-Score: 70.37%\n"
     ]
    }
   ],
   "source": [
    "print(f'Accuracy: {accuracy_score(y_validate, y_pred)*100:.2f}%\\nF1-Score: {f1_score(y_validate, y_pred)*100:.2f}%')"
   ]
  },
  {
   "cell_type": "markdown",
   "id": "e71fc6e9",
   "metadata": {
    "papermill": {
     "duration": 0.233379,
     "end_time": "2022-07-08T05:01:26.537178",
     "exception": false,
     "start_time": "2022-07-08T05:01:26.303799",
     "status": "completed"
    },
    "tags": []
   },
   "source": [
    "---\n",
    "### Ensemble Models | Base model accuracy: 92.86%"
   ]
  },
  {
   "cell_type": "markdown",
   "id": "e11203d0",
   "metadata": {
    "papermill": {
     "duration": 0.237225,
     "end_time": "2022-07-08T05:01:27.014721",
     "exception": false,
     "start_time": "2022-07-08T05:01:26.777496",
     "status": "completed"
    },
    "tags": []
   },
   "source": [
    "#### Bagging Classifier"
   ]
  },
  {
   "cell_type": "code",
   "execution_count": 110,
   "id": "ea37fe4e",
   "metadata": {
    "execution": {
     "iopub.execute_input": "2022-07-08T05:01:27.494097Z",
     "iopub.status.busy": "2022-07-08T05:01:27.493389Z",
     "iopub.status.idle": "2022-07-08T05:01:27.498279Z",
     "shell.execute_reply": "2022-07-08T05:01:27.497623Z"
    },
    "papermill": {
     "duration": 0.244509,
     "end_time": "2022-07-08T05:01:27.499991",
     "exception": false,
     "start_time": "2022-07-08T05:01:27.255482",
     "status": "completed"
    },
    "tags": []
   },
   "outputs": [],
   "source": [
    "from sklearn.ensemble import BaggingClassifier\n",
    "\n",
    "knn = KNeighborsClassifier(n_neighbors=19)\n",
    "bgc = BaggingClassifier(base_estimator= knn, n_estimators=5, random_state=42)"
   ]
  },
  {
   "cell_type": "code",
   "execution_count": 111,
   "id": "7f980db3",
   "metadata": {
    "execution": {
     "iopub.execute_input": "2022-07-08T05:01:27.973873Z",
     "iopub.status.busy": "2022-07-08T05:01:27.972916Z",
     "iopub.status.idle": "2022-07-08T05:01:27.992410Z",
     "shell.execute_reply": "2022-07-08T05:01:27.991752Z"
    },
    "papermill": {
     "duration": 0.258764,
     "end_time": "2022-07-08T05:01:27.994298",
     "exception": false,
     "start_time": "2022-07-08T05:01:27.735534",
     "status": "completed"
    },
    "tags": []
   },
   "outputs": [
    {
     "data": {
      "text/html": [
       "<style>#sk-ae3590cb-4393-4c97-a772-cfe30c4e7395 {color: black;background-color: white;}#sk-ae3590cb-4393-4c97-a772-cfe30c4e7395 pre{padding: 0;}#sk-ae3590cb-4393-4c97-a772-cfe30c4e7395 div.sk-toggleable {background-color: white;}#sk-ae3590cb-4393-4c97-a772-cfe30c4e7395 label.sk-toggleable__label {cursor: pointer;display: block;width: 100%;margin-bottom: 0;padding: 0.3em;box-sizing: border-box;text-align: center;}#sk-ae3590cb-4393-4c97-a772-cfe30c4e7395 label.sk-toggleable__label-arrow:before {content: \"▸\";float: left;margin-right: 0.25em;color: #696969;}#sk-ae3590cb-4393-4c97-a772-cfe30c4e7395 label.sk-toggleable__label-arrow:hover:before {color: black;}#sk-ae3590cb-4393-4c97-a772-cfe30c4e7395 div.sk-estimator:hover label.sk-toggleable__label-arrow:before {color: black;}#sk-ae3590cb-4393-4c97-a772-cfe30c4e7395 div.sk-toggleable__content {max-height: 0;max-width: 0;overflow: hidden;text-align: left;background-color: #f0f8ff;}#sk-ae3590cb-4393-4c97-a772-cfe30c4e7395 div.sk-toggleable__content pre {margin: 0.2em;color: black;border-radius: 0.25em;background-color: #f0f8ff;}#sk-ae3590cb-4393-4c97-a772-cfe30c4e7395 input.sk-toggleable__control:checked~div.sk-toggleable__content {max-height: 200px;max-width: 100%;overflow: auto;}#sk-ae3590cb-4393-4c97-a772-cfe30c4e7395 input.sk-toggleable__control:checked~label.sk-toggleable__label-arrow:before {content: \"▾\";}#sk-ae3590cb-4393-4c97-a772-cfe30c4e7395 div.sk-estimator input.sk-toggleable__control:checked~label.sk-toggleable__label {background-color: #d4ebff;}#sk-ae3590cb-4393-4c97-a772-cfe30c4e7395 div.sk-label input.sk-toggleable__control:checked~label.sk-toggleable__label {background-color: #d4ebff;}#sk-ae3590cb-4393-4c97-a772-cfe30c4e7395 input.sk-hidden--visually {border: 0;clip: rect(1px 1px 1px 1px);clip: rect(1px, 1px, 1px, 1px);height: 1px;margin: -1px;overflow: hidden;padding: 0;position: absolute;width: 1px;}#sk-ae3590cb-4393-4c97-a772-cfe30c4e7395 div.sk-estimator {font-family: monospace;background-color: #f0f8ff;border: 1px dotted black;border-radius: 0.25em;box-sizing: border-box;margin-bottom: 0.5em;}#sk-ae3590cb-4393-4c97-a772-cfe30c4e7395 div.sk-estimator:hover {background-color: #d4ebff;}#sk-ae3590cb-4393-4c97-a772-cfe30c4e7395 div.sk-parallel-item::after {content: \"\";width: 100%;border-bottom: 1px solid gray;flex-grow: 1;}#sk-ae3590cb-4393-4c97-a772-cfe30c4e7395 div.sk-label:hover label.sk-toggleable__label {background-color: #d4ebff;}#sk-ae3590cb-4393-4c97-a772-cfe30c4e7395 div.sk-serial::before {content: \"\";position: absolute;border-left: 1px solid gray;box-sizing: border-box;top: 2em;bottom: 0;left: 50%;}#sk-ae3590cb-4393-4c97-a772-cfe30c4e7395 div.sk-serial {display: flex;flex-direction: column;align-items: center;background-color: white;padding-right: 0.2em;padding-left: 0.2em;}#sk-ae3590cb-4393-4c97-a772-cfe30c4e7395 div.sk-item {z-index: 1;}#sk-ae3590cb-4393-4c97-a772-cfe30c4e7395 div.sk-parallel {display: flex;align-items: stretch;justify-content: center;background-color: white;}#sk-ae3590cb-4393-4c97-a772-cfe30c4e7395 div.sk-parallel::before {content: \"\";position: absolute;border-left: 1px solid gray;box-sizing: border-box;top: 2em;bottom: 0;left: 50%;}#sk-ae3590cb-4393-4c97-a772-cfe30c4e7395 div.sk-parallel-item {display: flex;flex-direction: column;position: relative;background-color: white;}#sk-ae3590cb-4393-4c97-a772-cfe30c4e7395 div.sk-parallel-item:first-child::after {align-self: flex-end;width: 50%;}#sk-ae3590cb-4393-4c97-a772-cfe30c4e7395 div.sk-parallel-item:last-child::after {align-self: flex-start;width: 50%;}#sk-ae3590cb-4393-4c97-a772-cfe30c4e7395 div.sk-parallel-item:only-child::after {width: 0;}#sk-ae3590cb-4393-4c97-a772-cfe30c4e7395 div.sk-dashed-wrapped {border: 1px dashed gray;margin: 0 0.4em 0.5em 0.4em;box-sizing: border-box;padding-bottom: 0.4em;background-color: white;position: relative;}#sk-ae3590cb-4393-4c97-a772-cfe30c4e7395 div.sk-label label {font-family: monospace;font-weight: bold;background-color: white;display: inline-block;line-height: 1.2em;}#sk-ae3590cb-4393-4c97-a772-cfe30c4e7395 div.sk-label-container {position: relative;z-index: 2;text-align: center;}#sk-ae3590cb-4393-4c97-a772-cfe30c4e7395 div.sk-container {/* jupyter's `normalize.less` sets `[hidden] { display: none; }` but bootstrap.min.css set `[hidden] { display: none !important; }` so we also need the `!important` here to be able to override the default hidden behavior on the sphinx rendered scikit-learn.org. See: https://github.com/scikit-learn/scikit-learn/issues/21755 */display: inline-block !important;position: relative;}#sk-ae3590cb-4393-4c97-a772-cfe30c4e7395 div.sk-text-repr-fallback {display: none;}</style><div id=\"sk-ae3590cb-4393-4c97-a772-cfe30c4e7395\" class=\"sk-top-container\"><div class=\"sk-text-repr-fallback\"><pre>BaggingClassifier(base_estimator=KNeighborsClassifier(n_neighbors=19),\n",
       "                  n_estimators=5, random_state=42)</pre><b>Please rerun this cell to show the HTML repr or trust the notebook.</b></div><div class=\"sk-container\" hidden><div class=\"sk-item sk-dashed-wrapped\"><div class=\"sk-label-container\"><div class=\"sk-label sk-toggleable\"><input class=\"sk-toggleable__control sk-hidden--visually\" id=\"49c5aae5-7939-4cda-af66-17126cf5f0b8\" type=\"checkbox\" ><label for=\"49c5aae5-7939-4cda-af66-17126cf5f0b8\" class=\"sk-toggleable__label sk-toggleable__label-arrow\">BaggingClassifier</label><div class=\"sk-toggleable__content\"><pre>BaggingClassifier(base_estimator=KNeighborsClassifier(n_neighbors=19),\n",
       "                  n_estimators=5, random_state=42)</pre></div></div></div><div class=\"sk-parallel\"><div class=\"sk-parallel-item\"><div class=\"sk-item\"><div class=\"sk-serial\"><div class=\"sk-item\"><div class=\"sk-estimator sk-toggleable\"><input class=\"sk-toggleable__control sk-hidden--visually\" id=\"5d88f3e3-cfe7-443d-8c64-f11f169a437b\" type=\"checkbox\" ><label for=\"5d88f3e3-cfe7-443d-8c64-f11f169a437b\" class=\"sk-toggleable__label sk-toggleable__label-arrow\">KNeighborsClassifier</label><div class=\"sk-toggleable__content\"><pre>KNeighborsClassifier(n_neighbors=19)</pre></div></div></div></div></div></div></div></div></div></div>"
      ],
      "text/plain": [
       "BaggingClassifier(base_estimator=KNeighborsClassifier(n_neighbors=19),\n",
       "                  n_estimators=5, random_state=42)"
      ]
     },
     "execution_count": 111,
     "metadata": {},
     "output_type": "execute_result"
    }
   ],
   "source": [
    "bgc.fit(X_train, y_train)"
   ]
  },
  {
   "cell_type": "code",
   "execution_count": 112,
   "id": "4a6cbd89",
   "metadata": {
    "execution": {
     "iopub.execute_input": "2022-07-08T05:01:28.468902Z",
     "iopub.status.busy": "2022-07-08T05:01:28.467972Z",
     "iopub.status.idle": "2022-07-08T05:01:28.482545Z",
     "shell.execute_reply": "2022-07-08T05:01:28.481729Z"
    },
    "papermill": {
     "duration": 0.252677,
     "end_time": "2022-07-08T05:01:28.484922",
     "exception": false,
     "start_time": "2022-07-08T05:01:28.232245",
     "status": "completed"
    },
    "tags": []
   },
   "outputs": [],
   "source": [
    "y_pred = bgc.predict(X_validate)"
   ]
  },
  {
   "cell_type": "code",
   "execution_count": 113,
   "id": "925435da",
   "metadata": {
    "execution": {
     "iopub.execute_input": "2022-07-08T05:01:28.967346Z",
     "iopub.status.busy": "2022-07-08T05:01:28.966717Z",
     "iopub.status.idle": "2022-07-08T05:01:28.974249Z",
     "shell.execute_reply": "2022-07-08T05:01:28.972958Z"
    },
    "papermill": {
     "duration": 0.254655,
     "end_time": "2022-07-08T05:01:28.976279",
     "exception": false,
     "start_time": "2022-07-08T05:01:28.721624",
     "status": "completed"
    },
    "tags": []
   },
   "outputs": [
    {
     "name": "stdout",
     "output_type": "stream",
     "text": [
      "Accuracy: 85.71%\n",
      "F1-Score: 84.00%\n"
     ]
    }
   ],
   "source": [
    "print(f'Accuracy: {accuracy_score(y_validate, y_pred)*100:.2f}%\\nF1-Score: {f1_score(y_validate, y_pred)*100:.2f}%')"
   ]
  },
  {
   "cell_type": "markdown",
   "id": "b354c29e",
   "metadata": {
    "papermill": {
     "duration": 0.233558,
     "end_time": "2022-07-08T05:01:29.446779",
     "exception": false,
     "start_time": "2022-07-08T05:01:29.213221",
     "status": "completed"
    },
    "tags": []
   },
   "source": [
    "#### Adam Boosting Classifier"
   ]
  },
  {
   "cell_type": "code",
   "execution_count": 114,
   "id": "83248b8d",
   "metadata": {
    "execution": {
     "iopub.execute_input": "2022-07-08T05:01:29.922293Z",
     "iopub.status.busy": "2022-07-08T05:01:29.921709Z",
     "iopub.status.idle": "2022-07-08T05:01:29.926303Z",
     "shell.execute_reply": "2022-07-08T05:01:29.925679Z"
    },
    "papermill": {
     "duration": 0.243591,
     "end_time": "2022-07-08T05:01:29.928285",
     "exception": false,
     "start_time": "2022-07-08T05:01:29.684694",
     "status": "completed"
    },
    "tags": []
   },
   "outputs": [],
   "source": [
    "from sklearn.ensemble import AdaBoostClassifier\n",
    "\n",
    "ada = AdaBoostClassifier(n_estimators=15, learning_rate=1.0, random_state=42)"
   ]
  },
  {
   "cell_type": "code",
   "execution_count": 115,
   "id": "37680325",
   "metadata": {
    "execution": {
     "iopub.execute_input": "2022-07-08T05:01:30.404376Z",
     "iopub.status.busy": "2022-07-08T05:01:30.403776Z",
     "iopub.status.idle": "2022-07-08T05:01:30.450338Z",
     "shell.execute_reply": "2022-07-08T05:01:30.449487Z"
    },
    "papermill": {
     "duration": 0.287406,
     "end_time": "2022-07-08T05:01:30.452577",
     "exception": false,
     "start_time": "2022-07-08T05:01:30.165171",
     "status": "completed"
    },
    "tags": []
   },
   "outputs": [
    {
     "data": {
      "text/html": [
       "<style>#sk-a7741996-04d3-487b-bad2-ea2d0800517b {color: black;background-color: white;}#sk-a7741996-04d3-487b-bad2-ea2d0800517b pre{padding: 0;}#sk-a7741996-04d3-487b-bad2-ea2d0800517b div.sk-toggleable {background-color: white;}#sk-a7741996-04d3-487b-bad2-ea2d0800517b label.sk-toggleable__label {cursor: pointer;display: block;width: 100%;margin-bottom: 0;padding: 0.3em;box-sizing: border-box;text-align: center;}#sk-a7741996-04d3-487b-bad2-ea2d0800517b label.sk-toggleable__label-arrow:before {content: \"▸\";float: left;margin-right: 0.25em;color: #696969;}#sk-a7741996-04d3-487b-bad2-ea2d0800517b label.sk-toggleable__label-arrow:hover:before {color: black;}#sk-a7741996-04d3-487b-bad2-ea2d0800517b div.sk-estimator:hover label.sk-toggleable__label-arrow:before {color: black;}#sk-a7741996-04d3-487b-bad2-ea2d0800517b div.sk-toggleable__content {max-height: 0;max-width: 0;overflow: hidden;text-align: left;background-color: #f0f8ff;}#sk-a7741996-04d3-487b-bad2-ea2d0800517b div.sk-toggleable__content pre {margin: 0.2em;color: black;border-radius: 0.25em;background-color: #f0f8ff;}#sk-a7741996-04d3-487b-bad2-ea2d0800517b input.sk-toggleable__control:checked~div.sk-toggleable__content {max-height: 200px;max-width: 100%;overflow: auto;}#sk-a7741996-04d3-487b-bad2-ea2d0800517b input.sk-toggleable__control:checked~label.sk-toggleable__label-arrow:before {content: \"▾\";}#sk-a7741996-04d3-487b-bad2-ea2d0800517b div.sk-estimator input.sk-toggleable__control:checked~label.sk-toggleable__label {background-color: #d4ebff;}#sk-a7741996-04d3-487b-bad2-ea2d0800517b div.sk-label input.sk-toggleable__control:checked~label.sk-toggleable__label {background-color: #d4ebff;}#sk-a7741996-04d3-487b-bad2-ea2d0800517b input.sk-hidden--visually {border: 0;clip: rect(1px 1px 1px 1px);clip: rect(1px, 1px, 1px, 1px);height: 1px;margin: -1px;overflow: hidden;padding: 0;position: absolute;width: 1px;}#sk-a7741996-04d3-487b-bad2-ea2d0800517b div.sk-estimator {font-family: monospace;background-color: #f0f8ff;border: 1px dotted black;border-radius: 0.25em;box-sizing: border-box;margin-bottom: 0.5em;}#sk-a7741996-04d3-487b-bad2-ea2d0800517b div.sk-estimator:hover {background-color: #d4ebff;}#sk-a7741996-04d3-487b-bad2-ea2d0800517b div.sk-parallel-item::after {content: \"\";width: 100%;border-bottom: 1px solid gray;flex-grow: 1;}#sk-a7741996-04d3-487b-bad2-ea2d0800517b div.sk-label:hover label.sk-toggleable__label {background-color: #d4ebff;}#sk-a7741996-04d3-487b-bad2-ea2d0800517b div.sk-serial::before {content: \"\";position: absolute;border-left: 1px solid gray;box-sizing: border-box;top: 2em;bottom: 0;left: 50%;}#sk-a7741996-04d3-487b-bad2-ea2d0800517b div.sk-serial {display: flex;flex-direction: column;align-items: center;background-color: white;padding-right: 0.2em;padding-left: 0.2em;}#sk-a7741996-04d3-487b-bad2-ea2d0800517b div.sk-item {z-index: 1;}#sk-a7741996-04d3-487b-bad2-ea2d0800517b div.sk-parallel {display: flex;align-items: stretch;justify-content: center;background-color: white;}#sk-a7741996-04d3-487b-bad2-ea2d0800517b div.sk-parallel::before {content: \"\";position: absolute;border-left: 1px solid gray;box-sizing: border-box;top: 2em;bottom: 0;left: 50%;}#sk-a7741996-04d3-487b-bad2-ea2d0800517b div.sk-parallel-item {display: flex;flex-direction: column;position: relative;background-color: white;}#sk-a7741996-04d3-487b-bad2-ea2d0800517b div.sk-parallel-item:first-child::after {align-self: flex-end;width: 50%;}#sk-a7741996-04d3-487b-bad2-ea2d0800517b div.sk-parallel-item:last-child::after {align-self: flex-start;width: 50%;}#sk-a7741996-04d3-487b-bad2-ea2d0800517b div.sk-parallel-item:only-child::after {width: 0;}#sk-a7741996-04d3-487b-bad2-ea2d0800517b div.sk-dashed-wrapped {border: 1px dashed gray;margin: 0 0.4em 0.5em 0.4em;box-sizing: border-box;padding-bottom: 0.4em;background-color: white;position: relative;}#sk-a7741996-04d3-487b-bad2-ea2d0800517b div.sk-label label {font-family: monospace;font-weight: bold;background-color: white;display: inline-block;line-height: 1.2em;}#sk-a7741996-04d3-487b-bad2-ea2d0800517b div.sk-label-container {position: relative;z-index: 2;text-align: center;}#sk-a7741996-04d3-487b-bad2-ea2d0800517b div.sk-container {/* jupyter's `normalize.less` sets `[hidden] { display: none; }` but bootstrap.min.css set `[hidden] { display: none !important; }` so we also need the `!important` here to be able to override the default hidden behavior on the sphinx rendered scikit-learn.org. See: https://github.com/scikit-learn/scikit-learn/issues/21755 */display: inline-block !important;position: relative;}#sk-a7741996-04d3-487b-bad2-ea2d0800517b div.sk-text-repr-fallback {display: none;}</style><div id=\"sk-a7741996-04d3-487b-bad2-ea2d0800517b\" class=\"sk-top-container\"><div class=\"sk-text-repr-fallback\"><pre>AdaBoostClassifier(n_estimators=15, random_state=42)</pre><b>Please rerun this cell to show the HTML repr or trust the notebook.</b></div><div class=\"sk-container\" hidden><div class=\"sk-item\"><div class=\"sk-estimator sk-toggleable\"><input class=\"sk-toggleable__control sk-hidden--visually\" id=\"48b69b0d-e1e0-4423-962e-a1e0eaa2dcdd\" type=\"checkbox\" checked><label for=\"48b69b0d-e1e0-4423-962e-a1e0eaa2dcdd\" class=\"sk-toggleable__label sk-toggleable__label-arrow\">AdaBoostClassifier</label><div class=\"sk-toggleable__content\"><pre>AdaBoostClassifier(n_estimators=15, random_state=42)</pre></div></div></div></div></div>"
      ],
      "text/plain": [
       "AdaBoostClassifier(n_estimators=15, random_state=42)"
      ]
     },
     "execution_count": 115,
     "metadata": {},
     "output_type": "execute_result"
    }
   ],
   "source": [
    "ada.fit(X_train, y_train)"
   ]
  },
  {
   "cell_type": "code",
   "execution_count": 116,
   "id": "5659fc32",
   "metadata": {
    "execution": {
     "iopub.execute_input": "2022-07-08T05:01:30.930920Z",
     "iopub.status.busy": "2022-07-08T05:01:30.930347Z",
     "iopub.status.idle": "2022-07-08T05:01:30.937574Z",
     "shell.execute_reply": "2022-07-08T05:01:30.936765Z"
    },
    "papermill": {
     "duration": 0.249601,
     "end_time": "2022-07-08T05:01:30.939840",
     "exception": false,
     "start_time": "2022-07-08T05:01:30.690239",
     "status": "completed"
    },
    "tags": []
   },
   "outputs": [],
   "source": [
    "y_pred = ada.predict(X_validate)"
   ]
  },
  {
   "cell_type": "code",
   "execution_count": 117,
   "id": "2997be46",
   "metadata": {
    "execution": {
     "iopub.execute_input": "2022-07-08T05:01:31.413170Z",
     "iopub.status.busy": "2022-07-08T05:01:31.412883Z",
     "iopub.status.idle": "2022-07-08T05:01:31.419046Z",
     "shell.execute_reply": "2022-07-08T05:01:31.418032Z"
    },
    "papermill": {
     "duration": 0.244402,
     "end_time": "2022-07-08T05:01:31.421999",
     "exception": false,
     "start_time": "2022-07-08T05:01:31.177597",
     "status": "completed"
    },
    "tags": []
   },
   "outputs": [
    {
     "name": "stdout",
     "output_type": "stream",
     "text": [
      "Accuracy: 78.57%\n",
      "F1-Score: 78.57%\n"
     ]
    }
   ],
   "source": [
    "print(f'Accuracy: {accuracy_score(y_validate, y_pred)*100:.2f}%\\nF1-Score: {f1_score(y_validate, y_pred)*100:.2f}%')"
   ]
  },
  {
   "cell_type": "markdown",
   "id": "b59134da",
   "metadata": {
    "papermill": {
     "duration": 0.268129,
     "end_time": "2022-07-08T05:01:31.925915",
     "exception": false,
     "start_time": "2022-07-08T05:01:31.657786",
     "status": "completed"
    },
    "tags": []
   },
   "source": [
    "#### Random Forest Classifier"
   ]
  },
  {
   "cell_type": "code",
   "execution_count": 118,
   "id": "29832759",
   "metadata": {
    "execution": {
     "iopub.execute_input": "2022-07-08T05:01:32.402196Z",
     "iopub.status.busy": "2022-07-08T05:01:32.401575Z",
     "iopub.status.idle": "2022-07-08T05:01:32.405838Z",
     "shell.execute_reply": "2022-07-08T05:01:32.405239Z"
    },
    "papermill": {
     "duration": 0.24211,
     "end_time": "2022-07-08T05:01:32.407806",
     "exception": false,
     "start_time": "2022-07-08T05:01:32.165696",
     "status": "completed"
    },
    "tags": []
   },
   "outputs": [],
   "source": [
    "from sklearn.ensemble import RandomForestClassifier\n",
    "\n",
    "rfc = RandomForestClassifier(n_estimators=50, random_state=42)"
   ]
  },
  {
   "cell_type": "code",
   "execution_count": 119,
   "id": "3735ac7f",
   "metadata": {
    "execution": {
     "iopub.execute_input": "2022-07-08T05:01:32.885628Z",
     "iopub.status.busy": "2022-07-08T05:01:32.884869Z",
     "iopub.status.idle": "2022-07-08T05:01:33.022353Z",
     "shell.execute_reply": "2022-07-08T05:01:33.021478Z"
    },
    "papermill": {
     "duration": 0.378234,
     "end_time": "2022-07-08T05:01:33.024658",
     "exception": false,
     "start_time": "2022-07-08T05:01:32.646424",
     "status": "completed"
    },
    "tags": []
   },
   "outputs": [
    {
     "data": {
      "text/html": [
       "<style>#sk-b86e01db-47af-44e3-b007-75980d4a1fab {color: black;background-color: white;}#sk-b86e01db-47af-44e3-b007-75980d4a1fab pre{padding: 0;}#sk-b86e01db-47af-44e3-b007-75980d4a1fab div.sk-toggleable {background-color: white;}#sk-b86e01db-47af-44e3-b007-75980d4a1fab label.sk-toggleable__label {cursor: pointer;display: block;width: 100%;margin-bottom: 0;padding: 0.3em;box-sizing: border-box;text-align: center;}#sk-b86e01db-47af-44e3-b007-75980d4a1fab label.sk-toggleable__label-arrow:before {content: \"▸\";float: left;margin-right: 0.25em;color: #696969;}#sk-b86e01db-47af-44e3-b007-75980d4a1fab label.sk-toggleable__label-arrow:hover:before {color: black;}#sk-b86e01db-47af-44e3-b007-75980d4a1fab div.sk-estimator:hover label.sk-toggleable__label-arrow:before {color: black;}#sk-b86e01db-47af-44e3-b007-75980d4a1fab div.sk-toggleable__content {max-height: 0;max-width: 0;overflow: hidden;text-align: left;background-color: #f0f8ff;}#sk-b86e01db-47af-44e3-b007-75980d4a1fab div.sk-toggleable__content pre {margin: 0.2em;color: black;border-radius: 0.25em;background-color: #f0f8ff;}#sk-b86e01db-47af-44e3-b007-75980d4a1fab input.sk-toggleable__control:checked~div.sk-toggleable__content {max-height: 200px;max-width: 100%;overflow: auto;}#sk-b86e01db-47af-44e3-b007-75980d4a1fab input.sk-toggleable__control:checked~label.sk-toggleable__label-arrow:before {content: \"▾\";}#sk-b86e01db-47af-44e3-b007-75980d4a1fab div.sk-estimator input.sk-toggleable__control:checked~label.sk-toggleable__label {background-color: #d4ebff;}#sk-b86e01db-47af-44e3-b007-75980d4a1fab div.sk-label input.sk-toggleable__control:checked~label.sk-toggleable__label {background-color: #d4ebff;}#sk-b86e01db-47af-44e3-b007-75980d4a1fab input.sk-hidden--visually {border: 0;clip: rect(1px 1px 1px 1px);clip: rect(1px, 1px, 1px, 1px);height: 1px;margin: -1px;overflow: hidden;padding: 0;position: absolute;width: 1px;}#sk-b86e01db-47af-44e3-b007-75980d4a1fab div.sk-estimator {font-family: monospace;background-color: #f0f8ff;border: 1px dotted black;border-radius: 0.25em;box-sizing: border-box;margin-bottom: 0.5em;}#sk-b86e01db-47af-44e3-b007-75980d4a1fab div.sk-estimator:hover {background-color: #d4ebff;}#sk-b86e01db-47af-44e3-b007-75980d4a1fab div.sk-parallel-item::after {content: \"\";width: 100%;border-bottom: 1px solid gray;flex-grow: 1;}#sk-b86e01db-47af-44e3-b007-75980d4a1fab div.sk-label:hover label.sk-toggleable__label {background-color: #d4ebff;}#sk-b86e01db-47af-44e3-b007-75980d4a1fab div.sk-serial::before {content: \"\";position: absolute;border-left: 1px solid gray;box-sizing: border-box;top: 2em;bottom: 0;left: 50%;}#sk-b86e01db-47af-44e3-b007-75980d4a1fab div.sk-serial {display: flex;flex-direction: column;align-items: center;background-color: white;padding-right: 0.2em;padding-left: 0.2em;}#sk-b86e01db-47af-44e3-b007-75980d4a1fab div.sk-item {z-index: 1;}#sk-b86e01db-47af-44e3-b007-75980d4a1fab div.sk-parallel {display: flex;align-items: stretch;justify-content: center;background-color: white;}#sk-b86e01db-47af-44e3-b007-75980d4a1fab div.sk-parallel::before {content: \"\";position: absolute;border-left: 1px solid gray;box-sizing: border-box;top: 2em;bottom: 0;left: 50%;}#sk-b86e01db-47af-44e3-b007-75980d4a1fab div.sk-parallel-item {display: flex;flex-direction: column;position: relative;background-color: white;}#sk-b86e01db-47af-44e3-b007-75980d4a1fab div.sk-parallel-item:first-child::after {align-self: flex-end;width: 50%;}#sk-b86e01db-47af-44e3-b007-75980d4a1fab div.sk-parallel-item:last-child::after {align-self: flex-start;width: 50%;}#sk-b86e01db-47af-44e3-b007-75980d4a1fab div.sk-parallel-item:only-child::after {width: 0;}#sk-b86e01db-47af-44e3-b007-75980d4a1fab div.sk-dashed-wrapped {border: 1px dashed gray;margin: 0 0.4em 0.5em 0.4em;box-sizing: border-box;padding-bottom: 0.4em;background-color: white;position: relative;}#sk-b86e01db-47af-44e3-b007-75980d4a1fab div.sk-label label {font-family: monospace;font-weight: bold;background-color: white;display: inline-block;line-height: 1.2em;}#sk-b86e01db-47af-44e3-b007-75980d4a1fab div.sk-label-container {position: relative;z-index: 2;text-align: center;}#sk-b86e01db-47af-44e3-b007-75980d4a1fab div.sk-container {/* jupyter's `normalize.less` sets `[hidden] { display: none; }` but bootstrap.min.css set `[hidden] { display: none !important; }` so we also need the `!important` here to be able to override the default hidden behavior on the sphinx rendered scikit-learn.org. See: https://github.com/scikit-learn/scikit-learn/issues/21755 */display: inline-block !important;position: relative;}#sk-b86e01db-47af-44e3-b007-75980d4a1fab div.sk-text-repr-fallback {display: none;}</style><div id=\"sk-b86e01db-47af-44e3-b007-75980d4a1fab\" class=\"sk-top-container\"><div class=\"sk-text-repr-fallback\"><pre>RandomForestClassifier(n_estimators=50, random_state=42)</pre><b>Please rerun this cell to show the HTML repr or trust the notebook.</b></div><div class=\"sk-container\" hidden><div class=\"sk-item\"><div class=\"sk-estimator sk-toggleable\"><input class=\"sk-toggleable__control sk-hidden--visually\" id=\"22c669cf-3d8e-4d89-aadc-dedda5d3c738\" type=\"checkbox\" checked><label for=\"22c669cf-3d8e-4d89-aadc-dedda5d3c738\" class=\"sk-toggleable__label sk-toggleable__label-arrow\">RandomForestClassifier</label><div class=\"sk-toggleable__content\"><pre>RandomForestClassifier(n_estimators=50, random_state=42)</pre></div></div></div></div></div>"
      ],
      "text/plain": [
       "RandomForestClassifier(n_estimators=50, random_state=42)"
      ]
     },
     "execution_count": 119,
     "metadata": {},
     "output_type": "execute_result"
    }
   ],
   "source": [
    "rfc.fit(X_train, y_train)"
   ]
  },
  {
   "cell_type": "code",
   "execution_count": 120,
   "id": "5fa71e04",
   "metadata": {
    "execution": {
     "iopub.execute_input": "2022-07-08T05:01:33.504979Z",
     "iopub.status.busy": "2022-07-08T05:01:33.504706Z",
     "iopub.status.idle": "2022-07-08T05:01:33.516136Z",
     "shell.execute_reply": "2022-07-08T05:01:33.515520Z"
    },
    "papermill": {
     "duration": 0.252614,
     "end_time": "2022-07-08T05:01:33.518402",
     "exception": false,
     "start_time": "2022-07-08T05:01:33.265788",
     "status": "completed"
    },
    "tags": []
   },
   "outputs": [],
   "source": [
    "y_pred = rfc.predict(X_validate)"
   ]
  },
  {
   "cell_type": "code",
   "execution_count": 121,
   "id": "4ca71815",
   "metadata": {
    "execution": {
     "iopub.execute_input": "2022-07-08T05:01:33.999142Z",
     "iopub.status.busy": "2022-07-08T05:01:33.998575Z",
     "iopub.status.idle": "2022-07-08T05:01:34.005995Z",
     "shell.execute_reply": "2022-07-08T05:01:34.004795Z"
    },
    "papermill": {
     "duration": 0.252464,
     "end_time": "2022-07-08T05:01:34.008300",
     "exception": false,
     "start_time": "2022-07-08T05:01:33.755836",
     "status": "completed"
    },
    "tags": []
   },
   "outputs": [
    {
     "name": "stdout",
     "output_type": "stream",
     "text": [
      "Accuracy: 76.79%\n",
      "F1-Score: 77.97%\n"
     ]
    }
   ],
   "source": [
    "print(f'Accuracy: {accuracy_score(y_validate, y_pred)*100:.2f}%\\nF1-Score: {f1_score(y_validate, y_pred)*100:.2f}%')"
   ]
  },
  {
   "cell_type": "markdown",
   "id": "595e4e63",
   "metadata": {
    "papermill": {
     "duration": 0.23556,
     "end_time": "2022-07-08T05:01:34.481389",
     "exception": false,
     "start_time": "2022-07-08T05:01:34.245829",
     "status": "completed"
    },
    "tags": []
   },
   "source": [
    "#### Histogram Gradient Boosting"
   ]
  },
  {
   "cell_type": "code",
   "execution_count": 122,
   "id": "40e34a4a",
   "metadata": {
    "execution": {
     "iopub.execute_input": "2022-07-08T05:01:34.954281Z",
     "iopub.status.busy": "2022-07-08T05:01:34.953986Z",
     "iopub.status.idle": "2022-07-08T05:01:34.958230Z",
     "shell.execute_reply": "2022-07-08T05:01:34.957235Z"
    },
    "papermill": {
     "duration": 0.243466,
     "end_time": "2022-07-08T05:01:34.960156",
     "exception": false,
     "start_time": "2022-07-08T05:01:34.716690",
     "status": "completed"
    },
    "tags": []
   },
   "outputs": [],
   "source": [
    "from sklearn.ensemble import HistGradientBoostingClassifier\n",
    "\n",
    "hgb = HistGradientBoostingClassifier(learning_rate=0.1, random_state=42)"
   ]
  },
  {
   "cell_type": "code",
   "execution_count": 123,
   "id": "3de23946",
   "metadata": {
    "execution": {
     "iopub.execute_input": "2022-07-08T05:01:35.439640Z",
     "iopub.status.busy": "2022-07-08T05:01:35.439362Z",
     "iopub.status.idle": "2022-07-08T05:01:37.073227Z",
     "shell.execute_reply": "2022-07-08T05:01:37.072367Z"
    },
    "papermill": {
     "duration": 1.876441,
     "end_time": "2022-07-08T05:01:37.075325",
     "exception": false,
     "start_time": "2022-07-08T05:01:35.198884",
     "status": "completed"
    },
    "tags": []
   },
   "outputs": [
    {
     "data": {
      "text/html": [
       "<style>#sk-01f7f472-544b-4ba5-8123-40455c923dcc {color: black;background-color: white;}#sk-01f7f472-544b-4ba5-8123-40455c923dcc pre{padding: 0;}#sk-01f7f472-544b-4ba5-8123-40455c923dcc div.sk-toggleable {background-color: white;}#sk-01f7f472-544b-4ba5-8123-40455c923dcc label.sk-toggleable__label {cursor: pointer;display: block;width: 100%;margin-bottom: 0;padding: 0.3em;box-sizing: border-box;text-align: center;}#sk-01f7f472-544b-4ba5-8123-40455c923dcc label.sk-toggleable__label-arrow:before {content: \"▸\";float: left;margin-right: 0.25em;color: #696969;}#sk-01f7f472-544b-4ba5-8123-40455c923dcc label.sk-toggleable__label-arrow:hover:before {color: black;}#sk-01f7f472-544b-4ba5-8123-40455c923dcc div.sk-estimator:hover label.sk-toggleable__label-arrow:before {color: black;}#sk-01f7f472-544b-4ba5-8123-40455c923dcc div.sk-toggleable__content {max-height: 0;max-width: 0;overflow: hidden;text-align: left;background-color: #f0f8ff;}#sk-01f7f472-544b-4ba5-8123-40455c923dcc div.sk-toggleable__content pre {margin: 0.2em;color: black;border-radius: 0.25em;background-color: #f0f8ff;}#sk-01f7f472-544b-4ba5-8123-40455c923dcc input.sk-toggleable__control:checked~div.sk-toggleable__content {max-height: 200px;max-width: 100%;overflow: auto;}#sk-01f7f472-544b-4ba5-8123-40455c923dcc input.sk-toggleable__control:checked~label.sk-toggleable__label-arrow:before {content: \"▾\";}#sk-01f7f472-544b-4ba5-8123-40455c923dcc div.sk-estimator input.sk-toggleable__control:checked~label.sk-toggleable__label {background-color: #d4ebff;}#sk-01f7f472-544b-4ba5-8123-40455c923dcc div.sk-label input.sk-toggleable__control:checked~label.sk-toggleable__label {background-color: #d4ebff;}#sk-01f7f472-544b-4ba5-8123-40455c923dcc input.sk-hidden--visually {border: 0;clip: rect(1px 1px 1px 1px);clip: rect(1px, 1px, 1px, 1px);height: 1px;margin: -1px;overflow: hidden;padding: 0;position: absolute;width: 1px;}#sk-01f7f472-544b-4ba5-8123-40455c923dcc div.sk-estimator {font-family: monospace;background-color: #f0f8ff;border: 1px dotted black;border-radius: 0.25em;box-sizing: border-box;margin-bottom: 0.5em;}#sk-01f7f472-544b-4ba5-8123-40455c923dcc div.sk-estimator:hover {background-color: #d4ebff;}#sk-01f7f472-544b-4ba5-8123-40455c923dcc div.sk-parallel-item::after {content: \"\";width: 100%;border-bottom: 1px solid gray;flex-grow: 1;}#sk-01f7f472-544b-4ba5-8123-40455c923dcc div.sk-label:hover label.sk-toggleable__label {background-color: #d4ebff;}#sk-01f7f472-544b-4ba5-8123-40455c923dcc div.sk-serial::before {content: \"\";position: absolute;border-left: 1px solid gray;box-sizing: border-box;top: 2em;bottom: 0;left: 50%;}#sk-01f7f472-544b-4ba5-8123-40455c923dcc div.sk-serial {display: flex;flex-direction: column;align-items: center;background-color: white;padding-right: 0.2em;padding-left: 0.2em;}#sk-01f7f472-544b-4ba5-8123-40455c923dcc div.sk-item {z-index: 1;}#sk-01f7f472-544b-4ba5-8123-40455c923dcc div.sk-parallel {display: flex;align-items: stretch;justify-content: center;background-color: white;}#sk-01f7f472-544b-4ba5-8123-40455c923dcc div.sk-parallel::before {content: \"\";position: absolute;border-left: 1px solid gray;box-sizing: border-box;top: 2em;bottom: 0;left: 50%;}#sk-01f7f472-544b-4ba5-8123-40455c923dcc div.sk-parallel-item {display: flex;flex-direction: column;position: relative;background-color: white;}#sk-01f7f472-544b-4ba5-8123-40455c923dcc div.sk-parallel-item:first-child::after {align-self: flex-end;width: 50%;}#sk-01f7f472-544b-4ba5-8123-40455c923dcc div.sk-parallel-item:last-child::after {align-self: flex-start;width: 50%;}#sk-01f7f472-544b-4ba5-8123-40455c923dcc div.sk-parallel-item:only-child::after {width: 0;}#sk-01f7f472-544b-4ba5-8123-40455c923dcc div.sk-dashed-wrapped {border: 1px dashed gray;margin: 0 0.4em 0.5em 0.4em;box-sizing: border-box;padding-bottom: 0.4em;background-color: white;position: relative;}#sk-01f7f472-544b-4ba5-8123-40455c923dcc div.sk-label label {font-family: monospace;font-weight: bold;background-color: white;display: inline-block;line-height: 1.2em;}#sk-01f7f472-544b-4ba5-8123-40455c923dcc div.sk-label-container {position: relative;z-index: 2;text-align: center;}#sk-01f7f472-544b-4ba5-8123-40455c923dcc div.sk-container {/* jupyter's `normalize.less` sets `[hidden] { display: none; }` but bootstrap.min.css set `[hidden] { display: none !important; }` so we also need the `!important` here to be able to override the default hidden behavior on the sphinx rendered scikit-learn.org. See: https://github.com/scikit-learn/scikit-learn/issues/21755 */display: inline-block !important;position: relative;}#sk-01f7f472-544b-4ba5-8123-40455c923dcc div.sk-text-repr-fallback {display: none;}</style><div id=\"sk-01f7f472-544b-4ba5-8123-40455c923dcc\" class=\"sk-top-container\"><div class=\"sk-text-repr-fallback\"><pre>HistGradientBoostingClassifier(random_state=42)</pre><b>Please rerun this cell to show the HTML repr or trust the notebook.</b></div><div class=\"sk-container\" hidden><div class=\"sk-item\"><div class=\"sk-estimator sk-toggleable\"><input class=\"sk-toggleable__control sk-hidden--visually\" id=\"9dc7e67e-e1da-454c-b151-6727fd36f869\" type=\"checkbox\" checked><label for=\"9dc7e67e-e1da-454c-b151-6727fd36f869\" class=\"sk-toggleable__label sk-toggleable__label-arrow\">HistGradientBoostingClassifier</label><div class=\"sk-toggleable__content\"><pre>HistGradientBoostingClassifier(random_state=42)</pre></div></div></div></div></div>"
      ],
      "text/plain": [
       "HistGradientBoostingClassifier(random_state=42)"
      ]
     },
     "execution_count": 123,
     "metadata": {},
     "output_type": "execute_result"
    }
   ],
   "source": [
    "hgb.fit(X_train, y_train)"
   ]
  },
  {
   "cell_type": "code",
   "execution_count": 124,
   "id": "f9bb8ce3",
   "metadata": {
    "execution": {
     "iopub.execute_input": "2022-07-08T05:01:37.552849Z",
     "iopub.status.busy": "2022-07-08T05:01:37.552540Z",
     "iopub.status.idle": "2022-07-08T05:01:37.566244Z",
     "shell.execute_reply": "2022-07-08T05:01:37.565415Z"
    },
    "papermill": {
     "duration": 0.253927,
     "end_time": "2022-07-08T05:01:37.568219",
     "exception": false,
     "start_time": "2022-07-08T05:01:37.314292",
     "status": "completed"
    },
    "tags": []
   },
   "outputs": [],
   "source": [
    "y_pred = rfc.predict(X_validate)"
   ]
  },
  {
   "cell_type": "code",
   "execution_count": 125,
   "id": "512085fa",
   "metadata": {
    "execution": {
     "iopub.execute_input": "2022-07-08T05:01:38.055432Z",
     "iopub.status.busy": "2022-07-08T05:01:38.055109Z",
     "iopub.status.idle": "2022-07-08T05:01:38.062514Z",
     "shell.execute_reply": "2022-07-08T05:01:38.061355Z"
    },
    "papermill": {
     "duration": 0.257705,
     "end_time": "2022-07-08T05:01:38.064582",
     "exception": false,
     "start_time": "2022-07-08T05:01:37.806877",
     "status": "completed"
    },
    "tags": []
   },
   "outputs": [
    {
     "name": "stdout",
     "output_type": "stream",
     "text": [
      "Accuracy: 76.79%\n",
      "F1-Score: 77.97%\n"
     ]
    }
   ],
   "source": [
    "print(f'Accuracy: {accuracy_score(y_validate, y_pred)*100:.2f}%\\nF1-Score: {f1_score(y_validate, y_pred)*100:.2f}%')"
   ]
  },
  {
   "cell_type": "markdown",
   "id": "0e54656c",
   "metadata": {
    "papermill": {
     "duration": 0.238327,
     "end_time": "2022-07-08T05:01:38.542939",
     "exception": false,
     "start_time": "2022-07-08T05:01:38.304612",
     "status": "completed"
    },
    "tags": []
   },
   "source": [
    "#### Extreme Gradient Boosting Classifier"
   ]
  },
  {
   "cell_type": "code",
   "execution_count": 126,
   "id": "aff53558",
   "metadata": {
    "execution": {
     "iopub.execute_input": "2022-07-08T05:01:39.029294Z",
     "iopub.status.busy": "2022-07-08T05:01:39.028699Z",
     "iopub.status.idle": "2022-07-08T05:01:39.032969Z",
     "shell.execute_reply": "2022-07-08T05:01:39.031996Z"
    },
    "papermill": {
     "duration": 0.25214,
     "end_time": "2022-07-08T05:01:39.035036",
     "exception": false,
     "start_time": "2022-07-08T05:01:38.782896",
     "status": "completed"
    },
    "tags": []
   },
   "outputs": [],
   "source": [
    "from xgboost import XGBClassifier\n",
    "\n",
    "xgb = XGBClassifier(random_state=42)"
   ]
  },
  {
   "cell_type": "code",
   "execution_count": 127,
   "id": "d1a54640",
   "metadata": {
    "execution": {
     "iopub.execute_input": "2022-07-08T05:01:39.516874Z",
     "iopub.status.busy": "2022-07-08T05:01:39.516323Z",
     "iopub.status.idle": "2022-07-08T05:01:39.991716Z",
     "shell.execute_reply": "2022-07-08T05:01:39.991028Z"
    },
    "papermill": {
     "duration": 0.717999,
     "end_time": "2022-07-08T05:01:39.993603",
     "exception": false,
     "start_time": "2022-07-08T05:01:39.275604",
     "status": "completed"
    },
    "tags": []
   },
   "outputs": [
    {
     "data": {
      "text/html": [
       "<style>#sk-6e623a02-fabb-48dc-af95-93ab6e8f2f07 {color: black;background-color: white;}#sk-6e623a02-fabb-48dc-af95-93ab6e8f2f07 pre{padding: 0;}#sk-6e623a02-fabb-48dc-af95-93ab6e8f2f07 div.sk-toggleable {background-color: white;}#sk-6e623a02-fabb-48dc-af95-93ab6e8f2f07 label.sk-toggleable__label {cursor: pointer;display: block;width: 100%;margin-bottom: 0;padding: 0.3em;box-sizing: border-box;text-align: center;}#sk-6e623a02-fabb-48dc-af95-93ab6e8f2f07 label.sk-toggleable__label-arrow:before {content: \"▸\";float: left;margin-right: 0.25em;color: #696969;}#sk-6e623a02-fabb-48dc-af95-93ab6e8f2f07 label.sk-toggleable__label-arrow:hover:before {color: black;}#sk-6e623a02-fabb-48dc-af95-93ab6e8f2f07 div.sk-estimator:hover label.sk-toggleable__label-arrow:before {color: black;}#sk-6e623a02-fabb-48dc-af95-93ab6e8f2f07 div.sk-toggleable__content {max-height: 0;max-width: 0;overflow: hidden;text-align: left;background-color: #f0f8ff;}#sk-6e623a02-fabb-48dc-af95-93ab6e8f2f07 div.sk-toggleable__content pre {margin: 0.2em;color: black;border-radius: 0.25em;background-color: #f0f8ff;}#sk-6e623a02-fabb-48dc-af95-93ab6e8f2f07 input.sk-toggleable__control:checked~div.sk-toggleable__content {max-height: 200px;max-width: 100%;overflow: auto;}#sk-6e623a02-fabb-48dc-af95-93ab6e8f2f07 input.sk-toggleable__control:checked~label.sk-toggleable__label-arrow:before {content: \"▾\";}#sk-6e623a02-fabb-48dc-af95-93ab6e8f2f07 div.sk-estimator input.sk-toggleable__control:checked~label.sk-toggleable__label {background-color: #d4ebff;}#sk-6e623a02-fabb-48dc-af95-93ab6e8f2f07 div.sk-label input.sk-toggleable__control:checked~label.sk-toggleable__label {background-color: #d4ebff;}#sk-6e623a02-fabb-48dc-af95-93ab6e8f2f07 input.sk-hidden--visually {border: 0;clip: rect(1px 1px 1px 1px);clip: rect(1px, 1px, 1px, 1px);height: 1px;margin: -1px;overflow: hidden;padding: 0;position: absolute;width: 1px;}#sk-6e623a02-fabb-48dc-af95-93ab6e8f2f07 div.sk-estimator {font-family: monospace;background-color: #f0f8ff;border: 1px dotted black;border-radius: 0.25em;box-sizing: border-box;margin-bottom: 0.5em;}#sk-6e623a02-fabb-48dc-af95-93ab6e8f2f07 div.sk-estimator:hover {background-color: #d4ebff;}#sk-6e623a02-fabb-48dc-af95-93ab6e8f2f07 div.sk-parallel-item::after {content: \"\";width: 100%;border-bottom: 1px solid gray;flex-grow: 1;}#sk-6e623a02-fabb-48dc-af95-93ab6e8f2f07 div.sk-label:hover label.sk-toggleable__label {background-color: #d4ebff;}#sk-6e623a02-fabb-48dc-af95-93ab6e8f2f07 div.sk-serial::before {content: \"\";position: absolute;border-left: 1px solid gray;box-sizing: border-box;top: 2em;bottom: 0;left: 50%;}#sk-6e623a02-fabb-48dc-af95-93ab6e8f2f07 div.sk-serial {display: flex;flex-direction: column;align-items: center;background-color: white;padding-right: 0.2em;padding-left: 0.2em;}#sk-6e623a02-fabb-48dc-af95-93ab6e8f2f07 div.sk-item {z-index: 1;}#sk-6e623a02-fabb-48dc-af95-93ab6e8f2f07 div.sk-parallel {display: flex;align-items: stretch;justify-content: center;background-color: white;}#sk-6e623a02-fabb-48dc-af95-93ab6e8f2f07 div.sk-parallel::before {content: \"\";position: absolute;border-left: 1px solid gray;box-sizing: border-box;top: 2em;bottom: 0;left: 50%;}#sk-6e623a02-fabb-48dc-af95-93ab6e8f2f07 div.sk-parallel-item {display: flex;flex-direction: column;position: relative;background-color: white;}#sk-6e623a02-fabb-48dc-af95-93ab6e8f2f07 div.sk-parallel-item:first-child::after {align-self: flex-end;width: 50%;}#sk-6e623a02-fabb-48dc-af95-93ab6e8f2f07 div.sk-parallel-item:last-child::after {align-self: flex-start;width: 50%;}#sk-6e623a02-fabb-48dc-af95-93ab6e8f2f07 div.sk-parallel-item:only-child::after {width: 0;}#sk-6e623a02-fabb-48dc-af95-93ab6e8f2f07 div.sk-dashed-wrapped {border: 1px dashed gray;margin: 0 0.4em 0.5em 0.4em;box-sizing: border-box;padding-bottom: 0.4em;background-color: white;position: relative;}#sk-6e623a02-fabb-48dc-af95-93ab6e8f2f07 div.sk-label label {font-family: monospace;font-weight: bold;background-color: white;display: inline-block;line-height: 1.2em;}#sk-6e623a02-fabb-48dc-af95-93ab6e8f2f07 div.sk-label-container {position: relative;z-index: 2;text-align: center;}#sk-6e623a02-fabb-48dc-af95-93ab6e8f2f07 div.sk-container {/* jupyter's `normalize.less` sets `[hidden] { display: none; }` but bootstrap.min.css set `[hidden] { display: none !important; }` so we also need the `!important` here to be able to override the default hidden behavior on the sphinx rendered scikit-learn.org. See: https://github.com/scikit-learn/scikit-learn/issues/21755 */display: inline-block !important;position: relative;}#sk-6e623a02-fabb-48dc-af95-93ab6e8f2f07 div.sk-text-repr-fallback {display: none;}</style><div id=\"sk-6e623a02-fabb-48dc-af95-93ab6e8f2f07\" class=\"sk-top-container\"><div class=\"sk-text-repr-fallback\"><pre>XGBClassifier(base_score=0.5, booster=&#x27;gbtree&#x27;, callbacks=None,\n",
       "              colsample_bylevel=1, colsample_bynode=1, colsample_bytree=1,\n",
       "              early_stopping_rounds=None, enable_categorical=False,\n",
       "              eval_metric=None, gamma=0, gpu_id=-1, grow_policy=&#x27;depthwise&#x27;,\n",
       "              importance_type=None, interaction_constraints=&#x27;&#x27;,\n",
       "              learning_rate=0.300000012, max_bin=256, max_cat_to_onehot=4,\n",
       "              max_delta_step=0, max_depth=6, max_leaves=0, min_child_weight=1,\n",
       "              missing=nan, monotone_constraints=&#x27;()&#x27;, n_estimators=100,\n",
       "              n_jobs=0, num_parallel_tree=1, predictor=&#x27;auto&#x27;, random_state=42,\n",
       "              reg_alpha=0, reg_lambda=1, ...)</pre><b>Please rerun this cell to show the HTML repr or trust the notebook.</b></div><div class=\"sk-container\" hidden><div class=\"sk-item\"><div class=\"sk-estimator sk-toggleable\"><input class=\"sk-toggleable__control sk-hidden--visually\" id=\"b1e07ca9-2073-44b7-96ea-9c1501b32dcb\" type=\"checkbox\" checked><label for=\"b1e07ca9-2073-44b7-96ea-9c1501b32dcb\" class=\"sk-toggleable__label sk-toggleable__label-arrow\">XGBClassifier</label><div class=\"sk-toggleable__content\"><pre>XGBClassifier(base_score=0.5, booster=&#x27;gbtree&#x27;, callbacks=None,\n",
       "              colsample_bylevel=1, colsample_bynode=1, colsample_bytree=1,\n",
       "              early_stopping_rounds=None, enable_categorical=False,\n",
       "              eval_metric=None, gamma=0, gpu_id=-1, grow_policy=&#x27;depthwise&#x27;,\n",
       "              importance_type=None, interaction_constraints=&#x27;&#x27;,\n",
       "              learning_rate=0.300000012, max_bin=256, max_cat_to_onehot=4,\n",
       "              max_delta_step=0, max_depth=6, max_leaves=0, min_child_weight=1,\n",
       "              missing=nan, monotone_constraints=&#x27;()&#x27;, n_estimators=100,\n",
       "              n_jobs=0, num_parallel_tree=1, predictor=&#x27;auto&#x27;, random_state=42,\n",
       "              reg_alpha=0, reg_lambda=1, ...)</pre></div></div></div></div></div>"
      ],
      "text/plain": [
       "XGBClassifier(base_score=0.5, booster='gbtree', callbacks=None,\n",
       "              colsample_bylevel=1, colsample_bynode=1, colsample_bytree=1,\n",
       "              early_stopping_rounds=None, enable_categorical=False,\n",
       "              eval_metric=None, gamma=0, gpu_id=-1, grow_policy='depthwise',\n",
       "              importance_type=None, interaction_constraints='',\n",
       "              learning_rate=0.300000012, max_bin=256, max_cat_to_onehot=4,\n",
       "              max_delta_step=0, max_depth=6, max_leaves=0, min_child_weight=1,\n",
       "              missing=nan, monotone_constraints='()', n_estimators=100,\n",
       "              n_jobs=0, num_parallel_tree=1, predictor='auto', random_state=42,\n",
       "              reg_alpha=0, reg_lambda=1, ...)"
      ]
     },
     "execution_count": 127,
     "metadata": {},
     "output_type": "execute_result"
    }
   ],
   "source": [
    "xgb.fit(X_train, y_train)"
   ]
  },
  {
   "cell_type": "code",
   "execution_count": 128,
   "id": "0f8748ef",
   "metadata": {
    "execution": {
     "iopub.execute_input": "2022-07-08T05:01:40.476767Z",
     "iopub.status.busy": "2022-07-08T05:01:40.476195Z",
     "iopub.status.idle": "2022-07-08T05:01:40.482999Z",
     "shell.execute_reply": "2022-07-08T05:01:40.482415Z"
    },
    "papermill": {
     "duration": 0.249432,
     "end_time": "2022-07-08T05:01:40.484980",
     "exception": false,
     "start_time": "2022-07-08T05:01:40.235548",
     "status": "completed"
    },
    "tags": []
   },
   "outputs": [],
   "source": [
    "y_pred = xgb.predict(X_validate)"
   ]
  },
  {
   "cell_type": "code",
   "execution_count": 129,
   "id": "e112490c",
   "metadata": {
    "execution": {
     "iopub.execute_input": "2022-07-08T05:01:40.967533Z",
     "iopub.status.busy": "2022-07-08T05:01:40.966947Z",
     "iopub.status.idle": "2022-07-08T05:01:40.972930Z",
     "shell.execute_reply": "2022-07-08T05:01:40.972304Z"
    },
    "papermill": {
     "duration": 0.250374,
     "end_time": "2022-07-08T05:01:40.975113",
     "exception": false,
     "start_time": "2022-07-08T05:01:40.724739",
     "status": "completed"
    },
    "tags": []
   },
   "outputs": [
    {
     "name": "stdout",
     "output_type": "stream",
     "text": [
      "Accuracy: 78.57%\n",
      "F1-Score: 78.57%\n"
     ]
    }
   ],
   "source": [
    "print(f'Accuracy: {accuracy_score(y_validate, y_pred)*100:.2f}%\\nF1-Score: {f1_score(y_validate, y_pred)*100:.2f}%')"
   ]
  },
  {
   "cell_type": "markdown",
   "id": "eade48aa",
   "metadata": {
    "papermill": {
     "duration": 0.238863,
     "end_time": "2022-07-08T05:01:41.453978",
     "exception": false,
     "start_time": "2022-07-08T05:01:41.215115",
     "status": "completed"
    },
    "tags": []
   },
   "source": [
    "#### Stacking Classifier"
   ]
  },
  {
   "cell_type": "code",
   "execution_count": 130,
   "id": "49ae6d9a",
   "metadata": {
    "execution": {
     "iopub.execute_input": "2022-07-08T05:01:41.937851Z",
     "iopub.status.busy": "2022-07-08T05:01:41.937332Z",
     "iopub.status.idle": "2022-07-08T05:01:41.943899Z",
     "shell.execute_reply": "2022-07-08T05:01:41.943223Z"
    },
    "papermill": {
     "duration": 0.25386,
     "end_time": "2022-07-08T05:01:41.946046",
     "exception": false,
     "start_time": "2022-07-08T05:01:41.692186",
     "status": "completed"
    },
    "tags": []
   },
   "outputs": [],
   "source": [
    "from sklearn.ensemble import StackingClassifier\n",
    "\n",
    "knn19 = KNeighborsClassifier(n_neighbors=19)\n",
    "knn21 = KNeighborsClassifier(n_neighbors=21)\n",
    "knn23 = KNeighborsClassifier(n_neighbors=23)\n",
    "\n",
    "bgc19 = BaggingClassifier(base_estimator= knn19, n_estimators=5, random_state=42)\n",
    "bgc21 = BaggingClassifier(base_estimator= knn21, n_estimators=5, random_state=42)\n",
    "bgc23 = BaggingClassifier(base_estimator= knn23, n_estimators=5, random_state=42)\n",
    "\n",
    "stc = StackingClassifier(estimators = [\n",
    "    ('bgc19',bgc19),\n",
    "    ('bgc21',bgc21),\n",
    "    ('bgc23',bgc23)\n",
    "])"
   ]
  },
  {
   "cell_type": "code",
   "execution_count": 131,
   "id": "e5fe828d",
   "metadata": {
    "execution": {
     "iopub.execute_input": "2022-07-08T05:01:42.430563Z",
     "iopub.status.busy": "2022-07-08T05:01:42.429994Z",
     "iopub.status.idle": "2022-07-08T05:01:42.853459Z",
     "shell.execute_reply": "2022-07-08T05:01:42.852220Z"
    },
    "papermill": {
     "duration": 0.668995,
     "end_time": "2022-07-08T05:01:42.857174",
     "exception": false,
     "start_time": "2022-07-08T05:01:42.188179",
     "status": "completed"
    },
    "tags": []
   },
   "outputs": [
    {
     "data": {
      "text/html": [
       "<style>#sk-b9a3d0e1-0caa-4dbf-8a61-e08c7a435d04 {color: black;background-color: white;}#sk-b9a3d0e1-0caa-4dbf-8a61-e08c7a435d04 pre{padding: 0;}#sk-b9a3d0e1-0caa-4dbf-8a61-e08c7a435d04 div.sk-toggleable {background-color: white;}#sk-b9a3d0e1-0caa-4dbf-8a61-e08c7a435d04 label.sk-toggleable__label {cursor: pointer;display: block;width: 100%;margin-bottom: 0;padding: 0.3em;box-sizing: border-box;text-align: center;}#sk-b9a3d0e1-0caa-4dbf-8a61-e08c7a435d04 label.sk-toggleable__label-arrow:before {content: \"▸\";float: left;margin-right: 0.25em;color: #696969;}#sk-b9a3d0e1-0caa-4dbf-8a61-e08c7a435d04 label.sk-toggleable__label-arrow:hover:before {color: black;}#sk-b9a3d0e1-0caa-4dbf-8a61-e08c7a435d04 div.sk-estimator:hover label.sk-toggleable__label-arrow:before {color: black;}#sk-b9a3d0e1-0caa-4dbf-8a61-e08c7a435d04 div.sk-toggleable__content {max-height: 0;max-width: 0;overflow: hidden;text-align: left;background-color: #f0f8ff;}#sk-b9a3d0e1-0caa-4dbf-8a61-e08c7a435d04 div.sk-toggleable__content pre {margin: 0.2em;color: black;border-radius: 0.25em;background-color: #f0f8ff;}#sk-b9a3d0e1-0caa-4dbf-8a61-e08c7a435d04 input.sk-toggleable__control:checked~div.sk-toggleable__content {max-height: 200px;max-width: 100%;overflow: auto;}#sk-b9a3d0e1-0caa-4dbf-8a61-e08c7a435d04 input.sk-toggleable__control:checked~label.sk-toggleable__label-arrow:before {content: \"▾\";}#sk-b9a3d0e1-0caa-4dbf-8a61-e08c7a435d04 div.sk-estimator input.sk-toggleable__control:checked~label.sk-toggleable__label {background-color: #d4ebff;}#sk-b9a3d0e1-0caa-4dbf-8a61-e08c7a435d04 div.sk-label input.sk-toggleable__control:checked~label.sk-toggleable__label {background-color: #d4ebff;}#sk-b9a3d0e1-0caa-4dbf-8a61-e08c7a435d04 input.sk-hidden--visually {border: 0;clip: rect(1px 1px 1px 1px);clip: rect(1px, 1px, 1px, 1px);height: 1px;margin: -1px;overflow: hidden;padding: 0;position: absolute;width: 1px;}#sk-b9a3d0e1-0caa-4dbf-8a61-e08c7a435d04 div.sk-estimator {font-family: monospace;background-color: #f0f8ff;border: 1px dotted black;border-radius: 0.25em;box-sizing: border-box;margin-bottom: 0.5em;}#sk-b9a3d0e1-0caa-4dbf-8a61-e08c7a435d04 div.sk-estimator:hover {background-color: #d4ebff;}#sk-b9a3d0e1-0caa-4dbf-8a61-e08c7a435d04 div.sk-parallel-item::after {content: \"\";width: 100%;border-bottom: 1px solid gray;flex-grow: 1;}#sk-b9a3d0e1-0caa-4dbf-8a61-e08c7a435d04 div.sk-label:hover label.sk-toggleable__label {background-color: #d4ebff;}#sk-b9a3d0e1-0caa-4dbf-8a61-e08c7a435d04 div.sk-serial::before {content: \"\";position: absolute;border-left: 1px solid gray;box-sizing: border-box;top: 2em;bottom: 0;left: 50%;}#sk-b9a3d0e1-0caa-4dbf-8a61-e08c7a435d04 div.sk-serial {display: flex;flex-direction: column;align-items: center;background-color: white;padding-right: 0.2em;padding-left: 0.2em;}#sk-b9a3d0e1-0caa-4dbf-8a61-e08c7a435d04 div.sk-item {z-index: 1;}#sk-b9a3d0e1-0caa-4dbf-8a61-e08c7a435d04 div.sk-parallel {display: flex;align-items: stretch;justify-content: center;background-color: white;}#sk-b9a3d0e1-0caa-4dbf-8a61-e08c7a435d04 div.sk-parallel::before {content: \"\";position: absolute;border-left: 1px solid gray;box-sizing: border-box;top: 2em;bottom: 0;left: 50%;}#sk-b9a3d0e1-0caa-4dbf-8a61-e08c7a435d04 div.sk-parallel-item {display: flex;flex-direction: column;position: relative;background-color: white;}#sk-b9a3d0e1-0caa-4dbf-8a61-e08c7a435d04 div.sk-parallel-item:first-child::after {align-self: flex-end;width: 50%;}#sk-b9a3d0e1-0caa-4dbf-8a61-e08c7a435d04 div.sk-parallel-item:last-child::after {align-self: flex-start;width: 50%;}#sk-b9a3d0e1-0caa-4dbf-8a61-e08c7a435d04 div.sk-parallel-item:only-child::after {width: 0;}#sk-b9a3d0e1-0caa-4dbf-8a61-e08c7a435d04 div.sk-dashed-wrapped {border: 1px dashed gray;margin: 0 0.4em 0.5em 0.4em;box-sizing: border-box;padding-bottom: 0.4em;background-color: white;position: relative;}#sk-b9a3d0e1-0caa-4dbf-8a61-e08c7a435d04 div.sk-label label {font-family: monospace;font-weight: bold;background-color: white;display: inline-block;line-height: 1.2em;}#sk-b9a3d0e1-0caa-4dbf-8a61-e08c7a435d04 div.sk-label-container {position: relative;z-index: 2;text-align: center;}#sk-b9a3d0e1-0caa-4dbf-8a61-e08c7a435d04 div.sk-container {/* jupyter's `normalize.less` sets `[hidden] { display: none; }` but bootstrap.min.css set `[hidden] { display: none !important; }` so we also need the `!important` here to be able to override the default hidden behavior on the sphinx rendered scikit-learn.org. See: https://github.com/scikit-learn/scikit-learn/issues/21755 */display: inline-block !important;position: relative;}#sk-b9a3d0e1-0caa-4dbf-8a61-e08c7a435d04 div.sk-text-repr-fallback {display: none;}</style><div id=\"sk-b9a3d0e1-0caa-4dbf-8a61-e08c7a435d04\" class=\"sk-top-container\"><div class=\"sk-text-repr-fallback\"><pre>StackingClassifier(estimators=[(&#x27;bgc19&#x27;,\n",
       "                                BaggingClassifier(base_estimator=KNeighborsClassifier(n_neighbors=19),\n",
       "                                                  n_estimators=5,\n",
       "                                                  random_state=42)),\n",
       "                               (&#x27;bgc21&#x27;,\n",
       "                                BaggingClassifier(base_estimator=KNeighborsClassifier(n_neighbors=21),\n",
       "                                                  n_estimators=5,\n",
       "                                                  random_state=42)),\n",
       "                               (&#x27;bgc23&#x27;,\n",
       "                                BaggingClassifier(base_estimator=KNeighborsClassifier(n_neighbors=23),\n",
       "                                                  n_estimators=5,\n",
       "                                                  random_state=42))])</pre><b>Please rerun this cell to show the HTML repr or trust the notebook.</b></div><div class=\"sk-container\" hidden><div class=\"sk-item sk-dashed-wrapped\"><div class=\"sk-label-container\"><div class=\"sk-label sk-toggleable\"><input class=\"sk-toggleable__control sk-hidden--visually\" id=\"acd79357-1458-47b4-9cea-adc1e215300d\" type=\"checkbox\" ><label for=\"acd79357-1458-47b4-9cea-adc1e215300d\" class=\"sk-toggleable__label sk-toggleable__label-arrow\">StackingClassifier</label><div class=\"sk-toggleable__content\"><pre>StackingClassifier(estimators=[(&#x27;bgc19&#x27;,\n",
       "                                BaggingClassifier(base_estimator=KNeighborsClassifier(n_neighbors=19),\n",
       "                                                  n_estimators=5,\n",
       "                                                  random_state=42)),\n",
       "                               (&#x27;bgc21&#x27;,\n",
       "                                BaggingClassifier(base_estimator=KNeighborsClassifier(n_neighbors=21),\n",
       "                                                  n_estimators=5,\n",
       "                                                  random_state=42)),\n",
       "                               (&#x27;bgc23&#x27;,\n",
       "                                BaggingClassifier(base_estimator=KNeighborsClassifier(n_neighbors=23),\n",
       "                                                  n_estimators=5,\n",
       "                                                  random_state=42))])</pre></div></div></div><div class=\"sk-serial\"><div class=\"sk-item\"><div class=\"sk-parallel\"><div class=\"sk-parallel-item\"><div class=\"sk-item\"><div class=\"sk-label-container\"><div class=\"sk-label sk-toggleable\"><label>bgc19</label></div></div><div class=\"sk-serial\"><div class=\"sk-item sk-dashed-wrapped\"><div class=\"sk-parallel\"><div class=\"sk-parallel-item\"><div class=\"sk-item\"><div class=\"sk-serial\"><div class=\"sk-item\"><div class=\"sk-estimator sk-toggleable\"><input class=\"sk-toggleable__control sk-hidden--visually\" id=\"21ee695e-7680-4fa6-9a78-af0c4d6e9895\" type=\"checkbox\" ><label for=\"21ee695e-7680-4fa6-9a78-af0c4d6e9895\" class=\"sk-toggleable__label sk-toggleable__label-arrow\">KNeighborsClassifier</label><div class=\"sk-toggleable__content\"><pre>KNeighborsClassifier(n_neighbors=19)</pre></div></div></div></div></div></div></div></div></div></div></div><div class=\"sk-parallel-item\"><div class=\"sk-item\"><div class=\"sk-label-container\"><div class=\"sk-label sk-toggleable\"><label>bgc21</label></div></div><div class=\"sk-serial\"><div class=\"sk-item sk-dashed-wrapped\"><div class=\"sk-parallel\"><div class=\"sk-parallel-item\"><div class=\"sk-item\"><div class=\"sk-serial\"><div class=\"sk-item\"><div class=\"sk-estimator sk-toggleable\"><input class=\"sk-toggleable__control sk-hidden--visually\" id=\"e7bb0c7b-a86d-4db4-b79a-b85f262ec710\" type=\"checkbox\" ><label for=\"e7bb0c7b-a86d-4db4-b79a-b85f262ec710\" class=\"sk-toggleable__label sk-toggleable__label-arrow\">KNeighborsClassifier</label><div class=\"sk-toggleable__content\"><pre>KNeighborsClassifier(n_neighbors=21)</pre></div></div></div></div></div></div></div></div></div></div></div><div class=\"sk-parallel-item\"><div class=\"sk-item\"><div class=\"sk-label-container\"><div class=\"sk-label sk-toggleable\"><label>bgc23</label></div></div><div class=\"sk-serial\"><div class=\"sk-item sk-dashed-wrapped\"><div class=\"sk-parallel\"><div class=\"sk-parallel-item\"><div class=\"sk-item\"><div class=\"sk-serial\"><div class=\"sk-item\"><div class=\"sk-estimator sk-toggleable\"><input class=\"sk-toggleable__control sk-hidden--visually\" id=\"6ab3e7c5-ec3e-498e-9054-547aa9a75d3b\" type=\"checkbox\" ><label for=\"6ab3e7c5-ec3e-498e-9054-547aa9a75d3b\" class=\"sk-toggleable__label sk-toggleable__label-arrow\">KNeighborsClassifier</label><div class=\"sk-toggleable__content\"><pre>KNeighborsClassifier(n_neighbors=23)</pre></div></div></div></div></div></div></div></div></div></div></div></div></div><div class=\"sk-item\"><div class=\"sk-parallel\"><div class=\"sk-parallel-item\"><div class=\"sk-item\"><div class=\"sk-label-container\"><div class=\"sk-label sk-toggleable\"><label>final_estimator</label></div></div><div class=\"sk-serial\"><div class=\"sk-item\"><div class=\"sk-estimator sk-toggleable\"><input class=\"sk-toggleable__control sk-hidden--visually\" id=\"13e0e05d-6742-4cc0-b877-ae7220e9dccc\" type=\"checkbox\" ><label for=\"13e0e05d-6742-4cc0-b877-ae7220e9dccc\" class=\"sk-toggleable__label sk-toggleable__label-arrow\">LogisticRegression</label><div class=\"sk-toggleable__content\"><pre>LogisticRegression()</pre></div></div></div></div></div></div></div></div></div></div></div></div>"
      ],
      "text/plain": [
       "StackingClassifier(estimators=[('bgc19',\n",
       "                                BaggingClassifier(base_estimator=KNeighborsClassifier(n_neighbors=19),\n",
       "                                                  n_estimators=5,\n",
       "                                                  random_state=42)),\n",
       "                               ('bgc21',\n",
       "                                BaggingClassifier(base_estimator=KNeighborsClassifier(n_neighbors=21),\n",
       "                                                  n_estimators=5,\n",
       "                                                  random_state=42)),\n",
       "                               ('bgc23',\n",
       "                                BaggingClassifier(base_estimator=KNeighborsClassifier(n_neighbors=23),\n",
       "                                                  n_estimators=5,\n",
       "                                                  random_state=42))])"
      ]
     },
     "execution_count": 131,
     "metadata": {},
     "output_type": "execute_result"
    }
   ],
   "source": [
    "stc.fit(X_train, y_train)"
   ]
  },
  {
   "cell_type": "code",
   "execution_count": 132,
   "id": "4b496e1e",
   "metadata": {
    "execution": {
     "iopub.execute_input": "2022-07-08T05:01:43.349900Z",
     "iopub.status.busy": "2022-07-08T05:01:43.349587Z",
     "iopub.status.idle": "2022-07-08T05:01:43.379880Z",
     "shell.execute_reply": "2022-07-08T05:01:43.379198Z"
    },
    "papermill": {
     "duration": 0.27615,
     "end_time": "2022-07-08T05:01:43.382124",
     "exception": false,
     "start_time": "2022-07-08T05:01:43.105974",
     "status": "completed"
    },
    "tags": []
   },
   "outputs": [],
   "source": [
    "y_pred = stc.predict(X_validate)"
   ]
  },
  {
   "cell_type": "code",
   "execution_count": 133,
   "id": "bd85c89c",
   "metadata": {
    "execution": {
     "iopub.execute_input": "2022-07-08T05:01:43.869195Z",
     "iopub.status.busy": "2022-07-08T05:01:43.868728Z",
     "iopub.status.idle": "2022-07-08T05:01:43.874341Z",
     "shell.execute_reply": "2022-07-08T05:01:43.873718Z"
    },
    "papermill": {
     "duration": 0.250698,
     "end_time": "2022-07-08T05:01:43.877493",
     "exception": false,
     "start_time": "2022-07-08T05:01:43.626795",
     "status": "completed"
    },
    "tags": []
   },
   "outputs": [
    {
     "name": "stdout",
     "output_type": "stream",
     "text": [
      "Accuracy: 85.71%\n",
      "F1-Score: 84.00%\n"
     ]
    }
   ],
   "source": [
    "print(f'Accuracy: {accuracy_score(y_validate, y_pred)*100:.2f}%\\nF1-Score: {f1_score(y_validate, y_pred)*100:.2f}%')"
   ]
  },
  {
   "cell_type": "markdown",
   "id": "33ee8eec",
   "metadata": {
    "papermill": {
     "duration": 0.239843,
     "end_time": "2022-07-08T05:01:44.364521",
     "exception": false,
     "start_time": "2022-07-08T05:01:44.124678",
     "status": "completed"
    },
    "tags": []
   },
   "source": [
    "*Selected Model: **KNeighborClassifier** with a k-value of 19*\n",
    "\n",
    "Validation set Accuracy: **87.50%** \n",
    "\n",
    "Validation set F1-score: **85.71%**"
   ]
  },
  {
   "cell_type": "markdown",
   "id": "8493ab09",
   "metadata": {
    "papermill": {
     "duration": 0.24021,
     "end_time": "2022-07-08T05:01:44.844865",
     "exception": false,
     "start_time": "2022-07-08T05:01:44.604655",
     "status": "completed"
    },
    "tags": []
   },
   "source": [
    "## MODELLING RESULTS"
   ]
  },
  {
   "cell_type": "markdown",
   "id": "ec9a5585",
   "metadata": {
    "papermill": {
     "duration": 0.240842,
     "end_time": "2022-07-08T05:01:45.327171",
     "exception": false,
     "start_time": "2022-07-08T05:01:45.086329",
     "status": "completed"
    },
    "tags": []
   },
   "source": [
    "**Now we check how our hyperparameter tuned model performs on Test set, which I have never seen/plotted(viz).**"
   ]
  },
  {
   "cell_type": "code",
   "execution_count": 134,
   "id": "0607b12f",
   "metadata": {
    "execution": {
     "iopub.execute_input": "2022-07-08T05:01:45.808194Z",
     "iopub.status.busy": "2022-07-08T05:01:45.807889Z",
     "iopub.status.idle": "2022-07-08T05:01:45.820125Z",
     "shell.execute_reply": "2022-07-08T05:01:45.819243Z"
    },
    "papermill": {
     "duration": 0.255941,
     "end_time": "2022-07-08T05:01:45.822390",
     "exception": false,
     "start_time": "2022-07-08T05:01:45.566449",
     "status": "completed"
    },
    "tags": []
   },
   "outputs": [
    {
     "data": {
      "text/plain": [
       "Age               0\n",
       "Debt              0\n",
       "Married           0\n",
       "BankCustomer      0\n",
       "Industry          0\n",
       "YearsEmployed     0\n",
       "PriorDefault      0\n",
       "Employed          0\n",
       "CreditScore       0\n",
       "DriversLicense    0\n",
       "Citizen           0\n",
       "Income            0\n",
       "Approved          0\n",
       "dtype: int64"
      ]
     },
     "execution_count": 134,
     "metadata": {},
     "output_type": "execute_result"
    }
   ],
   "source": [
    "test.isnull().sum()"
   ]
  },
  {
   "cell_type": "code",
   "execution_count": 135,
   "id": "d69aaa8a",
   "metadata": {
    "execution": {
     "iopub.execute_input": "2022-07-08T05:01:46.306688Z",
     "iopub.status.busy": "2022-07-08T05:01:46.306403Z",
     "iopub.status.idle": "2022-07-08T05:01:46.321849Z",
     "shell.execute_reply": "2022-07-08T05:01:46.321307Z"
    },
    "papermill": {
     "duration": 0.259336,
     "end_time": "2022-07-08T05:01:46.323966",
     "exception": false,
     "start_time": "2022-07-08T05:01:46.064630",
     "status": "completed"
    },
    "tags": []
   },
   "outputs": [
    {
     "data": {
      "text/html": [
       "<div>\n",
       "<style scoped>\n",
       "    .dataframe tbody tr th:only-of-type {\n",
       "        vertical-align: middle;\n",
       "    }\n",
       "\n",
       "    .dataframe tbody tr th {\n",
       "        vertical-align: top;\n",
       "    }\n",
       "\n",
       "    .dataframe thead th {\n",
       "        text-align: right;\n",
       "    }\n",
       "</style>\n",
       "<table border=\"1\" class=\"dataframe\">\n",
       "  <thead>\n",
       "    <tr style=\"text-align: right;\">\n",
       "      <th></th>\n",
       "      <th>Age</th>\n",
       "      <th>Debt</th>\n",
       "      <th>Married</th>\n",
       "      <th>BankCustomer</th>\n",
       "      <th>Industry</th>\n",
       "      <th>YearsEmployed</th>\n",
       "      <th>PriorDefault</th>\n",
       "      <th>Employed</th>\n",
       "      <th>CreditScore</th>\n",
       "      <th>DriversLicense</th>\n",
       "      <th>Citizen</th>\n",
       "      <th>Income</th>\n",
       "      <th>Approved</th>\n",
       "    </tr>\n",
       "  </thead>\n",
       "  <tbody>\n",
       "    <tr>\n",
       "      <th>286</th>\n",
       "      <td>28.46</td>\n",
       "      <td>1.5</td>\n",
       "      <td>1</td>\n",
       "      <td>1</td>\n",
       "      <td>Healthcare</td>\n",
       "      <td>0.0</td>\n",
       "      <td>1</td>\n",
       "      <td>1</td>\n",
       "      <td>2</td>\n",
       "      <td>1</td>\n",
       "      <td>ByBirth</td>\n",
       "      <td>105</td>\n",
       "      <td>0</td>\n",
       "    </tr>\n",
       "    <tr>\n",
       "      <th>511</th>\n",
       "      <td>46.00</td>\n",
       "      <td>4.0</td>\n",
       "      <td>1</td>\n",
       "      <td>1</td>\n",
       "      <td>Research</td>\n",
       "      <td>0.0</td>\n",
       "      <td>0</td>\n",
       "      <td>0</td>\n",
       "      <td>0</td>\n",
       "      <td>0</td>\n",
       "      <td>ByBirth</td>\n",
       "      <td>960</td>\n",
       "      <td>1</td>\n",
       "    </tr>\n",
       "    <tr>\n",
       "      <th>257</th>\n",
       "      <td>20.00</td>\n",
       "      <td>0.0</td>\n",
       "      <td>1</td>\n",
       "      <td>1</td>\n",
       "      <td>Real Estate</td>\n",
       "      <td>0.5</td>\n",
       "      <td>1</td>\n",
       "      <td>0</td>\n",
       "      <td>0</td>\n",
       "      <td>0</td>\n",
       "      <td>ByBirth</td>\n",
       "      <td>0</td>\n",
       "      <td>0</td>\n",
       "    </tr>\n",
       "    <tr>\n",
       "      <th>336</th>\n",
       "      <td>47.33</td>\n",
       "      <td>6.5</td>\n",
       "      <td>1</td>\n",
       "      <td>1</td>\n",
       "      <td>Energy</td>\n",
       "      <td>1.0</td>\n",
       "      <td>1</td>\n",
       "      <td>0</td>\n",
       "      <td>0</td>\n",
       "      <td>1</td>\n",
       "      <td>ByBirth</td>\n",
       "      <td>228</td>\n",
       "      <td>0</td>\n",
       "    </tr>\n",
       "    <tr>\n",
       "      <th>318</th>\n",
       "      <td>19.17</td>\n",
       "      <td>0.0</td>\n",
       "      <td>0</td>\n",
       "      <td>0</td>\n",
       "      <td>CommunicationServices</td>\n",
       "      <td>0.0</td>\n",
       "      <td>1</td>\n",
       "      <td>0</td>\n",
       "      <td>0</td>\n",
       "      <td>1</td>\n",
       "      <td>ByOtherMeans</td>\n",
       "      <td>1</td>\n",
       "      <td>1</td>\n",
       "    </tr>\n",
       "  </tbody>\n",
       "</table>\n",
       "</div>"
      ],
      "text/plain": [
       "       Age  Debt  Married  BankCustomer               Industry  YearsEmployed  \\\n",
       "286  28.46   1.5        1             1             Healthcare            0.0   \n",
       "511  46.00   4.0        1             1               Research            0.0   \n",
       "257  20.00   0.0        1             1            Real Estate            0.5   \n",
       "336  47.33   6.5        1             1                 Energy            1.0   \n",
       "318  19.17   0.0        0             0  CommunicationServices            0.0   \n",
       "\n",
       "     PriorDefault  Employed  CreditScore  DriversLicense       Citizen  \\\n",
       "286             1         1            2               1       ByBirth   \n",
       "511             0         0            0               0       ByBirth   \n",
       "257             1         0            0               0       ByBirth   \n",
       "336             1         0            0               1       ByBirth   \n",
       "318             1         0            0               1  ByOtherMeans   \n",
       "\n",
       "     Income  Approved  \n",
       "286     105         0  \n",
       "511     960         1  \n",
       "257       0         0  \n",
       "336     228         0  \n",
       "318       1         1  "
      ]
     },
     "execution_count": 135,
     "metadata": {},
     "output_type": "execute_result"
    }
   ],
   "source": [
    "test.head()"
   ]
  },
  {
   "cell_type": "code",
   "execution_count": 136,
   "id": "5499add2",
   "metadata": {
    "execution": {
     "iopub.execute_input": "2022-07-08T05:01:46.808959Z",
     "iopub.status.busy": "2022-07-08T05:01:46.807953Z",
     "iopub.status.idle": "2022-07-08T05:01:47.108120Z",
     "shell.execute_reply": "2022-07-08T05:01:47.107525Z"
    },
    "papermill": {
     "duration": 0.545621,
     "end_time": "2022-07-08T05:01:47.110124",
     "exception": false,
     "start_time": "2022-07-08T05:01:46.564503",
     "status": "completed"
    },
    "tags": []
   },
   "outputs": [
    {
     "name": "stdout",
     "output_type": "stream",
     "text": [
      "Accuracy: 81.16%\n",
      "F1-Score: 80.88%\n"
     ]
    }
   ],
   "source": [
    "for idx, row in test.iterrows():\n",
    "    if test.loc[idx, 'Age']< 30:\n",
    "        test.loc[idx, 'Age'] = 'youth'\n",
    "    \n",
    "    elif test.loc[idx, 'Age']>=30 and test.loc[idx, 'Age']<40:\n",
    "        test.loc[idx, 'Age'] = 'youthWithResponsibility'\n",
    "    \n",
    "    elif test.loc[idx, 'Age']>=40 and test.loc[idx, 'Age']<55:\n",
    "        test.loc[idx, 'Age'] = 'midLife'\n",
    "    \n",
    "    elif test.loc[idx, 'Age']>=55:\n",
    "        test.loc[idx, 'Age'] = 'towardsRetirement'\n",
    "        \n",
    "\n",
    "for idx, row in test.iterrows():\n",
    "    \n",
    "    if test.loc[idx, 'Debt']>=0 and test.loc[idx, 'Debt']<5:\n",
    "        test.loc[idx, 'Debt'] = 'Green'\n",
    "    \n",
    "    elif test.loc[idx, 'Debt']>=5 and test.loc[idx, 'Debt']<10:\n",
    "        test.loc[idx, 'Debt'] = 'Yellow'\n",
    "    \n",
    "    elif test.loc[idx, 'Debt']>=10 and test.loc[idx, 'Debt']<15:\n",
    "        test.loc[idx, 'Debt'] = 'Orange'\n",
    "    \n",
    "    elif test.loc[idx, 'Debt']>=15:\n",
    "        test.loc[idx, 'Debt'] = 'Red'\n",
    "\n",
    "for idx, row in test.iterrows():\n",
    "    \n",
    "    if test.loc[idx, 'CreditScore']>=0 and test.loc[idx, 'CreditScore']<5:\n",
    "        test.loc[idx, 'CreditScore'] = 'Red'\n",
    "    \n",
    "    elif test.loc[idx, 'CreditScore']>=5 and test.loc[idx, 'CreditScore']<10:\n",
    "        test.loc[idx, 'CreditScore'] = 'Yellow'\n",
    "    \n",
    "    elif test.loc[idx, 'CreditScore']>=10:\n",
    "        test.loc[idx, 'CreditScore'] = 'Green'\n",
    "\n",
    "for idx, row in test.iterrows():\n",
    "    \n",
    "    if test.loc[idx, 'YearsEmployed']>=0 and test.loc[idx, 'YearsEmployed']<0.5:\n",
    "        test.loc[idx, 'YearsEmployed'] = 'Fresher'\n",
    "    \n",
    "    elif test.loc[idx, 'YearsEmployed']>=0.5 and test.loc[idx, 'YearsEmployed']<2.56:\n",
    "        test.loc[idx, 'YearsEmployed'] = 'Experienced'\n",
    "    \n",
    "    elif test.loc[idx, 'YearsEmployed']>=2.56:\n",
    "        test.loc[idx, 'YearsEmployed'] = 'Expert'\n",
    "\n",
    "\n",
    "for idx, row in test.iterrows():\n",
    "    \n",
    "    if test.loc[idx, 'Income']>=0.0 and test.loc[idx, 'Income']<51.8:\n",
    "        test.loc[idx, 'Income'] = 'Poor'\n",
    "\n",
    "    elif test.loc[idx, 'Income']>=51.8 and test.loc[idx, 'Income']<2000.0:\n",
    "        test.loc[idx, 'Income'] = 'Middle Class'\n",
    "\n",
    "    elif test.loc[idx, 'Income']>=2000.0:\n",
    "        test.loc[idx, 'Income'] = 'Rich'\n",
    "\n",
    "\n",
    "test.drop(['Citizen'], axis=1, inplace=True)\n",
    "\n",
    "for idx, row in test.iterrows():\n",
    "    if test.loc[idx, 'Industry'] in ['Utilities', 'Real Estate', 'Education', 'Research', 'Transport']:\n",
    "        test.loc[idx, 'Industry'] = 'Others'\n",
    "\n",
    "test.drop(['Married'], axis = 1, inplace= True)\n",
    "X_test, y_test = test.iloc[:,:-1], test.iloc[:,-1]\n",
    "X_test = transformer.transform(X_test)\n",
    "y_test = y_test.values\n",
    "X_test = pca.transform(X_test)\n",
    "knn = KNeighborsClassifier(n_neighbors=19)\n",
    "\n",
    "knn.fit(X_train, y_train)\n",
    "y_pred = knn.predict(X_test)\n",
    "print(f'Accuracy: {accuracy_score(y_test, y_pred)*100:.2f}%\\nF1-Score: {f1_score(y_test, y_pred)*100:.2f}%')\n"
   ]
  },
  {
   "cell_type": "code",
   "execution_count": 137,
   "id": "464a5836",
   "metadata": {
    "execution": {
     "iopub.execute_input": "2022-07-08T05:01:47.595415Z",
     "iopub.status.busy": "2022-07-08T05:01:47.594863Z",
     "iopub.status.idle": "2022-07-08T05:01:47.606275Z",
     "shell.execute_reply": "2022-07-08T05:01:47.605511Z"
    },
    "papermill": {
     "duration": 0.254884,
     "end_time": "2022-07-08T05:01:47.608189",
     "exception": false,
     "start_time": "2022-07-08T05:01:47.353305",
     "status": "completed"
    },
    "tags": []
   },
   "outputs": [
    {
     "data": {
      "text/html": [
       "<div>\n",
       "<style scoped>\n",
       "    .dataframe tbody tr th:only-of-type {\n",
       "        vertical-align: middle;\n",
       "    }\n",
       "\n",
       "    .dataframe tbody tr th {\n",
       "        vertical-align: top;\n",
       "    }\n",
       "\n",
       "    .dataframe thead th {\n",
       "        text-align: right;\n",
       "    }\n",
       "</style>\n",
       "<table border=\"1\" class=\"dataframe\">\n",
       "  <thead>\n",
       "    <tr style=\"text-align: right;\">\n",
       "      <th></th>\n",
       "      <th>Accuracy score</th>\n",
       "      <th>F1-Score</th>\n",
       "    </tr>\n",
       "    <tr>\n",
       "      <th>Dataset</th>\n",
       "      <th></th>\n",
       "      <th></th>\n",
       "    </tr>\n",
       "  </thead>\n",
       "  <tbody>\n",
       "    <tr>\n",
       "      <th>Validation Set</th>\n",
       "      <td>87.50%</td>\n",
       "      <td>85.71%</td>\n",
       "    </tr>\n",
       "    <tr>\n",
       "      <th>Test Set</th>\n",
       "      <td>81.16%</td>\n",
       "      <td>80.88%</td>\n",
       "    </tr>\n",
       "  </tbody>\n",
       "</table>\n",
       "</div>"
      ],
      "text/plain": [
       "               Accuracy score F1-Score\n",
       "Dataset                               \n",
       "Validation Set         87.50%   85.71%\n",
       "Test Set               81.16%   80.88%"
      ]
     },
     "execution_count": 137,
     "metadata": {},
     "output_type": "execute_result"
    }
   ],
   "source": [
    "results_df = pd.DataFrame({'Dataset': ['Validation Set', 'Test Set'], 'Accuracy score':['87.50%', '81.16%'], 'F1-Score': ['85.71%','80.88%']})\n",
    "results_df.set_index('Dataset', inplace=True)\n",
    "results_df"
   ]
  },
  {
   "cell_type": "markdown",
   "id": "09caa3c5",
   "metadata": {
    "execution": {
     "iopub.execute_input": "2022-05-25T20:34:42.741269Z",
     "iopub.status.busy": "2022-05-25T20:34:42.740957Z",
     "iopub.status.idle": "2022-05-25T20:34:42.749172Z",
     "shell.execute_reply": "2022-05-25T20:34:42.74763Z",
     "shell.execute_reply.started": "2022-05-25T20:34:42.741224Z"
    },
    "papermill": {
     "duration": 0.241969,
     "end_time": "2022-07-08T05:01:48.095025",
     "exception": false,
     "start_time": "2022-07-08T05:01:47.853056",
     "status": "completed"
    },
    "tags": []
   },
   "source": [
    "#### Accuracy on Test data: 81.16%\n",
    "Drop in accuracy: **6%**"
   ]
  },
  {
   "cell_type": "markdown",
   "id": "6a99f704",
   "metadata": {
    "papermill": {
     "duration": 0.24118,
     "end_time": "2022-07-08T05:01:48.576961",
     "exception": false,
     "start_time": "2022-07-08T05:01:48.335781",
     "status": "completed"
    },
    "tags": []
   },
   "source": [
    "## SAVING ML MODEL"
   ]
  },
  {
   "cell_type": "code",
   "execution_count": 138,
   "id": "7e5dd1ec",
   "metadata": {
    "execution": {
     "iopub.execute_input": "2022-07-08T05:01:49.064590Z",
     "iopub.status.busy": "2022-07-08T05:01:49.064017Z",
     "iopub.status.idle": "2022-07-08T05:01:49.077011Z",
     "shell.execute_reply": "2022-07-08T05:01:49.076414Z"
    },
    "papermill": {
     "duration": 0.259018,
     "end_time": "2022-07-08T05:01:49.078980",
     "exception": false,
     "start_time": "2022-07-08T05:01:48.819962",
     "status": "completed"
    },
    "tags": []
   },
   "outputs": [
    {
     "data": {
      "text/plain": [
       "['transformer.sav']"
      ]
     },
     "execution_count": 138,
     "metadata": {},
     "output_type": "execute_result"
    }
   ],
   "source": [
    "import joblib\n",
    "filename = 'model.sav'\n",
    "joblib.dump(knn, filename)\n",
    "filename = 'pca.sav'\n",
    "joblib.dump(pca, filename)\n",
    "filename = 'transformer.sav'\n",
    "joblib.dump(transformer, filename)"
   ]
  },
  {
   "cell_type": "code",
   "execution_count": 139,
   "id": "4157c94e",
   "metadata": {
    "execution": {
     "iopub.execute_input": "2022-07-08T05:01:49.563297Z",
     "iopub.status.busy": "2022-07-08T05:01:49.562718Z",
     "iopub.status.idle": "2022-07-08T05:01:49.582631Z",
     "shell.execute_reply": "2022-07-08T05:01:49.581884Z"
    },
    "papermill": {
     "duration": 0.265076,
     "end_time": "2022-07-08T05:01:49.584965",
     "exception": false,
     "start_time": "2022-07-08T05:01:49.319889",
     "status": "completed"
    },
    "tags": []
   },
   "outputs": [],
   "source": [
    "def helper_func(df):\n",
    "    for idx, row in df.iterrows():\n",
    "        if df.loc[idx, 'Age']< 30:\n",
    "            df.loc[idx, 'Age'] = 'youth'\n",
    "\n",
    "        elif df.loc[idx, 'Age']>=30 and df.loc[idx, 'Age']<40:\n",
    "            df.loc[idx, 'Age'] = 'youthWithResponsibility'\n",
    "\n",
    "        elif df.loc[idx, 'Age']>=40 and df.loc[idx, 'Age']<55:\n",
    "            df.loc[idx, 'Age'] = 'midLife'\n",
    "\n",
    "        elif df.loc[idx, 'Age']>=55:\n",
    "            df.loc[idx, 'Age'] = 'towardsRetirement'\n",
    "\n",
    "\n",
    "    for idx, row in df.iterrows():\n",
    "\n",
    "        if df.loc[idx, 'Debt']>=0 and df.loc[idx, 'Debt']<5:\n",
    "            df.loc[idx, 'Debt'] = 'Green'\n",
    "\n",
    "        elif df.loc[idx, 'Debt']>=5 and df.loc[idx, 'Debt']<10:\n",
    "            df.loc[idx, 'Debt'] = 'Yellow'\n",
    "\n",
    "        elif df.loc[idx, 'Debt']>=10 and df.loc[idx, 'Debt']<15:\n",
    "            df.loc[idx, 'Debt'] = 'Orange'\n",
    "\n",
    "        elif df.loc[idx, 'Debt']>=15:\n",
    "            df.loc[idx, 'Debt'] = 'Red'\n",
    "\n",
    "    for idx, row in df.iterrows():\n",
    "\n",
    "        if df.loc[idx, 'CreditScore']>=0 and df.loc[idx, 'CreditScore']<5:\n",
    "            df.loc[idx, 'CreditScore'] = 'Red'\n",
    "\n",
    "        elif df.loc[idx, 'CreditScore']>=5 and df.loc[idx, 'CreditScore']<10:\n",
    "            df.loc[idx, 'CreditScore'] = 'Yellow'\n",
    "\n",
    "        elif df.loc[idx, 'CreditScore']>=10:\n",
    "            df.loc[idx, 'CreditScore'] = 'Green'\n",
    "\n",
    "    for idx, row in df.iterrows():\n",
    "\n",
    "        if df.loc[idx, 'YearsEmployed']>=0 and df.loc[idx, 'YearsEmployed']<0.5:\n",
    "            df.loc[idx, 'YearsEmployed'] = 'Fresher'\n",
    "\n",
    "        elif df.loc[idx, 'YearsEmployed']>=0.5 and df.loc[idx, 'YearsEmployed']<2.56:\n",
    "            df.loc[idx, 'YearsEmployed'] = 'Experienced'\n",
    "\n",
    "        elif df.loc[idx, 'YearsEmployed']>=2.56:\n",
    "            df.loc[idx, 'YearsEmployed'] = 'Expert'\n",
    "\n",
    "\n",
    "    for idx, row in df.iterrows():\n",
    "\n",
    "        if df.loc[idx, 'Income']>=0.0 and df.loc[idx, 'Income']<51.8:\n",
    "            df.loc[idx, 'Income'] = 'Poor'\n",
    "\n",
    "        elif df.loc[idx, 'Income']>=51.8 and df.loc[idx, 'Income']<2000.0:\n",
    "            df.loc[idx, 'Income'] = 'Middle Class'\n",
    "\n",
    "        elif df.loc[idx, 'Income']>=2000.0:\n",
    "            df.loc[idx, 'Income'] = 'Rich'\n",
    "\n",
    "\n",
    "    for idx, row in df.iterrows():\n",
    "        if df.loc[idx, 'Industry'] in ['Utilities', 'Real Estate', 'Education', 'Research', 'Transport']:\n",
    "            df.loc[idx, 'Industry'] = 'Others'\n",
    "            \n",
    "    \n",
    "    return df\n"
   ]
  },
  {
   "cell_type": "code",
   "execution_count": 140,
   "id": "693a7bc2",
   "metadata": {
    "execution": {
     "iopub.execute_input": "2022-07-08T05:01:50.072312Z",
     "iopub.status.busy": "2022-07-08T05:01:50.071721Z",
     "iopub.status.idle": "2022-07-08T05:01:50.079843Z",
     "shell.execute_reply": "2022-07-08T05:01:50.079277Z"
    },
    "papermill": {
     "duration": 0.255019,
     "end_time": "2022-07-08T05:01:50.082022",
     "exception": false,
     "start_time": "2022-07-08T05:01:49.827003",
     "status": "completed"
    },
    "tags": []
   },
   "outputs": [],
   "source": [
    "def input_func():\n",
    "    Age = float(input('Enter age: '))\n",
    "    Debt = float(input('Enter debt: '))\n",
    "    BankCustomer = int(input('Bank customer ? (0 or 1): '))\n",
    "    Industry = input('Enter Industry: ')\n",
    "    YearsEmployed = float(input('Number of years of employment: '))\n",
    "    PriorDefault = int(input('Prior Defaulter ? (0 or 1): '))\n",
    "    Employed = int(input('Employed ? (0 or 1): '))\n",
    "    CreditScore = float(input('Enter your Credit Score: '))\n",
    "    DriversLicense = int(input('Drivers License ? (0 or 1): '))\n",
    "    Income = float(input('Enter your Income: '))\n",
    "    \n",
    "    df = pd.DataFrame({'Age':[Age], 'Debt': [Debt], 'BankCustomer': [BankCustomer], 'Industry':[Industry], 'YearsEmployed':[YearsEmployed], 'PriorDefault':[PriorDefault], 'Employed':[Employed], 'CreditScore':[CreditScore], 'DriversLicense':[DriversLicense], 'Income':[Income]})\n",
    "    \n",
    "    return df\n",
    "    "
   ]
  },
  {
   "cell_type": "markdown",
   "id": "25b50335",
   "metadata": {
    "papermill": {
     "duration": 0.243711,
     "end_time": "2022-07-08T05:01:50.568513",
     "exception": false,
     "start_time": "2022-07-08T05:01:50.324802",
     "status": "completed"
    },
    "tags": []
   },
   "source": [
    "## ML PIPELINE"
   ]
  },
  {
   "cell_type": "markdown",
   "id": "ea8370a1",
   "metadata": {
    "papermill": {
     "duration": 0.241054,
     "end_time": "2022-07-08T05:01:51.051157",
     "exception": false,
     "start_time": "2022-07-08T05:01:50.810103",
     "status": "completed"
    },
    "tags": []
   },
   "source": [
    "The ML model expects the following:\n",
    "\n",
    "- All input data must not be null. Helper functions at the microweb api end are responsible for that.\n",
    "- Inputs are\n",
    "    1. Age -> Integer\n",
    "    2. Debt -> Float\n",
    "    3. CreditScore -> Float\n",
    "    4. YearsEmployed -> Float\n",
    "    5. Income -> Float\n",
    "    6. Industry -> String (10 Categories)\n",
    "    7. BankCustomer -> Binary (0 or 1) \n",
    "    8. PriorDefault -> Binary (0 or 1) \n",
    "    9. Employed -> Binary (0 or 1) \n",
    "   "
   ]
  },
  {
   "cell_type": "code",
   "execution_count": 141,
   "id": "fa97fc48",
   "metadata": {
    "execution": {
     "iopub.execute_input": "2022-07-08T05:01:51.540780Z",
     "iopub.status.busy": "2022-07-08T05:01:51.540354Z",
     "iopub.status.idle": "2022-07-08T05:01:51.546119Z",
     "shell.execute_reply": "2022-07-08T05:01:51.545515Z"
    },
    "papermill": {
     "duration": 0.254199,
     "end_time": "2022-07-08T05:01:51.548161",
     "exception": false,
     "start_time": "2022-07-08T05:01:51.293962",
     "status": "completed"
    },
    "tags": []
   },
   "outputs": [],
   "source": [
    "def pipeline():\n",
    "    \n",
    "    transformer = joblib.load('transformer.sav')\n",
    "    pca = joblib.load('pca.sav')\n",
    "    model = joblib.load('model.sav')\n",
    "    \n",
    "    df = input_func()\n",
    "    df = helper_func(df)\n",
    "    \n",
    "    df = transformer.transform(df)\n",
    "    df = pca.transform(df)\n",
    "    ypred = model.predict(df)\n",
    "    \n",
    "    print(ypred)\n",
    "    \n",
    "    "
   ]
  },
  {
   "cell_type": "code",
   "execution_count": 142,
   "id": "75b89a44",
   "metadata": {
    "execution": {
     "iopub.execute_input": "2022-07-08T05:01:52.038010Z",
     "iopub.status.busy": "2022-07-08T05:01:52.037409Z",
     "iopub.status.idle": "2022-07-08T05:01:52.041179Z",
     "shell.execute_reply": "2022-07-08T05:01:52.040610Z"
    },
    "papermill": {
     "duration": 0.253477,
     "end_time": "2022-07-08T05:01:52.043182",
     "exception": false,
     "start_time": "2022-07-08T05:01:51.789705",
     "status": "completed"
    },
    "tags": []
   },
   "outputs": [],
   "source": [
    "# pipeline()"
   ]
  },
  {
   "cell_type": "markdown",
   "id": "b697f4f1",
   "metadata": {
    "papermill": {
     "duration": 0.265329,
     "end_time": "2022-07-08T05:01:52.572290",
     "exception": false,
     "start_time": "2022-07-08T05:01:52.306961",
     "status": "completed"
    },
    "tags": []
   },
   "source": [
    "> `Correct`"
   ]
  },
  {
   "cell_type": "code",
   "execution_count": null,
   "id": "90b4f9f2",
   "metadata": {
    "papermill": {
     "duration": 0.248083,
     "end_time": "2022-07-08T05:01:53.070948",
     "exception": false,
     "start_time": "2022-07-08T05:01:52.822865",
     "status": "completed"
    },
    "tags": []
   },
   "outputs": [],
   "source": []
  }
 ],
 "metadata": {
  "kernelspec": {
   "display_name": "Python 3",
   "language": "python",
   "name": "python3"
  },
  "language_info": {
   "codemirror_mode": {
    "name": "ipython",
    "version": 3
   },
   "file_extension": ".py",
   "mimetype": "text/x-python",
   "name": "python",
   "nbconvert_exporter": "python",
   "pygments_lexer": "ipython3",
   "version": "3.7.12"
  },
  "papermill": {
   "default_parameters": {},
   "duration": 118.905988,
   "end_time": "2022-07-08T05:01:54.138234",
   "environment_variables": {},
   "exception": null,
   "input_path": "__notebook__.ipynb",
   "output_path": "__notebook__.ipynb",
   "parameters": {},
   "start_time": "2022-07-08T04:59:55.232246",
   "version": "2.3.4"
  }
 },
 "nbformat": 4,
 "nbformat_minor": 5
}
